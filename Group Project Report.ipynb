{
 "cells": [
  {
   "cell_type": "markdown",
   "id": "bb94d567-02a6-447d-8a66-e05ee06451b9",
   "metadata": {},
   "source": [
    "**Decoding Heart Disease**"
   ]
  },
  {
   "cell_type": "markdown",
   "id": "d36ef733-958a-4f96-b32e-b2ac6327a4de",
   "metadata": {},
   "source": [
    "**Introduction**\n",
    "\n",
    "\n",
    "Heart disease can refer to a wide range of diseases, but in this case refers to coronary artery disease which involves reduction of blood flow to the heart due to atherosclerosis. Atherosclerotic plaque can build up in the arteries, and if near the heart can lead to heart attacks and other complications. The causes aren’t exactly clear, but plaque gradually builds up and is accompanied by inflammation of the arterial walls, reducing blood flow to vital organs and extremities (John Hopkins Medicine, 2021).\n",
    "\n",
    "\n",
    "The data set contains data from 4 databases, including Cleveland, Hungary, Switzerland, and Long Beach (Virginia), the data from Cleveland was the only one processed. It has 14 usable attributes, half of which are integer variables and the other half are categorical. We have attempted to answer the question, **what factors contributes to heart disease?**\n",
    "\n",
    "\n",
    "Heart disease is of growing concern, especially as humans continue to grow older and has become the leading factor of death for humans around the world accounting for 16% of total deaths globally (WHO’s Global Health Estimates, 2020). It also disproportionately affects wealthier nations and more importantly in this investigation has correlations with many health metrics and biological markers (WHO’s Global Health Estimates, 2020). \n",
    "\n",
    "We have built a model that will take certain health markers and we will be classifying patients based on these health markers to predict whether or not they have heart disease."
   ]
  },
  {
   "cell_type": "code",
   "execution_count": 2,
   "id": "060b2251-cda0-483a-9e13-6be46c980b74",
   "metadata": {},
   "outputs": [
    {
     "name": "stdout",
     "output_type": "stream",
     "text": [
      "Collecting ucimlrepo\n",
      "  Downloading ucimlrepo-0.0.6-py3-none-any.whl.metadata (5.3 kB)\n",
      "Downloading ucimlrepo-0.0.6-py3-none-any.whl (8.0 kB)\n",
      "Installing collected packages: ucimlrepo\n",
      "Successfully installed ucimlrepo-0.0.6\n"
     ]
    }
   ],
   "source": [
    "#imports basic tools and the dataset below\n",
    "\n",
    "import pandas as pd\n",
    "import altair as alt\n",
    "import numpy as np\n",
    "!pip3 install -U ucimlrepo"
   ]
  },
  {
   "cell_type": "code",
   "execution_count": 3,
   "id": "44f5486e-e335-4220-96ba-a0b6126624cc",
   "metadata": {},
   "outputs": [],
   "source": [
    "from ucimlrepo import fetch_ucirepo\n",
    "\n",
    "#imports dataset\n",
    "heart_disease = fetch_ucirepo(name='Heart Disease')"
   ]
  },
  {
   "cell_type": "code",
   "execution_count": 4,
   "id": "d396ad76-b8dc-464d-8cf6-46935fa5fc41",
   "metadata": {},
   "outputs": [
    {
     "data": {
      "text/plain": [
       "'Figure 1: Heart Disease grouped by diagnoses'"
      ]
     },
     "metadata": {},
     "output_type": "display_data"
    },
    {
     "data": {
      "text/html": [
       "<div>\n",
       "<style scoped>\n",
       "    .dataframe tbody tr th:only-of-type {\n",
       "        vertical-align: middle;\n",
       "    }\n",
       "\n",
       "    .dataframe tbody tr th {\n",
       "        vertical-align: top;\n",
       "    }\n",
       "\n",
       "    .dataframe thead th {\n",
       "        text-align: right;\n",
       "    }\n",
       "</style>\n",
       "<table border=\"1\" class=\"dataframe\">\n",
       "  <thead>\n",
       "    <tr style=\"text-align: right;\">\n",
       "      <th></th>\n",
       "      <th>diagnosis</th>\n",
       "      <th>age</th>\n",
       "      <th>cp</th>\n",
       "      <th>trestbps</th>\n",
       "      <th>chol</th>\n",
       "      <th>thalach</th>\n",
       "    </tr>\n",
       "  </thead>\n",
       "  <tbody>\n",
       "    <tr>\n",
       "      <th>0</th>\n",
       "      <td>0</td>\n",
       "      <td>52.768595</td>\n",
       "      <td>2.809917</td>\n",
       "      <td>129.553719</td>\n",
       "      <td>244.438017</td>\n",
       "      <td>158.322314</td>\n",
       "    </tr>\n",
       "    <tr>\n",
       "      <th>1</th>\n",
       "      <td>1</td>\n",
       "      <td>56.924528</td>\n",
       "      <td>3.566038</td>\n",
       "      <td>133.500000</td>\n",
       "      <td>249.056604</td>\n",
       "      <td>140.566038</td>\n",
       "    </tr>\n",
       "  </tbody>\n",
       "</table>\n",
       "</div>"
      ],
      "text/plain": [
       "   diagnosis        age        cp    trestbps        chol     thalach\n",
       "0          0  52.768595  2.809917  129.553719  244.438017  158.322314\n",
       "1          1  56.924528  3.566038  133.500000  249.056604  140.566038"
      ]
     },
     "metadata": {},
     "output_type": "display_data"
    }
   ],
   "source": [
    "#Sets up classifiers and diagnosis\n",
    "classifiers = heart_disease.data.features \n",
    "diagnosis = heart_disease.data.targets \n",
    "\n",
    "#Creates dataframe and classifies diagnosis\n",
    "heart_df = classifiers.assign(diagnosis = diagnosis)\n",
    "heart_df['diagnosis'] = heart_df['diagnosis'].replace([1, 2, 3, 4], 1)\n",
    "\n",
    "#Drops all columns except for predictors and diagnosis\n",
    "heart_df_filter = heart_df[[\"age\", \"cp\", \"trestbps\", \"chol\", \"thalach\", \"diagnosis\"]]\n",
    "\n",
    "#Imports sk-learn tools\n",
    "from sklearn.preprocessing import StandardScaler\n",
    "from sklearn.compose import make_column_transformer\n",
    "from sklearn.neighbors import KNeighborsClassifier, KNeighborsRegressor\n",
    "from sklearn.pipeline import make_pipeline\n",
    "from sklearn.model_selection import train_test_split, cross_val_score, GridSearchCV, cross_validate\n",
    "from sklearn.metrics import recall_score, confusion_matrix\n",
    "from pandas import crosstab\n",
    "\n",
    "#Sets a initial random seed to make data reproducable\n",
    "np.random.seed(500)\n",
    "\n",
    "heart_train, heart_test = train_test_split(heart_df_filter, train_size = 0.75)\n",
    "\n",
    "#Grabs all the different diagnoses to get an initial table\n",
    "heart_train_mean = heart_train.groupby(\"diagnosis\").mean(numeric_only=True).reset_index()\n",
    "\n",
    "display(\"Figure 1: Heart Disease grouped by diagnoses\", heart_train_mean)"
   ]
  },
  {
   "cell_type": "markdown",
   "id": "271b23f6-49d0-4dac-89ab-fd521c803112",
   "metadata": {},
   "source": [
    "**Methods and Results**\n",
    "\n",
    "Initially we can see a couple of trends just by grouping the data by diagnosis, most notably a null diagnosis being correlated with youth, lower chest pain (1 being asymptomatic), lower resting blood pressure and a higher maximum heart rate.\n",
    "\n",
    "To further investigate a couple of links let's look at some graphs."
   ]
  },
  {
   "cell_type": "code",
   "execution_count": 5,
   "id": "560997ca-9591-4973-8420-62ca0fa35454",
   "metadata": {},
   "outputs": [
    {
     "data": {
      "text/html": [
       "\n",
       "<style>\n",
       "  #altair-viz-e7001522e006443eb964d0f4f1096faf.vega-embed {\n",
       "    width: 100%;\n",
       "    display: flex;\n",
       "  }\n",
       "\n",
       "  #altair-viz-e7001522e006443eb964d0f4f1096faf.vega-embed details,\n",
       "  #altair-viz-e7001522e006443eb964d0f4f1096faf.vega-embed details summary {\n",
       "    position: relative;\n",
       "  }\n",
       "</style>\n",
       "<div id=\"altair-viz-e7001522e006443eb964d0f4f1096faf\"></div>\n",
       "<script type=\"text/javascript\">\n",
       "  var VEGA_DEBUG = (typeof VEGA_DEBUG == \"undefined\") ? {} : VEGA_DEBUG;\n",
       "  (function(spec, embedOpt){\n",
       "    let outputDiv = document.currentScript.previousElementSibling;\n",
       "    if (outputDiv.id !== \"altair-viz-e7001522e006443eb964d0f4f1096faf\") {\n",
       "      outputDiv = document.getElementById(\"altair-viz-e7001522e006443eb964d0f4f1096faf\");\n",
       "    }\n",
       "    const paths = {\n",
       "      \"vega\": \"https://cdn.jsdelivr.net/npm/vega@5?noext\",\n",
       "      \"vega-lib\": \"https://cdn.jsdelivr.net/npm/vega-lib?noext\",\n",
       "      \"vega-lite\": \"https://cdn.jsdelivr.net/npm/vega-lite@5.8.0?noext\",\n",
       "      \"vega-embed\": \"https://cdn.jsdelivr.net/npm/vega-embed@6?noext\",\n",
       "    };\n",
       "\n",
       "    function maybeLoadScript(lib, version) {\n",
       "      var key = `${lib.replace(\"-\", \"\")}_version`;\n",
       "      return (VEGA_DEBUG[key] == version) ?\n",
       "        Promise.resolve(paths[lib]) :\n",
       "        new Promise(function(resolve, reject) {\n",
       "          var s = document.createElement('script');\n",
       "          document.getElementsByTagName(\"head\")[0].appendChild(s);\n",
       "          s.async = true;\n",
       "          s.onload = () => {\n",
       "            VEGA_DEBUG[key] = version;\n",
       "            return resolve(paths[lib]);\n",
       "          };\n",
       "          s.onerror = () => reject(`Error loading script: ${paths[lib]}`);\n",
       "          s.src = paths[lib];\n",
       "        });\n",
       "    }\n",
       "\n",
       "    function showError(err) {\n",
       "      outputDiv.innerHTML = `<div class=\"error\" style=\"color:red;\">${err}</div>`;\n",
       "      throw err;\n",
       "    }\n",
       "\n",
       "    function displayChart(vegaEmbed) {\n",
       "      vegaEmbed(outputDiv, spec, embedOpt)\n",
       "        .catch(err => showError(`Javascript Error: ${err.message}<br>This usually means there's a typo in your chart specification. See the javascript console for the full traceback.`));\n",
       "    }\n",
       "\n",
       "    if(typeof define === \"function\" && define.amd) {\n",
       "      requirejs.config({paths});\n",
       "      require([\"vega-embed\"], displayChart, err => showError(`Error loading script: ${err.message}`));\n",
       "    } else {\n",
       "      maybeLoadScript(\"vega\", \"5\")\n",
       "        .then(() => maybeLoadScript(\"vega-lite\", \"5.8.0\"))\n",
       "        .then(() => maybeLoadScript(\"vega-embed\", \"6\"))\n",
       "        .catch(showError)\n",
       "        .then(() => displayChart(vegaEmbed));\n",
       "    }\n",
       "  })({\"config\": {\"view\": {\"continuousWidth\": 300, \"continuousHeight\": 300}}, \"hconcat\": [{\"mark\": {\"type\": \"bar\"}, \"encoding\": {\"color\": {\"field\": \"diagnosis\", \"title\": \"Diagnosis\", \"type\": \"nominal\"}, \"x\": {\"bin\": {\"step\": 5}, \"field\": \"age\", \"title\": \"Age\", \"type\": \"quantitative\"}, \"y\": {\"aggregate\": \"count\", \"title\": \"# of Patients\", \"type\": \"quantitative\"}}, \"title\": \"Figure 2: Age and Heart Disease\"}, {\"mark\": {\"type\": \"bar\"}, \"encoding\": {\"color\": {\"field\": \"diagnosis\", \"title\": \"Diagnosis\", \"type\": \"nominal\"}, \"x\": {\"bin\": {\"step\": 20}, \"field\": \"thalach\", \"title\": \"Max HR (Exercise)\", \"type\": \"quantitative\"}, \"y\": {\"aggregate\": \"count\", \"title\": \"# of Patients\", \"type\": \"quantitative\"}}, \"title\": \"Figure 3: Max Heart Rate and Heart Disease\"}], \"data\": {\"name\": \"data-8faeede407e5f8fb320f8dde6f1a480a\"}, \"$schema\": \"https://vega.github.io/schema/vega-lite/v5.8.0.json\", \"datasets\": {\"data-8faeede407e5f8fb320f8dde6f1a480a\": [{\"age\": 58, \"cp\": 4, \"trestbps\": 150, \"chol\": 270, \"thalach\": 111, \"diagnosis\": 1}, {\"age\": 47, \"cp\": 4, \"trestbps\": 110, \"chol\": 275, \"thalach\": 118, \"diagnosis\": 1}, {\"age\": 55, \"cp\": 2, \"trestbps\": 135, \"chol\": 250, \"thalach\": 161, \"diagnosis\": 0}, {\"age\": 50, \"cp\": 3, \"trestbps\": 140, \"chol\": 233, \"thalach\": 163, \"diagnosis\": 1}, {\"age\": 56, \"cp\": 4, \"trestbps\": 125, \"chol\": 249, \"thalach\": 144, \"diagnosis\": 1}, {\"age\": 68, \"cp\": 3, \"trestbps\": 118, \"chol\": 277, \"thalach\": 151, \"diagnosis\": 0}, {\"age\": 64, \"cp\": 4, \"trestbps\": 128, \"chol\": 263, \"thalach\": 105, \"diagnosis\": 0}, {\"age\": 50, \"cp\": 3, \"trestbps\": 120, \"chol\": 219, \"thalach\": 158, \"diagnosis\": 0}, {\"age\": 57, \"cp\": 2, \"trestbps\": 124, \"chol\": 261, \"thalach\": 141, \"diagnosis\": 1}, {\"age\": 63, \"cp\": 4, \"trestbps\": 124, \"chol\": 197, \"thalach\": 136, \"diagnosis\": 1}, {\"age\": 56, \"cp\": 2, \"trestbps\": 120, \"chol\": 240, \"thalach\": 169, \"diagnosis\": 0}, {\"age\": 52, \"cp\": 1, \"trestbps\": 118, \"chol\": 186, \"thalach\": 190, \"diagnosis\": 0}, {\"age\": 54, \"cp\": 4, \"trestbps\": 124, \"chol\": 266, \"thalach\": 109, \"diagnosis\": 1}, {\"age\": 52, \"cp\": 2, \"trestbps\": 134, \"chol\": 201, \"thalach\": 158, \"diagnosis\": 0}, {\"age\": 57, \"cp\": 4, \"trestbps\": 140, \"chol\": 241, \"thalach\": 123, \"diagnosis\": 1}, {\"age\": 58, \"cp\": 4, \"trestbps\": 100, \"chol\": 248, \"thalach\": 122, \"diagnosis\": 0}, {\"age\": 52, \"cp\": 4, \"trestbps\": 108, \"chol\": 233, \"thalach\": 147, \"diagnosis\": 0}, {\"age\": 48, \"cp\": 2, \"trestbps\": 110, \"chol\": 229, \"thalach\": 168, \"diagnosis\": 1}, {\"age\": 61, \"cp\": 4, \"trestbps\": 120, \"chol\": 260, \"thalach\": 140, \"diagnosis\": 1}, {\"age\": 52, \"cp\": 4, \"trestbps\": 125, \"chol\": 212, \"thalach\": 168, \"diagnosis\": 1}, {\"age\": 62, \"cp\": 4, \"trestbps\": 140, \"chol\": 268, \"thalach\": 160, \"diagnosis\": 1}, {\"age\": 52, \"cp\": 1, \"trestbps\": 152, \"chol\": 298, \"thalach\": 178, \"diagnosis\": 0}, {\"age\": 59, \"cp\": 4, \"trestbps\": 140, \"chol\": 177, \"thalach\": 162, \"diagnosis\": 1}, {\"age\": 56, \"cp\": 4, \"trestbps\": 134, \"chol\": 409, \"thalach\": 150, \"diagnosis\": 1}, {\"age\": 45, \"cp\": 2, \"trestbps\": 112, \"chol\": 160, \"thalach\": 138, \"diagnosis\": 0}, {\"age\": 56, \"cp\": 1, \"trestbps\": 120, \"chol\": 193, \"thalach\": 162, \"diagnosis\": 0}, {\"age\": 60, \"cp\": 4, \"trestbps\": 125, \"chol\": 258, \"thalach\": 141, \"diagnosis\": 1}, {\"age\": 50, \"cp\": 4, \"trestbps\": 150, \"chol\": 243, \"thalach\": 128, \"diagnosis\": 1}, {\"age\": 58, \"cp\": 3, \"trestbps\": 120, \"chol\": 340, \"thalach\": 172, \"diagnosis\": 0}, {\"age\": 45, \"cp\": 4, \"trestbps\": 138, \"chol\": 236, \"thalach\": 152, \"diagnosis\": 0}, {\"age\": 58, \"cp\": 4, \"trestbps\": 170, \"chol\": 225, \"thalach\": 146, \"diagnosis\": 1}, {\"age\": 67, \"cp\": 4, \"trestbps\": 125, \"chol\": 254, \"thalach\": 163, \"diagnosis\": 1}, {\"age\": 66, \"cp\": 1, \"trestbps\": 150, \"chol\": 226, \"thalach\": 114, \"diagnosis\": 0}, {\"age\": 34, \"cp\": 1, \"trestbps\": 118, \"chol\": 182, \"thalach\": 174, \"diagnosis\": 0}, {\"age\": 50, \"cp\": 3, \"trestbps\": 129, \"chol\": 196, \"thalach\": 163, \"diagnosis\": 0}, {\"age\": 57, \"cp\": 4, \"trestbps\": 140, \"chol\": 192, \"thalach\": 148, \"diagnosis\": 0}, {\"age\": 43, \"cp\": 3, \"trestbps\": 130, \"chol\": 315, \"thalach\": 162, \"diagnosis\": 0}, {\"age\": 59, \"cp\": 4, \"trestbps\": 170, \"chol\": 326, \"thalach\": 140, \"diagnosis\": 1}, {\"age\": 65, \"cp\": 1, \"trestbps\": 138, \"chol\": 282, \"thalach\": 174, \"diagnosis\": 1}, {\"age\": 65, \"cp\": 4, \"trestbps\": 110, \"chol\": 248, \"thalach\": 158, \"diagnosis\": 1}, {\"age\": 63, \"cp\": 4, \"trestbps\": 130, \"chol\": 330, \"thalach\": 132, \"diagnosis\": 1}, {\"age\": 41, \"cp\": 2, \"trestbps\": 120, \"chol\": 157, \"thalach\": 182, \"diagnosis\": 0}, {\"age\": 41, \"cp\": 2, \"trestbps\": 126, \"chol\": 306, \"thalach\": 163, \"diagnosis\": 0}, {\"age\": 62, \"cp\": 3, \"trestbps\": 130, \"chol\": 231, \"thalach\": 146, \"diagnosis\": 0}, {\"age\": 66, \"cp\": 4, \"trestbps\": 120, \"chol\": 302, \"thalach\": 151, \"diagnosis\": 0}, {\"age\": 67, \"cp\": 4, \"trestbps\": 100, \"chol\": 299, \"thalach\": 125, \"diagnosis\": 1}, {\"age\": 52, \"cp\": 3, \"trestbps\": 136, \"chol\": 196, \"thalach\": 169, \"diagnosis\": 0}, {\"age\": 70, \"cp\": 4, \"trestbps\": 145, \"chol\": 174, \"thalach\": 125, \"diagnosis\": 1}, {\"age\": 59, \"cp\": 1, \"trestbps\": 134, \"chol\": 204, \"thalach\": 162, \"diagnosis\": 1}, {\"age\": 41, \"cp\": 3, \"trestbps\": 130, \"chol\": 214, \"thalach\": 168, \"diagnosis\": 0}, {\"age\": 70, \"cp\": 4, \"trestbps\": 130, \"chol\": 322, \"thalach\": 109, \"diagnosis\": 1}, {\"age\": 51, \"cp\": 3, \"trestbps\": 120, \"chol\": 295, \"thalach\": 157, \"diagnosis\": 0}, {\"age\": 57, \"cp\": 4, \"trestbps\": 120, \"chol\": 354, \"thalach\": 163, \"diagnosis\": 0}, {\"age\": 56, \"cp\": 2, \"trestbps\": 140, \"chol\": 294, \"thalach\": 153, \"diagnosis\": 0}, {\"age\": 53, \"cp\": 4, \"trestbps\": 138, \"chol\": 234, \"thalach\": 160, \"diagnosis\": 0}, {\"age\": 61, \"cp\": 3, \"trestbps\": 150, \"chol\": 243, \"thalach\": 137, \"diagnosis\": 0}, {\"age\": 43, \"cp\": 4, \"trestbps\": 132, \"chol\": 247, \"thalach\": 143, \"diagnosis\": 1}, {\"age\": 66, \"cp\": 3, \"trestbps\": 146, \"chol\": 278, \"thalach\": 152, \"diagnosis\": 0}, {\"age\": 35, \"cp\": 4, \"trestbps\": 120, \"chol\": 198, \"thalach\": 130, \"diagnosis\": 1}, {\"age\": 59, \"cp\": 4, \"trestbps\": 138, \"chol\": 271, \"thalach\": 182, \"diagnosis\": 0}, {\"age\": 35, \"cp\": 4, \"trestbps\": 126, \"chol\": 282, \"thalach\": 156, \"diagnosis\": 1}, {\"age\": 38, \"cp\": 1, \"trestbps\": 120, \"chol\": 231, \"thalach\": 182, \"diagnosis\": 1}, {\"age\": 62, \"cp\": 2, \"trestbps\": 120, \"chol\": 281, \"thalach\": 103, \"diagnosis\": 1}, {\"age\": 60, \"cp\": 3, \"trestbps\": 140, \"chol\": 185, \"thalach\": 155, \"diagnosis\": 1}, {\"age\": 64, \"cp\": 4, \"trestbps\": 130, \"chol\": 303, \"thalach\": 122, \"diagnosis\": 0}, {\"age\": 57, \"cp\": 4, \"trestbps\": 132, \"chol\": 207, \"thalach\": 168, \"diagnosis\": 0}, {\"age\": 53, \"cp\": 3, \"trestbps\": 130, \"chol\": 197, \"thalach\": 152, \"diagnosis\": 0}, {\"age\": 43, \"cp\": 4, \"trestbps\": 150, \"chol\": 247, \"thalach\": 171, \"diagnosis\": 0}, {\"age\": 53, \"cp\": 4, \"trestbps\": 130, \"chol\": 264, \"thalach\": 143, \"diagnosis\": 0}, {\"age\": 44, \"cp\": 3, \"trestbps\": 118, \"chol\": 242, \"thalach\": 149, \"diagnosis\": 0}, {\"age\": 54, \"cp\": 4, \"trestbps\": 122, \"chol\": 286, \"thalach\": 116, \"diagnosis\": 1}, {\"age\": 45, \"cp\": 1, \"trestbps\": 110, \"chol\": 264, \"thalach\": 132, \"diagnosis\": 1}, {\"age\": 51, \"cp\": 3, \"trestbps\": 140, \"chol\": 308, \"thalach\": 142, \"diagnosis\": 0}, {\"age\": 62, \"cp\": 4, \"trestbps\": 124, \"chol\": 209, \"thalach\": 163, \"diagnosis\": 0}, {\"age\": 61, \"cp\": 4, \"trestbps\": 140, \"chol\": 207, \"thalach\": 138, \"diagnosis\": 1}, {\"age\": 35, \"cp\": 4, \"trestbps\": 138, \"chol\": 183, \"thalach\": 182, \"diagnosis\": 0}, {\"age\": 57, \"cp\": 2, \"trestbps\": 154, \"chol\": 232, \"thalach\": 164, \"diagnosis\": 1}, {\"age\": 37, \"cp\": 3, \"trestbps\": 130, \"chol\": 250, \"thalach\": 187, \"diagnosis\": 0}, {\"age\": 54, \"cp\": 3, \"trestbps\": 108, \"chol\": 267, \"thalach\": 167, \"diagnosis\": 0}, {\"age\": 46, \"cp\": 3, \"trestbps\": 150, \"chol\": 231, \"thalach\": 147, \"diagnosis\": 1}, {\"age\": 64, \"cp\": 4, \"trestbps\": 120, \"chol\": 246, \"thalach\": 96, \"diagnosis\": 1}, {\"age\": 62, \"cp\": 2, \"trestbps\": 128, \"chol\": 208, \"thalach\": 140, \"diagnosis\": 0}, {\"age\": 42, \"cp\": 4, \"trestbps\": 136, \"chol\": 315, \"thalach\": 125, \"diagnosis\": 1}, {\"age\": 60, \"cp\": 1, \"trestbps\": 150, \"chol\": 240, \"thalach\": 171, \"diagnosis\": 0}, {\"age\": 41, \"cp\": 2, \"trestbps\": 105, \"chol\": 198, \"thalach\": 168, \"diagnosis\": 0}, {\"age\": 56, \"cp\": 4, \"trestbps\": 130, \"chol\": 283, \"thalach\": 103, \"diagnosis\": 1}, {\"age\": 67, \"cp\": 3, \"trestbps\": 152, \"chol\": 212, \"thalach\": 150, \"diagnosis\": 1}, {\"age\": 57, \"cp\": 2, \"trestbps\": 130, \"chol\": 236, \"thalach\": 174, \"diagnosis\": 1}, {\"age\": 60, \"cp\": 4, \"trestbps\": 150, \"chol\": 258, \"thalach\": 157, \"diagnosis\": 1}, {\"age\": 48, \"cp\": 2, \"trestbps\": 130, \"chol\": 245, \"thalach\": 180, \"diagnosis\": 0}, {\"age\": 66, \"cp\": 4, \"trestbps\": 112, \"chol\": 212, \"thalach\": 132, \"diagnosis\": 1}, {\"age\": 74, \"cp\": 2, \"trestbps\": 120, \"chol\": 269, \"thalach\": 121, \"diagnosis\": 0}, {\"age\": 43, \"cp\": 4, \"trestbps\": 120, \"chol\": 177, \"thalach\": 120, \"diagnosis\": 1}, {\"age\": 63, \"cp\": 4, \"trestbps\": 130, \"chol\": 254, \"thalach\": 147, \"diagnosis\": 1}, {\"age\": 65, \"cp\": 4, \"trestbps\": 120, \"chol\": 177, \"thalach\": 140, \"diagnosis\": 0}, {\"age\": 46, \"cp\": 4, \"trestbps\": 140, \"chol\": 311, \"thalach\": 120, \"diagnosis\": 1}, {\"age\": 42, \"cp\": 1, \"trestbps\": 148, \"chol\": 244, \"thalach\": 178, \"diagnosis\": 0}, {\"age\": 61, \"cp\": 4, \"trestbps\": 138, \"chol\": 166, \"thalach\": 125, \"diagnosis\": 1}, {\"age\": 67, \"cp\": 4, \"trestbps\": 106, \"chol\": 223, \"thalach\": 142, \"diagnosis\": 0}, {\"age\": 65, \"cp\": 4, \"trestbps\": 135, \"chol\": 254, \"thalach\": 127, \"diagnosis\": 1}, {\"age\": 39, \"cp\": 3, \"trestbps\": 140, \"chol\": 321, \"thalach\": 182, \"diagnosis\": 0}, {\"age\": 63, \"cp\": 4, \"trestbps\": 140, \"chol\": 187, \"thalach\": 144, \"diagnosis\": 1}, {\"age\": 57, \"cp\": 3, \"trestbps\": 150, \"chol\": 126, \"thalach\": 173, \"diagnosis\": 0}, {\"age\": 66, \"cp\": 2, \"trestbps\": 160, \"chol\": 246, \"thalach\": 120, \"diagnosis\": 1}, {\"age\": 48, \"cp\": 4, \"trestbps\": 122, \"chol\": 222, \"thalach\": 186, \"diagnosis\": 0}, {\"age\": 52, \"cp\": 2, \"trestbps\": 120, \"chol\": 325, \"thalach\": 172, \"diagnosis\": 0}, {\"age\": 53, \"cp\": 4, \"trestbps\": 140, \"chol\": 203, \"thalach\": 155, \"diagnosis\": 1}, {\"age\": 59, \"cp\": 4, \"trestbps\": 135, \"chol\": 234, \"thalach\": 161, \"diagnosis\": 0}, {\"age\": 57, \"cp\": 4, \"trestbps\": 150, \"chol\": 276, \"thalach\": 112, \"diagnosis\": 1}, {\"age\": 60, \"cp\": 4, \"trestbps\": 145, \"chol\": 282, \"thalach\": 142, \"diagnosis\": 1}, {\"age\": 62, \"cp\": 4, \"trestbps\": 140, \"chol\": 394, \"thalach\": 157, \"diagnosis\": 0}, {\"age\": 39, \"cp\": 3, \"trestbps\": 94, \"chol\": 199, \"thalach\": 179, \"diagnosis\": 0}, {\"age\": 48, \"cp\": 4, \"trestbps\": 124, \"chol\": 274, \"thalach\": 166, \"diagnosis\": 1}, {\"age\": 69, \"cp\": 3, \"trestbps\": 140, \"chol\": 254, \"thalach\": 146, \"diagnosis\": 1}, {\"age\": 52, \"cp\": 4, \"trestbps\": 128, \"chol\": 204, \"thalach\": 156, \"diagnosis\": 1}, {\"age\": 64, \"cp\": 3, \"trestbps\": 125, \"chol\": 309, \"thalach\": 131, \"diagnosis\": 1}, {\"age\": 54, \"cp\": 4, \"trestbps\": 110, \"chol\": 206, \"thalach\": 108, \"diagnosis\": 1}, {\"age\": 63, \"cp\": 4, \"trestbps\": 108, \"chol\": 269, \"thalach\": 169, \"diagnosis\": 1}, {\"age\": 57, \"cp\": 4, \"trestbps\": 152, \"chol\": 274, \"thalach\": 88, \"diagnosis\": 1}, {\"age\": 65, \"cp\": 3, \"trestbps\": 140, \"chol\": 417, \"thalach\": 157, \"diagnosis\": 0}, {\"age\": 53, \"cp\": 4, \"trestbps\": 123, \"chol\": 282, \"thalach\": 95, \"diagnosis\": 1}, {\"age\": 57, \"cp\": 4, \"trestbps\": 110, \"chol\": 201, \"thalach\": 126, \"diagnosis\": 0}, {\"age\": 64, \"cp\": 4, \"trestbps\": 145, \"chol\": 212, \"thalach\": 132, \"diagnosis\": 1}, {\"age\": 60, \"cp\": 3, \"trestbps\": 120, \"chol\": 178, \"thalach\": 96, \"diagnosis\": 0}, {\"age\": 56, \"cp\": 4, \"trestbps\": 132, \"chol\": 184, \"thalach\": 105, \"diagnosis\": 1}, {\"age\": 51, \"cp\": 3, \"trestbps\": 130, \"chol\": 256, \"thalach\": 149, \"diagnosis\": 0}, {\"age\": 58, \"cp\": 1, \"trestbps\": 150, \"chol\": 283, \"thalach\": 162, \"diagnosis\": 0}, {\"age\": 50, \"cp\": 2, \"trestbps\": 120, \"chol\": 244, \"thalach\": 162, \"diagnosis\": 0}, {\"age\": 63, \"cp\": 3, \"trestbps\": 135, \"chol\": 252, \"thalach\": 172, \"diagnosis\": 0}, {\"age\": 76, \"cp\": 3, \"trestbps\": 140, \"chol\": 197, \"thalach\": 116, \"diagnosis\": 0}, {\"age\": 60, \"cp\": 4, \"trestbps\": 130, \"chol\": 206, \"thalach\": 132, \"diagnosis\": 1}, {\"age\": 61, \"cp\": 4, \"trestbps\": 148, \"chol\": 203, \"thalach\": 161, \"diagnosis\": 1}, {\"age\": 44, \"cp\": 2, \"trestbps\": 120, \"chol\": 263, \"thalach\": 173, \"diagnosis\": 0}, {\"age\": 65, \"cp\": 4, \"trestbps\": 150, \"chol\": 225, \"thalach\": 114, \"diagnosis\": 1}, {\"age\": 54, \"cp\": 4, \"trestbps\": 140, \"chol\": 239, \"thalach\": 160, \"diagnosis\": 0}, {\"age\": 62, \"cp\": 4, \"trestbps\": 150, \"chol\": 244, \"thalach\": 154, \"diagnosis\": 1}, {\"age\": 57, \"cp\": 4, \"trestbps\": 165, \"chol\": 289, \"thalach\": 124, \"diagnosis\": 1}, {\"age\": 34, \"cp\": 2, \"trestbps\": 118, \"chol\": 210, \"thalach\": 192, \"diagnosis\": 0}, {\"age\": 67, \"cp\": 3, \"trestbps\": 115, \"chol\": 564, \"thalach\": 160, \"diagnosis\": 0}, {\"age\": 58, \"cp\": 4, \"trestbps\": 146, \"chol\": 218, \"thalach\": 105, \"diagnosis\": 1}, {\"age\": 69, \"cp\": 1, \"trestbps\": 140, \"chol\": 239, \"thalach\": 151, \"diagnosis\": 0}, {\"age\": 57, \"cp\": 3, \"trestbps\": 128, \"chol\": 229, \"thalach\": 150, \"diagnosis\": 1}, {\"age\": 47, \"cp\": 3, \"trestbps\": 130, \"chol\": 253, \"thalach\": 179, \"diagnosis\": 0}, {\"age\": 56, \"cp\": 3, \"trestbps\": 130, \"chol\": 256, \"thalach\": 142, \"diagnosis\": 1}, {\"age\": 50, \"cp\": 4, \"trestbps\": 110, \"chol\": 254, \"thalach\": 159, \"diagnosis\": 0}, {\"age\": 40, \"cp\": 4, \"trestbps\": 152, \"chol\": 223, \"thalach\": 181, \"diagnosis\": 1}, {\"age\": 54, \"cp\": 3, \"trestbps\": 150, \"chol\": 232, \"thalach\": 165, \"diagnosis\": 0}, {\"age\": 46, \"cp\": 2, \"trestbps\": 101, \"chol\": 197, \"thalach\": 156, \"diagnosis\": 0}, {\"age\": 42, \"cp\": 4, \"trestbps\": 140, \"chol\": 226, \"thalach\": 178, \"diagnosis\": 0}, {\"age\": 60, \"cp\": 3, \"trestbps\": 102, \"chol\": 318, \"thalach\": 160, \"diagnosis\": 0}, {\"age\": 53, \"cp\": 3, \"trestbps\": 128, \"chol\": 216, \"thalach\": 115, \"diagnosis\": 0}, {\"age\": 47, \"cp\": 3, \"trestbps\": 138, \"chol\": 257, \"thalach\": 156, \"diagnosis\": 0}, {\"age\": 59, \"cp\": 1, \"trestbps\": 178, \"chol\": 270, \"thalach\": 145, \"diagnosis\": 0}, {\"age\": 44, \"cp\": 3, \"trestbps\": 108, \"chol\": 141, \"thalach\": 175, \"diagnosis\": 0}, {\"age\": 49, \"cp\": 2, \"trestbps\": 130, \"chol\": 266, \"thalach\": 171, \"diagnosis\": 0}, {\"age\": 71, \"cp\": 2, \"trestbps\": 160, \"chol\": 302, \"thalach\": 162, \"diagnosis\": 0}, {\"age\": 47, \"cp\": 3, \"trestbps\": 108, \"chol\": 243, \"thalach\": 152, \"diagnosis\": 1}, {\"age\": 61, \"cp\": 4, \"trestbps\": 145, \"chol\": 307, \"thalach\": 146, \"diagnosis\": 1}, {\"age\": 49, \"cp\": 2, \"trestbps\": 134, \"chol\": 271, \"thalach\": 162, \"diagnosis\": 0}, {\"age\": 60, \"cp\": 4, \"trestbps\": 117, \"chol\": 230, \"thalach\": 160, \"diagnosis\": 1}, {\"age\": 52, \"cp\": 4, \"trestbps\": 112, \"chol\": 230, \"thalach\": 160, \"diagnosis\": 1}, {\"age\": 59, \"cp\": 3, \"trestbps\": 126, \"chol\": 218, \"thalach\": 134, \"diagnosis\": 1}, {\"age\": 41, \"cp\": 2, \"trestbps\": 110, \"chol\": 235, \"thalach\": 153, \"diagnosis\": 0}, {\"age\": 61, \"cp\": 4, \"trestbps\": 130, \"chol\": 330, \"thalach\": 169, \"diagnosis\": 1}, {\"age\": 43, \"cp\": 4, \"trestbps\": 115, \"chol\": 303, \"thalach\": 181, \"diagnosis\": 0}, {\"age\": 58, \"cp\": 2, \"trestbps\": 120, \"chol\": 284, \"thalach\": 160, \"diagnosis\": 1}, {\"age\": 64, \"cp\": 3, \"trestbps\": 140, \"chol\": 335, \"thalach\": 158, \"diagnosis\": 1}, {\"age\": 29, \"cp\": 2, \"trestbps\": 130, \"chol\": 204, \"thalach\": 202, \"diagnosis\": 0}, {\"age\": 44, \"cp\": 4, \"trestbps\": 120, \"chol\": 169, \"thalach\": 144, \"diagnosis\": 1}, {\"age\": 58, \"cp\": 4, \"trestbps\": 128, \"chol\": 216, \"thalach\": 131, \"diagnosis\": 1}, {\"age\": 58, \"cp\": 3, \"trestbps\": 132, \"chol\": 224, \"thalach\": 173, \"diagnosis\": 1}, {\"age\": 67, \"cp\": 3, \"trestbps\": 152, \"chol\": 277, \"thalach\": 172, \"diagnosis\": 0}, {\"age\": 52, \"cp\": 3, \"trestbps\": 172, \"chol\": 199, \"thalach\": 162, \"diagnosis\": 0}, {\"age\": 59, \"cp\": 3, \"trestbps\": 150, \"chol\": 212, \"thalach\": 157, \"diagnosis\": 0}, {\"age\": 70, \"cp\": 2, \"trestbps\": 156, \"chol\": 245, \"thalach\": 143, \"diagnosis\": 0}, {\"age\": 46, \"cp\": 2, \"trestbps\": 105, \"chol\": 204, \"thalach\": 172, \"diagnosis\": 0}, {\"age\": 44, \"cp\": 2, \"trestbps\": 120, \"chol\": 220, \"thalach\": 170, \"diagnosis\": 0}, {\"age\": 42, \"cp\": 2, \"trestbps\": 120, \"chol\": 295, \"thalach\": 162, \"diagnosis\": 0}, {\"age\": 42, \"cp\": 4, \"trestbps\": 102, \"chol\": 265, \"thalach\": 122, \"diagnosis\": 0}, {\"age\": 46, \"cp\": 4, \"trestbps\": 138, \"chol\": 243, \"thalach\": 152, \"diagnosis\": 0}, {\"age\": 51, \"cp\": 3, \"trestbps\": 125, \"chol\": 245, \"thalach\": 166, \"diagnosis\": 0}, {\"age\": 65, \"cp\": 3, \"trestbps\": 160, \"chol\": 360, \"thalach\": 151, \"diagnosis\": 0}, {\"age\": 51, \"cp\": 4, \"trestbps\": 140, \"chol\": 298, \"thalach\": 122, \"diagnosis\": 1}, {\"age\": 68, \"cp\": 4, \"trestbps\": 144, \"chol\": 193, \"thalach\": 141, \"diagnosis\": 1}, {\"age\": 77, \"cp\": 4, \"trestbps\": 125, \"chol\": 304, \"thalach\": 162, \"diagnosis\": 1}, {\"age\": 55, \"cp\": 4, \"trestbps\": 132, \"chol\": 353, \"thalach\": 132, \"diagnosis\": 1}, {\"age\": 44, \"cp\": 2, \"trestbps\": 130, \"chol\": 219, \"thalach\": 188, \"diagnosis\": 0}, {\"age\": 49, \"cp\": 3, \"trestbps\": 118, \"chol\": 149, \"thalach\": 126, \"diagnosis\": 1}, {\"age\": 44, \"cp\": 4, \"trestbps\": 112, \"chol\": 290, \"thalach\": 153, \"diagnosis\": 1}, {\"age\": 60, \"cp\": 4, \"trestbps\": 140, \"chol\": 293, \"thalach\": 170, \"diagnosis\": 1}, {\"age\": 41, \"cp\": 3, \"trestbps\": 112, \"chol\": 268, \"thalach\": 172, \"diagnosis\": 0}, {\"age\": 51, \"cp\": 4, \"trestbps\": 130, \"chol\": 305, \"thalach\": 142, \"diagnosis\": 1}, {\"age\": 51, \"cp\": 3, \"trestbps\": 100, \"chol\": 222, \"thalach\": 143, \"diagnosis\": 0}, {\"age\": 41, \"cp\": 2, \"trestbps\": 130, \"chol\": 204, \"thalach\": 172, \"diagnosis\": 0}, {\"age\": 64, \"cp\": 1, \"trestbps\": 110, \"chol\": 211, \"thalach\": 144, \"diagnosis\": 0}, {\"age\": 58, \"cp\": 4, \"trestbps\": 100, \"chol\": 234, \"thalach\": 156, \"diagnosis\": 1}, {\"age\": 53, \"cp\": 4, \"trestbps\": 142, \"chol\": 226, \"thalach\": 111, \"diagnosis\": 0}, {\"age\": 55, \"cp\": 2, \"trestbps\": 130, \"chol\": 262, \"thalach\": 155, \"diagnosis\": 0}, {\"age\": 63, \"cp\": 2, \"trestbps\": 140, \"chol\": 195, \"thalach\": 179, \"diagnosis\": 0}, {\"age\": 41, \"cp\": 2, \"trestbps\": 135, \"chol\": 203, \"thalach\": 132, \"diagnosis\": 0}, {\"age\": 57, \"cp\": 3, \"trestbps\": 150, \"chol\": 168, \"thalach\": 174, \"diagnosis\": 0}, {\"age\": 49, \"cp\": 4, \"trestbps\": 130, \"chol\": 269, \"thalach\": 163, \"diagnosis\": 0}, {\"age\": 55, \"cp\": 4, \"trestbps\": 140, \"chol\": 217, \"thalach\": 111, \"diagnosis\": 1}, {\"age\": 64, \"cp\": 4, \"trestbps\": 180, \"chol\": 325, \"thalach\": 154, \"diagnosis\": 0}, {\"age\": 58, \"cp\": 4, \"trestbps\": 125, \"chol\": 300, \"thalach\": 171, \"diagnosis\": 1}, {\"age\": 62, \"cp\": 4, \"trestbps\": 160, \"chol\": 164, \"thalach\": 145, \"diagnosis\": 1}, {\"age\": 52, \"cp\": 2, \"trestbps\": 128, \"chol\": 205, \"thalach\": 184, \"diagnosis\": 0}, {\"age\": 54, \"cp\": 3, \"trestbps\": 160, \"chol\": 201, \"thalach\": 163, \"diagnosis\": 0}, {\"age\": 54, \"cp\": 2, \"trestbps\": 192, \"chol\": 283, \"thalach\": 195, \"diagnosis\": 1}, {\"age\": 45, \"cp\": 2, \"trestbps\": 130, \"chol\": 234, \"thalach\": 175, \"diagnosis\": 0}, {\"age\": 67, \"cp\": 4, \"trestbps\": 120, \"chol\": 229, \"thalach\": 129, \"diagnosis\": 1}, {\"age\": 39, \"cp\": 4, \"trestbps\": 118, \"chol\": 219, \"thalach\": 140, \"diagnosis\": 1}, {\"age\": 51, \"cp\": 3, \"trestbps\": 110, \"chol\": 175, \"thalach\": 123, \"diagnosis\": 0}, {\"age\": 49, \"cp\": 3, \"trestbps\": 120, \"chol\": 188, \"thalach\": 139, \"diagnosis\": 1}, {\"age\": 57, \"cp\": 4, \"trestbps\": 128, \"chol\": 303, \"thalach\": 159, \"diagnosis\": 0}, {\"age\": 59, \"cp\": 1, \"trestbps\": 170, \"chol\": 288, \"thalach\": 159, \"diagnosis\": 1}, {\"age\": 41, \"cp\": 3, \"trestbps\": 112, \"chol\": 250, \"thalach\": 179, \"diagnosis\": 0}, {\"age\": 48, \"cp\": 3, \"trestbps\": 130, \"chol\": 275, \"thalach\": 139, \"diagnosis\": 0}, {\"age\": 70, \"cp\": 3, \"trestbps\": 160, \"chol\": 269, \"thalach\": 112, \"diagnosis\": 1}, {\"age\": 44, \"cp\": 3, \"trestbps\": 130, \"chol\": 233, \"thalach\": 179, \"diagnosis\": 0}, {\"age\": 66, \"cp\": 4, \"trestbps\": 178, \"chol\": 228, \"thalach\": 165, \"diagnosis\": 1}, {\"age\": 38, \"cp\": 3, \"trestbps\": 138, \"chol\": 175, \"thalach\": 173, \"diagnosis\": 0}, {\"age\": 46, \"cp\": 4, \"trestbps\": 120, \"chol\": 249, \"thalach\": 144, \"diagnosis\": 1}, {\"age\": 62, \"cp\": 4, \"trestbps\": 120, \"chol\": 267, \"thalach\": 99, \"diagnosis\": 1}, {\"age\": 58, \"cp\": 2, \"trestbps\": 125, \"chol\": 220, \"thalach\": 144, \"diagnosis\": 0}, {\"age\": 58, \"cp\": 4, \"trestbps\": 128, \"chol\": 259, \"thalach\": 130, \"diagnosis\": 1}, {\"age\": 71, \"cp\": 4, \"trestbps\": 112, \"chol\": 149, \"thalach\": 125, \"diagnosis\": 0}]}}, {\"mode\": \"vega-lite\"});\n",
       "</script>"
      ],
      "text/plain": [
       "alt.HConcatChart(...)"
      ]
     },
     "metadata": {},
     "output_type": "display_data"
    }
   ],
   "source": [
    "#Plot of age and heart disease\n",
    "\n",
    "age = alt.Chart(heart_train).mark_bar().encode(\n",
    "    x=alt.X(\"age\", bin=alt.Bin(step=5)).title(\"Age\"),\n",
    "    y=alt.Y(\"count()\").title(\"# of Patients\"),\n",
    "    color=alt.Color(\"diagnosis:N\", title=\"Diagnosis\")\n",
    ").properties(title=\"Figure 2: Age and Heart Disease\")\n",
    "\n",
    "\n",
    "#Plot of max heart rate and heart disease\n",
    "\n",
    "max_hr = alt.Chart(heart_train).mark_bar().encode(\n",
    "    x=alt.X(\"thalach\", bin=alt.Bin(step=20)).title(\"Max HR (Exercise)\"),\n",
    "    y=alt.Y(\"count()\").title(\"# of Patients\"),\n",
    "    color=alt.Color(\"diagnosis:N\", title=\"Diagnosis\")\n",
    ").properties(title=\"Figure 3: Max Heart Rate and Heart Disease\")\n",
    "\n",
    "display(age | max_hr)"
   ]
  },
  {
   "cell_type": "markdown",
   "id": "2e66fde8-918b-46a7-901c-415e8f2bff52",
   "metadata": {},
   "source": [
    "These visualizations show a couple of expected trends, the proportion of younger people 25-55 with a diagnosis is much lower than those 55 and up.\n",
    "\n",
    "As for max heart rate there is significant negative correlation with max heart rate and heart disease. The 160-180 group is dominated by a null diagnosis, 140-160 has a roughly 50/50 split, but as we go lower the prevalence of heart disease becomes the norm, not the exception."
   ]
  },
  {
   "cell_type": "markdown",
   "id": "dd77a8f0-07bc-4c92-9da6-a06956e0623d",
   "metadata": {},
   "source": [
    "We will now setup a KNeighborsClassifier model below that will attempt to make predictions based off of the variables **age**, **trestbps**, **chol**, and **thalach** and spit out a target variable for **diagnosis**.\n",
    "\n",
    "Since we are using KNeighborsClassifier the variables will have to be standardized for further analysis.\n",
    "\n",
    "In order to find the best K value we will use GridSearchCV and do it in the range from 1-50 (inclusive). We will use a cv of 10 to maintain a solid balance between efficiency and performance.\n"
   ]
  },
  {
   "cell_type": "code",
   "execution_count": 6,
   "id": "ed83aaee-1e51-4bea-9770-fb9d38978d75",
   "metadata": {},
   "outputs": [
    {
     "data": {
      "text/html": [
       "<style>#sk-container-id-1 {color: black;}#sk-container-id-1 pre{padding: 0;}#sk-container-id-1 div.sk-toggleable {background-color: white;}#sk-container-id-1 label.sk-toggleable__label {cursor: pointer;display: block;width: 100%;margin-bottom: 0;padding: 0.3em;box-sizing: border-box;text-align: center;}#sk-container-id-1 label.sk-toggleable__label-arrow:before {content: \"▸\";float: left;margin-right: 0.25em;color: #696969;}#sk-container-id-1 label.sk-toggleable__label-arrow:hover:before {color: black;}#sk-container-id-1 div.sk-estimator:hover label.sk-toggleable__label-arrow:before {color: black;}#sk-container-id-1 div.sk-toggleable__content {max-height: 0;max-width: 0;overflow: hidden;text-align: left;background-color: #f0f8ff;}#sk-container-id-1 div.sk-toggleable__content pre {margin: 0.2em;color: black;border-radius: 0.25em;background-color: #f0f8ff;}#sk-container-id-1 input.sk-toggleable__control:checked~div.sk-toggleable__content {max-height: 200px;max-width: 100%;overflow: auto;}#sk-container-id-1 input.sk-toggleable__control:checked~label.sk-toggleable__label-arrow:before {content: \"▾\";}#sk-container-id-1 div.sk-estimator input.sk-toggleable__control:checked~label.sk-toggleable__label {background-color: #d4ebff;}#sk-container-id-1 div.sk-label input.sk-toggleable__control:checked~label.sk-toggleable__label {background-color: #d4ebff;}#sk-container-id-1 input.sk-hidden--visually {border: 0;clip: rect(1px 1px 1px 1px);clip: rect(1px, 1px, 1px, 1px);height: 1px;margin: -1px;overflow: hidden;padding: 0;position: absolute;width: 1px;}#sk-container-id-1 div.sk-estimator {font-family: monospace;background-color: #f0f8ff;border: 1px dotted black;border-radius: 0.25em;box-sizing: border-box;margin-bottom: 0.5em;}#sk-container-id-1 div.sk-estimator:hover {background-color: #d4ebff;}#sk-container-id-1 div.sk-parallel-item::after {content: \"\";width: 100%;border-bottom: 1px solid gray;flex-grow: 1;}#sk-container-id-1 div.sk-label:hover label.sk-toggleable__label {background-color: #d4ebff;}#sk-container-id-1 div.sk-serial::before {content: \"\";position: absolute;border-left: 1px solid gray;box-sizing: border-box;top: 0;bottom: 0;left: 50%;z-index: 0;}#sk-container-id-1 div.sk-serial {display: flex;flex-direction: column;align-items: center;background-color: white;padding-right: 0.2em;padding-left: 0.2em;position: relative;}#sk-container-id-1 div.sk-item {position: relative;z-index: 1;}#sk-container-id-1 div.sk-parallel {display: flex;align-items: stretch;justify-content: center;background-color: white;position: relative;}#sk-container-id-1 div.sk-item::before, #sk-container-id-1 div.sk-parallel-item::before {content: \"\";position: absolute;border-left: 1px solid gray;box-sizing: border-box;top: 0;bottom: 0;left: 50%;z-index: -1;}#sk-container-id-1 div.sk-parallel-item {display: flex;flex-direction: column;z-index: 1;position: relative;background-color: white;}#sk-container-id-1 div.sk-parallel-item:first-child::after {align-self: flex-end;width: 50%;}#sk-container-id-1 div.sk-parallel-item:last-child::after {align-self: flex-start;width: 50%;}#sk-container-id-1 div.sk-parallel-item:only-child::after {width: 0;}#sk-container-id-1 div.sk-dashed-wrapped {border: 1px dashed gray;margin: 0 0.4em 0.5em 0.4em;box-sizing: border-box;padding-bottom: 0.4em;background-color: white;}#sk-container-id-1 div.sk-label label {font-family: monospace;font-weight: bold;display: inline-block;line-height: 1.2em;}#sk-container-id-1 div.sk-label-container {text-align: center;}#sk-container-id-1 div.sk-container {/* jupyter's `normalize.less` sets `[hidden] { display: none; }` but bootstrap.min.css set `[hidden] { display: none !important; }` so we also need the `!important` here to be able to override the default hidden behavior on the sphinx rendered scikit-learn.org. See: https://github.com/scikit-learn/scikit-learn/issues/21755 */display: inline-block !important;position: relative;}#sk-container-id-1 div.sk-text-repr-fallback {display: none;}</style><div id=\"sk-container-id-1\" class=\"sk-top-container\"><div class=\"sk-text-repr-fallback\"><pre>GridSearchCV(cv=10,\n",
       "             estimator=Pipeline(steps=[(&#x27;columntransformer&#x27;,\n",
       "                                        ColumnTransformer(remainder=&#x27;passthrough&#x27;,\n",
       "                                                          transformers=[(&#x27;standardscaler&#x27;,\n",
       "                                                                         StandardScaler(),\n",
       "                                                                         [&#x27;age&#x27;,\n",
       "                                                                          &#x27;cp&#x27;,\n",
       "                                                                          &#x27;trestbps&#x27;,\n",
       "                                                                          &#x27;chol&#x27;,\n",
       "                                                                          &#x27;thalach&#x27;])],\n",
       "                                                          verbose_feature_names_out=False)),\n",
       "                                       (&#x27;kneighborsclassifier&#x27;,\n",
       "                                        KNeighborsClassifier())]),\n",
       "             param_grid={&#x27;kneighborsclassifier__n_neighbors&#x27;: range(1, 51)})</pre><b>In a Jupyter environment, please rerun this cell to show the HTML representation or trust the notebook. <br />On GitHub, the HTML representation is unable to render, please try loading this page with nbviewer.org.</b></div><div class=\"sk-container\" hidden><div class=\"sk-item sk-dashed-wrapped\"><div class=\"sk-label-container\"><div class=\"sk-label sk-toggleable\"><input class=\"sk-toggleable__control sk-hidden--visually\" id=\"sk-estimator-id-1\" type=\"checkbox\" ><label for=\"sk-estimator-id-1\" class=\"sk-toggleable__label sk-toggleable__label-arrow\">GridSearchCV</label><div class=\"sk-toggleable__content\"><pre>GridSearchCV(cv=10,\n",
       "             estimator=Pipeline(steps=[(&#x27;columntransformer&#x27;,\n",
       "                                        ColumnTransformer(remainder=&#x27;passthrough&#x27;,\n",
       "                                                          transformers=[(&#x27;standardscaler&#x27;,\n",
       "                                                                         StandardScaler(),\n",
       "                                                                         [&#x27;age&#x27;,\n",
       "                                                                          &#x27;cp&#x27;,\n",
       "                                                                          &#x27;trestbps&#x27;,\n",
       "                                                                          &#x27;chol&#x27;,\n",
       "                                                                          &#x27;thalach&#x27;])],\n",
       "                                                          verbose_feature_names_out=False)),\n",
       "                                       (&#x27;kneighborsclassifier&#x27;,\n",
       "                                        KNeighborsClassifier())]),\n",
       "             param_grid={&#x27;kneighborsclassifier__n_neighbors&#x27;: range(1, 51)})</pre></div></div></div><div class=\"sk-parallel\"><div class=\"sk-parallel-item\"><div class=\"sk-item\"><div class=\"sk-label-container\"><div class=\"sk-label sk-toggleable\"><input class=\"sk-toggleable__control sk-hidden--visually\" id=\"sk-estimator-id-2\" type=\"checkbox\" ><label for=\"sk-estimator-id-2\" class=\"sk-toggleable__label sk-toggleable__label-arrow\">estimator: Pipeline</label><div class=\"sk-toggleable__content\"><pre>Pipeline(steps=[(&#x27;columntransformer&#x27;,\n",
       "                 ColumnTransformer(remainder=&#x27;passthrough&#x27;,\n",
       "                                   transformers=[(&#x27;standardscaler&#x27;,\n",
       "                                                  StandardScaler(),\n",
       "                                                  [&#x27;age&#x27;, &#x27;cp&#x27;, &#x27;trestbps&#x27;,\n",
       "                                                   &#x27;chol&#x27;, &#x27;thalach&#x27;])],\n",
       "                                   verbose_feature_names_out=False)),\n",
       "                (&#x27;kneighborsclassifier&#x27;, KNeighborsClassifier())])</pre></div></div></div><div class=\"sk-serial\"><div class=\"sk-item\"><div class=\"sk-serial\"><div class=\"sk-item sk-dashed-wrapped\"><div class=\"sk-label-container\"><div class=\"sk-label sk-toggleable\"><input class=\"sk-toggleable__control sk-hidden--visually\" id=\"sk-estimator-id-3\" type=\"checkbox\" ><label for=\"sk-estimator-id-3\" class=\"sk-toggleable__label sk-toggleable__label-arrow\">columntransformer: ColumnTransformer</label><div class=\"sk-toggleable__content\"><pre>ColumnTransformer(remainder=&#x27;passthrough&#x27;,\n",
       "                  transformers=[(&#x27;standardscaler&#x27;, StandardScaler(),\n",
       "                                 [&#x27;age&#x27;, &#x27;cp&#x27;, &#x27;trestbps&#x27;, &#x27;chol&#x27;, &#x27;thalach&#x27;])],\n",
       "                  verbose_feature_names_out=False)</pre></div></div></div><div class=\"sk-parallel\"><div class=\"sk-parallel-item\"><div class=\"sk-item\"><div class=\"sk-label-container\"><div class=\"sk-label sk-toggleable\"><input class=\"sk-toggleable__control sk-hidden--visually\" id=\"sk-estimator-id-4\" type=\"checkbox\" ><label for=\"sk-estimator-id-4\" class=\"sk-toggleable__label sk-toggleable__label-arrow\">standardscaler</label><div class=\"sk-toggleable__content\"><pre>[&#x27;age&#x27;, &#x27;cp&#x27;, &#x27;trestbps&#x27;, &#x27;chol&#x27;, &#x27;thalach&#x27;]</pre></div></div></div><div class=\"sk-serial\"><div class=\"sk-item\"><div class=\"sk-estimator sk-toggleable\"><input class=\"sk-toggleable__control sk-hidden--visually\" id=\"sk-estimator-id-5\" type=\"checkbox\" ><label for=\"sk-estimator-id-5\" class=\"sk-toggleable__label sk-toggleable__label-arrow\">StandardScaler</label><div class=\"sk-toggleable__content\"><pre>StandardScaler()</pre></div></div></div></div></div></div><div class=\"sk-parallel-item\"><div class=\"sk-item\"><div class=\"sk-label-container\"><div class=\"sk-label sk-toggleable\"><input class=\"sk-toggleable__control sk-hidden--visually\" id=\"sk-estimator-id-6\" type=\"checkbox\" ><label for=\"sk-estimator-id-6\" class=\"sk-toggleable__label sk-toggleable__label-arrow\">remainder</label><div class=\"sk-toggleable__content\"><pre>[]</pre></div></div></div><div class=\"sk-serial\"><div class=\"sk-item\"><div class=\"sk-estimator sk-toggleable\"><input class=\"sk-toggleable__control sk-hidden--visually\" id=\"sk-estimator-id-7\" type=\"checkbox\" ><label for=\"sk-estimator-id-7\" class=\"sk-toggleable__label sk-toggleable__label-arrow\">passthrough</label><div class=\"sk-toggleable__content\"><pre>passthrough</pre></div></div></div></div></div></div></div></div><div class=\"sk-item\"><div class=\"sk-estimator sk-toggleable\"><input class=\"sk-toggleable__control sk-hidden--visually\" id=\"sk-estimator-id-8\" type=\"checkbox\" ><label for=\"sk-estimator-id-8\" class=\"sk-toggleable__label sk-toggleable__label-arrow\">KNeighborsClassifier</label><div class=\"sk-toggleable__content\"><pre>KNeighborsClassifier()</pre></div></div></div></div></div></div></div></div></div></div></div></div>"
      ],
      "text/plain": [
       "GridSearchCV(cv=10,\n",
       "             estimator=Pipeline(steps=[('columntransformer',\n",
       "                                        ColumnTransformer(remainder='passthrough',\n",
       "                                                          transformers=[('standardscaler',\n",
       "                                                                         StandardScaler(),\n",
       "                                                                         ['age',\n",
       "                                                                          'cp',\n",
       "                                                                          'trestbps',\n",
       "                                                                          'chol',\n",
       "                                                                          'thalach'])],\n",
       "                                                          verbose_feature_names_out=False)),\n",
       "                                       ('kneighborsclassifier',\n",
       "                                        KNeighborsClassifier())]),\n",
       "             param_grid={'kneighborsclassifier__n_neighbors': range(1, 51)})"
      ]
     },
     "execution_count": 6,
     "metadata": {},
     "output_type": "execute_result"
    }
   ],
   "source": [
    "#Creates the preprocessor\n",
    "heart_pre = make_column_transformer(\n",
    "    (StandardScaler(), [\"age\",\"cp\",\"trestbps\",\"chol\",\"thalach\"]),\n",
    "    remainder=\"passthrough\",\n",
    "    verbose_feature_names_out=False\n",
    ")\n",
    "\n",
    "#Creates the model\n",
    "knn = KNeighborsClassifier()\n",
    "\n",
    "#Creates pipeline\n",
    "heart_pipe = make_pipeline(heart_pre, knn)\n",
    "\n",
    "#Fits training data onto the pipeline with diagnosis as the target variable\n",
    "heart_pipe.fit(\n",
    "    heart_train[[\"age\",\"cp\",\"trestbps\",\"chol\",\"thalach\"]],\n",
    "    heart_train[\"diagnosis\"])\n",
    "\n",
    "#Creates a grid and performs a grid search to attempt to find the best K value\n",
    "grid = {\n",
    "    \"kneighborsclassifier__n_neighbors\": range(1,51)\n",
    "}\n",
    "\n",
    "heart_grid = GridSearchCV(\n",
    "    estimator = heart_pipe,\n",
    "    param_grid = grid,\n",
    "    cv = 10\n",
    ")\n",
    "\n",
    "#Fits it onto the training data\n",
    "heart_grid.fit(\n",
    "    heart_train[[\"age\",\"cp\",\"trestbps\",\"chol\",\"thalach\"]],\n",
    "    heart_train[\"diagnosis\"])"
   ]
  },
  {
   "cell_type": "code",
   "execution_count": 7,
   "id": "c0c2f287-e45b-4094-b8f6-936bf5ed9f5b",
   "metadata": {},
   "outputs": [
    {
     "data": {
      "text/html": [
       "\n",
       "<style>\n",
       "  #altair-viz-4e9b1659846043ac9cf323b67cca634a.vega-embed {\n",
       "    width: 100%;\n",
       "    display: flex;\n",
       "  }\n",
       "\n",
       "  #altair-viz-4e9b1659846043ac9cf323b67cca634a.vega-embed details,\n",
       "  #altair-viz-4e9b1659846043ac9cf323b67cca634a.vega-embed details summary {\n",
       "    position: relative;\n",
       "  }\n",
       "</style>\n",
       "<div id=\"altair-viz-4e9b1659846043ac9cf323b67cca634a\"></div>\n",
       "<script type=\"text/javascript\">\n",
       "  var VEGA_DEBUG = (typeof VEGA_DEBUG == \"undefined\") ? {} : VEGA_DEBUG;\n",
       "  (function(spec, embedOpt){\n",
       "    let outputDiv = document.currentScript.previousElementSibling;\n",
       "    if (outputDiv.id !== \"altair-viz-4e9b1659846043ac9cf323b67cca634a\") {\n",
       "      outputDiv = document.getElementById(\"altair-viz-4e9b1659846043ac9cf323b67cca634a\");\n",
       "    }\n",
       "    const paths = {\n",
       "      \"vega\": \"https://cdn.jsdelivr.net/npm/vega@5?noext\",\n",
       "      \"vega-lib\": \"https://cdn.jsdelivr.net/npm/vega-lib?noext\",\n",
       "      \"vega-lite\": \"https://cdn.jsdelivr.net/npm/vega-lite@5.8.0?noext\",\n",
       "      \"vega-embed\": \"https://cdn.jsdelivr.net/npm/vega-embed@6?noext\",\n",
       "    };\n",
       "\n",
       "    function maybeLoadScript(lib, version) {\n",
       "      var key = `${lib.replace(\"-\", \"\")}_version`;\n",
       "      return (VEGA_DEBUG[key] == version) ?\n",
       "        Promise.resolve(paths[lib]) :\n",
       "        new Promise(function(resolve, reject) {\n",
       "          var s = document.createElement('script');\n",
       "          document.getElementsByTagName(\"head\")[0].appendChild(s);\n",
       "          s.async = true;\n",
       "          s.onload = () => {\n",
       "            VEGA_DEBUG[key] = version;\n",
       "            return resolve(paths[lib]);\n",
       "          };\n",
       "          s.onerror = () => reject(`Error loading script: ${paths[lib]}`);\n",
       "          s.src = paths[lib];\n",
       "        });\n",
       "    }\n",
       "\n",
       "    function showError(err) {\n",
       "      outputDiv.innerHTML = `<div class=\"error\" style=\"color:red;\">${err}</div>`;\n",
       "      throw err;\n",
       "    }\n",
       "\n",
       "    function displayChart(vegaEmbed) {\n",
       "      vegaEmbed(outputDiv, spec, embedOpt)\n",
       "        .catch(err => showError(`Javascript Error: ${err.message}<br>This usually means there's a typo in your chart specification. See the javascript console for the full traceback.`));\n",
       "    }\n",
       "\n",
       "    if(typeof define === \"function\" && define.amd) {\n",
       "      requirejs.config({paths});\n",
       "      require([\"vega-embed\"], displayChart, err => showError(`Error loading script: ${err.message}`));\n",
       "    } else {\n",
       "      maybeLoadScript(\"vega\", \"5\")\n",
       "        .then(() => maybeLoadScript(\"vega-lite\", \"5.8.0\"))\n",
       "        .then(() => maybeLoadScript(\"vega-embed\", \"6\"))\n",
       "        .catch(showError)\n",
       "        .then(() => displayChart(vegaEmbed));\n",
       "    }\n",
       "  })({\"config\": {\"view\": {\"continuousWidth\": 300, \"continuousHeight\": 300}}, \"data\": {\"name\": \"data-a9cbd6b04b78f1b8ba00dc6289005f31\"}, \"mark\": {\"type\": \"line\", \"point\": true}, \"encoding\": {\"x\": {\"field\": \"param_kneighborsclassifier__n_neighbors\", \"title\": \"Number of Neighbors\", \"type\": \"quantitative\"}, \"y\": {\"field\": \"mean_test_score\", \"title\": \"Mean Test Score\", \"type\": \"quantitative\"}}, \"title\": \"Figure 4: How Does Number of Neighbors Impact Test Score?\", \"$schema\": \"https://vega.github.io/schema/vega-lite/v5.8.0.json\", \"datasets\": {\"data-a9cbd6b04b78f1b8ba00dc6289005f31\": [{\"mean_fit_time\": 0.0034381389617919923, \"std_fit_time\": 0.00015015117544167178, \"mean_score_time\": 0.004687309265136719, \"std_score_time\": 0.003686998008629549, \"param_kneighborsclassifier__n_neighbors\": 1, \"params\": {\"kneighborsclassifier__n_neighbors\": 1}, \"split0_test_score\": 0.6086956521739131, \"split1_test_score\": 0.5652173913043478, \"split2_test_score\": 0.4782608695652174, \"split3_test_score\": 0.6086956521739131, \"split4_test_score\": 0.5652173913043478, \"split5_test_score\": 0.6956521739130435, \"split6_test_score\": 0.6086956521739131, \"split7_test_score\": 0.6363636363636364, \"split8_test_score\": 0.5, \"split9_test_score\": 0.7727272727272727, \"mean_test_score\": 0.6039525691699604, \"std_test_score\": 0.0822295894747153, \"rank_test_score\": 50}, {\"mean_fit_time\": 0.00331575870513916, \"std_fit_time\": 3.980948487827387e-05, \"mean_score_time\": 0.0033348798751831055, \"std_score_time\": 3.3280577799578345e-05, \"param_kneighborsclassifier__n_neighbors\": 2, \"params\": {\"kneighborsclassifier__n_neighbors\": 2}, \"split0_test_score\": 0.6086956521739131, \"split1_test_score\": 0.6521739130434783, \"split2_test_score\": 0.6086956521739131, \"split3_test_score\": 0.6086956521739131, \"split4_test_score\": 0.6521739130434783, \"split5_test_score\": 0.782608695652174, \"split6_test_score\": 0.6956521739130435, \"split7_test_score\": 0.5909090909090909, \"split8_test_score\": 0.5454545454545454, \"split9_test_score\": 0.7727272727272727, \"mean_test_score\": 0.6517786561264821, \"std_test_score\": 0.07365366337639387, \"rank_test_score\": 49}, {\"mean_fit_time\": 0.0035892486572265624, \"std_fit_time\": 0.0005697181262716907, \"mean_score_time\": 0.0033835887908935545, \"std_score_time\": 0.00010320968179287733, \"param_kneighborsclassifier__n_neighbors\": 3, \"params\": {\"kneighborsclassifier__n_neighbors\": 3}, \"split0_test_score\": 0.6521739130434783, \"split1_test_score\": 0.7391304347826086, \"split2_test_score\": 0.5652173913043478, \"split3_test_score\": 0.6086956521739131, \"split4_test_score\": 0.6086956521739131, \"split5_test_score\": 0.7391304347826086, \"split6_test_score\": 0.6956521739130435, \"split7_test_score\": 0.6363636363636364, \"split8_test_score\": 0.6818181818181818, \"split9_test_score\": 0.6818181818181818, \"mean_test_score\": 0.6608695652173913, \"std_test_score\": 0.05441210715217668, \"rank_test_score\": 48}, {\"mean_fit_time\": 0.0032923221588134766, \"std_fit_time\": 4.6482452074942354e-05, \"mean_score_time\": 0.003361368179321289, \"std_score_time\": 4.0837588106136444e-05, \"param_kneighborsclassifier__n_neighbors\": 4, \"params\": {\"kneighborsclassifier__n_neighbors\": 4}, \"split0_test_score\": 0.6956521739130435, \"split1_test_score\": 0.6956521739130435, \"split2_test_score\": 0.6521739130434783, \"split3_test_score\": 0.6521739130434783, \"split4_test_score\": 0.6956521739130435, \"split5_test_score\": 0.782608695652174, \"split6_test_score\": 0.6956521739130435, \"split7_test_score\": 0.6363636363636364, \"split8_test_score\": 0.6363636363636364, \"split9_test_score\": 0.7272727272727273, \"mean_test_score\": 0.6869565217391305, \"std_test_score\": 0.04314641596520219, \"rank_test_score\": 44}, {\"mean_fit_time\": 0.0032834768295288085, \"std_fit_time\": 4.8755223690853834e-05, \"mean_score_time\": 0.0033403635025024414, \"std_score_time\": 2.2745744728948164e-05, \"param_kneighborsclassifier__n_neighbors\": 5, \"params\": {\"kneighborsclassifier__n_neighbors\": 5}, \"split0_test_score\": 0.6521739130434783, \"split1_test_score\": 0.7391304347826086, \"split2_test_score\": 0.5217391304347826, \"split3_test_score\": 0.5652173913043478, \"split4_test_score\": 0.6521739130434783, \"split5_test_score\": 0.782608695652174, \"split6_test_score\": 0.6956521739130435, \"split7_test_score\": 0.7272727272727273, \"split8_test_score\": 0.8181818181818182, \"split9_test_score\": 0.6818181818181818, \"mean_test_score\": 0.6835968379446641, \"std_test_score\": 0.0867426853327263, \"rank_test_score\": 45}, {\"mean_fit_time\": 0.0033015012741088867, \"std_fit_time\": 0.00013278203653660725, \"mean_score_time\": 0.0033412456512451174, \"std_score_time\": 2.920949684599907e-05, \"param_kneighborsclassifier__n_neighbors\": 6, \"params\": {\"kneighborsclassifier__n_neighbors\": 6}, \"split0_test_score\": 0.6521739130434783, \"split1_test_score\": 0.782608695652174, \"split2_test_score\": 0.6086956521739131, \"split3_test_score\": 0.6086956521739131, \"split4_test_score\": 0.6956521739130435, \"split5_test_score\": 0.782608695652174, \"split6_test_score\": 0.7391304347826086, \"split7_test_score\": 0.7272727272727273, \"split8_test_score\": 0.7272727272727273, \"split9_test_score\": 0.7272727272727273, \"mean_test_score\": 0.7051383399209487, \"std_test_score\": 0.06010504950283117, \"rank_test_score\": 16}, {\"mean_fit_time\": 0.0032865047454833985, \"std_fit_time\": 5.412534452777173e-05, \"mean_score_time\": 0.0033412456512451174, \"std_score_time\": 3.4783595674279734e-05, \"param_kneighborsclassifier__n_neighbors\": 7, \"params\": {\"kneighborsclassifier__n_neighbors\": 7}, \"split0_test_score\": 0.6521739130434783, \"split1_test_score\": 0.782608695652174, \"split2_test_score\": 0.5652173913043478, \"split3_test_score\": 0.6521739130434783, \"split4_test_score\": 0.6521739130434783, \"split5_test_score\": 0.782608695652174, \"split6_test_score\": 0.7391304347826086, \"split7_test_score\": 0.6363636363636364, \"split8_test_score\": 0.7727272727272727, \"split9_test_score\": 0.6818181818181818, \"mean_test_score\": 0.691699604743083, \"std_test_score\": 0.07013443903097781, \"rank_test_score\": 38}, {\"mean_fit_time\": 0.003246045112609863, \"std_fit_time\": 3.4165715138105366e-05, \"mean_score_time\": 0.00332794189453125, \"std_score_time\": 2.298117660983705e-05, \"param_kneighborsclassifier__n_neighbors\": 8, \"params\": {\"kneighborsclassifier__n_neighbors\": 8}, \"split0_test_score\": 0.6521739130434783, \"split1_test_score\": 0.7391304347826086, \"split2_test_score\": 0.6086956521739131, \"split3_test_score\": 0.6956521739130435, \"split4_test_score\": 0.6521739130434783, \"split5_test_score\": 0.7391304347826086, \"split6_test_score\": 0.7391304347826086, \"split7_test_score\": 0.6363636363636364, \"split8_test_score\": 0.6818181818181818, \"split9_test_score\": 0.6818181818181818, \"mean_test_score\": 0.6826086956521739, \"std_test_score\": 0.04382898427076397, \"rank_test_score\": 46}, {\"mean_fit_time\": 0.0032697200775146486, \"std_fit_time\": 5.4761877595051005e-05, \"mean_score_time\": 0.0033694982528686525, \"std_score_time\": 5.5401937300614666e-05, \"param_kneighborsclassifier__n_neighbors\": 9, \"params\": {\"kneighborsclassifier__n_neighbors\": 9}, \"split0_test_score\": 0.6521739130434783, \"split1_test_score\": 0.8260869565217391, \"split2_test_score\": 0.43478260869565216, \"split3_test_score\": 0.7391304347826086, \"split4_test_score\": 0.6086956521739131, \"split5_test_score\": 0.8260869565217391, \"split6_test_score\": 0.782608695652174, \"split7_test_score\": 0.5909090909090909, \"split8_test_score\": 0.7727272727272727, \"split9_test_score\": 0.6818181818181818, \"mean_test_score\": 0.6915019762845849, \"std_test_score\": 0.11743671018706628, \"rank_test_score\": 40}, {\"mean_fit_time\": 0.0032523393630981444, \"std_fit_time\": 1.577244770911062e-05, \"mean_score_time\": 0.0033510208129882814, \"std_score_time\": 5.17981908103794e-05, \"param_kneighborsclassifier__n_neighbors\": 10, \"params\": {\"kneighborsclassifier__n_neighbors\": 10}, \"split0_test_score\": 0.6521739130434783, \"split1_test_score\": 0.782608695652174, \"split2_test_score\": 0.5652173913043478, \"split3_test_score\": 0.7391304347826086, \"split4_test_score\": 0.6086956521739131, \"split5_test_score\": 0.8260869565217391, \"split6_test_score\": 0.7391304347826086, \"split7_test_score\": 0.5909090909090909, \"split8_test_score\": 0.7727272727272727, \"split9_test_score\": 0.6363636363636364, \"mean_test_score\": 0.691304347826087, \"std_test_score\": 0.08663613272840402, \"rank_test_score\": 41}, {\"mean_fit_time\": 0.0032523632049560546, \"std_fit_time\": 1.8172188400595358e-05, \"mean_score_time\": 0.0033591747283935546, \"std_score_time\": 4.556081108066665e-05, \"param_kneighborsclassifier__n_neighbors\": 11, \"params\": {\"kneighborsclassifier__n_neighbors\": 11}, \"split0_test_score\": 0.6521739130434783, \"split1_test_score\": 0.7391304347826086, \"split2_test_score\": 0.5217391304347826, \"split3_test_score\": 0.7391304347826086, \"split4_test_score\": 0.6086956521739131, \"split5_test_score\": 0.782608695652174, \"split6_test_score\": 0.7391304347826086, \"split7_test_score\": 0.6363636363636364, \"split8_test_score\": 0.8181818181818182, \"split9_test_score\": 0.6363636363636364, \"mean_test_score\": 0.6873517786561265, \"std_test_score\": 0.08618866873939517, \"rank_test_score\": 42}, {\"mean_fit_time\": 0.0032556533813476564, \"std_fit_time\": 2.1637270915820982e-05, \"mean_score_time\": 0.0033611297607421876, \"std_score_time\": 4.158107511667306e-05, \"param_kneighborsclassifier__n_neighbors\": 12, \"params\": {\"kneighborsclassifier__n_neighbors\": 12}, \"split0_test_score\": 0.6521739130434783, \"split1_test_score\": 0.6956521739130435, \"split2_test_score\": 0.4782608695652174, \"split3_test_score\": 0.7391304347826086, \"split4_test_score\": 0.6086956521739131, \"split5_test_score\": 0.8260869565217391, \"split6_test_score\": 0.6956521739130435, \"split7_test_score\": 0.6818181818181818, \"split8_test_score\": 0.7727272727272727, \"split9_test_score\": 0.6363636363636364, \"mean_test_score\": 0.6786561264822134, \"std_test_score\": 0.09075945753816499, \"rank_test_score\": 47}, {\"mean_fit_time\": 0.003249835968017578, \"std_fit_time\": 1.1547338144651736e-05, \"mean_score_time\": 0.0033818721771240235, \"std_score_time\": 5.182851411552427e-05, \"param_kneighborsclassifier__n_neighbors\": 13, \"params\": {\"kneighborsclassifier__n_neighbors\": 13}, \"split0_test_score\": 0.6521739130434783, \"split1_test_score\": 0.782608695652174, \"split2_test_score\": 0.5217391304347826, \"split3_test_score\": 0.6956521739130435, \"split4_test_score\": 0.6086956521739131, \"split5_test_score\": 0.8695652173913043, \"split6_test_score\": 0.6956521739130435, \"split7_test_score\": 0.6818181818181818, \"split8_test_score\": 0.8181818181818182, \"split9_test_score\": 0.6363636363636364, \"mean_test_score\": 0.6962450592885376, \"std_test_score\": 0.09809242300702765, \"rank_test_score\": 31}, {\"mean_fit_time\": 0.00324249267578125, \"std_fit_time\": 1.0082597398025424e-05, \"mean_score_time\": 0.0033668756484985353, \"std_score_time\": 4.311515730445474e-05, \"param_kneighborsclassifier__n_neighbors\": 14, \"params\": {\"kneighborsclassifier__n_neighbors\": 14}, \"split0_test_score\": 0.6521739130434783, \"split1_test_score\": 0.782608695652174, \"split2_test_score\": 0.5217391304347826, \"split3_test_score\": 0.6956521739130435, \"split4_test_score\": 0.6086956521739131, \"split5_test_score\": 0.8260869565217391, \"split6_test_score\": 0.7391304347826086, \"split7_test_score\": 0.6818181818181818, \"split8_test_score\": 0.7727272727272727, \"split9_test_score\": 0.6363636363636364, \"mean_test_score\": 0.6916996047430831, \"std_test_score\": 0.08697897661923078, \"rank_test_score\": 37}, {\"mean_fit_time\": 0.003260898590087891, \"std_fit_time\": 2.71399106089463e-05, \"mean_score_time\": 0.00345001220703125, \"std_score_time\": 0.0002601180613967105, \"param_kneighborsclassifier__n_neighbors\": 15, \"params\": {\"kneighborsclassifier__n_neighbors\": 15}, \"split0_test_score\": 0.6521739130434783, \"split1_test_score\": 0.782608695652174, \"split2_test_score\": 0.4782608695652174, \"split3_test_score\": 0.7391304347826086, \"split4_test_score\": 0.6086956521739131, \"split5_test_score\": 0.8260869565217391, \"split6_test_score\": 0.6956521739130435, \"split7_test_score\": 0.6818181818181818, \"split8_test_score\": 0.8636363636363636, \"split9_test_score\": 0.6818181818181818, \"mean_test_score\": 0.7009881422924901, \"std_test_score\": 0.10559002059320936, \"rank_test_score\": 24}, {\"mean_fit_time\": 0.0033190250396728516, \"std_fit_time\": 0.00024905298807286906, \"mean_score_time\": 0.003370380401611328, \"std_score_time\": 7.149514504723198e-05, \"param_kneighborsclassifier__n_neighbors\": 16, \"params\": {\"kneighborsclassifier__n_neighbors\": 16}, \"split0_test_score\": 0.6521739130434783, \"split1_test_score\": 0.782608695652174, \"split2_test_score\": 0.5217391304347826, \"split3_test_score\": 0.6521739130434783, \"split4_test_score\": 0.6521739130434783, \"split5_test_score\": 0.8260869565217391, \"split6_test_score\": 0.782608695652174, \"split7_test_score\": 0.6363636363636364, \"split8_test_score\": 0.8181818181818182, \"split9_test_score\": 0.6363636363636364, \"mean_test_score\": 0.6960474308300395, \"std_test_score\": 0.094918461255192, \"rank_test_score\": 33}, {\"mean_fit_time\": 0.003246712684631348, \"std_fit_time\": 1.7924907508911165e-05, \"mean_score_time\": 0.0034431695938110353, \"std_score_time\": 0.00018928002944714243, \"param_kneighborsclassifier__n_neighbors\": 17, \"params\": {\"kneighborsclassifier__n_neighbors\": 17}, \"split0_test_score\": 0.6521739130434783, \"split1_test_score\": 0.8260869565217391, \"split2_test_score\": 0.4782608695652174, \"split3_test_score\": 0.6956521739130435, \"split4_test_score\": 0.6521739130434783, \"split5_test_score\": 0.8695652173913043, \"split6_test_score\": 0.6956521739130435, \"split7_test_score\": 0.6818181818181818, \"split8_test_score\": 0.8636363636363636, \"split9_test_score\": 0.6363636363636364, \"mean_test_score\": 0.7051383399209487, \"std_test_score\": 0.11372071109183034, \"rank_test_score\": 16}, {\"mean_fit_time\": 0.003241872787475586, \"std_fit_time\": 1.4106725859839736e-05, \"mean_score_time\": 0.0033766984939575194, \"std_score_time\": 5.614881048443634e-05, \"param_kneighborsclassifier__n_neighbors\": 18, \"params\": {\"kneighborsclassifier__n_neighbors\": 18}, \"split0_test_score\": 0.6521739130434783, \"split1_test_score\": 0.8260869565217391, \"split2_test_score\": 0.43478260869565216, \"split3_test_score\": 0.6521739130434783, \"split4_test_score\": 0.6521739130434783, \"split5_test_score\": 0.8260869565217391, \"split6_test_score\": 0.782608695652174, \"split7_test_score\": 0.6363636363636364, \"split8_test_score\": 0.7727272727272727, \"split9_test_score\": 0.6363636363636364, \"mean_test_score\": 0.6871541501976284, \"std_test_score\": 0.11294271885287714, \"rank_test_score\": 43}, {\"mean_fit_time\": 0.0032586097717285157, \"std_fit_time\": 4.8904782522995435e-05, \"mean_score_time\": 0.0033863067626953127, \"std_score_time\": 5.242604996584269e-05, \"param_kneighborsclassifier__n_neighbors\": 19, \"params\": {\"kneighborsclassifier__n_neighbors\": 19}, \"split0_test_score\": 0.6521739130434783, \"split1_test_score\": 0.8260869565217391, \"split2_test_score\": 0.4782608695652174, \"split3_test_score\": 0.6521739130434783, \"split4_test_score\": 0.6086956521739131, \"split5_test_score\": 0.8695652173913043, \"split6_test_score\": 0.782608695652174, \"split7_test_score\": 0.5909090909090909, \"split8_test_score\": 0.7727272727272727, \"split9_test_score\": 0.6818181818181818, \"mean_test_score\": 0.691501976284585, \"std_test_score\": 0.1141719634247577, \"rank_test_score\": 39}, {\"mean_fit_time\": 0.003242802619934082, \"std_fit_time\": 1.2367950864578295e-05, \"mean_score_time\": 0.0033782482147216796, \"std_score_time\": 4.7198232186431266e-05, \"param_kneighborsclassifier__n_neighbors\": 20, \"params\": {\"kneighborsclassifier__n_neighbors\": 20}, \"split0_test_score\": 0.6521739130434783, \"split1_test_score\": 0.8260869565217391, \"split2_test_score\": 0.4782608695652174, \"split3_test_score\": 0.6521739130434783, \"split4_test_score\": 0.6086956521739131, \"split5_test_score\": 0.8695652173913043, \"split6_test_score\": 0.782608695652174, \"split7_test_score\": 0.6363636363636364, \"split8_test_score\": 0.7727272727272727, \"split9_test_score\": 0.6818181818181818, \"mean_test_score\": 0.6960474308300395, \"std_test_score\": 0.11093559784553603, \"rank_test_score\": 33}, {\"mean_fit_time\": 0.003264188766479492, \"std_fit_time\": 2.3660446452017374e-05, \"mean_score_time\": 0.003416585922241211, \"std_score_time\": 7.149097877561249e-05, \"param_kneighborsclassifier__n_neighbors\": 21, \"params\": {\"kneighborsclassifier__n_neighbors\": 21}, \"split0_test_score\": 0.6521739130434783, \"split1_test_score\": 0.8260869565217391, \"split2_test_score\": 0.4782608695652174, \"split3_test_score\": 0.6521739130434783, \"split4_test_score\": 0.6086956521739131, \"split5_test_score\": 0.8695652173913043, \"split6_test_score\": 0.782608695652174, \"split7_test_score\": 0.6363636363636364, \"split8_test_score\": 0.8181818181818182, \"split9_test_score\": 0.6818181818181818, \"mean_test_score\": 0.700592885375494, \"std_test_score\": 0.11484662273816616, \"rank_test_score\": 26}, {\"mean_fit_time\": 0.00324249267578125, \"std_fit_time\": 8.765247568224649e-06, \"mean_score_time\": 0.003392195701599121, \"std_score_time\": 5.250726853313582e-05, \"param_kneighborsclassifier__n_neighbors\": 22, \"params\": {\"kneighborsclassifier__n_neighbors\": 22}, \"split0_test_score\": 0.6521739130434783, \"split1_test_score\": 0.8260869565217391, \"split2_test_score\": 0.4782608695652174, \"split3_test_score\": 0.6521739130434783, \"split4_test_score\": 0.6521739130434783, \"split5_test_score\": 0.8695652173913043, \"split6_test_score\": 0.782608695652174, \"split7_test_score\": 0.6818181818181818, \"split8_test_score\": 0.8181818181818182, \"split9_test_score\": 0.6818181818181818, \"mean_test_score\": 0.7094861660079052, \"std_test_score\": 0.11010583618327367, \"rank_test_score\": 9}, {\"mean_fit_time\": 0.003250885009765625, \"std_fit_time\": 1.6822893332819908e-05, \"mean_score_time\": 0.003403973579406738, \"std_score_time\": 4.886313599768725e-05, \"param_kneighborsclassifier__n_neighbors\": 23, \"params\": {\"kneighborsclassifier__n_neighbors\": 23}, \"split0_test_score\": 0.6521739130434783, \"split1_test_score\": 0.8260869565217391, \"split2_test_score\": 0.5217391304347826, \"split3_test_score\": 0.6086956521739131, \"split4_test_score\": 0.6086956521739131, \"split5_test_score\": 0.8260869565217391, \"split6_test_score\": 0.7391304347826086, \"split7_test_score\": 0.6818181818181818, \"split8_test_score\": 0.8181818181818182, \"split9_test_score\": 0.6818181818181818, \"mean_test_score\": 0.6964426877470355, \"std_test_score\": 0.09928032367021325, \"rank_test_score\": 30}, {\"mean_fit_time\": 0.0032448530197143554, \"std_fit_time\": 1.2747904994428514e-05, \"mean_score_time\": 0.003400301933288574, \"std_score_time\": 4.815505841515318e-05, \"param_kneighborsclassifier__n_neighbors\": 24, \"params\": {\"kneighborsclassifier__n_neighbors\": 24}, \"split0_test_score\": 0.6521739130434783, \"split1_test_score\": 0.8260869565217391, \"split2_test_score\": 0.4782608695652174, \"split3_test_score\": 0.6521739130434783, \"split4_test_score\": 0.6521739130434783, \"split5_test_score\": 0.8260869565217391, \"split6_test_score\": 0.782608695652174, \"split7_test_score\": 0.7272727272727273, \"split8_test_score\": 0.7727272727272727, \"split9_test_score\": 0.7272727272727273, \"mean_test_score\": 0.7096837944664032, \"std_test_score\": 0.10024439351172316, \"rank_test_score\": 8}, {\"mean_fit_time\": 0.003245687484741211, \"std_fit_time\": 2.6201149656431736e-05, \"mean_score_time\": 0.003417181968688965, \"std_score_time\": 6.363972486961548e-05, \"param_kneighborsclassifier__n_neighbors\": 25, \"params\": {\"kneighborsclassifier__n_neighbors\": 25}, \"split0_test_score\": 0.6521739130434783, \"split1_test_score\": 0.8260869565217391, \"split2_test_score\": 0.4782608695652174, \"split3_test_score\": 0.6521739130434783, \"split4_test_score\": 0.6521739130434783, \"split5_test_score\": 0.8260869565217391, \"split6_test_score\": 0.7391304347826086, \"split7_test_score\": 0.7272727272727273, \"split8_test_score\": 0.8181818181818182, \"split9_test_score\": 0.6363636363636364, \"mean_test_score\": 0.7007905138339922, \"std_test_score\": 0.10397661243765005, \"rank_test_score\": 25}, {\"mean_fit_time\": 0.003249526023864746, \"std_fit_time\": 1.1164635732925765e-05, \"mean_score_time\": 0.003422975540161133, \"std_score_time\": 4.340711273852975e-05, \"param_kneighborsclassifier__n_neighbors\": 26, \"params\": {\"kneighborsclassifier__n_neighbors\": 26}, \"split0_test_score\": 0.6521739130434783, \"split1_test_score\": 0.8260869565217391, \"split2_test_score\": 0.5217391304347826, \"split3_test_score\": 0.6956521739130435, \"split4_test_score\": 0.6521739130434783, \"split5_test_score\": 0.8260869565217391, \"split6_test_score\": 0.7391304347826086, \"split7_test_score\": 0.7272727272727273, \"split8_test_score\": 0.7727272727272727, \"split9_test_score\": 0.6363636363636364, \"mean_test_score\": 0.7049407114624506, \"std_test_score\": 0.08918300334908473, \"rank_test_score\": 18}, {\"mean_fit_time\": 0.0032547473907470702, \"std_fit_time\": 2.1306725560881276e-05, \"mean_score_time\": 0.0034125566482543944, \"std_score_time\": 4.40008641523043e-05, \"param_kneighborsclassifier__n_neighbors\": 27, \"params\": {\"kneighborsclassifier__n_neighbors\": 27}, \"split0_test_score\": 0.6521739130434783, \"split1_test_score\": 0.8260869565217391, \"split2_test_score\": 0.4782608695652174, \"split3_test_score\": 0.6956521739130435, \"split4_test_score\": 0.6521739130434783, \"split5_test_score\": 0.8260869565217391, \"split6_test_score\": 0.6956521739130435, \"split7_test_score\": 0.6818181818181818, \"split8_test_score\": 0.8181818181818182, \"split9_test_score\": 0.6363636363636364, \"mean_test_score\": 0.6962450592885375, \"std_test_score\": 0.10187378032981026, \"rank_test_score\": 32}, {\"mean_fit_time\": 0.0032567977905273438, \"std_fit_time\": 1.7418594447068594e-05, \"mean_score_time\": 0.003426647186279297, \"std_score_time\": 5.1858995068471574e-05, \"param_kneighborsclassifier__n_neighbors\": 28, \"params\": {\"kneighborsclassifier__n_neighbors\": 28}, \"split0_test_score\": 0.6521739130434783, \"split1_test_score\": 0.8260869565217391, \"split2_test_score\": 0.4782608695652174, \"split3_test_score\": 0.6956521739130435, \"split4_test_score\": 0.6521739130434783, \"split5_test_score\": 0.8260869565217391, \"split6_test_score\": 0.7391304347826086, \"split7_test_score\": 0.6818181818181818, \"split8_test_score\": 0.7727272727272727, \"split9_test_score\": 0.6818181818181818, \"mean_test_score\": 0.700592885375494, \"std_test_score\": 0.09645503873482354, \"rank_test_score\": 26}, {\"mean_fit_time\": 0.0032464027404785155, \"std_fit_time\": 1.3887426876412486e-05, \"mean_score_time\": 0.003442549705505371, \"std_score_time\": 5.77715767972129e-05, \"param_kneighborsclassifier__n_neighbors\": 29, \"params\": {\"kneighborsclassifier__n_neighbors\": 29}, \"split0_test_score\": 0.6521739130434783, \"split1_test_score\": 0.8260869565217391, \"split2_test_score\": 0.4782608695652174, \"split3_test_score\": 0.6956521739130435, \"split4_test_score\": 0.6521739130434783, \"split5_test_score\": 0.8260869565217391, \"split6_test_score\": 0.7391304347826086, \"split7_test_score\": 0.6363636363636364, \"split8_test_score\": 0.8181818181818182, \"split9_test_score\": 0.6363636363636364, \"mean_test_score\": 0.6960474308300395, \"std_test_score\": 0.10440245904812467, \"rank_test_score\": 33}, {\"mean_fit_time\": 0.0032493114471435548, \"std_fit_time\": 1.4665436691026545e-05, \"mean_score_time\": 0.0034206390380859377, \"std_score_time\": 4.758775114399448e-05, \"param_kneighborsclassifier__n_neighbors\": 30, \"params\": {\"kneighborsclassifier__n_neighbors\": 30}, \"split0_test_score\": 0.6521739130434783, \"split1_test_score\": 0.8260869565217391, \"split2_test_score\": 0.4782608695652174, \"split3_test_score\": 0.6956521739130435, \"split4_test_score\": 0.6956521739130435, \"split5_test_score\": 0.8695652173913043, \"split6_test_score\": 0.7391304347826086, \"split7_test_score\": 0.6818181818181818, \"split8_test_score\": 0.8181818181818182, \"split9_test_score\": 0.6363636363636364, \"mean_test_score\": 0.7092885375494071, \"std_test_score\": 0.10731225296442688, \"rank_test_score\": 11}, {\"mean_fit_time\": 0.003311753273010254, \"std_fit_time\": 0.0001725056618437392, \"mean_score_time\": 0.0034319400787353516, \"std_score_time\": 4.8280227329227733e-05, \"param_kneighborsclassifier__n_neighbors\": 31, \"params\": {\"kneighborsclassifier__n_neighbors\": 31}, \"split0_test_score\": 0.6521739130434783, \"split1_test_score\": 0.8260869565217391, \"split2_test_score\": 0.4782608695652174, \"split3_test_score\": 0.6521739130434783, \"split4_test_score\": 0.7391304347826086, \"split5_test_score\": 0.8695652173913043, \"split6_test_score\": 0.6956521739130435, \"split7_test_score\": 0.6818181818181818, \"split8_test_score\": 0.8181818181818182, \"split9_test_score\": 0.6363636363636364, \"mean_test_score\": 0.7049407114624506, \"std_test_score\": 0.1086491096905158, \"rank_test_score\": 18}, {\"mean_fit_time\": 0.0032621145248413084, \"std_fit_time\": 4.0651038939005125e-05, \"mean_score_time\": 0.0034354686737060546, \"std_score_time\": 4.5148975751979956e-05, \"param_kneighborsclassifier__n_neighbors\": 32, \"params\": {\"kneighborsclassifier__n_neighbors\": 32}, \"split0_test_score\": 0.6521739130434783, \"split1_test_score\": 0.782608695652174, \"split2_test_score\": 0.4782608695652174, \"split3_test_score\": 0.7391304347826086, \"split4_test_score\": 0.7391304347826086, \"split5_test_score\": 0.8260869565217391, \"split6_test_score\": 0.782608695652174, \"split7_test_score\": 0.6818181818181818, \"split8_test_score\": 0.8181818181818182, \"split9_test_score\": 0.6363636363636364, \"mean_test_score\": 0.7136363636363636, \"std_test_score\": 0.10027555809742739, \"rank_test_score\": 3}, {\"mean_fit_time\": 0.003274703025817871, \"std_fit_time\": 4.7646919596700266e-05, \"mean_score_time\": 0.00346834659576416, \"std_score_time\": 8.051032520460333e-05, \"param_kneighborsclassifier__n_neighbors\": 33, \"params\": {\"kneighborsclassifier__n_neighbors\": 33}, \"split0_test_score\": 0.6521739130434783, \"split1_test_score\": 0.8260869565217391, \"split2_test_score\": 0.4782608695652174, \"split3_test_score\": 0.7391304347826086, \"split4_test_score\": 0.6956521739130435, \"split5_test_score\": 0.8260869565217391, \"split6_test_score\": 0.782608695652174, \"split7_test_score\": 0.6818181818181818, \"split8_test_score\": 0.8181818181818182, \"split9_test_score\": 0.6363636363636364, \"mean_test_score\": 0.7136363636363636, \"std_test_score\": 0.10397755151496559, \"rank_test_score\": 3}, {\"mean_fit_time\": 0.0032581329345703126, \"std_fit_time\": 1.7592383353778694e-05, \"mean_score_time\": 0.0034561634063720705, \"std_score_time\": 4.4688037747043145e-05, \"param_kneighborsclassifier__n_neighbors\": 34, \"params\": {\"kneighborsclassifier__n_neighbors\": 34}, \"split0_test_score\": 0.6521739130434783, \"split1_test_score\": 0.782608695652174, \"split2_test_score\": 0.4782608695652174, \"split3_test_score\": 0.7391304347826086, \"split4_test_score\": 0.7391304347826086, \"split5_test_score\": 0.8260869565217391, \"split6_test_score\": 0.782608695652174, \"split7_test_score\": 0.6818181818181818, \"split8_test_score\": 0.7727272727272727, \"split9_test_score\": 0.6363636363636364, \"mean_test_score\": 0.7090909090909091, \"std_test_score\": 0.09638840564006224, \"rank_test_score\": 14}, {\"mean_fit_time\": 0.0032490015029907225, \"std_fit_time\": 1.2474578626452141e-05, \"mean_score_time\": 0.0036400794982910157, \"std_score_time\": 0.0005559629183993286, \"param_kneighborsclassifier__n_neighbors\": 35, \"params\": {\"kneighborsclassifier__n_neighbors\": 35}, \"split0_test_score\": 0.6521739130434783, \"split1_test_score\": 0.8260869565217391, \"split2_test_score\": 0.5217391304347826, \"split3_test_score\": 0.7391304347826086, \"split4_test_score\": 0.7391304347826086, \"split5_test_score\": 0.8695652173913043, \"split6_test_score\": 0.782608695652174, \"split7_test_score\": 0.6363636363636364, \"split8_test_score\": 0.7727272727272727, \"split9_test_score\": 0.6363636363636364, \"mean_test_score\": 0.7175889328063241, \"std_test_score\": 0.09944639681502453, \"rank_test_score\": 2}, {\"mean_fit_time\": 0.003254866600036621, \"std_fit_time\": 9.742805382510455e-06, \"mean_score_time\": 0.003457307815551758, \"std_score_time\": 5.296349470447261e-05, \"param_kneighborsclassifier__n_neighbors\": 36, \"params\": {\"kneighborsclassifier__n_neighbors\": 36}, \"split0_test_score\": 0.6521739130434783, \"split1_test_score\": 0.782608695652174, \"split2_test_score\": 0.5217391304347826, \"split3_test_score\": 0.7391304347826086, \"split4_test_score\": 0.6956521739130435, \"split5_test_score\": 0.8695652173913043, \"split6_test_score\": 0.782608695652174, \"split7_test_score\": 0.6818181818181818, \"split8_test_score\": 0.7727272727272727, \"split9_test_score\": 0.6363636363636364, \"mean_test_score\": 0.7134387351778655, \"std_test_score\": 0.09267067946720862, \"rank_test_score\": 7}, {\"mean_fit_time\": 0.0033416748046875, \"std_fit_time\": 0.00027915846929866454, \"mean_score_time\": 0.003460335731506348, \"std_score_time\": 6.528282520086766e-05, \"param_kneighborsclassifier__n_neighbors\": 37, \"params\": {\"kneighborsclassifier__n_neighbors\": 37}, \"split0_test_score\": 0.6521739130434783, \"split1_test_score\": 0.8260869565217391, \"split2_test_score\": 0.5217391304347826, \"split3_test_score\": 0.6956521739130435, \"split4_test_score\": 0.6956521739130435, \"split5_test_score\": 0.8695652173913043, \"split6_test_score\": 0.782608695652174, \"split7_test_score\": 0.6363636363636364, \"split8_test_score\": 0.7727272727272727, \"split9_test_score\": 0.6363636363636364, \"mean_test_score\": 0.7088932806324111, \"std_test_score\": 0.09908283650275246, \"rank_test_score\": 15}, {\"mean_fit_time\": 0.0032458782196044924, \"std_fit_time\": 1.2521311599234573e-05, \"mean_score_time\": 0.003456521034240723, \"std_score_time\": 5.028722613128236e-05, \"param_kneighborsclassifier__n_neighbors\": 38, \"params\": {\"kneighborsclassifier__n_neighbors\": 38}, \"split0_test_score\": 0.6521739130434783, \"split1_test_score\": 0.8260869565217391, \"split2_test_score\": 0.5217391304347826, \"split3_test_score\": 0.6956521739130435, \"split4_test_score\": 0.6521739130434783, \"split5_test_score\": 0.8695652173913043, \"split6_test_score\": 0.782608695652174, \"split7_test_score\": 0.6818181818181818, \"split8_test_score\": 0.8181818181818182, \"split9_test_score\": 0.6818181818181818, \"mean_test_score\": 0.7181818181818181, \"std_test_score\": 0.09958278194436575, \"rank_test_score\": 1}, {\"mean_fit_time\": 0.0032539606094360352, \"std_fit_time\": 9.938051712305853e-06, \"mean_score_time\": 0.003467273712158203, \"std_score_time\": 4.615093999361172e-05, \"param_kneighborsclassifier__n_neighbors\": 39, \"params\": {\"kneighborsclassifier__n_neighbors\": 39}, \"split0_test_score\": 0.6521739130434783, \"split1_test_score\": 0.8260869565217391, \"split2_test_score\": 0.5217391304347826, \"split3_test_score\": 0.6521739130434783, \"split4_test_score\": 0.6521739130434783, \"split5_test_score\": 0.9130434782608695, \"split6_test_score\": 0.7391304347826086, \"split7_test_score\": 0.6818181818181818, \"split8_test_score\": 0.7727272727272727, \"split9_test_score\": 0.6363636363636364, \"mean_test_score\": 0.7047430830039525, \"std_test_score\": 0.10530908302863802, \"rank_test_score\": 22}, {\"mean_fit_time\": 0.0032628774642944336, \"std_fit_time\": 2.0392873621846787e-05, \"mean_score_time\": 0.003476548194885254, \"std_score_time\": 5.50711876303527e-05, \"param_kneighborsclassifier__n_neighbors\": 40, \"params\": {\"kneighborsclassifier__n_neighbors\": 40}, \"split0_test_score\": 0.6521739130434783, \"split1_test_score\": 0.8260869565217391, \"split2_test_score\": 0.5217391304347826, \"split3_test_score\": 0.6521739130434783, \"split4_test_score\": 0.6521739130434783, \"split5_test_score\": 0.8695652173913043, \"split6_test_score\": 0.7391304347826086, \"split7_test_score\": 0.6818181818181818, \"split8_test_score\": 0.7272727272727273, \"split9_test_score\": 0.6363636363636364, \"mean_test_score\": 0.6958498023715415, \"std_test_score\": 0.09474816168011554, \"rank_test_score\": 36}, {\"mean_fit_time\": 0.0032551050186157226, \"std_fit_time\": 2.597372094312902e-05, \"mean_score_time\": 0.003486227989196777, \"std_score_time\": 7.487421884420606e-05, \"param_kneighborsclassifier__n_neighbors\": 41, \"params\": {\"kneighborsclassifier__n_neighbors\": 41}, \"split0_test_score\": 0.6521739130434783, \"split1_test_score\": 0.8260869565217391, \"split2_test_score\": 0.5217391304347826, \"split3_test_score\": 0.6521739130434783, \"split4_test_score\": 0.6956521739130435, \"split5_test_score\": 0.8260869565217391, \"split6_test_score\": 0.7391304347826086, \"split7_test_score\": 0.6818181818181818, \"split8_test_score\": 0.7727272727272727, \"split9_test_score\": 0.6363636363636364, \"mean_test_score\": 0.700395256916996, \"std_test_score\": 0.08908726156997994, \"rank_test_score\": 29}, {\"mean_fit_time\": 0.00324397087097168, \"std_fit_time\": 2.0858778078009323e-05, \"mean_score_time\": 0.0034556150436401366, \"std_score_time\": 5.655512334927239e-05, \"param_kneighborsclassifier__n_neighbors\": 42, \"params\": {\"kneighborsclassifier__n_neighbors\": 42}, \"split0_test_score\": 0.6521739130434783, \"split1_test_score\": 0.8260869565217391, \"split2_test_score\": 0.5217391304347826, \"split3_test_score\": 0.6521739130434783, \"split4_test_score\": 0.6521739130434783, \"split5_test_score\": 0.8695652173913043, \"split6_test_score\": 0.782608695652174, \"split7_test_score\": 0.7272727272727273, \"split8_test_score\": 0.7727272727272727, \"split9_test_score\": 0.6363636363636364, \"mean_test_score\": 0.7092885375494071, \"std_test_score\": 0.09966609096384096, \"rank_test_score\": 11}, {\"mean_fit_time\": 0.0032477378845214844, \"std_fit_time\": 2.0964301704278047e-05, \"mean_score_time\": 0.0034875869750976562, \"std_score_time\": 6.616018913181598e-05, \"param_kneighborsclassifier__n_neighbors\": 43, \"params\": {\"kneighborsclassifier__n_neighbors\": 43}, \"split0_test_score\": 0.6521739130434783, \"split1_test_score\": 0.8260869565217391, \"split2_test_score\": 0.5217391304347826, \"split3_test_score\": 0.6521739130434783, \"split4_test_score\": 0.6956521739130435, \"split5_test_score\": 0.8695652173913043, \"split6_test_score\": 0.782608695652174, \"split7_test_score\": 0.6363636363636364, \"split8_test_score\": 0.8181818181818182, \"split9_test_score\": 0.6363636363636364, \"mean_test_score\": 0.7090909090909092, \"std_test_score\": 0.10444360199154938, \"rank_test_score\": 13}, {\"mean_fit_time\": 0.0032657623291015626, \"std_fit_time\": 1.3770690580229081e-05, \"mean_score_time\": 0.003486371040344238, \"std_score_time\": 5.9345966735212575e-05, \"param_kneighborsclassifier__n_neighbors\": 44, \"params\": {\"kneighborsclassifier__n_neighbors\": 44}, \"split0_test_score\": 0.6521739130434783, \"split1_test_score\": 0.8260869565217391, \"split2_test_score\": 0.5217391304347826, \"split3_test_score\": 0.6521739130434783, \"split4_test_score\": 0.6521739130434783, \"split5_test_score\": 0.8695652173913043, \"split6_test_score\": 0.782608695652174, \"split7_test_score\": 0.6818181818181818, \"split8_test_score\": 0.8181818181818182, \"split9_test_score\": 0.6363636363636364, \"mean_test_score\": 0.7092885375494072, \"std_test_score\": 0.10372933996225156, \"rank_test_score\": 10}, {\"mean_fit_time\": 0.003265190124511719, \"std_fit_time\": 1.4228136849008982e-05, \"mean_score_time\": 0.00350804328918457, \"std_score_time\": 6.958586776952202e-05, \"param_kneighborsclassifier__n_neighbors\": 45, \"params\": {\"kneighborsclassifier__n_neighbors\": 45}, \"split0_test_score\": 0.6521739130434783, \"split1_test_score\": 0.782608695652174, \"split2_test_score\": 0.5217391304347826, \"split3_test_score\": 0.6521739130434783, \"split4_test_score\": 0.6521739130434783, \"split5_test_score\": 0.8695652173913043, \"split6_test_score\": 0.782608695652174, \"split7_test_score\": 0.6363636363636364, \"split8_test_score\": 0.8181818181818182, \"split9_test_score\": 0.6363636363636364, \"mean_test_score\": 0.7003952569169961, \"std_test_score\": 0.10154026342525811, \"rank_test_score\": 28}, {\"mean_fit_time\": 0.003254413604736328, \"std_fit_time\": 1.6536352402262206e-05, \"mean_score_time\": 0.003485107421875, \"std_score_time\": 5.698016494792989e-05, \"param_kneighborsclassifier__n_neighbors\": 46, \"params\": {\"kneighborsclassifier__n_neighbors\": 46}, \"split0_test_score\": 0.6521739130434783, \"split1_test_score\": 0.782608695652174, \"split2_test_score\": 0.5217391304347826, \"split3_test_score\": 0.6521739130434783, \"split4_test_score\": 0.6521739130434783, \"split5_test_score\": 0.8695652173913043, \"split6_test_score\": 0.782608695652174, \"split7_test_score\": 0.6818181818181818, \"split8_test_score\": 0.8181818181818182, \"split9_test_score\": 0.6363636363636364, \"mean_test_score\": 0.7049407114624506, \"std_test_score\": 0.09957042667529235, \"rank_test_score\": 18}, {\"mean_fit_time\": 0.0032555580139160155, \"std_fit_time\": 2.957290081822074e-05, \"mean_score_time\": 0.0034884214401245117, \"std_score_time\": 6.688712029216373e-05, \"param_kneighborsclassifier__n_neighbors\": 47, \"params\": {\"kneighborsclassifier__n_neighbors\": 47}, \"split0_test_score\": 0.6521739130434783, \"split1_test_score\": 0.782608695652174, \"split2_test_score\": 0.5217391304347826, \"split3_test_score\": 0.6521739130434783, \"split4_test_score\": 0.7391304347826086, \"split5_test_score\": 0.8695652173913043, \"split6_test_score\": 0.782608695652174, \"split7_test_score\": 0.6818181818181818, \"split8_test_score\": 0.8181818181818182, \"split9_test_score\": 0.6363636363636364, \"mean_test_score\": 0.7136363636363636, \"std_test_score\": 0.09837233207615922, \"rank_test_score\": 3}, {\"mean_fit_time\": 0.0032701969146728517, \"std_fit_time\": 4.6127655273826906e-05, \"mean_score_time\": 0.0035054922103881837, \"std_score_time\": 7.631275198526798e-05, \"param_kneighborsclassifier__n_neighbors\": 48, \"params\": {\"kneighborsclassifier__n_neighbors\": 48}, \"split0_test_score\": 0.6521739130434783, \"split1_test_score\": 0.782608695652174, \"split2_test_score\": 0.5217391304347826, \"split3_test_score\": 0.6521739130434783, \"split4_test_score\": 0.7391304347826086, \"split5_test_score\": 0.8695652173913043, \"split6_test_score\": 0.782608695652174, \"split7_test_score\": 0.6818181818181818, \"split8_test_score\": 0.8181818181818182, \"split9_test_score\": 0.6363636363636364, \"mean_test_score\": 0.7136363636363636, \"std_test_score\": 0.09837233207615922, \"rank_test_score\": 3}, {\"mean_fit_time\": 0.0032500982284545898, \"std_fit_time\": 1.350781706150624e-05, \"mean_score_time\": 0.003506112098693848, \"std_score_time\": 5.957221579521912e-05, \"param_kneighborsclassifier__n_neighbors\": 49, \"params\": {\"kneighborsclassifier__n_neighbors\": 49}, \"split0_test_score\": 0.6521739130434783, \"split1_test_score\": 0.782608695652174, \"split2_test_score\": 0.5217391304347826, \"split3_test_score\": 0.6521739130434783, \"split4_test_score\": 0.6956521739130435, \"split5_test_score\": 0.8695652173913043, \"split6_test_score\": 0.7391304347826086, \"split7_test_score\": 0.6818181818181818, \"split8_test_score\": 0.8181818181818182, \"split9_test_score\": 0.6363636363636364, \"mean_test_score\": 0.7049407114624506, \"std_test_score\": 0.09569809925491199, \"rank_test_score\": 18}, {\"mean_fit_time\": 0.003249812126159668, \"std_fit_time\": 1.184441328992968e-05, \"mean_score_time\": 0.0034889459609985353, \"std_score_time\": 5.303428769234591e-05, \"param_kneighborsclassifier__n_neighbors\": 50, \"params\": {\"kneighborsclassifier__n_neighbors\": 50}, \"split0_test_score\": 0.6521739130434783, \"split1_test_score\": 0.782608695652174, \"split2_test_score\": 0.5217391304347826, \"split3_test_score\": 0.6521739130434783, \"split4_test_score\": 0.7391304347826086, \"split5_test_score\": 0.8695652173913043, \"split6_test_score\": 0.782608695652174, \"split7_test_score\": 0.6363636363636364, \"split8_test_score\": 0.7727272727272727, \"split9_test_score\": 0.6363636363636364, \"mean_test_score\": 0.7045454545454546, \"std_test_score\": 0.09667749068788169, \"rank_test_score\": 23}]}}, {\"mode\": \"vega-lite\"});\n",
       "</script>"
      ],
      "text/plain": [
       "alt.Chart(...)"
      ]
     },
     "metadata": {},
     "output_type": "display_data"
    }
   ],
   "source": [
    "#Creates a dataframe out of the grid\n",
    "heart_grid_df = pd.DataFrame(heart_grid.cv_results_)\n",
    "\n",
    "#Creates a line plot out of the dataframe, using neighbors on the X and mean test score on the Y\n",
    "grid_plot = alt.Chart(heart_grid_df, title=\"Figure 4: How Does Number of Neighbors Impact Test Score?\").mark_line(point=True).encode(\n",
    "    x=alt.X(\"param_kneighborsclassifier__n_neighbors\").title(\"Number of Neighbors\"),\n",
    "    y=alt.Y(\"mean_test_score\").title(\"Mean Test Score\")\n",
    ")\n",
    "\n",
    "display(grid_plot)"
   ]
  },
  {
   "cell_type": "markdown",
   "id": "008ef973-22db-43ea-91b4-f5ea7d553cf3",
   "metadata": {},
   "source": [
    "Visualizing the number of neighbors above shows an interesting trend.\n",
    "\n",
    "Looking at the line plot we can  see that increasing the number of neighbors significantly boosts the performance of the model, but it levels off very quickly. \n",
    "\n",
    "Lets sort the table by **rank_test_score** to find the best K values."
   ]
  },
  {
   "cell_type": "code",
   "execution_count": 8,
   "id": "f7203885-762b-4fdf-9bfc-4025402d3702",
   "metadata": {},
   "outputs": [
    {
     "data": {
      "text/plain": [
       "'Figure 5: Best K Values'"
      ]
     },
     "metadata": {},
     "output_type": "display_data"
    },
    {
     "data": {
      "text/html": [
       "<div>\n",
       "<style scoped>\n",
       "    .dataframe tbody tr th:only-of-type {\n",
       "        vertical-align: middle;\n",
       "    }\n",
       "\n",
       "    .dataframe tbody tr th {\n",
       "        vertical-align: top;\n",
       "    }\n",
       "\n",
       "    .dataframe thead th {\n",
       "        text-align: right;\n",
       "    }\n",
       "</style>\n",
       "<table border=\"1\" class=\"dataframe\">\n",
       "  <thead>\n",
       "    <tr style=\"text-align: right;\">\n",
       "      <th></th>\n",
       "      <th>rank_test_score</th>\n",
       "      <th>mean_test_score</th>\n",
       "      <th>param_kneighborsclassifier__n_neighbors</th>\n",
       "    </tr>\n",
       "  </thead>\n",
       "  <tbody>\n",
       "    <tr>\n",
       "      <th>37</th>\n",
       "      <td>1</td>\n",
       "      <td>0.718182</td>\n",
       "      <td>38</td>\n",
       "    </tr>\n",
       "    <tr>\n",
       "      <th>34</th>\n",
       "      <td>2</td>\n",
       "      <td>0.717589</td>\n",
       "      <td>35</td>\n",
       "    </tr>\n",
       "    <tr>\n",
       "      <th>47</th>\n",
       "      <td>3</td>\n",
       "      <td>0.713636</td>\n",
       "      <td>48</td>\n",
       "    </tr>\n",
       "    <tr>\n",
       "      <th>46</th>\n",
       "      <td>3</td>\n",
       "      <td>0.713636</td>\n",
       "      <td>47</td>\n",
       "    </tr>\n",
       "    <tr>\n",
       "      <th>31</th>\n",
       "      <td>3</td>\n",
       "      <td>0.713636</td>\n",
       "      <td>32</td>\n",
       "    </tr>\n",
       "  </tbody>\n",
       "</table>\n",
       "</div>"
      ],
      "text/plain": [
       "    rank_test_score  mean_test_score param_kneighborsclassifier__n_neighbors\n",
       "37                1         0.718182                                      38\n",
       "34                2         0.717589                                      35\n",
       "47                3         0.713636                                      48\n",
       "46                3         0.713636                                      47\n",
       "31                3         0.713636                                      32"
      ]
     },
     "metadata": {},
     "output_type": "display_data"
    }
   ],
   "source": [
    "#Sorts the grid dataframe by rank_test_score\n",
    "display(\"Figure 5: Best K Values\",\n",
    "        heart_grid_df.sort_values(by=\"rank_test_score\").head(5)\n",
    "        [[\"rank_test_score\", \"mean_test_score\", \"param_kneighborsclassifier__n_neighbors\"]]\n",
    "       )"
   ]
  },
  {
   "cell_type": "markdown",
   "id": "47f2d9c5-072b-46d2-9954-e1a173e019af",
   "metadata": {},
   "source": [
    "The best K value according to cross validation with 10 folds is $K=38$.\n",
    "\n",
    "Now that we have a K value lets fit the training data with our new K value\n",
    "\n",
    "We can then use our new fitted model to build predictions for our testing data."
   ]
  },
  {
   "cell_type": "code",
   "execution_count": 9,
   "id": "9bf2c98a-49a5-434d-8c64-9252f9498315",
   "metadata": {},
   "outputs": [
    {
     "data": {
      "text/plain": [
       "'Figure 6: How did we perform?'"
      ]
     },
     "metadata": {},
     "output_type": "display_data"
    },
    {
     "data": {
      "text/html": [
       "<div>\n",
       "<style scoped>\n",
       "    .dataframe tbody tr th:only-of-type {\n",
       "        vertical-align: middle;\n",
       "    }\n",
       "\n",
       "    .dataframe tbody tr th {\n",
       "        vertical-align: top;\n",
       "    }\n",
       "\n",
       "    .dataframe thead th {\n",
       "        text-align: right;\n",
       "    }\n",
       "</style>\n",
       "<table border=\"1\" class=\"dataframe\">\n",
       "  <thead>\n",
       "    <tr style=\"text-align: right;\">\n",
       "      <th>Predicted Diagnosis</th>\n",
       "      <th>0</th>\n",
       "      <th>1</th>\n",
       "    </tr>\n",
       "    <tr>\n",
       "      <th>Actual Diagnosis</th>\n",
       "      <th></th>\n",
       "      <th></th>\n",
       "    </tr>\n",
       "  </thead>\n",
       "  <tbody>\n",
       "    <tr>\n",
       "      <th>0</th>\n",
       "      <td>36</td>\n",
       "      <td>7</td>\n",
       "    </tr>\n",
       "    <tr>\n",
       "      <th>1</th>\n",
       "      <td>8</td>\n",
       "      <td>25</td>\n",
       "    </tr>\n",
       "  </tbody>\n",
       "</table>\n",
       "</div>"
      ],
      "text/plain": [
       "Predicted Diagnosis   0   1\n",
       "Actual Diagnosis           \n",
       "0                    36   7\n",
       "1                     8  25"
      ]
     },
     "metadata": {},
     "output_type": "display_data"
    }
   ],
   "source": [
    "#Sets K to 38\n",
    "knn = KNeighborsClassifier(n_neighbors=38)\n",
    "\n",
    "#Now fits the data using K = 38\n",
    "\n",
    "#Creates pipeline\n",
    "heart_pipe = make_pipeline(heart_pre, knn)\n",
    "\n",
    "#Fits training data onto the pipeline with diagnosis as the target variable\n",
    "heart_pipe.fit(\n",
    "    heart_train[[\"age\",\"cp\",\"trestbps\",\"chol\",\"thalach\"]],\n",
    "    heart_train[\"diagnosis\"])\n",
    "\n",
    "#Predicts a diganosis for the testing data\n",
    "heart_test = heart_test.assign(pred_diagnosis = \n",
    "                               heart_pipe.predict(heart_test[[\"age\",\"cp\",\"trestbps\",\"chol\",\"thalach\"]]))\n",
    "\n",
    "#Builds confusion matrix\n",
    "conf_df = heart_test[[\"diagnosis\",\"pred_diagnosis\"]]\n",
    "conf_df = conf_df.rename(columns={\n",
    "    \"diagnosis\" : \"Actual Diagnosis\",\n",
    "    \"pred_diagnosis\" : \"Predicted Diagnosis\"\n",
    "})\n",
    "\n",
    "conf_matrix = crosstab(conf_df[\"Actual Diagnosis\"], conf_df[\"Predicted Diagnosis\"])\n",
    "\n",
    "display(\"Figure 6: How did we perform?\", conf_matrix)"
   ]
  },
  {
   "cell_type": "markdown",
   "id": "6b0a928c-56e0-49af-9453-3899bde34c46",
   "metadata": {},
   "source": [
    "We can now evaluate our performance based on accuracy, precision and recall. \n",
    "\n",
    "With $61/76$ correct predictions total we achieved an $80.3\\%$ accuracy.\n",
    "\n",
    "With $25/32$ correct positive predictions we achieved an $78.1\\%$ precision.\n",
    "\n",
    "With $25/33$ true positives found we achieved a $75.8\\%$ recall."
   ]
  },
  {
   "cell_type": "markdown",
   "id": "885ca115-1871-45ac-8b7d-29adf7a82808",
   "metadata": {},
   "source": [
    "**Discussion**\n",
    "\n",
    "Given we are in the realm of healthcare we are most likely concerned with recall, especially when it comes to more severe pathologies like heart disease. The cost of accidentally misdiagnosing a false positive is likely not as severe as letting someone go untreated and have a false negative.\n",
    "\n",
    "We were able to achieve a recall of $75.8\\%$ which suggests for roughly every 4 patients with heart disease we saw we would've been able to find 3 of them. \n",
    "\n",
    "These results suggest that the variables we chose (age, chest pain, resting blood pressure, serum cholesterol, and maximum heart rate) were good predictors of heart disease. A positive diagnosis of heart disease is related to older age, higher chest pain, higher resting blood pressure, higher cholesterol levels, and a lower maximum heart rate. \n",
    "\n",
    "These findings allow for earlier intervention of heart disease through changes in lifestyle, medication management, and, if necessary, surgical procedures. Early detection and treatment can prevent or delay the progression of heart disease, reducing the risk of complications such as heart attacks, strokes, and heart failure.\n"
   ]
  },
  {
   "cell_type": "markdown",
   "id": "fd71bc17-7bab-4417-bde3-8ed7eff9522f",
   "metadata": {},
   "source": [
    "**References**\n",
    "\n",
    "John Hopkins Medicine. (2021). Atherosclerosis. Hopkins Medicine. https://www.hopkinsmedicine.org/health/conditions-and-diseases/atherosclerosis\n",
    "\n",
    "WHO’s Global Health Estimates. (2020, December 9). The top 10 causes of death. World Health Organization; WHO. https://www.who.int/news-room/fact-sheets/detail/the-top-10-causes-of-death"
   ]
  },
  {
   "cell_type": "code",
   "execution_count": null,
   "id": "32034ea5-5da8-4fca-9268-bb8f6de1c9e0",
   "metadata": {},
   "outputs": [],
   "source": []
  }
 ],
 "metadata": {
  "kernelspec": {
   "display_name": "Python 3 (ipykernel)",
   "language": "python",
   "name": "python3"
  },
  "language_info": {
   "codemirror_mode": {
    "name": "ipython",
    "version": 3
   },
   "file_extension": ".py",
   "mimetype": "text/x-python",
   "name": "python",
   "nbconvert_exporter": "python",
   "pygments_lexer": "ipython3",
   "version": "3.11.6"
  }
 },
 "nbformat": 4,
 "nbformat_minor": 5
}
