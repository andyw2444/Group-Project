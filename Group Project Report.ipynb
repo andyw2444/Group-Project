{
 "cells": [
  {
   "cell_type": "markdown",
   "id": "bb94d567-02a6-447d-8a66-e05ee06451b9",
   "metadata": {},
   "source": [
    "**Decoding Heart Disease**"
   ]
  },
  {
   "cell_type": "markdown",
   "id": "8c3207e6-6386-48d2-8d16-ae2a0ff2ecf4",
   "metadata": {},
   "source": [
    "**Introduction**\r\n",
    "\r\n",
    "\r\n",
    "Heart disease can refer to a wide range of diseases, but in this case refers to coronary artery disease which involves reduction of blood flow to the heart due to atherosclerosis. Atherosclerotic plaque can build up in the arteries, and if near the heart can lead to heart attacks and other complications. The causes of this plaque build up aren’t exactly clear, but gradually builds up accompanied by inflammation of the arterial walls, reducing blood flow (John Hopkins Medicine, 2021). \r\n",
    "\r\n",
    "\r\n",
    "The data set contains data from 4 databases, including Cleveland, Hungary, Switzerland, and Long Beach (Virginia), the data from Cleveland was the only one processed.\r\n",
    "\r\n",
    "\r\n",
    "It has 14 usable attributes, half of which are integer variables and the other half are categorical. Our project revolves around answering the question, **what factors contributes to heart disease?**\r\n",
    "\r\n",
    "\r\n",
    "Heart disease is of growing concern, especially as humans continue to grow older and has become the leading factor of death for humans around the world accounting for 16% of total deaths globally (WHO’s Global Health Estimates, 2020). It also disproportionately affects wealthier nations and more importantly in this investigation has correlations with many health metrics and biological markers (WHO’s Global Health Estimates, 2020). \r\n"
   ]
  },
  {
   "cell_type": "code",
   "execution_count": null,
   "id": "060b2251-cda0-483a-9e13-6be46c980b74",
   "metadata": {},
   "outputs": [],
   "source": [
    "#imports basic tools and the dataset below\n",
    "\n",
    "import pandas as pd\n",
    "import altair as alt\n",
    "!pip3 install -U ucimlrepo"
   ]
  },
  {
   "cell_type": "code",
   "execution_count": null,
   "id": "44f5486e-e335-4220-96ba-a0b6126624cc",
   "metadata": {},
   "outputs": [],
   "source": [
    "from ucimlrepo import fetch_ucirepo\n",
    "\n",
    "#imports dataset\n",
    "heart_disease = fetch_ucirepo(name='Heart Disease')"
   ]
  },
  {
   "cell_type": "code",
   "execution_count": null,
   "id": "d396ad76-b8dc-464d-8cf6-46935fa5fc41",
   "metadata": {},
   "outputs": [],
   "source": [
    "#Sets up classifiers and diagnosis\n",
    "classifiers = heart_disease.data.features \n",
    "diagnosis = heart_disease.data.targets \n",
    "\n",
    "#Creates dataframe\n",
    "heart_df = classifiers.assign(diagnosis = diagnosis)\n",
    "\n",
    "#Drops all columns except for predictors and diagnosis\n",
    "heart_df_filter = heart_df[[\"age\", \"sex\", \"cp\", \"trestbps\", \"chol\", \"thalach\", \"diagnosis\"]]\n",
    "\n",
    "#Imports relevant sk-learn tools\n",
    "from sklearn.model_selection import train_test_split, cross_val_score, GridSearchCV\n",
    "from sklearn.neighbors import KNeighborsClassifier, KNeighborsRegressor\n",
    "from sklearn.preprocessing import StandardScaler\n",
    "\n",
    "train_heart, test_heart = train_test_split(heart_df_filter, train_size = 0.75)\n",
    "\n",
    "#Grabs all the different diagnoses to get an initial table\n",
    "train_heart_mean = train_heart.groupby(\"diagnosis\").mean(numeric_only=True).reset_index()\n",
    "\n",
    "train_heart_mean "
   ]
  },
  {
   "cell_type": "markdown",
   "id": "271b23f6-49d0-4dac-89ab-fd521c803112",
   "metadata": {},
   "source": [
    "Initially we can see a couple of trends just by grouping the data by diagnosis, most notably a null diagnosis being correlated with youth, a lower sex value (0 being female), lower chest pain (1 being asymptomatic), lower resting blood pressure and a higher maximum heart rate.\n"
   ]
  },
  {
   "cell_type": "markdown",
   "id": "3fe83a28-1c65-4005-8544-b6a3ec66ad16",
   "metadata": {},
   "source": [
    "References\r\n",
    "\r\n",
    "John Hopkins Medicine. (2021). Atherosclerosis. Hopkins Medicine. https://www.hopkinsmedicine.org/health/conditions-and-diseases/atheroscleros\n",
    "\n",
    "is\r\n",
    "WHO’s Global Health Estimates. (2020, December 9). The top 10 causes of death. World Health Organization; WHO. https://www.who.int/news-room/fact-sheets/detail/the-top-10-causes-of-death"
   ]
  },
  {
   "cell_type": "code",
   "execution_count": null,
   "id": "32034ea5-5da8-4fca-9268-bb8f6de1c9e0",
   "metadata": {},
   "outputs": [],
   "source": []
  }
 ],
 "metadata": {
  "kernelspec": {
   "display_name": "Python 3 (ipykernel)",
   "language": "python",
   "name": "python3"
  },
  "language_info": {
   "codemirror_mode": {
    "name": "ipython",
    "version": 3
   },
   "file_extension": ".py",
   "mimetype": "text/x-python",
   "name": "python",
   "nbconvert_exporter": "python",
   "pygments_lexer": "ipython3",
   "version": "3.11.6"
  }
 },
 "nbformat": 4,
 "nbformat_minor": 5
}
