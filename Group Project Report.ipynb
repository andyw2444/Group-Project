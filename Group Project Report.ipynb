{
 "cells": [
  {
   "cell_type": "markdown",
   "id": "bb94d567-02a6-447d-8a66-e05ee06451b9",
   "metadata": {},
   "source": [
    "**Decoding Heart Disease**"
   ]
  },
  {
   "cell_type": "markdown",
   "id": "d36ef733-958a-4f96-b32e-b2ac6327a4de",
   "metadata": {},
   "source": [
    "**Introduction**\n",
    "\n",
    "\n",
    "Heart disease can refer to a wide range of diseases, but in this case refers to coronary artery disease which involves reduction of blood flow to the heart due to atherosclerosis. Atherosclerotic plaque can build up in the arteries, and if near the heart can lead to heart attacks and other complications. The causes aren’t exactly clear, but plaque gradually builds up and is accompanied by inflammation of the arterial walls, reducing blood flow to vital organs and extremities (John Hopkins Medicine, 2021).\n",
    "\n",
    "\n",
    "The data set contains data from 4 databases, including Cleveland, Hungary, Switzerland, and Long Beach (Virginia), the data from Cleveland was the only one processed. It has 14 usable attributes, half of which are integer variables and the other half are categorical. We have attempted to answer the question, **what factors contributes to heart disease?**\n",
    "\n",
    "\n",
    "Heart disease is of growing concern, especially as humans continue to grow older and has become the leading factor of death for humans around the world accounting for 16% of total deaths globally (WHO’s Global Health Estimates, 2020). It also disproportionately affects wealthier nations and more importantly in this investigation has correlations with many health metrics and biological markers (WHO’s Global Health Estimates, 2020). \n",
    "\n",
    "We have built a model that will take certain health markers and we will be classifying patients based on these health markers to predict whether or not they have heart disease."
   ]
  },
  {
   "cell_type": "code",
   "execution_count": 1,
   "id": "060b2251-cda0-483a-9e13-6be46c980b74",
   "metadata": {},
   "outputs": [
    {
     "name": "stdout",
     "output_type": "stream",
     "text": [
      "Collecting ucimlrepo\n",
      "  Downloading ucimlrepo-0.0.6-py3-none-any.whl.metadata (5.3 kB)\n",
      "Downloading ucimlrepo-0.0.6-py3-none-any.whl (8.0 kB)\n",
      "Installing collected packages: ucimlrepo\n",
      "Successfully installed ucimlrepo-0.0.6\n"
     ]
    }
   ],
   "source": [
    "#imports basic tools and the dataset below\n",
    "\n",
    "import pandas as pd\n",
    "import altair as alt\n",
    "import numpy as np\n",
    "!pip3 install -U ucimlrepo"
   ]
  },
  {
   "cell_type": "code",
   "execution_count": 2,
   "id": "44f5486e-e335-4220-96ba-a0b6126624cc",
   "metadata": {},
   "outputs": [],
   "source": [
    "from ucimlrepo import fetch_ucirepo\n",
    "\n",
    "#imports dataset\n",
    "heart_disease = fetch_ucirepo(name='Heart Disease')"
   ]
  },
  {
   "cell_type": "code",
   "execution_count": 3,
   "id": "d396ad76-b8dc-464d-8cf6-46935fa5fc41",
   "metadata": {},
   "outputs": [
    {
     "data": {
      "text/plain": [
       "'Figure 1: Heart Disease grouped by diagnoses'"
      ]
     },
     "metadata": {},
     "output_type": "display_data"
    },
    {
     "data": {
      "text/html": [
       "<div>\n",
       "<style scoped>\n",
       "    .dataframe tbody tr th:only-of-type {\n",
       "        vertical-align: middle;\n",
       "    }\n",
       "\n",
       "    .dataframe tbody tr th {\n",
       "        vertical-align: top;\n",
       "    }\n",
       "\n",
       "    .dataframe thead th {\n",
       "        text-align: right;\n",
       "    }\n",
       "</style>\n",
       "<table border=\"1\" class=\"dataframe\">\n",
       "  <thead>\n",
       "    <tr style=\"text-align: right;\">\n",
       "      <th></th>\n",
       "      <th>diagnosis</th>\n",
       "      <th>age</th>\n",
       "      <th>cp</th>\n",
       "      <th>trestbps</th>\n",
       "      <th>chol</th>\n",
       "      <th>thalach</th>\n",
       "    </tr>\n",
       "  </thead>\n",
       "  <tbody>\n",
       "    <tr>\n",
       "      <th>0</th>\n",
       "      <td>0</td>\n",
       "      <td>52.768595</td>\n",
       "      <td>2.809917</td>\n",
       "      <td>129.553719</td>\n",
       "      <td>244.438017</td>\n",
       "      <td>158.322314</td>\n",
       "    </tr>\n",
       "    <tr>\n",
       "      <th>1</th>\n",
       "      <td>1</td>\n",
       "      <td>56.924528</td>\n",
       "      <td>3.566038</td>\n",
       "      <td>133.500000</td>\n",
       "      <td>249.056604</td>\n",
       "      <td>140.566038</td>\n",
       "    </tr>\n",
       "  </tbody>\n",
       "</table>\n",
       "</div>"
      ],
      "text/plain": [
       "   diagnosis        age        cp    trestbps        chol     thalach\n",
       "0          0  52.768595  2.809917  129.553719  244.438017  158.322314\n",
       "1          1  56.924528  3.566038  133.500000  249.056604  140.566038"
      ]
     },
     "metadata": {},
     "output_type": "display_data"
    }
   ],
   "source": [
    "#Sets up classifiers and diagnosis\n",
    "classifiers = heart_disease.data.features \n",
    "diagnosis = heart_disease.data.targets \n",
    "\n",
    "#Creates dataframe and classifies diagnosis\n",
    "heart_df = classifiers.assign(diagnosis = diagnosis)\n",
    "heart_df['diagnosis'] = heart_df['diagnosis'].replace([1, 2, 3, 4], 1)\n",
    "\n",
    "#Drops all columns except for predictors and diagnosis\n",
    "heart_df_filter = heart_df[[\"age\", \"cp\", \"trestbps\", \"chol\", \"thalach\", \"diagnosis\"]]\n",
    "\n",
    "#Imports sk-learn tools\n",
    "from sklearn.preprocessing import StandardScaler\n",
    "from sklearn.compose import make_column_transformer\n",
    "from sklearn.neighbors import KNeighborsClassifier, KNeighborsRegressor\n",
    "from sklearn.pipeline import make_pipeline\n",
    "from sklearn.model_selection import train_test_split, cross_val_score, GridSearchCV, cross_validate\n",
    "from sklearn.metrics import recall_score, confusion_matrix\n",
    "from pandas import crosstab\n",
    "\n",
    "#Sets a initial random seed to make data reproducable\n",
    "np.random.seed(500)\n",
    "\n",
    "heart_train, heart_test = train_test_split(heart_df_filter, train_size = 0.75)\n",
    "\n",
    "#Grabs all the different diagnoses to get an initial table\n",
    "heart_train_mean = heart_train.groupby(\"diagnosis\").mean(numeric_only=True).reset_index()\n",
    "\n",
    "display(\"Figure 1: Heart Disease grouped by diagnoses\", heart_train_mean)"
   ]
  },
  {
   "cell_type": "markdown",
   "id": "271b23f6-49d0-4dac-89ab-fd521c803112",
   "metadata": {},
   "source": [
    "**Methods and Results**\n",
    "\n",
    "Initially we can see a couple of trends just by grouping the data by diagnosis, most notably a null diagnosis being correlated with youth, lower chest pain (1 being asymptomatic), lower resting blood pressure and a higher maximum heart rate.\n",
    "\n",
    "To further investigate a couple of links let's look at some graphs."
   ]
  },
  {
   "cell_type": "code",
   "execution_count": 4,
   "id": "560997ca-9591-4973-8420-62ca0fa35454",
   "metadata": {},
   "outputs": [
    {
     "data": {
      "text/html": [
       "\n",
       "<style>\n",
       "  #altair-viz-78835dbb38ea4f0fb186c48fbb0580c3.vega-embed {\n",
       "    width: 100%;\n",
       "    display: flex;\n",
       "  }\n",
       "\n",
       "  #altair-viz-78835dbb38ea4f0fb186c48fbb0580c3.vega-embed details,\n",
       "  #altair-viz-78835dbb38ea4f0fb186c48fbb0580c3.vega-embed details summary {\n",
       "    position: relative;\n",
       "  }\n",
       "</style>\n",
       "<div id=\"altair-viz-78835dbb38ea4f0fb186c48fbb0580c3\"></div>\n",
       "<script type=\"text/javascript\">\n",
       "  var VEGA_DEBUG = (typeof VEGA_DEBUG == \"undefined\") ? {} : VEGA_DEBUG;\n",
       "  (function(spec, embedOpt){\n",
       "    let outputDiv = document.currentScript.previousElementSibling;\n",
       "    if (outputDiv.id !== \"altair-viz-78835dbb38ea4f0fb186c48fbb0580c3\") {\n",
       "      outputDiv = document.getElementById(\"altair-viz-78835dbb38ea4f0fb186c48fbb0580c3\");\n",
       "    }\n",
       "    const paths = {\n",
       "      \"vega\": \"https://cdn.jsdelivr.net/npm/vega@5?noext\",\n",
       "      \"vega-lib\": \"https://cdn.jsdelivr.net/npm/vega-lib?noext\",\n",
       "      \"vega-lite\": \"https://cdn.jsdelivr.net/npm/vega-lite@5.8.0?noext\",\n",
       "      \"vega-embed\": \"https://cdn.jsdelivr.net/npm/vega-embed@6?noext\",\n",
       "    };\n",
       "\n",
       "    function maybeLoadScript(lib, version) {\n",
       "      var key = `${lib.replace(\"-\", \"\")}_version`;\n",
       "      return (VEGA_DEBUG[key] == version) ?\n",
       "        Promise.resolve(paths[lib]) :\n",
       "        new Promise(function(resolve, reject) {\n",
       "          var s = document.createElement('script');\n",
       "          document.getElementsByTagName(\"head\")[0].appendChild(s);\n",
       "          s.async = true;\n",
       "          s.onload = () => {\n",
       "            VEGA_DEBUG[key] = version;\n",
       "            return resolve(paths[lib]);\n",
       "          };\n",
       "          s.onerror = () => reject(`Error loading script: ${paths[lib]}`);\n",
       "          s.src = paths[lib];\n",
       "        });\n",
       "    }\n",
       "\n",
       "    function showError(err) {\n",
       "      outputDiv.innerHTML = `<div class=\"error\" style=\"color:red;\">${err}</div>`;\n",
       "      throw err;\n",
       "    }\n",
       "\n",
       "    function displayChart(vegaEmbed) {\n",
       "      vegaEmbed(outputDiv, spec, embedOpt)\n",
       "        .catch(err => showError(`Javascript Error: ${err.message}<br>This usually means there's a typo in your chart specification. See the javascript console for the full traceback.`));\n",
       "    }\n",
       "\n",
       "    if(typeof define === \"function\" && define.amd) {\n",
       "      requirejs.config({paths});\n",
       "      require([\"vega-embed\"], displayChart, err => showError(`Error loading script: ${err.message}`));\n",
       "    } else {\n",
       "      maybeLoadScript(\"vega\", \"5\")\n",
       "        .then(() => maybeLoadScript(\"vega-lite\", \"5.8.0\"))\n",
       "        .then(() => maybeLoadScript(\"vega-embed\", \"6\"))\n",
       "        .catch(showError)\n",
       "        .then(() => displayChart(vegaEmbed));\n",
       "    }\n",
       "  })({\"config\": {\"view\": {\"continuousWidth\": 300, \"continuousHeight\": 300}}, \"hconcat\": [{\"mark\": {\"type\": \"bar\"}, \"encoding\": {\"color\": {\"field\": \"diagnosis\", \"title\": \"Diagnosis\", \"type\": \"nominal\"}, \"x\": {\"bin\": {\"step\": 5}, \"field\": \"age\", \"title\": \"Age\", \"type\": \"quantitative\"}, \"y\": {\"aggregate\": \"count\", \"title\": \"# of Patients\", \"type\": \"quantitative\"}}, \"title\": \"Figure 2: Age and Heart Disease\"}, {\"mark\": {\"type\": \"bar\"}, \"encoding\": {\"color\": {\"field\": \"diagnosis\", \"title\": \"Diagnosis\", \"type\": \"nominal\"}, \"x\": {\"bin\": {\"step\": 20}, \"field\": \"thalach\", \"title\": \"Max HR (Exercise)\", \"type\": \"quantitative\"}, \"y\": {\"aggregate\": \"count\", \"title\": \"# of Patients\", \"type\": \"quantitative\"}}, \"title\": \"Figure 3: Max Heart Rate and Heart Disease\"}], \"data\": {\"name\": \"data-8faeede407e5f8fb320f8dde6f1a480a\"}, \"$schema\": \"https://vega.github.io/schema/vega-lite/v5.8.0.json\", \"datasets\": {\"data-8faeede407e5f8fb320f8dde6f1a480a\": [{\"age\": 58, \"cp\": 4, \"trestbps\": 150, \"chol\": 270, \"thalach\": 111, \"diagnosis\": 1}, {\"age\": 47, \"cp\": 4, \"trestbps\": 110, \"chol\": 275, \"thalach\": 118, \"diagnosis\": 1}, {\"age\": 55, \"cp\": 2, \"trestbps\": 135, \"chol\": 250, \"thalach\": 161, \"diagnosis\": 0}, {\"age\": 50, \"cp\": 3, \"trestbps\": 140, \"chol\": 233, \"thalach\": 163, \"diagnosis\": 1}, {\"age\": 56, \"cp\": 4, \"trestbps\": 125, \"chol\": 249, \"thalach\": 144, \"diagnosis\": 1}, {\"age\": 68, \"cp\": 3, \"trestbps\": 118, \"chol\": 277, \"thalach\": 151, \"diagnosis\": 0}, {\"age\": 64, \"cp\": 4, \"trestbps\": 128, \"chol\": 263, \"thalach\": 105, \"diagnosis\": 0}, {\"age\": 50, \"cp\": 3, \"trestbps\": 120, \"chol\": 219, \"thalach\": 158, \"diagnosis\": 0}, {\"age\": 57, \"cp\": 2, \"trestbps\": 124, \"chol\": 261, \"thalach\": 141, \"diagnosis\": 1}, {\"age\": 63, \"cp\": 4, \"trestbps\": 124, \"chol\": 197, \"thalach\": 136, \"diagnosis\": 1}, {\"age\": 56, \"cp\": 2, \"trestbps\": 120, \"chol\": 240, \"thalach\": 169, \"diagnosis\": 0}, {\"age\": 52, \"cp\": 1, \"trestbps\": 118, \"chol\": 186, \"thalach\": 190, \"diagnosis\": 0}, {\"age\": 54, \"cp\": 4, \"trestbps\": 124, \"chol\": 266, \"thalach\": 109, \"diagnosis\": 1}, {\"age\": 52, \"cp\": 2, \"trestbps\": 134, \"chol\": 201, \"thalach\": 158, \"diagnosis\": 0}, {\"age\": 57, \"cp\": 4, \"trestbps\": 140, \"chol\": 241, \"thalach\": 123, \"diagnosis\": 1}, {\"age\": 58, \"cp\": 4, \"trestbps\": 100, \"chol\": 248, \"thalach\": 122, \"diagnosis\": 0}, {\"age\": 52, \"cp\": 4, \"trestbps\": 108, \"chol\": 233, \"thalach\": 147, \"diagnosis\": 0}, {\"age\": 48, \"cp\": 2, \"trestbps\": 110, \"chol\": 229, \"thalach\": 168, \"diagnosis\": 1}, {\"age\": 61, \"cp\": 4, \"trestbps\": 120, \"chol\": 260, \"thalach\": 140, \"diagnosis\": 1}, {\"age\": 52, \"cp\": 4, \"trestbps\": 125, \"chol\": 212, \"thalach\": 168, \"diagnosis\": 1}, {\"age\": 62, \"cp\": 4, \"trestbps\": 140, \"chol\": 268, \"thalach\": 160, \"diagnosis\": 1}, {\"age\": 52, \"cp\": 1, \"trestbps\": 152, \"chol\": 298, \"thalach\": 178, \"diagnosis\": 0}, {\"age\": 59, \"cp\": 4, \"trestbps\": 140, \"chol\": 177, \"thalach\": 162, \"diagnosis\": 1}, {\"age\": 56, \"cp\": 4, \"trestbps\": 134, \"chol\": 409, \"thalach\": 150, \"diagnosis\": 1}, {\"age\": 45, \"cp\": 2, \"trestbps\": 112, \"chol\": 160, \"thalach\": 138, \"diagnosis\": 0}, {\"age\": 56, \"cp\": 1, \"trestbps\": 120, \"chol\": 193, \"thalach\": 162, \"diagnosis\": 0}, {\"age\": 60, \"cp\": 4, \"trestbps\": 125, \"chol\": 258, \"thalach\": 141, \"diagnosis\": 1}, {\"age\": 50, \"cp\": 4, \"trestbps\": 150, \"chol\": 243, \"thalach\": 128, \"diagnosis\": 1}, {\"age\": 58, \"cp\": 3, \"trestbps\": 120, \"chol\": 340, \"thalach\": 172, \"diagnosis\": 0}, {\"age\": 45, \"cp\": 4, \"trestbps\": 138, \"chol\": 236, \"thalach\": 152, \"diagnosis\": 0}, {\"age\": 58, \"cp\": 4, \"trestbps\": 170, \"chol\": 225, \"thalach\": 146, \"diagnosis\": 1}, {\"age\": 67, \"cp\": 4, \"trestbps\": 125, \"chol\": 254, \"thalach\": 163, \"diagnosis\": 1}, {\"age\": 66, \"cp\": 1, \"trestbps\": 150, \"chol\": 226, \"thalach\": 114, \"diagnosis\": 0}, {\"age\": 34, \"cp\": 1, \"trestbps\": 118, \"chol\": 182, \"thalach\": 174, \"diagnosis\": 0}, {\"age\": 50, \"cp\": 3, \"trestbps\": 129, \"chol\": 196, \"thalach\": 163, \"diagnosis\": 0}, {\"age\": 57, \"cp\": 4, \"trestbps\": 140, \"chol\": 192, \"thalach\": 148, \"diagnosis\": 0}, {\"age\": 43, \"cp\": 3, \"trestbps\": 130, \"chol\": 315, \"thalach\": 162, \"diagnosis\": 0}, {\"age\": 59, \"cp\": 4, \"trestbps\": 170, \"chol\": 326, \"thalach\": 140, \"diagnosis\": 1}, {\"age\": 65, \"cp\": 1, \"trestbps\": 138, \"chol\": 282, \"thalach\": 174, \"diagnosis\": 1}, {\"age\": 65, \"cp\": 4, \"trestbps\": 110, \"chol\": 248, \"thalach\": 158, \"diagnosis\": 1}, {\"age\": 63, \"cp\": 4, \"trestbps\": 130, \"chol\": 330, \"thalach\": 132, \"diagnosis\": 1}, {\"age\": 41, \"cp\": 2, \"trestbps\": 120, \"chol\": 157, \"thalach\": 182, \"diagnosis\": 0}, {\"age\": 41, \"cp\": 2, \"trestbps\": 126, \"chol\": 306, \"thalach\": 163, \"diagnosis\": 0}, {\"age\": 62, \"cp\": 3, \"trestbps\": 130, \"chol\": 231, \"thalach\": 146, \"diagnosis\": 0}, {\"age\": 66, \"cp\": 4, \"trestbps\": 120, \"chol\": 302, \"thalach\": 151, \"diagnosis\": 0}, {\"age\": 67, \"cp\": 4, \"trestbps\": 100, \"chol\": 299, \"thalach\": 125, \"diagnosis\": 1}, {\"age\": 52, \"cp\": 3, \"trestbps\": 136, \"chol\": 196, \"thalach\": 169, \"diagnosis\": 0}, {\"age\": 70, \"cp\": 4, \"trestbps\": 145, \"chol\": 174, \"thalach\": 125, \"diagnosis\": 1}, {\"age\": 59, \"cp\": 1, \"trestbps\": 134, \"chol\": 204, \"thalach\": 162, \"diagnosis\": 1}, {\"age\": 41, \"cp\": 3, \"trestbps\": 130, \"chol\": 214, \"thalach\": 168, \"diagnosis\": 0}, {\"age\": 70, \"cp\": 4, \"trestbps\": 130, \"chol\": 322, \"thalach\": 109, \"diagnosis\": 1}, {\"age\": 51, \"cp\": 3, \"trestbps\": 120, \"chol\": 295, \"thalach\": 157, \"diagnosis\": 0}, {\"age\": 57, \"cp\": 4, \"trestbps\": 120, \"chol\": 354, \"thalach\": 163, \"diagnosis\": 0}, {\"age\": 56, \"cp\": 2, \"trestbps\": 140, \"chol\": 294, \"thalach\": 153, \"diagnosis\": 0}, {\"age\": 53, \"cp\": 4, \"trestbps\": 138, \"chol\": 234, \"thalach\": 160, \"diagnosis\": 0}, {\"age\": 61, \"cp\": 3, \"trestbps\": 150, \"chol\": 243, \"thalach\": 137, \"diagnosis\": 0}, {\"age\": 43, \"cp\": 4, \"trestbps\": 132, \"chol\": 247, \"thalach\": 143, \"diagnosis\": 1}, {\"age\": 66, \"cp\": 3, \"trestbps\": 146, \"chol\": 278, \"thalach\": 152, \"diagnosis\": 0}, {\"age\": 35, \"cp\": 4, \"trestbps\": 120, \"chol\": 198, \"thalach\": 130, \"diagnosis\": 1}, {\"age\": 59, \"cp\": 4, \"trestbps\": 138, \"chol\": 271, \"thalach\": 182, \"diagnosis\": 0}, {\"age\": 35, \"cp\": 4, \"trestbps\": 126, \"chol\": 282, \"thalach\": 156, \"diagnosis\": 1}, {\"age\": 38, \"cp\": 1, \"trestbps\": 120, \"chol\": 231, \"thalach\": 182, \"diagnosis\": 1}, {\"age\": 62, \"cp\": 2, \"trestbps\": 120, \"chol\": 281, \"thalach\": 103, \"diagnosis\": 1}, {\"age\": 60, \"cp\": 3, \"trestbps\": 140, \"chol\": 185, \"thalach\": 155, \"diagnosis\": 1}, {\"age\": 64, \"cp\": 4, \"trestbps\": 130, \"chol\": 303, \"thalach\": 122, \"diagnosis\": 0}, {\"age\": 57, \"cp\": 4, \"trestbps\": 132, \"chol\": 207, \"thalach\": 168, \"diagnosis\": 0}, {\"age\": 53, \"cp\": 3, \"trestbps\": 130, \"chol\": 197, \"thalach\": 152, \"diagnosis\": 0}, {\"age\": 43, \"cp\": 4, \"trestbps\": 150, \"chol\": 247, \"thalach\": 171, \"diagnosis\": 0}, {\"age\": 53, \"cp\": 4, \"trestbps\": 130, \"chol\": 264, \"thalach\": 143, \"diagnosis\": 0}, {\"age\": 44, \"cp\": 3, \"trestbps\": 118, \"chol\": 242, \"thalach\": 149, \"diagnosis\": 0}, {\"age\": 54, \"cp\": 4, \"trestbps\": 122, \"chol\": 286, \"thalach\": 116, \"diagnosis\": 1}, {\"age\": 45, \"cp\": 1, \"trestbps\": 110, \"chol\": 264, \"thalach\": 132, \"diagnosis\": 1}, {\"age\": 51, \"cp\": 3, \"trestbps\": 140, \"chol\": 308, \"thalach\": 142, \"diagnosis\": 0}, {\"age\": 62, \"cp\": 4, \"trestbps\": 124, \"chol\": 209, \"thalach\": 163, \"diagnosis\": 0}, {\"age\": 61, \"cp\": 4, \"trestbps\": 140, \"chol\": 207, \"thalach\": 138, \"diagnosis\": 1}, {\"age\": 35, \"cp\": 4, \"trestbps\": 138, \"chol\": 183, \"thalach\": 182, \"diagnosis\": 0}, {\"age\": 57, \"cp\": 2, \"trestbps\": 154, \"chol\": 232, \"thalach\": 164, \"diagnosis\": 1}, {\"age\": 37, \"cp\": 3, \"trestbps\": 130, \"chol\": 250, \"thalach\": 187, \"diagnosis\": 0}, {\"age\": 54, \"cp\": 3, \"trestbps\": 108, \"chol\": 267, \"thalach\": 167, \"diagnosis\": 0}, {\"age\": 46, \"cp\": 3, \"trestbps\": 150, \"chol\": 231, \"thalach\": 147, \"diagnosis\": 1}, {\"age\": 64, \"cp\": 4, \"trestbps\": 120, \"chol\": 246, \"thalach\": 96, \"diagnosis\": 1}, {\"age\": 62, \"cp\": 2, \"trestbps\": 128, \"chol\": 208, \"thalach\": 140, \"diagnosis\": 0}, {\"age\": 42, \"cp\": 4, \"trestbps\": 136, \"chol\": 315, \"thalach\": 125, \"diagnosis\": 1}, {\"age\": 60, \"cp\": 1, \"trestbps\": 150, \"chol\": 240, \"thalach\": 171, \"diagnosis\": 0}, {\"age\": 41, \"cp\": 2, \"trestbps\": 105, \"chol\": 198, \"thalach\": 168, \"diagnosis\": 0}, {\"age\": 56, \"cp\": 4, \"trestbps\": 130, \"chol\": 283, \"thalach\": 103, \"diagnosis\": 1}, {\"age\": 67, \"cp\": 3, \"trestbps\": 152, \"chol\": 212, \"thalach\": 150, \"diagnosis\": 1}, {\"age\": 57, \"cp\": 2, \"trestbps\": 130, \"chol\": 236, \"thalach\": 174, \"diagnosis\": 1}, {\"age\": 60, \"cp\": 4, \"trestbps\": 150, \"chol\": 258, \"thalach\": 157, \"diagnosis\": 1}, {\"age\": 48, \"cp\": 2, \"trestbps\": 130, \"chol\": 245, \"thalach\": 180, \"diagnosis\": 0}, {\"age\": 66, \"cp\": 4, \"trestbps\": 112, \"chol\": 212, \"thalach\": 132, \"diagnosis\": 1}, {\"age\": 74, \"cp\": 2, \"trestbps\": 120, \"chol\": 269, \"thalach\": 121, \"diagnosis\": 0}, {\"age\": 43, \"cp\": 4, \"trestbps\": 120, \"chol\": 177, \"thalach\": 120, \"diagnosis\": 1}, {\"age\": 63, \"cp\": 4, \"trestbps\": 130, \"chol\": 254, \"thalach\": 147, \"diagnosis\": 1}, {\"age\": 65, \"cp\": 4, \"trestbps\": 120, \"chol\": 177, \"thalach\": 140, \"diagnosis\": 0}, {\"age\": 46, \"cp\": 4, \"trestbps\": 140, \"chol\": 311, \"thalach\": 120, \"diagnosis\": 1}, {\"age\": 42, \"cp\": 1, \"trestbps\": 148, \"chol\": 244, \"thalach\": 178, \"diagnosis\": 0}, {\"age\": 61, \"cp\": 4, \"trestbps\": 138, \"chol\": 166, \"thalach\": 125, \"diagnosis\": 1}, {\"age\": 67, \"cp\": 4, \"trestbps\": 106, \"chol\": 223, \"thalach\": 142, \"diagnosis\": 0}, {\"age\": 65, \"cp\": 4, \"trestbps\": 135, \"chol\": 254, \"thalach\": 127, \"diagnosis\": 1}, {\"age\": 39, \"cp\": 3, \"trestbps\": 140, \"chol\": 321, \"thalach\": 182, \"diagnosis\": 0}, {\"age\": 63, \"cp\": 4, \"trestbps\": 140, \"chol\": 187, \"thalach\": 144, \"diagnosis\": 1}, {\"age\": 57, \"cp\": 3, \"trestbps\": 150, \"chol\": 126, \"thalach\": 173, \"diagnosis\": 0}, {\"age\": 66, \"cp\": 2, \"trestbps\": 160, \"chol\": 246, \"thalach\": 120, \"diagnosis\": 1}, {\"age\": 48, \"cp\": 4, \"trestbps\": 122, \"chol\": 222, \"thalach\": 186, \"diagnosis\": 0}, {\"age\": 52, \"cp\": 2, \"trestbps\": 120, \"chol\": 325, \"thalach\": 172, \"diagnosis\": 0}, {\"age\": 53, \"cp\": 4, \"trestbps\": 140, \"chol\": 203, \"thalach\": 155, \"diagnosis\": 1}, {\"age\": 59, \"cp\": 4, \"trestbps\": 135, \"chol\": 234, \"thalach\": 161, \"diagnosis\": 0}, {\"age\": 57, \"cp\": 4, \"trestbps\": 150, \"chol\": 276, \"thalach\": 112, \"diagnosis\": 1}, {\"age\": 60, \"cp\": 4, \"trestbps\": 145, \"chol\": 282, \"thalach\": 142, \"diagnosis\": 1}, {\"age\": 62, \"cp\": 4, \"trestbps\": 140, \"chol\": 394, \"thalach\": 157, \"diagnosis\": 0}, {\"age\": 39, \"cp\": 3, \"trestbps\": 94, \"chol\": 199, \"thalach\": 179, \"diagnosis\": 0}, {\"age\": 48, \"cp\": 4, \"trestbps\": 124, \"chol\": 274, \"thalach\": 166, \"diagnosis\": 1}, {\"age\": 69, \"cp\": 3, \"trestbps\": 140, \"chol\": 254, \"thalach\": 146, \"diagnosis\": 1}, {\"age\": 52, \"cp\": 4, \"trestbps\": 128, \"chol\": 204, \"thalach\": 156, \"diagnosis\": 1}, {\"age\": 64, \"cp\": 3, \"trestbps\": 125, \"chol\": 309, \"thalach\": 131, \"diagnosis\": 1}, {\"age\": 54, \"cp\": 4, \"trestbps\": 110, \"chol\": 206, \"thalach\": 108, \"diagnosis\": 1}, {\"age\": 63, \"cp\": 4, \"trestbps\": 108, \"chol\": 269, \"thalach\": 169, \"diagnosis\": 1}, {\"age\": 57, \"cp\": 4, \"trestbps\": 152, \"chol\": 274, \"thalach\": 88, \"diagnosis\": 1}, {\"age\": 65, \"cp\": 3, \"trestbps\": 140, \"chol\": 417, \"thalach\": 157, \"diagnosis\": 0}, {\"age\": 53, \"cp\": 4, \"trestbps\": 123, \"chol\": 282, \"thalach\": 95, \"diagnosis\": 1}, {\"age\": 57, \"cp\": 4, \"trestbps\": 110, \"chol\": 201, \"thalach\": 126, \"diagnosis\": 0}, {\"age\": 64, \"cp\": 4, \"trestbps\": 145, \"chol\": 212, \"thalach\": 132, \"diagnosis\": 1}, {\"age\": 60, \"cp\": 3, \"trestbps\": 120, \"chol\": 178, \"thalach\": 96, \"diagnosis\": 0}, {\"age\": 56, \"cp\": 4, \"trestbps\": 132, \"chol\": 184, \"thalach\": 105, \"diagnosis\": 1}, {\"age\": 51, \"cp\": 3, \"trestbps\": 130, \"chol\": 256, \"thalach\": 149, \"diagnosis\": 0}, {\"age\": 58, \"cp\": 1, \"trestbps\": 150, \"chol\": 283, \"thalach\": 162, \"diagnosis\": 0}, {\"age\": 50, \"cp\": 2, \"trestbps\": 120, \"chol\": 244, \"thalach\": 162, \"diagnosis\": 0}, {\"age\": 63, \"cp\": 3, \"trestbps\": 135, \"chol\": 252, \"thalach\": 172, \"diagnosis\": 0}, {\"age\": 76, \"cp\": 3, \"trestbps\": 140, \"chol\": 197, \"thalach\": 116, \"diagnosis\": 0}, {\"age\": 60, \"cp\": 4, \"trestbps\": 130, \"chol\": 206, \"thalach\": 132, \"diagnosis\": 1}, {\"age\": 61, \"cp\": 4, \"trestbps\": 148, \"chol\": 203, \"thalach\": 161, \"diagnosis\": 1}, {\"age\": 44, \"cp\": 2, \"trestbps\": 120, \"chol\": 263, \"thalach\": 173, \"diagnosis\": 0}, {\"age\": 65, \"cp\": 4, \"trestbps\": 150, \"chol\": 225, \"thalach\": 114, \"diagnosis\": 1}, {\"age\": 54, \"cp\": 4, \"trestbps\": 140, \"chol\": 239, \"thalach\": 160, \"diagnosis\": 0}, {\"age\": 62, \"cp\": 4, \"trestbps\": 150, \"chol\": 244, \"thalach\": 154, \"diagnosis\": 1}, {\"age\": 57, \"cp\": 4, \"trestbps\": 165, \"chol\": 289, \"thalach\": 124, \"diagnosis\": 1}, {\"age\": 34, \"cp\": 2, \"trestbps\": 118, \"chol\": 210, \"thalach\": 192, \"diagnosis\": 0}, {\"age\": 67, \"cp\": 3, \"trestbps\": 115, \"chol\": 564, \"thalach\": 160, \"diagnosis\": 0}, {\"age\": 58, \"cp\": 4, \"trestbps\": 146, \"chol\": 218, \"thalach\": 105, \"diagnosis\": 1}, {\"age\": 69, \"cp\": 1, \"trestbps\": 140, \"chol\": 239, \"thalach\": 151, \"diagnosis\": 0}, {\"age\": 57, \"cp\": 3, \"trestbps\": 128, \"chol\": 229, \"thalach\": 150, \"diagnosis\": 1}, {\"age\": 47, \"cp\": 3, \"trestbps\": 130, \"chol\": 253, \"thalach\": 179, \"diagnosis\": 0}, {\"age\": 56, \"cp\": 3, \"trestbps\": 130, \"chol\": 256, \"thalach\": 142, \"diagnosis\": 1}, {\"age\": 50, \"cp\": 4, \"trestbps\": 110, \"chol\": 254, \"thalach\": 159, \"diagnosis\": 0}, {\"age\": 40, \"cp\": 4, \"trestbps\": 152, \"chol\": 223, \"thalach\": 181, \"diagnosis\": 1}, {\"age\": 54, \"cp\": 3, \"trestbps\": 150, \"chol\": 232, \"thalach\": 165, \"diagnosis\": 0}, {\"age\": 46, \"cp\": 2, \"trestbps\": 101, \"chol\": 197, \"thalach\": 156, \"diagnosis\": 0}, {\"age\": 42, \"cp\": 4, \"trestbps\": 140, \"chol\": 226, \"thalach\": 178, \"diagnosis\": 0}, {\"age\": 60, \"cp\": 3, \"trestbps\": 102, \"chol\": 318, \"thalach\": 160, \"diagnosis\": 0}, {\"age\": 53, \"cp\": 3, \"trestbps\": 128, \"chol\": 216, \"thalach\": 115, \"diagnosis\": 0}, {\"age\": 47, \"cp\": 3, \"trestbps\": 138, \"chol\": 257, \"thalach\": 156, \"diagnosis\": 0}, {\"age\": 59, \"cp\": 1, \"trestbps\": 178, \"chol\": 270, \"thalach\": 145, \"diagnosis\": 0}, {\"age\": 44, \"cp\": 3, \"trestbps\": 108, \"chol\": 141, \"thalach\": 175, \"diagnosis\": 0}, {\"age\": 49, \"cp\": 2, \"trestbps\": 130, \"chol\": 266, \"thalach\": 171, \"diagnosis\": 0}, {\"age\": 71, \"cp\": 2, \"trestbps\": 160, \"chol\": 302, \"thalach\": 162, \"diagnosis\": 0}, {\"age\": 47, \"cp\": 3, \"trestbps\": 108, \"chol\": 243, \"thalach\": 152, \"diagnosis\": 1}, {\"age\": 61, \"cp\": 4, \"trestbps\": 145, \"chol\": 307, \"thalach\": 146, \"diagnosis\": 1}, {\"age\": 49, \"cp\": 2, \"trestbps\": 134, \"chol\": 271, \"thalach\": 162, \"diagnosis\": 0}, {\"age\": 60, \"cp\": 4, \"trestbps\": 117, \"chol\": 230, \"thalach\": 160, \"diagnosis\": 1}, {\"age\": 52, \"cp\": 4, \"trestbps\": 112, \"chol\": 230, \"thalach\": 160, \"diagnosis\": 1}, {\"age\": 59, \"cp\": 3, \"trestbps\": 126, \"chol\": 218, \"thalach\": 134, \"diagnosis\": 1}, {\"age\": 41, \"cp\": 2, \"trestbps\": 110, \"chol\": 235, \"thalach\": 153, \"diagnosis\": 0}, {\"age\": 61, \"cp\": 4, \"trestbps\": 130, \"chol\": 330, \"thalach\": 169, \"diagnosis\": 1}, {\"age\": 43, \"cp\": 4, \"trestbps\": 115, \"chol\": 303, \"thalach\": 181, \"diagnosis\": 0}, {\"age\": 58, \"cp\": 2, \"trestbps\": 120, \"chol\": 284, \"thalach\": 160, \"diagnosis\": 1}, {\"age\": 64, \"cp\": 3, \"trestbps\": 140, \"chol\": 335, \"thalach\": 158, \"diagnosis\": 1}, {\"age\": 29, \"cp\": 2, \"trestbps\": 130, \"chol\": 204, \"thalach\": 202, \"diagnosis\": 0}, {\"age\": 44, \"cp\": 4, \"trestbps\": 120, \"chol\": 169, \"thalach\": 144, \"diagnosis\": 1}, {\"age\": 58, \"cp\": 4, \"trestbps\": 128, \"chol\": 216, \"thalach\": 131, \"diagnosis\": 1}, {\"age\": 58, \"cp\": 3, \"trestbps\": 132, \"chol\": 224, \"thalach\": 173, \"diagnosis\": 1}, {\"age\": 67, \"cp\": 3, \"trestbps\": 152, \"chol\": 277, \"thalach\": 172, \"diagnosis\": 0}, {\"age\": 52, \"cp\": 3, \"trestbps\": 172, \"chol\": 199, \"thalach\": 162, \"diagnosis\": 0}, {\"age\": 59, \"cp\": 3, \"trestbps\": 150, \"chol\": 212, \"thalach\": 157, \"diagnosis\": 0}, {\"age\": 70, \"cp\": 2, \"trestbps\": 156, \"chol\": 245, \"thalach\": 143, \"diagnosis\": 0}, {\"age\": 46, \"cp\": 2, \"trestbps\": 105, \"chol\": 204, \"thalach\": 172, \"diagnosis\": 0}, {\"age\": 44, \"cp\": 2, \"trestbps\": 120, \"chol\": 220, \"thalach\": 170, \"diagnosis\": 0}, {\"age\": 42, \"cp\": 2, \"trestbps\": 120, \"chol\": 295, \"thalach\": 162, \"diagnosis\": 0}, {\"age\": 42, \"cp\": 4, \"trestbps\": 102, \"chol\": 265, \"thalach\": 122, \"diagnosis\": 0}, {\"age\": 46, \"cp\": 4, \"trestbps\": 138, \"chol\": 243, \"thalach\": 152, \"diagnosis\": 0}, {\"age\": 51, \"cp\": 3, \"trestbps\": 125, \"chol\": 245, \"thalach\": 166, \"diagnosis\": 0}, {\"age\": 65, \"cp\": 3, \"trestbps\": 160, \"chol\": 360, \"thalach\": 151, \"diagnosis\": 0}, {\"age\": 51, \"cp\": 4, \"trestbps\": 140, \"chol\": 298, \"thalach\": 122, \"diagnosis\": 1}, {\"age\": 68, \"cp\": 4, \"trestbps\": 144, \"chol\": 193, \"thalach\": 141, \"diagnosis\": 1}, {\"age\": 77, \"cp\": 4, \"trestbps\": 125, \"chol\": 304, \"thalach\": 162, \"diagnosis\": 1}, {\"age\": 55, \"cp\": 4, \"trestbps\": 132, \"chol\": 353, \"thalach\": 132, \"diagnosis\": 1}, {\"age\": 44, \"cp\": 2, \"trestbps\": 130, \"chol\": 219, \"thalach\": 188, \"diagnosis\": 0}, {\"age\": 49, \"cp\": 3, \"trestbps\": 118, \"chol\": 149, \"thalach\": 126, \"diagnosis\": 1}, {\"age\": 44, \"cp\": 4, \"trestbps\": 112, \"chol\": 290, \"thalach\": 153, \"diagnosis\": 1}, {\"age\": 60, \"cp\": 4, \"trestbps\": 140, \"chol\": 293, \"thalach\": 170, \"diagnosis\": 1}, {\"age\": 41, \"cp\": 3, \"trestbps\": 112, \"chol\": 268, \"thalach\": 172, \"diagnosis\": 0}, {\"age\": 51, \"cp\": 4, \"trestbps\": 130, \"chol\": 305, \"thalach\": 142, \"diagnosis\": 1}, {\"age\": 51, \"cp\": 3, \"trestbps\": 100, \"chol\": 222, \"thalach\": 143, \"diagnosis\": 0}, {\"age\": 41, \"cp\": 2, \"trestbps\": 130, \"chol\": 204, \"thalach\": 172, \"diagnosis\": 0}, {\"age\": 64, \"cp\": 1, \"trestbps\": 110, \"chol\": 211, \"thalach\": 144, \"diagnosis\": 0}, {\"age\": 58, \"cp\": 4, \"trestbps\": 100, \"chol\": 234, \"thalach\": 156, \"diagnosis\": 1}, {\"age\": 53, \"cp\": 4, \"trestbps\": 142, \"chol\": 226, \"thalach\": 111, \"diagnosis\": 0}, {\"age\": 55, \"cp\": 2, \"trestbps\": 130, \"chol\": 262, \"thalach\": 155, \"diagnosis\": 0}, {\"age\": 63, \"cp\": 2, \"trestbps\": 140, \"chol\": 195, \"thalach\": 179, \"diagnosis\": 0}, {\"age\": 41, \"cp\": 2, \"trestbps\": 135, \"chol\": 203, \"thalach\": 132, \"diagnosis\": 0}, {\"age\": 57, \"cp\": 3, \"trestbps\": 150, \"chol\": 168, \"thalach\": 174, \"diagnosis\": 0}, {\"age\": 49, \"cp\": 4, \"trestbps\": 130, \"chol\": 269, \"thalach\": 163, \"diagnosis\": 0}, {\"age\": 55, \"cp\": 4, \"trestbps\": 140, \"chol\": 217, \"thalach\": 111, \"diagnosis\": 1}, {\"age\": 64, \"cp\": 4, \"trestbps\": 180, \"chol\": 325, \"thalach\": 154, \"diagnosis\": 0}, {\"age\": 58, \"cp\": 4, \"trestbps\": 125, \"chol\": 300, \"thalach\": 171, \"diagnosis\": 1}, {\"age\": 62, \"cp\": 4, \"trestbps\": 160, \"chol\": 164, \"thalach\": 145, \"diagnosis\": 1}, {\"age\": 52, \"cp\": 2, \"trestbps\": 128, \"chol\": 205, \"thalach\": 184, \"diagnosis\": 0}, {\"age\": 54, \"cp\": 3, \"trestbps\": 160, \"chol\": 201, \"thalach\": 163, \"diagnosis\": 0}, {\"age\": 54, \"cp\": 2, \"trestbps\": 192, \"chol\": 283, \"thalach\": 195, \"diagnosis\": 1}, {\"age\": 45, \"cp\": 2, \"trestbps\": 130, \"chol\": 234, \"thalach\": 175, \"diagnosis\": 0}, {\"age\": 67, \"cp\": 4, \"trestbps\": 120, \"chol\": 229, \"thalach\": 129, \"diagnosis\": 1}, {\"age\": 39, \"cp\": 4, \"trestbps\": 118, \"chol\": 219, \"thalach\": 140, \"diagnosis\": 1}, {\"age\": 51, \"cp\": 3, \"trestbps\": 110, \"chol\": 175, \"thalach\": 123, \"diagnosis\": 0}, {\"age\": 49, \"cp\": 3, \"trestbps\": 120, \"chol\": 188, \"thalach\": 139, \"diagnosis\": 1}, {\"age\": 57, \"cp\": 4, \"trestbps\": 128, \"chol\": 303, \"thalach\": 159, \"diagnosis\": 0}, {\"age\": 59, \"cp\": 1, \"trestbps\": 170, \"chol\": 288, \"thalach\": 159, \"diagnosis\": 1}, {\"age\": 41, \"cp\": 3, \"trestbps\": 112, \"chol\": 250, \"thalach\": 179, \"diagnosis\": 0}, {\"age\": 48, \"cp\": 3, \"trestbps\": 130, \"chol\": 275, \"thalach\": 139, \"diagnosis\": 0}, {\"age\": 70, \"cp\": 3, \"trestbps\": 160, \"chol\": 269, \"thalach\": 112, \"diagnosis\": 1}, {\"age\": 44, \"cp\": 3, \"trestbps\": 130, \"chol\": 233, \"thalach\": 179, \"diagnosis\": 0}, {\"age\": 66, \"cp\": 4, \"trestbps\": 178, \"chol\": 228, \"thalach\": 165, \"diagnosis\": 1}, {\"age\": 38, \"cp\": 3, \"trestbps\": 138, \"chol\": 175, \"thalach\": 173, \"diagnosis\": 0}, {\"age\": 46, \"cp\": 4, \"trestbps\": 120, \"chol\": 249, \"thalach\": 144, \"diagnosis\": 1}, {\"age\": 62, \"cp\": 4, \"trestbps\": 120, \"chol\": 267, \"thalach\": 99, \"diagnosis\": 1}, {\"age\": 58, \"cp\": 2, \"trestbps\": 125, \"chol\": 220, \"thalach\": 144, \"diagnosis\": 0}, {\"age\": 58, \"cp\": 4, \"trestbps\": 128, \"chol\": 259, \"thalach\": 130, \"diagnosis\": 1}, {\"age\": 71, \"cp\": 4, \"trestbps\": 112, \"chol\": 149, \"thalach\": 125, \"diagnosis\": 0}]}}, {\"mode\": \"vega-lite\"});\n",
       "</script>"
      ],
      "text/plain": [
       "alt.HConcatChart(...)"
      ]
     },
     "metadata": {},
     "output_type": "display_data"
    }
   ],
   "source": [
    "#Plot of age and heart disease\n",
    "\n",
    "age = alt.Chart(heart_train).mark_bar().encode(\n",
    "    x=alt.X(\"age\", bin=alt.Bin(step=5)).title(\"Age\"),\n",
    "    y=alt.Y(\"count()\").title(\"# of Patients\"),\n",
    "    color=alt.Color(\"diagnosis:N\", title=\"Diagnosis\")\n",
    ").properties(title=\"Figure 2: Age and Heart Disease\")\n",
    "\n",
    "\n",
    "#Plot of max heart rate and heart disease\n",
    "\n",
    "max_hr = alt.Chart(heart_train).mark_bar().encode(\n",
    "    x=alt.X(\"thalach\", bin=alt.Bin(step=20)).title(\"Max HR (Exercise)\"),\n",
    "    y=alt.Y(\"count()\").title(\"# of Patients\"),\n",
    "    color=alt.Color(\"diagnosis:N\", title=\"Diagnosis\")\n",
    ").properties(title=\"Figure 3: Max Heart Rate and Heart Disease\")\n",
    "\n",
    "display(age | max_hr)"
   ]
  },
  {
   "cell_type": "markdown",
   "id": "2e66fde8-918b-46a7-901c-415e8f2bff52",
   "metadata": {},
   "source": [
    "These visualizations show a couple of expected trends, the proportion of younger people 25-55 with a diagnosis is much lower than those 55 and up.\n",
    "\n",
    "As for max heart rate there is significant negative correlation with max heart rate and heart disease. The 160-180 group is dominated by a null diagnosis, 140-160 has a roughly 50/50 split, but as we go lower the prevalence of heart disease becomes the norm, not the exception."
   ]
  },
  {
   "cell_type": "markdown",
   "id": "dd77a8f0-07bc-4c92-9da6-a06956e0623d",
   "metadata": {},
   "source": [
    "We will now setup a KNeighborsClassifier model below that will attempt to make predictions based off of the variables **age**, **trestbps**, **chol**, and **thalach** and spit out a target variable for **diagnosis**.\n",
    "\n",
    "Since we are using KNeighborsClassifier the variables will have to be standardized for further analysis.\n",
    "\n",
    "In order to find the best K value we will use GridSearchCV and do it in the range from 1-50 (inclusive). We will use a cv of 10 to maintain a solid balance between efficiency and performance.\n"
   ]
  },
  {
   "cell_type": "code",
   "execution_count": 5,
   "id": "ed83aaee-1e51-4bea-9770-fb9d38978d75",
   "metadata": {},
   "outputs": [
    {
     "data": {
      "text/html": [
       "<style>#sk-container-id-1 {color: black;}#sk-container-id-1 pre{padding: 0;}#sk-container-id-1 div.sk-toggleable {background-color: white;}#sk-container-id-1 label.sk-toggleable__label {cursor: pointer;display: block;width: 100%;margin-bottom: 0;padding: 0.3em;box-sizing: border-box;text-align: center;}#sk-container-id-1 label.sk-toggleable__label-arrow:before {content: \"▸\";float: left;margin-right: 0.25em;color: #696969;}#sk-container-id-1 label.sk-toggleable__label-arrow:hover:before {color: black;}#sk-container-id-1 div.sk-estimator:hover label.sk-toggleable__label-arrow:before {color: black;}#sk-container-id-1 div.sk-toggleable__content {max-height: 0;max-width: 0;overflow: hidden;text-align: left;background-color: #f0f8ff;}#sk-container-id-1 div.sk-toggleable__content pre {margin: 0.2em;color: black;border-radius: 0.25em;background-color: #f0f8ff;}#sk-container-id-1 input.sk-toggleable__control:checked~div.sk-toggleable__content {max-height: 200px;max-width: 100%;overflow: auto;}#sk-container-id-1 input.sk-toggleable__control:checked~label.sk-toggleable__label-arrow:before {content: \"▾\";}#sk-container-id-1 div.sk-estimator input.sk-toggleable__control:checked~label.sk-toggleable__label {background-color: #d4ebff;}#sk-container-id-1 div.sk-label input.sk-toggleable__control:checked~label.sk-toggleable__label {background-color: #d4ebff;}#sk-container-id-1 input.sk-hidden--visually {border: 0;clip: rect(1px 1px 1px 1px);clip: rect(1px, 1px, 1px, 1px);height: 1px;margin: -1px;overflow: hidden;padding: 0;position: absolute;width: 1px;}#sk-container-id-1 div.sk-estimator {font-family: monospace;background-color: #f0f8ff;border: 1px dotted black;border-radius: 0.25em;box-sizing: border-box;margin-bottom: 0.5em;}#sk-container-id-1 div.sk-estimator:hover {background-color: #d4ebff;}#sk-container-id-1 div.sk-parallel-item::after {content: \"\";width: 100%;border-bottom: 1px solid gray;flex-grow: 1;}#sk-container-id-1 div.sk-label:hover label.sk-toggleable__label {background-color: #d4ebff;}#sk-container-id-1 div.sk-serial::before {content: \"\";position: absolute;border-left: 1px solid gray;box-sizing: border-box;top: 0;bottom: 0;left: 50%;z-index: 0;}#sk-container-id-1 div.sk-serial {display: flex;flex-direction: column;align-items: center;background-color: white;padding-right: 0.2em;padding-left: 0.2em;position: relative;}#sk-container-id-1 div.sk-item {position: relative;z-index: 1;}#sk-container-id-1 div.sk-parallel {display: flex;align-items: stretch;justify-content: center;background-color: white;position: relative;}#sk-container-id-1 div.sk-item::before, #sk-container-id-1 div.sk-parallel-item::before {content: \"\";position: absolute;border-left: 1px solid gray;box-sizing: border-box;top: 0;bottom: 0;left: 50%;z-index: -1;}#sk-container-id-1 div.sk-parallel-item {display: flex;flex-direction: column;z-index: 1;position: relative;background-color: white;}#sk-container-id-1 div.sk-parallel-item:first-child::after {align-self: flex-end;width: 50%;}#sk-container-id-1 div.sk-parallel-item:last-child::after {align-self: flex-start;width: 50%;}#sk-container-id-1 div.sk-parallel-item:only-child::after {width: 0;}#sk-container-id-1 div.sk-dashed-wrapped {border: 1px dashed gray;margin: 0 0.4em 0.5em 0.4em;box-sizing: border-box;padding-bottom: 0.4em;background-color: white;}#sk-container-id-1 div.sk-label label {font-family: monospace;font-weight: bold;display: inline-block;line-height: 1.2em;}#sk-container-id-1 div.sk-label-container {text-align: center;}#sk-container-id-1 div.sk-container {/* jupyter's `normalize.less` sets `[hidden] { display: none; }` but bootstrap.min.css set `[hidden] { display: none !important; }` so we also need the `!important` here to be able to override the default hidden behavior on the sphinx rendered scikit-learn.org. See: https://github.com/scikit-learn/scikit-learn/issues/21755 */display: inline-block !important;position: relative;}#sk-container-id-1 div.sk-text-repr-fallback {display: none;}</style><div id=\"sk-container-id-1\" class=\"sk-top-container\"><div class=\"sk-text-repr-fallback\"><pre>GridSearchCV(cv=10,\n",
       "             estimator=Pipeline(steps=[(&#x27;columntransformer&#x27;,\n",
       "                                        ColumnTransformer(remainder=&#x27;passthrough&#x27;,\n",
       "                                                          transformers=[(&#x27;standardscaler&#x27;,\n",
       "                                                                         StandardScaler(),\n",
       "                                                                         [&#x27;age&#x27;,\n",
       "                                                                          &#x27;cp&#x27;,\n",
       "                                                                          &#x27;trestbps&#x27;,\n",
       "                                                                          &#x27;chol&#x27;,\n",
       "                                                                          &#x27;thalach&#x27;])],\n",
       "                                                          verbose_feature_names_out=False)),\n",
       "                                       (&#x27;kneighborsclassifier&#x27;,\n",
       "                                        KNeighborsClassifier())]),\n",
       "             param_grid={&#x27;kneighborsclassifier__n_neighbors&#x27;: range(1, 51)})</pre><b>In a Jupyter environment, please rerun this cell to show the HTML representation or trust the notebook. <br />On GitHub, the HTML representation is unable to render, please try loading this page with nbviewer.org.</b></div><div class=\"sk-container\" hidden><div class=\"sk-item sk-dashed-wrapped\"><div class=\"sk-label-container\"><div class=\"sk-label sk-toggleable\"><input class=\"sk-toggleable__control sk-hidden--visually\" id=\"sk-estimator-id-1\" type=\"checkbox\" ><label for=\"sk-estimator-id-1\" class=\"sk-toggleable__label sk-toggleable__label-arrow\">GridSearchCV</label><div class=\"sk-toggleable__content\"><pre>GridSearchCV(cv=10,\n",
       "             estimator=Pipeline(steps=[(&#x27;columntransformer&#x27;,\n",
       "                                        ColumnTransformer(remainder=&#x27;passthrough&#x27;,\n",
       "                                                          transformers=[(&#x27;standardscaler&#x27;,\n",
       "                                                                         StandardScaler(),\n",
       "                                                                         [&#x27;age&#x27;,\n",
       "                                                                          &#x27;cp&#x27;,\n",
       "                                                                          &#x27;trestbps&#x27;,\n",
       "                                                                          &#x27;chol&#x27;,\n",
       "                                                                          &#x27;thalach&#x27;])],\n",
       "                                                          verbose_feature_names_out=False)),\n",
       "                                       (&#x27;kneighborsclassifier&#x27;,\n",
       "                                        KNeighborsClassifier())]),\n",
       "             param_grid={&#x27;kneighborsclassifier__n_neighbors&#x27;: range(1, 51)})</pre></div></div></div><div class=\"sk-parallel\"><div class=\"sk-parallel-item\"><div class=\"sk-item\"><div class=\"sk-label-container\"><div class=\"sk-label sk-toggleable\"><input class=\"sk-toggleable__control sk-hidden--visually\" id=\"sk-estimator-id-2\" type=\"checkbox\" ><label for=\"sk-estimator-id-2\" class=\"sk-toggleable__label sk-toggleable__label-arrow\">estimator: Pipeline</label><div class=\"sk-toggleable__content\"><pre>Pipeline(steps=[(&#x27;columntransformer&#x27;,\n",
       "                 ColumnTransformer(remainder=&#x27;passthrough&#x27;,\n",
       "                                   transformers=[(&#x27;standardscaler&#x27;,\n",
       "                                                  StandardScaler(),\n",
       "                                                  [&#x27;age&#x27;, &#x27;cp&#x27;, &#x27;trestbps&#x27;,\n",
       "                                                   &#x27;chol&#x27;, &#x27;thalach&#x27;])],\n",
       "                                   verbose_feature_names_out=False)),\n",
       "                (&#x27;kneighborsclassifier&#x27;, KNeighborsClassifier())])</pre></div></div></div><div class=\"sk-serial\"><div class=\"sk-item\"><div class=\"sk-serial\"><div class=\"sk-item sk-dashed-wrapped\"><div class=\"sk-label-container\"><div class=\"sk-label sk-toggleable\"><input class=\"sk-toggleable__control sk-hidden--visually\" id=\"sk-estimator-id-3\" type=\"checkbox\" ><label for=\"sk-estimator-id-3\" class=\"sk-toggleable__label sk-toggleable__label-arrow\">columntransformer: ColumnTransformer</label><div class=\"sk-toggleable__content\"><pre>ColumnTransformer(remainder=&#x27;passthrough&#x27;,\n",
       "                  transformers=[(&#x27;standardscaler&#x27;, StandardScaler(),\n",
       "                                 [&#x27;age&#x27;, &#x27;cp&#x27;, &#x27;trestbps&#x27;, &#x27;chol&#x27;, &#x27;thalach&#x27;])],\n",
       "                  verbose_feature_names_out=False)</pre></div></div></div><div class=\"sk-parallel\"><div class=\"sk-parallel-item\"><div class=\"sk-item\"><div class=\"sk-label-container\"><div class=\"sk-label sk-toggleable\"><input class=\"sk-toggleable__control sk-hidden--visually\" id=\"sk-estimator-id-4\" type=\"checkbox\" ><label for=\"sk-estimator-id-4\" class=\"sk-toggleable__label sk-toggleable__label-arrow\">standardscaler</label><div class=\"sk-toggleable__content\"><pre>[&#x27;age&#x27;, &#x27;cp&#x27;, &#x27;trestbps&#x27;, &#x27;chol&#x27;, &#x27;thalach&#x27;]</pre></div></div></div><div class=\"sk-serial\"><div class=\"sk-item\"><div class=\"sk-estimator sk-toggleable\"><input class=\"sk-toggleable__control sk-hidden--visually\" id=\"sk-estimator-id-5\" type=\"checkbox\" ><label for=\"sk-estimator-id-5\" class=\"sk-toggleable__label sk-toggleable__label-arrow\">StandardScaler</label><div class=\"sk-toggleable__content\"><pre>StandardScaler()</pre></div></div></div></div></div></div><div class=\"sk-parallel-item\"><div class=\"sk-item\"><div class=\"sk-label-container\"><div class=\"sk-label sk-toggleable\"><input class=\"sk-toggleable__control sk-hidden--visually\" id=\"sk-estimator-id-6\" type=\"checkbox\" ><label for=\"sk-estimator-id-6\" class=\"sk-toggleable__label sk-toggleable__label-arrow\">remainder</label><div class=\"sk-toggleable__content\"><pre>[]</pre></div></div></div><div class=\"sk-serial\"><div class=\"sk-item\"><div class=\"sk-estimator sk-toggleable\"><input class=\"sk-toggleable__control sk-hidden--visually\" id=\"sk-estimator-id-7\" type=\"checkbox\" ><label for=\"sk-estimator-id-7\" class=\"sk-toggleable__label sk-toggleable__label-arrow\">passthrough</label><div class=\"sk-toggleable__content\"><pre>passthrough</pre></div></div></div></div></div></div></div></div><div class=\"sk-item\"><div class=\"sk-estimator sk-toggleable\"><input class=\"sk-toggleable__control sk-hidden--visually\" id=\"sk-estimator-id-8\" type=\"checkbox\" ><label for=\"sk-estimator-id-8\" class=\"sk-toggleable__label sk-toggleable__label-arrow\">KNeighborsClassifier</label><div class=\"sk-toggleable__content\"><pre>KNeighborsClassifier()</pre></div></div></div></div></div></div></div></div></div></div></div></div>"
      ],
      "text/plain": [
       "GridSearchCV(cv=10,\n",
       "             estimator=Pipeline(steps=[('columntransformer',\n",
       "                                        ColumnTransformer(remainder='passthrough',\n",
       "                                                          transformers=[('standardscaler',\n",
       "                                                                         StandardScaler(),\n",
       "                                                                         ['age',\n",
       "                                                                          'cp',\n",
       "                                                                          'trestbps',\n",
       "                                                                          'chol',\n",
       "                                                                          'thalach'])],\n",
       "                                                          verbose_feature_names_out=False)),\n",
       "                                       ('kneighborsclassifier',\n",
       "                                        KNeighborsClassifier())]),\n",
       "             param_grid={'kneighborsclassifier__n_neighbors': range(1, 51)})"
      ]
     },
     "execution_count": 5,
     "metadata": {},
     "output_type": "execute_result"
    }
   ],
   "source": [
    "#Creates the preprocessor\n",
    "heart_pre = make_column_transformer(\n",
    "    (StandardScaler(), [\"age\",\"cp\",\"trestbps\",\"chol\",\"thalach\"]),\n",
    "    remainder=\"passthrough\",\n",
    "    verbose_feature_names_out=False\n",
    ")\n",
    "\n",
    "#Creates the model\n",
    "knn = KNeighborsClassifier()\n",
    "\n",
    "#Creates pipeline\n",
    "heart_pipe = make_pipeline(heart_pre, knn)\n",
    "\n",
    "#Fits training data onto the pipeline with diagnosis as the target variable\n",
    "heart_pipe.fit(\n",
    "    heart_train[[\"age\",\"cp\",\"trestbps\",\"chol\",\"thalach\"]],\n",
    "    heart_train[\"diagnosis\"])\n",
    "\n",
    "#Creates a grid and performs a grid search to attempt to find the best K value\n",
    "grid = {\n",
    "    \"kneighborsclassifier__n_neighbors\": range(1,51)\n",
    "}\n",
    "\n",
    "heart_grid = GridSearchCV(\n",
    "    estimator = heart_pipe,\n",
    "    param_grid = grid,\n",
    "    cv = 10\n",
    ")\n",
    "\n",
    "#Fits it onto the training data\n",
    "heart_grid.fit(\n",
    "    heart_train[[\"age\",\"cp\",\"trestbps\",\"chol\",\"thalach\"]],\n",
    "    heart_train[\"diagnosis\"])"
   ]
  },
  {
   "cell_type": "code",
   "execution_count": 6,
   "id": "c0c2f287-e45b-4094-b8f6-936bf5ed9f5b",
   "metadata": {},
   "outputs": [
    {
     "data": {
      "text/html": [
       "\n",
       "<style>\n",
       "  #altair-viz-7f14a3abc4dd41eda9e3ebf0fa2a6b9f.vega-embed {\n",
       "    width: 100%;\n",
       "    display: flex;\n",
       "  }\n",
       "\n",
       "  #altair-viz-7f14a3abc4dd41eda9e3ebf0fa2a6b9f.vega-embed details,\n",
       "  #altair-viz-7f14a3abc4dd41eda9e3ebf0fa2a6b9f.vega-embed details summary {\n",
       "    position: relative;\n",
       "  }\n",
       "</style>\n",
       "<div id=\"altair-viz-7f14a3abc4dd41eda9e3ebf0fa2a6b9f\"></div>\n",
       "<script type=\"text/javascript\">\n",
       "  var VEGA_DEBUG = (typeof VEGA_DEBUG == \"undefined\") ? {} : VEGA_DEBUG;\n",
       "  (function(spec, embedOpt){\n",
       "    let outputDiv = document.currentScript.previousElementSibling;\n",
       "    if (outputDiv.id !== \"altair-viz-7f14a3abc4dd41eda9e3ebf0fa2a6b9f\") {\n",
       "      outputDiv = document.getElementById(\"altair-viz-7f14a3abc4dd41eda9e3ebf0fa2a6b9f\");\n",
       "    }\n",
       "    const paths = {\n",
       "      \"vega\": \"https://cdn.jsdelivr.net/npm/vega@5?noext\",\n",
       "      \"vega-lib\": \"https://cdn.jsdelivr.net/npm/vega-lib?noext\",\n",
       "      \"vega-lite\": \"https://cdn.jsdelivr.net/npm/vega-lite@5.8.0?noext\",\n",
       "      \"vega-embed\": \"https://cdn.jsdelivr.net/npm/vega-embed@6?noext\",\n",
       "    };\n",
       "\n",
       "    function maybeLoadScript(lib, version) {\n",
       "      var key = `${lib.replace(\"-\", \"\")}_version`;\n",
       "      return (VEGA_DEBUG[key] == version) ?\n",
       "        Promise.resolve(paths[lib]) :\n",
       "        new Promise(function(resolve, reject) {\n",
       "          var s = document.createElement('script');\n",
       "          document.getElementsByTagName(\"head\")[0].appendChild(s);\n",
       "          s.async = true;\n",
       "          s.onload = () => {\n",
       "            VEGA_DEBUG[key] = version;\n",
       "            return resolve(paths[lib]);\n",
       "          };\n",
       "          s.onerror = () => reject(`Error loading script: ${paths[lib]}`);\n",
       "          s.src = paths[lib];\n",
       "        });\n",
       "    }\n",
       "\n",
       "    function showError(err) {\n",
       "      outputDiv.innerHTML = `<div class=\"error\" style=\"color:red;\">${err}</div>`;\n",
       "      throw err;\n",
       "    }\n",
       "\n",
       "    function displayChart(vegaEmbed) {\n",
       "      vegaEmbed(outputDiv, spec, embedOpt)\n",
       "        .catch(err => showError(`Javascript Error: ${err.message}<br>This usually means there's a typo in your chart specification. See the javascript console for the full traceback.`));\n",
       "    }\n",
       "\n",
       "    if(typeof define === \"function\" && define.amd) {\n",
       "      requirejs.config({paths});\n",
       "      require([\"vega-embed\"], displayChart, err => showError(`Error loading script: ${err.message}`));\n",
       "    } else {\n",
       "      maybeLoadScript(\"vega\", \"5\")\n",
       "        .then(() => maybeLoadScript(\"vega-lite\", \"5.8.0\"))\n",
       "        .then(() => maybeLoadScript(\"vega-embed\", \"6\"))\n",
       "        .catch(showError)\n",
       "        .then(() => displayChart(vegaEmbed));\n",
       "    }\n",
       "  })({\"config\": {\"view\": {\"continuousWidth\": 300, \"continuousHeight\": 300}}, \"data\": {\"name\": \"data-89d6c3e324001a1250a7d9d9385d5d3f\"}, \"mark\": {\"type\": \"line\", \"point\": true}, \"encoding\": {\"x\": {\"field\": \"param_kneighborsclassifier__n_neighbors\", \"title\": \"Number of Neighbors\", \"type\": \"quantitative\"}, \"y\": {\"field\": \"mean_test_score\", \"title\": \"Mean Test Score\", \"type\": \"quantitative\"}}, \"title\": \"Figure 4: How Does Number of Neighbors Impact Test Score?\", \"$schema\": \"https://vega.github.io/schema/vega-lite/v5.8.0.json\", \"datasets\": {\"data-89d6c3e324001a1250a7d9d9385d5d3f\": [{\"mean_fit_time\": 0.004561829566955567, \"std_fit_time\": 0.003405734860252394, \"mean_score_time\": 0.0034682750701904297, \"std_score_time\": 0.00018148869505445965, \"param_kneighborsclassifier__n_neighbors\": 1, \"params\": {\"kneighborsclassifier__n_neighbors\": 1}, \"split0_test_score\": 0.6086956521739131, \"split1_test_score\": 0.5652173913043478, \"split2_test_score\": 0.4782608695652174, \"split3_test_score\": 0.6086956521739131, \"split4_test_score\": 0.5652173913043478, \"split5_test_score\": 0.6956521739130435, \"split6_test_score\": 0.6086956521739131, \"split7_test_score\": 0.6363636363636364, \"split8_test_score\": 0.5, \"split9_test_score\": 0.7727272727272727, \"mean_test_score\": 0.6039525691699604, \"std_test_score\": 0.0822295894747153, \"rank_test_score\": 50}, {\"mean_fit_time\": 0.003331446647644043, \"std_fit_time\": 3.5519159498389244e-05, \"mean_score_time\": 0.0035531282424926757, \"std_score_time\": 0.0005776778601789759, \"param_kneighborsclassifier__n_neighbors\": 2, \"params\": {\"kneighborsclassifier__n_neighbors\": 2}, \"split0_test_score\": 0.6086956521739131, \"split1_test_score\": 0.6521739130434783, \"split2_test_score\": 0.6086956521739131, \"split3_test_score\": 0.6086956521739131, \"split4_test_score\": 0.6521739130434783, \"split5_test_score\": 0.782608695652174, \"split6_test_score\": 0.6956521739130435, \"split7_test_score\": 0.5909090909090909, \"split8_test_score\": 0.5454545454545454, \"split9_test_score\": 0.7727272727272727, \"mean_test_score\": 0.6517786561264821, \"std_test_score\": 0.07365366337639387, \"rank_test_score\": 49}, {\"mean_fit_time\": 0.0033941268920898438, \"std_fit_time\": 0.0002565859817833653, \"mean_score_time\": 0.003348088264465332, \"std_score_time\": 2.339722156378451e-05, \"param_kneighborsclassifier__n_neighbors\": 3, \"params\": {\"kneighborsclassifier__n_neighbors\": 3}, \"split0_test_score\": 0.6521739130434783, \"split1_test_score\": 0.7391304347826086, \"split2_test_score\": 0.5652173913043478, \"split3_test_score\": 0.6086956521739131, \"split4_test_score\": 0.6086956521739131, \"split5_test_score\": 0.7391304347826086, \"split6_test_score\": 0.6956521739130435, \"split7_test_score\": 0.6363636363636364, \"split8_test_score\": 0.6818181818181818, \"split9_test_score\": 0.6818181818181818, \"mean_test_score\": 0.6608695652173913, \"std_test_score\": 0.05441210715217668, \"rank_test_score\": 48}, {\"mean_fit_time\": 0.003303050994873047, \"std_fit_time\": 4.840813160171818e-05, \"mean_score_time\": 0.0033415079116821287, \"std_score_time\": 3.380705673993432e-05, \"param_kneighborsclassifier__n_neighbors\": 4, \"params\": {\"kneighborsclassifier__n_neighbors\": 4}, \"split0_test_score\": 0.6956521739130435, \"split1_test_score\": 0.6956521739130435, \"split2_test_score\": 0.6521739130434783, \"split3_test_score\": 0.6521739130434783, \"split4_test_score\": 0.6956521739130435, \"split5_test_score\": 0.782608695652174, \"split6_test_score\": 0.6956521739130435, \"split7_test_score\": 0.6363636363636364, \"split8_test_score\": 0.6363636363636364, \"split9_test_score\": 0.7272727272727273, \"mean_test_score\": 0.6869565217391305, \"std_test_score\": 0.04314641596520219, \"rank_test_score\": 44}, {\"mean_fit_time\": 0.0033048391342163086, \"std_fit_time\": 4.7336656461776244e-05, \"mean_score_time\": 0.0033445119857788085, \"std_score_time\": 2.6484097679833832e-05, \"param_kneighborsclassifier__n_neighbors\": 5, \"params\": {\"kneighborsclassifier__n_neighbors\": 5}, \"split0_test_score\": 0.6521739130434783, \"split1_test_score\": 0.7391304347826086, \"split2_test_score\": 0.5217391304347826, \"split3_test_score\": 0.5652173913043478, \"split4_test_score\": 0.6521739130434783, \"split5_test_score\": 0.782608695652174, \"split6_test_score\": 0.6956521739130435, \"split7_test_score\": 0.7272727272727273, \"split8_test_score\": 0.8181818181818182, \"split9_test_score\": 0.6818181818181818, \"mean_test_score\": 0.6835968379446641, \"std_test_score\": 0.0867426853327263, \"rank_test_score\": 45}, {\"mean_fit_time\": 0.0032935857772827147, \"std_fit_time\": 3.876763075595645e-05, \"mean_score_time\": 0.0033458709716796876, \"std_score_time\": 2.279291591861873e-05, \"param_kneighborsclassifier__n_neighbors\": 6, \"params\": {\"kneighborsclassifier__n_neighbors\": 6}, \"split0_test_score\": 0.6521739130434783, \"split1_test_score\": 0.782608695652174, \"split2_test_score\": 0.6086956521739131, \"split3_test_score\": 0.6086956521739131, \"split4_test_score\": 0.6956521739130435, \"split5_test_score\": 0.782608695652174, \"split6_test_score\": 0.7391304347826086, \"split7_test_score\": 0.7272727272727273, \"split8_test_score\": 0.7272727272727273, \"split9_test_score\": 0.7272727272727273, \"mean_test_score\": 0.7051383399209487, \"std_test_score\": 0.06010504950283117, \"rank_test_score\": 16}, {\"mean_fit_time\": 0.003290748596191406, \"std_fit_time\": 3.5092137295087905e-05, \"mean_score_time\": 0.003354048728942871, \"std_score_time\": 3.138596545269806e-05, \"param_kneighborsclassifier__n_neighbors\": 7, \"params\": {\"kneighborsclassifier__n_neighbors\": 7}, \"split0_test_score\": 0.6521739130434783, \"split1_test_score\": 0.782608695652174, \"split2_test_score\": 0.5652173913043478, \"split3_test_score\": 0.6521739130434783, \"split4_test_score\": 0.6521739130434783, \"split5_test_score\": 0.782608695652174, \"split6_test_score\": 0.7391304347826086, \"split7_test_score\": 0.6363636363636364, \"split8_test_score\": 0.7727272727272727, \"split9_test_score\": 0.6818181818181818, \"mean_test_score\": 0.691699604743083, \"std_test_score\": 0.07013443903097781, \"rank_test_score\": 38}, {\"mean_fit_time\": 0.00330047607421875, \"std_fit_time\": 4.0140343437001045e-05, \"mean_score_time\": 0.0033639907836914063, \"std_score_time\": 2.5303659322341577e-05, \"param_kneighborsclassifier__n_neighbors\": 8, \"params\": {\"kneighborsclassifier__n_neighbors\": 8}, \"split0_test_score\": 0.6521739130434783, \"split1_test_score\": 0.7391304347826086, \"split2_test_score\": 0.6086956521739131, \"split3_test_score\": 0.6956521739130435, \"split4_test_score\": 0.6521739130434783, \"split5_test_score\": 0.7391304347826086, \"split6_test_score\": 0.7391304347826086, \"split7_test_score\": 0.6363636363636364, \"split8_test_score\": 0.6818181818181818, \"split9_test_score\": 0.6818181818181818, \"mean_test_score\": 0.6826086956521739, \"std_test_score\": 0.04382898427076397, \"rank_test_score\": 46}, {\"mean_fit_time\": 0.0033061742782592774, \"std_fit_time\": 6.970214766112601e-05, \"mean_score_time\": 0.003418707847595215, \"std_score_time\": 0.00012268110340502936, \"param_kneighborsclassifier__n_neighbors\": 9, \"params\": {\"kneighborsclassifier__n_neighbors\": 9}, \"split0_test_score\": 0.6521739130434783, \"split1_test_score\": 0.8260869565217391, \"split2_test_score\": 0.43478260869565216, \"split3_test_score\": 0.7391304347826086, \"split4_test_score\": 0.6086956521739131, \"split5_test_score\": 0.8260869565217391, \"split6_test_score\": 0.782608695652174, \"split7_test_score\": 0.5909090909090909, \"split8_test_score\": 0.7727272727272727, \"split9_test_score\": 0.6818181818181818, \"mean_test_score\": 0.6915019762845849, \"std_test_score\": 0.11743671018706628, \"rank_test_score\": 40}, {\"mean_fit_time\": 0.0032812118530273437, \"std_fit_time\": 1.1668975930900447e-05, \"mean_score_time\": 0.0033868074417114256, \"std_score_time\": 5.610896968062396e-05, \"param_kneighborsclassifier__n_neighbors\": 10, \"params\": {\"kneighborsclassifier__n_neighbors\": 10}, \"split0_test_score\": 0.6521739130434783, \"split1_test_score\": 0.782608695652174, \"split2_test_score\": 0.5652173913043478, \"split3_test_score\": 0.7391304347826086, \"split4_test_score\": 0.6086956521739131, \"split5_test_score\": 0.8260869565217391, \"split6_test_score\": 0.7391304347826086, \"split7_test_score\": 0.5909090909090909, \"split8_test_score\": 0.7727272727272727, \"split9_test_score\": 0.6363636363636364, \"mean_test_score\": 0.691304347826087, \"std_test_score\": 0.08663613272840402, \"rank_test_score\": 41}, {\"mean_fit_time\": 0.0032758474349975585, \"std_fit_time\": 9.021835901445027e-06, \"mean_score_time\": 0.0033789634704589843, \"std_score_time\": 4.6650078536431694e-05, \"param_kneighborsclassifier__n_neighbors\": 11, \"params\": {\"kneighborsclassifier__n_neighbors\": 11}, \"split0_test_score\": 0.6521739130434783, \"split1_test_score\": 0.7391304347826086, \"split2_test_score\": 0.5217391304347826, \"split3_test_score\": 0.7391304347826086, \"split4_test_score\": 0.6086956521739131, \"split5_test_score\": 0.782608695652174, \"split6_test_score\": 0.7391304347826086, \"split7_test_score\": 0.6363636363636364, \"split8_test_score\": 0.8181818181818182, \"split9_test_score\": 0.6363636363636364, \"mean_test_score\": 0.6873517786561265, \"std_test_score\": 0.08618866873939517, \"rank_test_score\": 42}, {\"mean_fit_time\": 0.0032821416854858397, \"std_fit_time\": 1.2217201712294773e-05, \"mean_score_time\": 0.003386974334716797, \"std_score_time\": 5.5250490028115444e-05, \"param_kneighborsclassifier__n_neighbors\": 12, \"params\": {\"kneighborsclassifier__n_neighbors\": 12}, \"split0_test_score\": 0.6521739130434783, \"split1_test_score\": 0.6956521739130435, \"split2_test_score\": 0.4782608695652174, \"split3_test_score\": 0.7391304347826086, \"split4_test_score\": 0.6086956521739131, \"split5_test_score\": 0.8260869565217391, \"split6_test_score\": 0.6956521739130435, \"split7_test_score\": 0.6818181818181818, \"split8_test_score\": 0.7727272727272727, \"split9_test_score\": 0.6363636363636364, \"mean_test_score\": 0.6786561264822134, \"std_test_score\": 0.09075945753816499, \"rank_test_score\": 47}, {\"mean_fit_time\": 0.003286457061767578, \"std_fit_time\": 9.529110715329587e-06, \"mean_score_time\": 0.0034076452255249025, \"std_score_time\": 5.839416156022151e-05, \"param_kneighborsclassifier__n_neighbors\": 13, \"params\": {\"kneighborsclassifier__n_neighbors\": 13}, \"split0_test_score\": 0.6521739130434783, \"split1_test_score\": 0.782608695652174, \"split2_test_score\": 0.5217391304347826, \"split3_test_score\": 0.6956521739130435, \"split4_test_score\": 0.6086956521739131, \"split5_test_score\": 0.8695652173913043, \"split6_test_score\": 0.6956521739130435, \"split7_test_score\": 0.6818181818181818, \"split8_test_score\": 0.8181818181818182, \"split9_test_score\": 0.6363636363636364, \"mean_test_score\": 0.6962450592885376, \"std_test_score\": 0.09809242300702765, \"rank_test_score\": 31}, {\"mean_fit_time\": 0.0032859563827514647, \"std_fit_time\": 1.218925332629397e-05, \"mean_score_time\": 0.0034061431884765624, \"std_score_time\": 5.218047563188226e-05, \"param_kneighborsclassifier__n_neighbors\": 14, \"params\": {\"kneighborsclassifier__n_neighbors\": 14}, \"split0_test_score\": 0.6521739130434783, \"split1_test_score\": 0.782608695652174, \"split2_test_score\": 0.5217391304347826, \"split3_test_score\": 0.6956521739130435, \"split4_test_score\": 0.6086956521739131, \"split5_test_score\": 0.8260869565217391, \"split6_test_score\": 0.7391304347826086, \"split7_test_score\": 0.6818181818181818, \"split8_test_score\": 0.7727272727272727, \"split9_test_score\": 0.6363636363636364, \"mean_test_score\": 0.6916996047430831, \"std_test_score\": 0.08697897661923078, \"rank_test_score\": 37}, {\"mean_fit_time\": 0.003295111656188965, \"std_fit_time\": 1.0950163294635247e-05, \"mean_score_time\": 0.0034157514572143556, \"std_score_time\": 5.120585598927357e-05, \"param_kneighborsclassifier__n_neighbors\": 15, \"params\": {\"kneighborsclassifier__n_neighbors\": 15}, \"split0_test_score\": 0.6521739130434783, \"split1_test_score\": 0.782608695652174, \"split2_test_score\": 0.4782608695652174, \"split3_test_score\": 0.7391304347826086, \"split4_test_score\": 0.6086956521739131, \"split5_test_score\": 0.8260869565217391, \"split6_test_score\": 0.6956521739130435, \"split7_test_score\": 0.6818181818181818, \"split8_test_score\": 0.8636363636363636, \"split9_test_score\": 0.6818181818181818, \"mean_test_score\": 0.7009881422924901, \"std_test_score\": 0.10559002059320936, \"rank_test_score\": 24}, {\"mean_fit_time\": 0.003290820121765137, \"std_fit_time\": 1.4743080867788329e-05, \"mean_score_time\": 0.0034204959869384766, \"std_score_time\": 4.367242694718508e-05, \"param_kneighborsclassifier__n_neighbors\": 16, \"params\": {\"kneighborsclassifier__n_neighbors\": 16}, \"split0_test_score\": 0.6521739130434783, \"split1_test_score\": 0.782608695652174, \"split2_test_score\": 0.5217391304347826, \"split3_test_score\": 0.6521739130434783, \"split4_test_score\": 0.6521739130434783, \"split5_test_score\": 0.8260869565217391, \"split6_test_score\": 0.782608695652174, \"split7_test_score\": 0.6363636363636364, \"split8_test_score\": 0.8181818181818182, \"split9_test_score\": 0.6363636363636364, \"mean_test_score\": 0.6960474308300395, \"std_test_score\": 0.094918461255192, \"rank_test_score\": 33}, {\"mean_fit_time\": 0.003287959098815918, \"std_fit_time\": 1.1281028968128998e-05, \"mean_score_time\": 0.0034311532974243162, \"std_score_time\": 6.619850170022153e-05, \"param_kneighborsclassifier__n_neighbors\": 17, \"params\": {\"kneighborsclassifier__n_neighbors\": 17}, \"split0_test_score\": 0.6521739130434783, \"split1_test_score\": 0.8260869565217391, \"split2_test_score\": 0.4782608695652174, \"split3_test_score\": 0.6956521739130435, \"split4_test_score\": 0.6521739130434783, \"split5_test_score\": 0.8695652173913043, \"split6_test_score\": 0.6956521739130435, \"split7_test_score\": 0.6818181818181818, \"split8_test_score\": 0.8636363636363636, \"split9_test_score\": 0.6363636363636364, \"mean_test_score\": 0.7051383399209487, \"std_test_score\": 0.11372071109183034, \"rank_test_score\": 16}, {\"mean_fit_time\": 0.003284931182861328, \"std_fit_time\": 1.2584797719072932e-05, \"mean_score_time\": 0.0036074638366699217, \"std_score_time\": 0.0005413893768469167, \"param_kneighborsclassifier__n_neighbors\": 18, \"params\": {\"kneighborsclassifier__n_neighbors\": 18}, \"split0_test_score\": 0.6521739130434783, \"split1_test_score\": 0.8260869565217391, \"split2_test_score\": 0.43478260869565216, \"split3_test_score\": 0.6521739130434783, \"split4_test_score\": 0.6521739130434783, \"split5_test_score\": 0.8260869565217391, \"split6_test_score\": 0.782608695652174, \"split7_test_score\": 0.6363636363636364, \"split8_test_score\": 0.7727272727272727, \"split9_test_score\": 0.6363636363636364, \"mean_test_score\": 0.6871541501976284, \"std_test_score\": 0.11294271885287714, \"rank_test_score\": 43}, {\"mean_fit_time\": 0.003279590606689453, \"std_fit_time\": 1.0812328563537653e-05, \"mean_score_time\": 0.003417181968688965, \"std_score_time\": 5.0366628799936136e-05, \"param_kneighborsclassifier__n_neighbors\": 19, \"params\": {\"kneighborsclassifier__n_neighbors\": 19}, \"split0_test_score\": 0.6521739130434783, \"split1_test_score\": 0.8260869565217391, \"split2_test_score\": 0.4782608695652174, \"split3_test_score\": 0.6521739130434783, \"split4_test_score\": 0.6086956521739131, \"split5_test_score\": 0.8695652173913043, \"split6_test_score\": 0.782608695652174, \"split7_test_score\": 0.5909090909090909, \"split8_test_score\": 0.7727272727272727, \"split9_test_score\": 0.6818181818181818, \"mean_test_score\": 0.691501976284585, \"std_test_score\": 0.1141719634247577, \"rank_test_score\": 39}, {\"mean_fit_time\": 0.0032872676849365233, \"std_fit_time\": 1.031214789789427e-05, \"mean_score_time\": 0.0034327983856201174, \"std_score_time\": 6.52574603938768e-05, \"param_kneighborsclassifier__n_neighbors\": 20, \"params\": {\"kneighborsclassifier__n_neighbors\": 20}, \"split0_test_score\": 0.6521739130434783, \"split1_test_score\": 0.8260869565217391, \"split2_test_score\": 0.4782608695652174, \"split3_test_score\": 0.6521739130434783, \"split4_test_score\": 0.6086956521739131, \"split5_test_score\": 0.8695652173913043, \"split6_test_score\": 0.782608695652174, \"split7_test_score\": 0.6363636363636364, \"split8_test_score\": 0.7727272727272727, \"split9_test_score\": 0.6818181818181818, \"mean_test_score\": 0.6960474308300395, \"std_test_score\": 0.11093559784553603, \"rank_test_score\": 33}, {\"mean_fit_time\": 0.0033722162246704102, \"std_fit_time\": 7.558113012976283e-05, \"mean_score_time\": 0.012356996536254883, \"std_score_time\": 0.020911016158601924, \"param_kneighborsclassifier__n_neighbors\": 21, \"params\": {\"kneighborsclassifier__n_neighbors\": 21}, \"split0_test_score\": 0.6521739130434783, \"split1_test_score\": 0.8260869565217391, \"split2_test_score\": 0.4782608695652174, \"split3_test_score\": 0.6521739130434783, \"split4_test_score\": 0.6086956521739131, \"split5_test_score\": 0.8695652173913043, \"split6_test_score\": 0.782608695652174, \"split7_test_score\": 0.6363636363636364, \"split8_test_score\": 0.8181818181818182, \"split9_test_score\": 0.6818181818181818, \"mean_test_score\": 0.700592885375494, \"std_test_score\": 0.11484662273816616, \"rank_test_score\": 26}, {\"mean_fit_time\": 0.003338122367858887, \"std_fit_time\": 4.9812077717653083e-05, \"mean_score_time\": 0.0034667015075683593, \"std_score_time\": 4.481510848951303e-05, \"param_kneighborsclassifier__n_neighbors\": 22, \"params\": {\"kneighborsclassifier__n_neighbors\": 22}, \"split0_test_score\": 0.6521739130434783, \"split1_test_score\": 0.8260869565217391, \"split2_test_score\": 0.4782608695652174, \"split3_test_score\": 0.6521739130434783, \"split4_test_score\": 0.6521739130434783, \"split5_test_score\": 0.8695652173913043, \"split6_test_score\": 0.782608695652174, \"split7_test_score\": 0.6818181818181818, \"split8_test_score\": 0.8181818181818182, \"split9_test_score\": 0.6818181818181818, \"mean_test_score\": 0.7094861660079052, \"std_test_score\": 0.11010583618327367, \"rank_test_score\": 9}, {\"mean_fit_time\": 0.0034944295883178713, \"std_fit_time\": 0.0003539817601516135, \"mean_score_time\": 0.0034959077835083007, \"std_score_time\": 8.442714295401437e-05, \"param_kneighborsclassifier__n_neighbors\": 23, \"params\": {\"kneighborsclassifier__n_neighbors\": 23}, \"split0_test_score\": 0.6521739130434783, \"split1_test_score\": 0.8260869565217391, \"split2_test_score\": 0.5217391304347826, \"split3_test_score\": 0.6086956521739131, \"split4_test_score\": 0.6086956521739131, \"split5_test_score\": 0.8260869565217391, \"split6_test_score\": 0.7391304347826086, \"split7_test_score\": 0.6818181818181818, \"split8_test_score\": 0.8181818181818182, \"split9_test_score\": 0.6818181818181818, \"mean_test_score\": 0.6964426877470355, \"std_test_score\": 0.09928032367021325, \"rank_test_score\": 30}, {\"mean_fit_time\": 0.0033318042755126954, \"std_fit_time\": 5.6024632430970106e-05, \"mean_score_time\": 0.003458070755004883, \"std_score_time\": 2.417634929101973e-05, \"param_kneighborsclassifier__n_neighbors\": 24, \"params\": {\"kneighborsclassifier__n_neighbors\": 24}, \"split0_test_score\": 0.6521739130434783, \"split1_test_score\": 0.8260869565217391, \"split2_test_score\": 0.4782608695652174, \"split3_test_score\": 0.6521739130434783, \"split4_test_score\": 0.6521739130434783, \"split5_test_score\": 0.8260869565217391, \"split6_test_score\": 0.782608695652174, \"split7_test_score\": 0.7272727272727273, \"split8_test_score\": 0.7727272727272727, \"split9_test_score\": 0.7272727272727273, \"mean_test_score\": 0.7096837944664032, \"std_test_score\": 0.10024439351172316, \"rank_test_score\": 8}, {\"mean_fit_time\": 0.0033188343048095705, \"std_fit_time\": 3.832163165279136e-05, \"mean_score_time\": 0.003457975387573242, \"std_score_time\": 1.8766374507540545e-05, \"param_kneighborsclassifier__n_neighbors\": 25, \"params\": {\"kneighborsclassifier__n_neighbors\": 25}, \"split0_test_score\": 0.6521739130434783, \"split1_test_score\": 0.8260869565217391, \"split2_test_score\": 0.4782608695652174, \"split3_test_score\": 0.6521739130434783, \"split4_test_score\": 0.6521739130434783, \"split5_test_score\": 0.8260869565217391, \"split6_test_score\": 0.7391304347826086, \"split7_test_score\": 0.7272727272727273, \"split8_test_score\": 0.8181818181818182, \"split9_test_score\": 0.6363636363636364, \"mean_test_score\": 0.7007905138339922, \"std_test_score\": 0.10397661243765005, \"rank_test_score\": 25}, {\"mean_fit_time\": 0.003325223922729492, \"std_fit_time\": 4.04024886701556e-05, \"mean_score_time\": 0.0034594058990478514, \"std_score_time\": 3.6050560574410156e-05, \"param_kneighborsclassifier__n_neighbors\": 26, \"params\": {\"kneighborsclassifier__n_neighbors\": 26}, \"split0_test_score\": 0.6521739130434783, \"split1_test_score\": 0.8260869565217391, \"split2_test_score\": 0.5217391304347826, \"split3_test_score\": 0.6956521739130435, \"split4_test_score\": 0.6521739130434783, \"split5_test_score\": 0.8260869565217391, \"split6_test_score\": 0.7391304347826086, \"split7_test_score\": 0.7272727272727273, \"split8_test_score\": 0.7727272727272727, \"split9_test_score\": 0.6363636363636364, \"mean_test_score\": 0.7049407114624506, \"std_test_score\": 0.08918300334908473, \"rank_test_score\": 18}, {\"mean_fit_time\": 0.003316235542297363, \"std_fit_time\": 3.768613481580791e-05, \"mean_score_time\": 0.003452110290527344, \"std_score_time\": 2.4570951914484053e-05, \"param_kneighborsclassifier__n_neighbors\": 27, \"params\": {\"kneighborsclassifier__n_neighbors\": 27}, \"split0_test_score\": 0.6521739130434783, \"split1_test_score\": 0.8260869565217391, \"split2_test_score\": 0.4782608695652174, \"split3_test_score\": 0.6956521739130435, \"split4_test_score\": 0.6521739130434783, \"split5_test_score\": 0.8260869565217391, \"split6_test_score\": 0.6956521739130435, \"split7_test_score\": 0.6818181818181818, \"split8_test_score\": 0.8181818181818182, \"split9_test_score\": 0.6363636363636364, \"mean_test_score\": 0.6962450592885375, \"std_test_score\": 0.10187378032981026, \"rank_test_score\": 32}, {\"mean_fit_time\": 0.003328275680541992, \"std_fit_time\": 4.8067432494852403e-05, \"mean_score_time\": 0.0034484624862670898, \"std_score_time\": 2.387008188508981e-05, \"param_kneighborsclassifier__n_neighbors\": 28, \"params\": {\"kneighborsclassifier__n_neighbors\": 28}, \"split0_test_score\": 0.6521739130434783, \"split1_test_score\": 0.8260869565217391, \"split2_test_score\": 0.4782608695652174, \"split3_test_score\": 0.6956521739130435, \"split4_test_score\": 0.6521739130434783, \"split5_test_score\": 0.8260869565217391, \"split6_test_score\": 0.7391304347826086, \"split7_test_score\": 0.6818181818181818, \"split8_test_score\": 0.7727272727272727, \"split9_test_score\": 0.6818181818181818, \"mean_test_score\": 0.700592885375494, \"std_test_score\": 0.09645503873482354, \"rank_test_score\": 26}, {\"mean_fit_time\": 0.003319525718688965, \"std_fit_time\": 4.4024034208807625e-05, \"mean_score_time\": 0.0034590244293212892, \"std_score_time\": 1.3696851677354776e-05, \"param_kneighborsclassifier__n_neighbors\": 29, \"params\": {\"kneighborsclassifier__n_neighbors\": 29}, \"split0_test_score\": 0.6521739130434783, \"split1_test_score\": 0.8260869565217391, \"split2_test_score\": 0.4782608695652174, \"split3_test_score\": 0.6956521739130435, \"split4_test_score\": 0.6521739130434783, \"split5_test_score\": 0.8260869565217391, \"split6_test_score\": 0.7391304347826086, \"split7_test_score\": 0.6363636363636364, \"split8_test_score\": 0.8181818181818182, \"split9_test_score\": 0.6363636363636364, \"mean_test_score\": 0.6960474308300395, \"std_test_score\": 0.10440245904812467, \"rank_test_score\": 33}, {\"mean_fit_time\": 0.0033330202102661135, \"std_fit_time\": 6.094242386501214e-05, \"mean_score_time\": 0.003466629981994629, \"std_score_time\": 3.132033467050494e-05, \"param_kneighborsclassifier__n_neighbors\": 30, \"params\": {\"kneighborsclassifier__n_neighbors\": 30}, \"split0_test_score\": 0.6521739130434783, \"split1_test_score\": 0.8260869565217391, \"split2_test_score\": 0.4782608695652174, \"split3_test_score\": 0.6956521739130435, \"split4_test_score\": 0.6956521739130435, \"split5_test_score\": 0.8695652173913043, \"split6_test_score\": 0.7391304347826086, \"split7_test_score\": 0.6818181818181818, \"split8_test_score\": 0.8181818181818182, \"split9_test_score\": 0.6363636363636364, \"mean_test_score\": 0.7092885375494071, \"std_test_score\": 0.10731225296442688, \"rank_test_score\": 11}, {\"mean_fit_time\": 0.0033133745193481444, \"std_fit_time\": 3.800769802699773e-05, \"mean_score_time\": 0.004266858100891113, \"std_score_time\": 0.002425974292603987, \"param_kneighborsclassifier__n_neighbors\": 31, \"params\": {\"kneighborsclassifier__n_neighbors\": 31}, \"split0_test_score\": 0.6521739130434783, \"split1_test_score\": 0.8260869565217391, \"split2_test_score\": 0.4782608695652174, \"split3_test_score\": 0.6521739130434783, \"split4_test_score\": 0.7391304347826086, \"split5_test_score\": 0.8695652173913043, \"split6_test_score\": 0.6956521739130435, \"split7_test_score\": 0.6818181818181818, \"split8_test_score\": 0.8181818181818182, \"split9_test_score\": 0.6363636363636364, \"mean_test_score\": 0.7049407114624506, \"std_test_score\": 0.1086491096905158, \"rank_test_score\": 18}, {\"mean_fit_time\": 0.0033271312713623047, \"std_fit_time\": 5.3223550277985764e-05, \"mean_score_time\": 0.0034531116485595702, \"std_score_time\": 2.8358825148081615e-05, \"param_kneighborsclassifier__n_neighbors\": 32, \"params\": {\"kneighborsclassifier__n_neighbors\": 32}, \"split0_test_score\": 0.6521739130434783, \"split1_test_score\": 0.782608695652174, \"split2_test_score\": 0.4782608695652174, \"split3_test_score\": 0.7391304347826086, \"split4_test_score\": 0.7391304347826086, \"split5_test_score\": 0.8260869565217391, \"split6_test_score\": 0.782608695652174, \"split7_test_score\": 0.6818181818181818, \"split8_test_score\": 0.8181818181818182, \"split9_test_score\": 0.6363636363636364, \"mean_test_score\": 0.7136363636363636, \"std_test_score\": 0.10027555809742739, \"rank_test_score\": 3}, {\"mean_fit_time\": 0.0033185720443725587, \"std_fit_time\": 3.518971807819516e-05, \"mean_score_time\": 0.0034699440002441406, \"std_score_time\": 1.7625245645786496e-05, \"param_kneighborsclassifier__n_neighbors\": 33, \"params\": {\"kneighborsclassifier__n_neighbors\": 33}, \"split0_test_score\": 0.6521739130434783, \"split1_test_score\": 0.8260869565217391, \"split2_test_score\": 0.4782608695652174, \"split3_test_score\": 0.7391304347826086, \"split4_test_score\": 0.6956521739130435, \"split5_test_score\": 0.8260869565217391, \"split6_test_score\": 0.782608695652174, \"split7_test_score\": 0.6818181818181818, \"split8_test_score\": 0.8181818181818182, \"split9_test_score\": 0.6363636363636364, \"mean_test_score\": 0.7136363636363636, \"std_test_score\": 0.10397755151496559, \"rank_test_score\": 3}, {\"mean_fit_time\": 0.0033105134963989256, \"std_fit_time\": 3.819522934625546e-05, \"mean_score_time\": 0.0034665584564208983, \"std_score_time\": 5.7973751093738077e-05, \"param_kneighborsclassifier__n_neighbors\": 34, \"params\": {\"kneighborsclassifier__n_neighbors\": 34}, \"split0_test_score\": 0.6521739130434783, \"split1_test_score\": 0.782608695652174, \"split2_test_score\": 0.4782608695652174, \"split3_test_score\": 0.7391304347826086, \"split4_test_score\": 0.7391304347826086, \"split5_test_score\": 0.8260869565217391, \"split6_test_score\": 0.782608695652174, \"split7_test_score\": 0.6818181818181818, \"split8_test_score\": 0.7727272727272727, \"split9_test_score\": 0.6363636363636364, \"mean_test_score\": 0.7090909090909091, \"std_test_score\": 0.09638840564006224, \"rank_test_score\": 14}, {\"mean_fit_time\": 0.0033176898956298827, \"std_fit_time\": 4.856712276943191e-05, \"mean_score_time\": 0.0034564733505249023, \"std_score_time\": 3.978980373977374e-05, \"param_kneighborsclassifier__n_neighbors\": 35, \"params\": {\"kneighborsclassifier__n_neighbors\": 35}, \"split0_test_score\": 0.6521739130434783, \"split1_test_score\": 0.8260869565217391, \"split2_test_score\": 0.5217391304347826, \"split3_test_score\": 0.7391304347826086, \"split4_test_score\": 0.7391304347826086, \"split5_test_score\": 0.8695652173913043, \"split6_test_score\": 0.782608695652174, \"split7_test_score\": 0.6363636363636364, \"split8_test_score\": 0.7727272727272727, \"split9_test_score\": 0.6363636363636364, \"mean_test_score\": 0.7175889328063241, \"std_test_score\": 0.09944639681502453, \"rank_test_score\": 2}, {\"mean_fit_time\": 0.003322339057922363, \"std_fit_time\": 5.058391083279905e-05, \"mean_score_time\": 0.0034582138061523436, \"std_score_time\": 2.0296914053990216e-05, \"param_kneighborsclassifier__n_neighbors\": 36, \"params\": {\"kneighborsclassifier__n_neighbors\": 36}, \"split0_test_score\": 0.6521739130434783, \"split1_test_score\": 0.782608695652174, \"split2_test_score\": 0.5217391304347826, \"split3_test_score\": 0.7391304347826086, \"split4_test_score\": 0.6956521739130435, \"split5_test_score\": 0.8695652173913043, \"split6_test_score\": 0.782608695652174, \"split7_test_score\": 0.6818181818181818, \"split8_test_score\": 0.7727272727272727, \"split9_test_score\": 0.6363636363636364, \"mean_test_score\": 0.7134387351778655, \"std_test_score\": 0.09267067946720862, \"rank_test_score\": 7}, {\"mean_fit_time\": 0.003307151794433594, \"std_fit_time\": 3.003805390707965e-05, \"mean_score_time\": 0.003452634811401367, \"std_score_time\": 2.0549745313596883e-05, \"param_kneighborsclassifier__n_neighbors\": 37, \"params\": {\"kneighborsclassifier__n_neighbors\": 37}, \"split0_test_score\": 0.6521739130434783, \"split1_test_score\": 0.8260869565217391, \"split2_test_score\": 0.5217391304347826, \"split3_test_score\": 0.6956521739130435, \"split4_test_score\": 0.6956521739130435, \"split5_test_score\": 0.8695652173913043, \"split6_test_score\": 0.782608695652174, \"split7_test_score\": 0.6363636363636364, \"split8_test_score\": 0.7727272727272727, \"split9_test_score\": 0.6363636363636364, \"mean_test_score\": 0.7088932806324111, \"std_test_score\": 0.09908283650275246, \"rank_test_score\": 15}, {\"mean_fit_time\": 0.0033097028732299804, \"std_fit_time\": 4.4763613633019714e-05, \"mean_score_time\": 0.0034595012664794924, \"std_score_time\": 3.3779596619724954e-05, \"param_kneighborsclassifier__n_neighbors\": 38, \"params\": {\"kneighborsclassifier__n_neighbors\": 38}, \"split0_test_score\": 0.6521739130434783, \"split1_test_score\": 0.8260869565217391, \"split2_test_score\": 0.5217391304347826, \"split3_test_score\": 0.6956521739130435, \"split4_test_score\": 0.6521739130434783, \"split5_test_score\": 0.8695652173913043, \"split6_test_score\": 0.782608695652174, \"split7_test_score\": 0.6818181818181818, \"split8_test_score\": 0.8181818181818182, \"split9_test_score\": 0.6818181818181818, \"mean_test_score\": 0.7181818181818181, \"std_test_score\": 0.09958278194436575, \"rank_test_score\": 1}, {\"mean_fit_time\": 0.0033055543899536133, \"std_fit_time\": 3.855343429463704e-05, \"mean_score_time\": 0.0034605026245117187, \"std_score_time\": 2.4378739821698054e-05, \"param_kneighborsclassifier__n_neighbors\": 39, \"params\": {\"kneighborsclassifier__n_neighbors\": 39}, \"split0_test_score\": 0.6521739130434783, \"split1_test_score\": 0.8260869565217391, \"split2_test_score\": 0.5217391304347826, \"split3_test_score\": 0.6521739130434783, \"split4_test_score\": 0.6521739130434783, \"split5_test_score\": 0.9130434782608695, \"split6_test_score\": 0.7391304347826086, \"split7_test_score\": 0.6818181818181818, \"split8_test_score\": 0.7727272727272727, \"split9_test_score\": 0.6363636363636364, \"mean_test_score\": 0.7047430830039525, \"std_test_score\": 0.10530908302863802, \"rank_test_score\": 22}, {\"mean_fit_time\": 0.003328561782836914, \"std_fit_time\": 5.718438680420773e-05, \"mean_score_time\": 0.0034693002700805662, \"std_score_time\": 2.1631556204133535e-05, \"param_kneighborsclassifier__n_neighbors\": 40, \"params\": {\"kneighborsclassifier__n_neighbors\": 40}, \"split0_test_score\": 0.6521739130434783, \"split1_test_score\": 0.8260869565217391, \"split2_test_score\": 0.5217391304347826, \"split3_test_score\": 0.6521739130434783, \"split4_test_score\": 0.6521739130434783, \"split5_test_score\": 0.8695652173913043, \"split6_test_score\": 0.7391304347826086, \"split7_test_score\": 0.6818181818181818, \"split8_test_score\": 0.7272727272727273, \"split9_test_score\": 0.6363636363636364, \"mean_test_score\": 0.6958498023715415, \"std_test_score\": 0.09474816168011554, \"rank_test_score\": 36}, {\"mean_fit_time\": 0.0033129453659057617, \"std_fit_time\": 2.289792936182798e-05, \"mean_score_time\": 0.003499269485473633, \"std_score_time\": 4.057993478346243e-05, \"param_kneighborsclassifier__n_neighbors\": 41, \"params\": {\"kneighborsclassifier__n_neighbors\": 41}, \"split0_test_score\": 0.6521739130434783, \"split1_test_score\": 0.8260869565217391, \"split2_test_score\": 0.5217391304347826, \"split3_test_score\": 0.6521739130434783, \"split4_test_score\": 0.6956521739130435, \"split5_test_score\": 0.8260869565217391, \"split6_test_score\": 0.7391304347826086, \"split7_test_score\": 0.6818181818181818, \"split8_test_score\": 0.7727272727272727, \"split9_test_score\": 0.6363636363636364, \"mean_test_score\": 0.700395256916996, \"std_test_score\": 0.08908726156997994, \"rank_test_score\": 29}, {\"mean_fit_time\": 0.0033075809478759766, \"std_fit_time\": 1.3808120637614745e-05, \"mean_score_time\": 0.0034893512725830077, \"std_score_time\": 5.5341589929326876e-05, \"param_kneighborsclassifier__n_neighbors\": 42, \"params\": {\"kneighborsclassifier__n_neighbors\": 42}, \"split0_test_score\": 0.6521739130434783, \"split1_test_score\": 0.8260869565217391, \"split2_test_score\": 0.5217391304347826, \"split3_test_score\": 0.6521739130434783, \"split4_test_score\": 0.6521739130434783, \"split5_test_score\": 0.8695652173913043, \"split6_test_score\": 0.782608695652174, \"split7_test_score\": 0.7272727272727273, \"split8_test_score\": 0.7727272727272727, \"split9_test_score\": 0.6363636363636364, \"mean_test_score\": 0.7092885375494071, \"std_test_score\": 0.09966609096384096, \"rank_test_score\": 11}, {\"mean_fit_time\": 0.0033105850219726563, \"std_fit_time\": 2.942769142684523e-05, \"mean_score_time\": 0.0034989356994628907, \"std_score_time\": 5.457382006296625e-05, \"param_kneighborsclassifier__n_neighbors\": 43, \"params\": {\"kneighborsclassifier__n_neighbors\": 43}, \"split0_test_score\": 0.6521739130434783, \"split1_test_score\": 0.8260869565217391, \"split2_test_score\": 0.5217391304347826, \"split3_test_score\": 0.6521739130434783, \"split4_test_score\": 0.6956521739130435, \"split5_test_score\": 0.8695652173913043, \"split6_test_score\": 0.782608695652174, \"split7_test_score\": 0.6363636363636364, \"split8_test_score\": 0.8181818181818182, \"split9_test_score\": 0.6363636363636364, \"mean_test_score\": 0.7090909090909092, \"std_test_score\": 0.10444360199154938, \"rank_test_score\": 13}, {\"mean_fit_time\": 0.0033034563064575197, \"std_fit_time\": 1.4075199886604691e-05, \"mean_score_time\": 0.0035048484802246093, \"std_score_time\": 6.043223900649721e-05, \"param_kneighborsclassifier__n_neighbors\": 44, \"params\": {\"kneighborsclassifier__n_neighbors\": 44}, \"split0_test_score\": 0.6521739130434783, \"split1_test_score\": 0.8260869565217391, \"split2_test_score\": 0.5217391304347826, \"split3_test_score\": 0.6521739130434783, \"split4_test_score\": 0.6521739130434783, \"split5_test_score\": 0.8695652173913043, \"split6_test_score\": 0.782608695652174, \"split7_test_score\": 0.6818181818181818, \"split8_test_score\": 0.8181818181818182, \"split9_test_score\": 0.6363636363636364, \"mean_test_score\": 0.7092885375494072, \"std_test_score\": 0.10372933996225156, \"rank_test_score\": 10}, {\"mean_fit_time\": 0.0033023595809936524, \"std_fit_time\": 1.1541257079813395e-05, \"mean_score_time\": 0.003493642807006836, \"std_score_time\": 3.918185755736557e-05, \"param_kneighborsclassifier__n_neighbors\": 45, \"params\": {\"kneighborsclassifier__n_neighbors\": 45}, \"split0_test_score\": 0.6521739130434783, \"split1_test_score\": 0.782608695652174, \"split2_test_score\": 0.5217391304347826, \"split3_test_score\": 0.6521739130434783, \"split4_test_score\": 0.6521739130434783, \"split5_test_score\": 0.8695652173913043, \"split6_test_score\": 0.782608695652174, \"split7_test_score\": 0.6363636363636364, \"split8_test_score\": 0.8181818181818182, \"split9_test_score\": 0.6363636363636364, \"mean_test_score\": 0.7003952569169961, \"std_test_score\": 0.10154026342525811, \"rank_test_score\": 28}, {\"mean_fit_time\": 0.003299999237060547, \"std_fit_time\": 1.2937058736707069e-05, \"mean_score_time\": 0.0035079002380371095, \"std_score_time\": 5.9209832087414394e-05, \"param_kneighborsclassifier__n_neighbors\": 46, \"params\": {\"kneighborsclassifier__n_neighbors\": 46}, \"split0_test_score\": 0.6521739130434783, \"split1_test_score\": 0.782608695652174, \"split2_test_score\": 0.5217391304347826, \"split3_test_score\": 0.6521739130434783, \"split4_test_score\": 0.6521739130434783, \"split5_test_score\": 0.8695652173913043, \"split6_test_score\": 0.782608695652174, \"split7_test_score\": 0.6818181818181818, \"split8_test_score\": 0.8181818181818182, \"split9_test_score\": 0.6363636363636364, \"mean_test_score\": 0.7049407114624506, \"std_test_score\": 0.09957042667529235, \"rank_test_score\": 18}, {\"mean_fit_time\": 0.003307151794433594, \"std_fit_time\": 1.3318532169885804e-05, \"mean_score_time\": 0.0035025835037231444, \"std_score_time\": 5.380388963214737e-05, \"param_kneighborsclassifier__n_neighbors\": 47, \"params\": {\"kneighborsclassifier__n_neighbors\": 47}, \"split0_test_score\": 0.6521739130434783, \"split1_test_score\": 0.782608695652174, \"split2_test_score\": 0.5217391304347826, \"split3_test_score\": 0.6521739130434783, \"split4_test_score\": 0.7391304347826086, \"split5_test_score\": 0.8695652173913043, \"split6_test_score\": 0.782608695652174, \"split7_test_score\": 0.6818181818181818, \"split8_test_score\": 0.8181818181818182, \"split9_test_score\": 0.6363636363636364, \"mean_test_score\": 0.7136363636363636, \"std_test_score\": 0.09837233207615922, \"rank_test_score\": 3}, {\"mean_fit_time\": 0.003315424919128418, \"std_fit_time\": 3.0688175935138604e-05, \"mean_score_time\": 0.003533196449279785, \"std_score_time\": 6.153269445303024e-05, \"param_kneighborsclassifier__n_neighbors\": 48, \"params\": {\"kneighborsclassifier__n_neighbors\": 48}, \"split0_test_score\": 0.6521739130434783, \"split1_test_score\": 0.782608695652174, \"split2_test_score\": 0.5217391304347826, \"split3_test_score\": 0.6521739130434783, \"split4_test_score\": 0.7391304347826086, \"split5_test_score\": 0.8695652173913043, \"split6_test_score\": 0.782608695652174, \"split7_test_score\": 0.6818181818181818, \"split8_test_score\": 0.8181818181818182, \"split9_test_score\": 0.6363636363636364, \"mean_test_score\": 0.7136363636363636, \"std_test_score\": 0.09837233207615922, \"rank_test_score\": 3}, {\"mean_fit_time\": 0.0033042192459106444, \"std_fit_time\": 1.3212971804745935e-05, \"mean_score_time\": 0.0035116910934448243, \"std_score_time\": 5.448200499277433e-05, \"param_kneighborsclassifier__n_neighbors\": 49, \"params\": {\"kneighborsclassifier__n_neighbors\": 49}, \"split0_test_score\": 0.6521739130434783, \"split1_test_score\": 0.782608695652174, \"split2_test_score\": 0.5217391304347826, \"split3_test_score\": 0.6521739130434783, \"split4_test_score\": 0.6956521739130435, \"split5_test_score\": 0.8695652173913043, \"split6_test_score\": 0.7391304347826086, \"split7_test_score\": 0.6818181818181818, \"split8_test_score\": 0.8181818181818182, \"split9_test_score\": 0.6363636363636364, \"mean_test_score\": 0.7049407114624506, \"std_test_score\": 0.09569809925491199, \"rank_test_score\": 18}, {\"mean_fit_time\": 0.0032953977584838866, \"std_fit_time\": 8.323130789040752e-06, \"mean_score_time\": 0.0035078048706054686, \"std_score_time\": 5.434696991511672e-05, \"param_kneighborsclassifier__n_neighbors\": 50, \"params\": {\"kneighborsclassifier__n_neighbors\": 50}, \"split0_test_score\": 0.6521739130434783, \"split1_test_score\": 0.782608695652174, \"split2_test_score\": 0.5217391304347826, \"split3_test_score\": 0.6521739130434783, \"split4_test_score\": 0.7391304347826086, \"split5_test_score\": 0.8695652173913043, \"split6_test_score\": 0.782608695652174, \"split7_test_score\": 0.6363636363636364, \"split8_test_score\": 0.7727272727272727, \"split9_test_score\": 0.6363636363636364, \"mean_test_score\": 0.7045454545454546, \"std_test_score\": 0.09667749068788169, \"rank_test_score\": 23}]}}, {\"mode\": \"vega-lite\"});\n",
       "</script>"
      ],
      "text/plain": [
       "alt.Chart(...)"
      ]
     },
     "metadata": {},
     "output_type": "display_data"
    }
   ],
   "source": [
    "#Creates a dataframe out of the grid\n",
    "heart_grid_df = pd.DataFrame(heart_grid.cv_results_)\n",
    "\n",
    "#Creates a line plot out of the dataframe, using neighbors on the X and mean test score on the Y\n",
    "grid_plot = alt.Chart(heart_grid_df, title=\"Figure 4: How Does Number of Neighbors Impact Test Score?\").mark_line(point=True).encode(\n",
    "    x=alt.X(\"param_kneighborsclassifier__n_neighbors\").title(\"Number of Neighbors\"),\n",
    "    y=alt.Y(\"mean_test_score\").title(\"Mean Test Score\")\n",
    ")\n",
    "\n",
    "display(grid_plot)"
   ]
  },
  {
   "cell_type": "markdown",
   "id": "008ef973-22db-43ea-91b4-f5ea7d553cf3",
   "metadata": {},
   "source": [
    "Visualizing the number of neighbors above shows an interesting trend.\n",
    "\n",
    "Looking at the line plot we can  see that increasing the number of neighbors significantly boosts the performance of the model, but it levels off very quickly. \n",
    "\n",
    "Lets sort the table by **rank_test_score** to find the best K values."
   ]
  },
  {
   "cell_type": "code",
   "execution_count": 7,
   "id": "f7203885-762b-4fdf-9bfc-4025402d3702",
   "metadata": {},
   "outputs": [
    {
     "data": {
      "text/plain": [
       "'Figure 5: Best K Values'"
      ]
     },
     "metadata": {},
     "output_type": "display_data"
    },
    {
     "data": {
      "text/html": [
       "<div>\n",
       "<style scoped>\n",
       "    .dataframe tbody tr th:only-of-type {\n",
       "        vertical-align: middle;\n",
       "    }\n",
       "\n",
       "    .dataframe tbody tr th {\n",
       "        vertical-align: top;\n",
       "    }\n",
       "\n",
       "    .dataframe thead th {\n",
       "        text-align: right;\n",
       "    }\n",
       "</style>\n",
       "<table border=\"1\" class=\"dataframe\">\n",
       "  <thead>\n",
       "    <tr style=\"text-align: right;\">\n",
       "      <th></th>\n",
       "      <th>rank_test_score</th>\n",
       "      <th>mean_test_score</th>\n",
       "      <th>param_kneighborsclassifier__n_neighbors</th>\n",
       "    </tr>\n",
       "  </thead>\n",
       "  <tbody>\n",
       "    <tr>\n",
       "      <th>37</th>\n",
       "      <td>1</td>\n",
       "      <td>0.718182</td>\n",
       "      <td>38</td>\n",
       "    </tr>\n",
       "    <tr>\n",
       "      <th>34</th>\n",
       "      <td>2</td>\n",
       "      <td>0.717589</td>\n",
       "      <td>35</td>\n",
       "    </tr>\n",
       "    <tr>\n",
       "      <th>47</th>\n",
       "      <td>3</td>\n",
       "      <td>0.713636</td>\n",
       "      <td>48</td>\n",
       "    </tr>\n",
       "    <tr>\n",
       "      <th>46</th>\n",
       "      <td>3</td>\n",
       "      <td>0.713636</td>\n",
       "      <td>47</td>\n",
       "    </tr>\n",
       "    <tr>\n",
       "      <th>31</th>\n",
       "      <td>3</td>\n",
       "      <td>0.713636</td>\n",
       "      <td>32</td>\n",
       "    </tr>\n",
       "  </tbody>\n",
       "</table>\n",
       "</div>"
      ],
      "text/plain": [
       "    rank_test_score  mean_test_score param_kneighborsclassifier__n_neighbors\n",
       "37                1         0.718182                                      38\n",
       "34                2         0.717589                                      35\n",
       "47                3         0.713636                                      48\n",
       "46                3         0.713636                                      47\n",
       "31                3         0.713636                                      32"
      ]
     },
     "metadata": {},
     "output_type": "display_data"
    }
   ],
   "source": [
    "#Sorts the grid dataframe by rank_test_score\n",
    "display(\"Figure 5: Best K Values\",\n",
    "        heart_grid_df.sort_values(by=\"rank_test_score\").head(5)\n",
    "        [[\"rank_test_score\", \"mean_test_score\", \"param_kneighborsclassifier__n_neighbors\"]]\n",
    "       )"
   ]
  },
  {
   "cell_type": "markdown",
   "id": "47f2d9c5-072b-46d2-9954-e1a173e019af",
   "metadata": {},
   "source": [
    "The best K value according to cross validation with 10 folds is $K=38$.\n",
    "\n",
    "Now that we have a K value lets fit the training data with our new K value\n",
    "\n",
    "We can then use our new fitted model to build predictions for our testing data."
   ]
  },
  {
   "cell_type": "code",
   "execution_count": 8,
   "id": "9bf2c98a-49a5-434d-8c64-9252f9498315",
   "metadata": {},
   "outputs": [
    {
     "data": {
      "text/plain": [
       "'Figure 6: How did we perform?'"
      ]
     },
     "metadata": {},
     "output_type": "display_data"
    },
    {
     "data": {
      "text/html": [
       "<div>\n",
       "<style scoped>\n",
       "    .dataframe tbody tr th:only-of-type {\n",
       "        vertical-align: middle;\n",
       "    }\n",
       "\n",
       "    .dataframe tbody tr th {\n",
       "        vertical-align: top;\n",
       "    }\n",
       "\n",
       "    .dataframe thead th {\n",
       "        text-align: right;\n",
       "    }\n",
       "</style>\n",
       "<table border=\"1\" class=\"dataframe\">\n",
       "  <thead>\n",
       "    <tr style=\"text-align: right;\">\n",
       "      <th>Predicted Diagnosis</th>\n",
       "      <th>0</th>\n",
       "      <th>1</th>\n",
       "    </tr>\n",
       "    <tr>\n",
       "      <th>Actual Diagnosis</th>\n",
       "      <th></th>\n",
       "      <th></th>\n",
       "    </tr>\n",
       "  </thead>\n",
       "  <tbody>\n",
       "    <tr>\n",
       "      <th>0</th>\n",
       "      <td>36</td>\n",
       "      <td>7</td>\n",
       "    </tr>\n",
       "    <tr>\n",
       "      <th>1</th>\n",
       "      <td>8</td>\n",
       "      <td>25</td>\n",
       "    </tr>\n",
       "  </tbody>\n",
       "</table>\n",
       "</div>"
      ],
      "text/plain": [
       "Predicted Diagnosis   0   1\n",
       "Actual Diagnosis           \n",
       "0                    36   7\n",
       "1                     8  25"
      ]
     },
     "metadata": {},
     "output_type": "display_data"
    }
   ],
   "source": [
    "#Sets K to 38\n",
    "knn = KNeighborsClassifier(n_neighbors=38)\n",
    "\n",
    "#Now fits the data using K = 38\n",
    "\n",
    "#Creates pipeline\n",
    "heart_pipe = make_pipeline(heart_pre, knn)\n",
    "\n",
    "#Fits training data onto the pipeline with diagnosis as the target variable\n",
    "heart_pipe.fit(\n",
    "    heart_train[[\"age\",\"cp\",\"trestbps\",\"chol\",\"thalach\"]],\n",
    "    heart_train[\"diagnosis\"])\n",
    "\n",
    "#Predicts a diganosis for the testing data\n",
    "heart_test = heart_test.assign(pred_diagnosis = \n",
    "                               heart_pipe.predict(heart_test[[\"age\",\"cp\",\"trestbps\",\"chol\",\"thalach\"]]))\n",
    "\n",
    "#Builds confusion matrix\n",
    "conf_df = heart_test[[\"diagnosis\",\"pred_diagnosis\"]]\n",
    "conf_df = conf_df.rename(columns={\n",
    "    \"diagnosis\" : \"Actual Diagnosis\",\n",
    "    \"pred_diagnosis\" : \"Predicted Diagnosis\"\n",
    "})\n",
    "\n",
    "conf_matrix = crosstab(conf_df[\"Actual Diagnosis\"], conf_df[\"Predicted Diagnosis\"])\n",
    "\n",
    "display(\"Figure 6: How did we perform?\", conf_matrix)"
   ]
  },
  {
   "cell_type": "markdown",
   "id": "6b0a928c-56e0-49af-9453-3899bde34c46",
   "metadata": {},
   "source": [
    "We can now evaluate our performance based on accuracy, precision and recall. \n",
    "\n",
    "With $61/76$ correct predictions total we achieved an $80.3\\%$ accuracy.\n",
    "\n",
    "With $25/32$ correct positive predictions we achieved an $78.1\\%$ precision.\n",
    "\n",
    "With $25/33$ true positives found we achieved a $75.8\\%$ recall."
   ]
  },
  {
   "cell_type": "markdown",
   "id": "885ca115-1871-45ac-8b7d-29adf7a82808",
   "metadata": {},
   "source": [
    "**Discussion**\n",
    "\n",
    "After constructing a model with K-nearest neighbors to classify heart disease based on age, resting blood pressure, serum cholesterol and maximum heart rate we were able to achieve a recall of $75.8\\%$ which suggests we could find roughly 3 in 4 patients with heart disease.\n",
    "\n",
    "Given we are in the realm of healthcare we are most likely concerned with recall, especially when it comes to more severe pathologies like heart disease. The cost of accidentally misdiagnosing a false positive is likely not as severe as letting someone go untreated and have a false negative.\n",
    "\n",
    "With an accuracy of $80.3\\%$ this also suggests we usually made the right diagnosis 4 in 5 times. Although inadequate as a standalone diagnostic tool, this could be a good starting point as a first-line way of finding people who should seek further medical treatment. Operating on such limited data could also reduce the quality of our model, if expanded to include more patients we could possibly expect to build more accurate models.\n",
    "\n",
    "These results suggest that the variables we chose (age, chest pain, resting blood pressure, serum cholesterol, and maximum heart rate) were good predictors of heart disease. Another possibility for improvement would be finding more health markers to include in our model, and would likely boost the performance of our model.\n",
    "\n",
    "These findings allow for earlier intervention of heart disease through changes in lifestyle, medication management, and, if necessary, surgical procedures. Early detection and treatment can prevent or delay the progression of heart disease, reducing the risk of complications such as heart attacks, strokes, and heart failure.\n",
    "\n",
    "This also poses questions about the future of medical diagnostics, especially given the emergence of machine learning in recent years. If we were able to build a relatively solid model off of limited data and tools what can advanced healthcare professionals use to help benefit them in screening and evaluating patients? Obviously we cannot replace trained doctors but as early detection systems predictive diagnostic models could be immensely useful in an already strained healthcare environment."
   ]
  },
  {
   "cell_type": "markdown",
   "id": "fd71bc17-7bab-4417-bde3-8ed7eff9522f",
   "metadata": {},
   "source": [
    "**References**\n",
    "\n",
    "Janosi, A., Steinbrunn, W., Pfisterer, M., & Detrano, R. (1988, July 1). Heart Disease. UCI Machine Learning Repository. https://doi.org/10.24432/C52P4X.\n",
    "\n",
    "John Hopkins Medicine. (2021). Atherosclerosis. Hopkins Medicine. https://www.hopkinsmedicine.org/health/conditions-and-diseases/atherosclerosis\n",
    "\n",
    "WHO’s Global Health Estimates. (2020, December 9). The top 10 causes of death. World Health Organization; WHO. https://www.who.int/news-room/fact-sheets/detail/the-top-10-causes-of-death"
   ]
  },
  {
   "cell_type": "code",
   "execution_count": null,
   "id": "32034ea5-5da8-4fca-9268-bb8f6de1c9e0",
   "metadata": {},
   "outputs": [],
   "source": []
  }
 ],
 "metadata": {
  "kernelspec": {
   "display_name": "Python 3 (ipykernel)",
   "language": "python",
   "name": "python3"
  },
  "language_info": {
   "codemirror_mode": {
    "name": "ipython",
    "version": 3
   },
   "file_extension": ".py",
   "mimetype": "text/x-python",
   "name": "python",
   "nbconvert_exporter": "python",
   "pygments_lexer": "ipython3",
   "version": "3.11.6"
  }
 },
 "nbformat": 4,
 "nbformat_minor": 5
}
