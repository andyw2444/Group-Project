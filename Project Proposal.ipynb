{
 "cells": [
  {
   "cell_type": "markdown",
   "id": "e7dd3808-f4c3-4cfd-a11b-4dff2e1a4f00",
   "metadata": {},
   "source": [
    "Project Proposal"
   ]
  },
  {
   "cell_type": "code",
   "execution_count": null,
   "id": "78cdd192-178b-4c35-a544-80b9c7ed4076",
   "metadata": {},
   "outputs": [],
   "source": [
    "We are going to be"
   ]
  }
 ],
 "metadata": {
  "kernelspec": {
   "display_name": "Python 3 (ipykernel)",
   "language": "python",
   "name": "python3"
  },
  "language_info": {
   "codemirror_mode": {
    "name": "ipython",
    "version": 3
   },
   "file_extension": ".py",
   "mimetype": "text/x-python",
   "name": "python",
   "nbconvert_exporter": "python",
   "pygments_lexer": "ipython3",
   "version": "3.11.6"
  }
 },
 "nbformat": 4,
 "nbformat_minor": 5
}
