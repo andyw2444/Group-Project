{
 "cells": [
  {
   "cell_type": "markdown",
   "id": "e7dd3808-f4c3-4cfd-a11b-4dff2e1a4f00",
   "metadata": {},
   "source": [
    "**Decoding Heart Disease** "
   ]
  },
  {
   "cell_type": "markdown",
   "id": "4a5ef8c4-6c99-4cc0-a1a4-9338fefa24d6",
   "metadata": {},
   "source": [
    "**Intro**\n",
    "\n",
    "Heart disease can refer to a wide range of diseases, but in this case refers to coronary artery disease which involves reduction of blood flow to the heart due to atherosclerosis. Atherosclerotic plaque can build up in the arteries, and if near the heart can lead to heart attacks and other complications.\n",
    "\n",
    "The data set contains data from 4 databases, including Cleveland, Hungary, Switzerland, and Long Beach (Virginia), the data from Cleveland was the only one processed.\n",
    "\n",
    "It has 14 usable attributes, half of which are integer variables and the other half are categorical. Our project revolves around answering the question, **what factors contributes to heart disease?**\n",
    "\n"
   ]
  },
  {
   "cell_type": "code",
   "execution_count": 1,
   "id": "ace4172b-dc5a-441c-b599-79c602680dd2",
   "metadata": {},
   "outputs": [
    {
     "name": "stdout",
     "output_type": "stream",
     "text": [
      "Requirement already satisfied: ucimlrepo in /opt/conda/lib/python3.11/site-packages (0.0.3)\n"
     ]
    }
   ],
   "source": [
    "#imports basic tools and the dataset below\n",
    "\n",
    "import pandas as pd\n",
    "import altair as alt\n",
    "!pip3 install -U ucimlrepo"
   ]
  },
  {
   "cell_type": "code",
   "execution_count": 2,
   "id": "549d501f-4983-4543-a032-756895259dec",
   "metadata": {},
   "outputs": [],
   "source": [
    "from ucimlrepo import fetch_ucirepo\n",
    "\n",
    "#imports dataset\n",
    "heart_disease = fetch_ucirepo(name='Heart Disease')"
   ]
  },
  {
   "cell_type": "code",
   "execution_count": 1,
   "id": "4a385cfc-a2c5-4e5b-ae5e-5073f1c8de89",
   "metadata": {},
   "outputs": [
    {
     "ename": "NameError",
     "evalue": "name 'heart_disease' is not defined",
     "output_type": "error",
     "traceback": [
      "\u001b[0;31m---------------------------------------------------------------------------\u001b[0m",
      "\u001b[0;31mNameError\u001b[0m                                 Traceback (most recent call last)",
      "Cell \u001b[0;32mIn[1], line 2\u001b[0m\n\u001b[1;32m      1\u001b[0m \u001b[38;5;66;03m#Sets up classifiers and diagnosis\u001b[39;00m\n\u001b[0;32m----> 2\u001b[0m classifiers \u001b[38;5;241m=\u001b[39m \u001b[43mheart_disease\u001b[49m\u001b[38;5;241m.\u001b[39mdata\u001b[38;5;241m.\u001b[39mfeatures \n\u001b[1;32m      3\u001b[0m diagnosis \u001b[38;5;241m=\u001b[39m heart_disease\u001b[38;5;241m.\u001b[39mdata\u001b[38;5;241m.\u001b[39mtargets \n\u001b[1;32m      5\u001b[0m \u001b[38;5;66;03m#Creates dataframe\u001b[39;00m\n",
      "\u001b[0;31mNameError\u001b[0m: name 'heart_disease' is not defined"
     ]
    }
   ],
   "source": [
    "#Sets up classifiers and diagnosis\n",
    "classifiers = heart_disease.data.features \n",
    "diagnosis = heart_disease.data.targets \n",
    "\n",
    "#Creates dataframe\n",
    "heart_df = classifiers.assign(diagnosis = diagnosis)\n",
    "\n",
    "#Drops all columns except for predictors and diagnosis\n",
    "heart_df_filter = heart_df[[\"age\", \"sex\", \"cp\", \"trestbps\", \"chol\", \"thalach\", \"diagnosis\"]]\n",
    "\n",
    "#Imports relevant sk-learn tools\n",
    "from sklearn.model_selection import train_test_split, cross_val_score, GridSearchCV\n",
    "from sklearn.neighbors import KNeighborsClassifier, KNeighborsRegressor\n",
    "from sklearn.preprocessing import StandardScaler\n",
    "\n",
    "train_heart, test_heart = train_test_split(heart_df_filter, train_size = 0.75)\n",
    "\n",
    "#Grabs all the different diagnoses to get an initial table\n",
    "train_heart_mean = train_heart.groupby(\"diagnosis\").mean(numeric_only=True).reset_index()\n",
    "\n",
    "train_heart_mean \n",
    "\n",
    "#Plot of age and heart disease\n",
    "\n",
    "age = alt.Chart(train_heart).mark_bar().encode(\n",
    "    x=alt.X(\"age\", bin=alt.Bin(step=5)).title(\"Age\"),\n",
    "    y=alt.Y(\"count()\").title(\"# of Patients\"),\n",
    "    color=alt.Color(\"diagnosis\").title(\"Severity\")\n",
    ").properties(title=\"Age and Heart Disease\")\n",
    "\n",
    "\n",
    "#Plot of max heart rate and heart disease\n",
    "\n",
    "max_hr = alt.Chart(train_heart).mark_bar().encode(\n",
    "    x=alt.X(\"thalach\", bin=alt.Bin(step=20)).title(\"Max HR (Exercise)\"),\n",
    "    y=alt.Y(\"count()\").title(\"# of Patients\"),\n",
    "    color=alt.Color(\"diagnosis\").title(\"Severity\")\n",
    ").properties(title=\"Max Heart Rate and Heart Disease\")\n",
    "\n",
    "display(age | max_hr)"
   ]
  },
  {
   "cell_type": "markdown",
   "id": "af7bf49f-dd59-42be-b81e-ff4e1ba768ca",
   "metadata": {},
   "source": [
    "Initially we can see a couple of trends just by grouping the data by diagnosis, most notably a null diagnosis being correlated with youth, a lower sex value (0 being female), lower chest pain (1 being asymptomatic), lower resting blood pressure and a higher maximum heart rate.\n",
    "\n",
    "To further investigate a couple of links let's look at some graphs."
   ]
  },
  {
   "cell_type": "code",
   "execution_count": 4,
   "id": "081ba22d-646d-4e23-898c-e8464812c126",
   "metadata": {},
   "outputs": [
    {
     "data": {
      "text/html": [
       "\n",
       "<style>\n",
       "  #altair-viz-aff97b72bd094f6e922bf44708f821ae.vega-embed {\n",
       "    width: 100%;\n",
       "    display: flex;\n",
       "  }\n",
       "\n",
       "  #altair-viz-aff97b72bd094f6e922bf44708f821ae.vega-embed details,\n",
       "  #altair-viz-aff97b72bd094f6e922bf44708f821ae.vega-embed details summary {\n",
       "    position: relative;\n",
       "  }\n",
       "</style>\n",
       "<div id=\"altair-viz-aff97b72bd094f6e922bf44708f821ae\"></div>\n",
       "<script type=\"text/javascript\">\n",
       "  var VEGA_DEBUG = (typeof VEGA_DEBUG == \"undefined\") ? {} : VEGA_DEBUG;\n",
       "  (function(spec, embedOpt){\n",
       "    let outputDiv = document.currentScript.previousElementSibling;\n",
       "    if (outputDiv.id !== \"altair-viz-aff97b72bd094f6e922bf44708f821ae\") {\n",
       "      outputDiv = document.getElementById(\"altair-viz-aff97b72bd094f6e922bf44708f821ae\");\n",
       "    }\n",
       "    const paths = {\n",
       "      \"vega\": \"https://cdn.jsdelivr.net/npm/vega@5?noext\",\n",
       "      \"vega-lib\": \"https://cdn.jsdelivr.net/npm/vega-lib?noext\",\n",
       "      \"vega-lite\": \"https://cdn.jsdelivr.net/npm/vega-lite@5.8.0?noext\",\n",
       "      \"vega-embed\": \"https://cdn.jsdelivr.net/npm/vega-embed@6?noext\",\n",
       "    };\n",
       "\n",
       "    function maybeLoadScript(lib, version) {\n",
       "      var key = `${lib.replace(\"-\", \"\")}_version`;\n",
       "      return (VEGA_DEBUG[key] == version) ?\n",
       "        Promise.resolve(paths[lib]) :\n",
       "        new Promise(function(resolve, reject) {\n",
       "          var s = document.createElement('script');\n",
       "          document.getElementsByTagName(\"head\")[0].appendChild(s);\n",
       "          s.async = true;\n",
       "          s.onload = () => {\n",
       "            VEGA_DEBUG[key] = version;\n",
       "            return resolve(paths[lib]);\n",
       "          };\n",
       "          s.onerror = () => reject(`Error loading script: ${paths[lib]}`);\n",
       "          s.src = paths[lib];\n",
       "        });\n",
       "    }\n",
       "\n",
       "    function showError(err) {\n",
       "      outputDiv.innerHTML = `<div class=\"error\" style=\"color:red;\">${err}</div>`;\n",
       "      throw err;\n",
       "    }\n",
       "\n",
       "    function displayChart(vegaEmbed) {\n",
       "      vegaEmbed(outputDiv, spec, embedOpt)\n",
       "        .catch(err => showError(`Javascript Error: ${err.message}<br>This usually means there's a typo in your chart specification. See the javascript console for the full traceback.`));\n",
       "    }\n",
       "\n",
       "    if(typeof define === \"function\" && define.amd) {\n",
       "      requirejs.config({paths});\n",
       "      require([\"vega-embed\"], displayChart, err => showError(`Error loading script: ${err.message}`));\n",
       "    } else {\n",
       "      maybeLoadScript(\"vega\", \"5\")\n",
       "        .then(() => maybeLoadScript(\"vega-lite\", \"5.8.0\"))\n",
       "        .then(() => maybeLoadScript(\"vega-embed\", \"6\"))\n",
       "        .catch(showError)\n",
       "        .then(() => displayChart(vegaEmbed));\n",
       "    }\n",
       "  })({\"config\": {\"view\": {\"continuousWidth\": 300, \"continuousHeight\": 300}}, \"hconcat\": [{\"mark\": {\"type\": \"bar\"}, \"encoding\": {\"color\": {\"field\": \"diagnosis\", \"title\": \"Severity\", \"type\": \"quantitative\"}, \"x\": {\"bin\": {\"step\": 5}, \"field\": \"age\", \"title\": \"Age\", \"type\": \"quantitative\"}, \"y\": {\"aggregate\": \"count\", \"title\": \"# of Patients\", \"type\": \"quantitative\"}}, \"title\": \"Age and Heart Disease\"}, {\"mark\": {\"type\": \"bar\"}, \"encoding\": {\"color\": {\"field\": \"diagnosis\", \"title\": \"Severity\", \"type\": \"quantitative\"}, \"x\": {\"bin\": {\"step\": 20}, \"field\": \"thalach\", \"title\": \"Max HR (Exercise)\", \"type\": \"quantitative\"}, \"y\": {\"aggregate\": \"count\", \"title\": \"# of Patients\", \"type\": \"quantitative\"}}, \"title\": \"Max Heart Rate and Heart Disease\"}], \"data\": {\"name\": \"data-e1104ea621bae5f8be2f5aa74cd897bd\"}, \"$schema\": \"https://vega.github.io/schema/vega-lite/v5.8.0.json\", \"datasets\": {\"data-e1104ea621bae5f8be2f5aa74cd897bd\": [{\"age\": 50, \"sex\": 1, \"cp\": 4, \"trestbps\": 144, \"chol\": 200, \"thalach\": 126, \"diagnosis\": 3}, {\"age\": 70, \"sex\": 1, \"cp\": 4, \"trestbps\": 145, \"chol\": 174, \"thalach\": 125, \"diagnosis\": 4}, {\"age\": 58, \"sex\": 1, \"cp\": 4, \"trestbps\": 128, \"chol\": 216, \"thalach\": 131, \"diagnosis\": 1}, {\"age\": 66, \"sex\": 0, \"cp\": 1, \"trestbps\": 150, \"chol\": 226, \"thalach\": 114, \"diagnosis\": 0}, {\"age\": 65, \"sex\": 1, \"cp\": 4, \"trestbps\": 135, \"chol\": 254, \"thalach\": 127, \"diagnosis\": 2}, {\"age\": 52, \"sex\": 1, \"cp\": 3, \"trestbps\": 172, \"chol\": 199, \"thalach\": 162, \"diagnosis\": 0}, {\"age\": 64, \"sex\": 1, \"cp\": 4, \"trestbps\": 145, \"chol\": 212, \"thalach\": 132, \"diagnosis\": 4}, {\"age\": 44, \"sex\": 1, \"cp\": 2, \"trestbps\": 130, \"chol\": 219, \"thalach\": 188, \"diagnosis\": 0}, {\"age\": 59, \"sex\": 1, \"cp\": 2, \"trestbps\": 140, \"chol\": 221, \"thalach\": 164, \"diagnosis\": 0}, {\"age\": 66, \"sex\": 0, \"cp\": 4, \"trestbps\": 178, \"chol\": 228, \"thalach\": 165, \"diagnosis\": 3}, {\"age\": 59, \"sex\": 1, \"cp\": 4, \"trestbps\": 140, \"chol\": 177, \"thalach\": 162, \"diagnosis\": 2}, {\"age\": 62, \"sex\": 1, \"cp\": 2, \"trestbps\": 128, \"chol\": 208, \"thalach\": 140, \"diagnosis\": 0}, {\"age\": 40, \"sex\": 1, \"cp\": 1, \"trestbps\": 140, \"chol\": 199, \"thalach\": 178, \"diagnosis\": 0}, {\"age\": 51, \"sex\": 1, \"cp\": 4, \"trestbps\": 140, \"chol\": 299, \"thalach\": 173, \"diagnosis\": 1}, {\"age\": 62, \"sex\": 0, \"cp\": 3, \"trestbps\": 130, \"chol\": 263, \"thalach\": 97, \"diagnosis\": 2}, {\"age\": 54, \"sex\": 1, \"cp\": 3, \"trestbps\": 125, \"chol\": 273, \"thalach\": 152, \"diagnosis\": 0}, {\"age\": 54, \"sex\": 0, \"cp\": 3, \"trestbps\": 110, \"chol\": 214, \"thalach\": 158, \"diagnosis\": 0}, {\"age\": 58, \"sex\": 1, \"cp\": 3, \"trestbps\": 140, \"chol\": 211, \"thalach\": 165, \"diagnosis\": 0}, {\"age\": 39, \"sex\": 1, \"cp\": 3, \"trestbps\": 140, \"chol\": 321, \"thalach\": 182, \"diagnosis\": 0}, {\"age\": 60, \"sex\": 1, \"cp\": 3, \"trestbps\": 140, \"chol\": 185, \"thalach\": 155, \"diagnosis\": 1}, {\"age\": 44, \"sex\": 0, \"cp\": 3, \"trestbps\": 118, \"chol\": 242, \"thalach\": 149, \"diagnosis\": 0}, {\"age\": 70, \"sex\": 1, \"cp\": 2, \"trestbps\": 156, \"chol\": 245, \"thalach\": 143, \"diagnosis\": 0}, {\"age\": 51, \"sex\": 1, \"cp\": 3, \"trestbps\": 94, \"chol\": 227, \"thalach\": 154, \"diagnosis\": 0}, {\"age\": 66, \"sex\": 1, \"cp\": 4, \"trestbps\": 160, \"chol\": 228, \"thalach\": 138, \"diagnosis\": 0}, {\"age\": 55, \"sex\": 1, \"cp\": 4, \"trestbps\": 140, \"chol\": 217, \"thalach\": 111, \"diagnosis\": 3}, {\"age\": 59, \"sex\": 1, \"cp\": 3, \"trestbps\": 126, \"chol\": 218, \"thalach\": 134, \"diagnosis\": 2}, {\"age\": 54, \"sex\": 1, \"cp\": 3, \"trestbps\": 150, \"chol\": 232, \"thalach\": 165, \"diagnosis\": 0}, {\"age\": 56, \"sex\": 1, \"cp\": 2, \"trestbps\": 120, \"chol\": 236, \"thalach\": 178, \"diagnosis\": 0}, {\"age\": 61, \"sex\": 0, \"cp\": 4, \"trestbps\": 130, \"chol\": 330, \"thalach\": 169, \"diagnosis\": 1}, {\"age\": 56, \"sex\": 1, \"cp\": 1, \"trestbps\": 120, \"chol\": 193, \"thalach\": 162, \"diagnosis\": 0}, {\"age\": 59, \"sex\": 1, \"cp\": 4, \"trestbps\": 135, \"chol\": 234, \"thalach\": 161, \"diagnosis\": 0}, {\"age\": 60, \"sex\": 0, \"cp\": 4, \"trestbps\": 158, \"chol\": 305, \"thalach\": 161, \"diagnosis\": 1}, {\"age\": 41, \"sex\": 1, \"cp\": 2, \"trestbps\": 135, \"chol\": 203, \"thalach\": 132, \"diagnosis\": 0}, {\"age\": 44, \"sex\": 1, \"cp\": 3, \"trestbps\": 120, \"chol\": 226, \"thalach\": 169, \"diagnosis\": 0}, {\"age\": 57, \"sex\": 1, \"cp\": 3, \"trestbps\": 150, \"chol\": 126, \"thalach\": 173, \"diagnosis\": 0}, {\"age\": 62, \"sex\": 0, \"cp\": 4, \"trestbps\": 140, \"chol\": 394, \"thalach\": 157, \"diagnosis\": 0}, {\"age\": 44, \"sex\": 1, \"cp\": 4, \"trestbps\": 112, \"chol\": 290, \"thalach\": 153, \"diagnosis\": 2}, {\"age\": 64, \"sex\": 0, \"cp\": 4, \"trestbps\": 180, \"chol\": 325, \"thalach\": 154, \"diagnosis\": 0}, {\"age\": 59, \"sex\": 1, \"cp\": 1, \"trestbps\": 178, \"chol\": 270, \"thalach\": 145, \"diagnosis\": 0}, {\"age\": 42, \"sex\": 1, \"cp\": 1, \"trestbps\": 148, \"chol\": 244, \"thalach\": 178, \"diagnosis\": 0}, {\"age\": 54, \"sex\": 1, \"cp\": 4, \"trestbps\": 110, \"chol\": 206, \"thalach\": 108, \"diagnosis\": 3}, {\"age\": 54, \"sex\": 1, \"cp\": 2, \"trestbps\": 108, \"chol\": 309, \"thalach\": 156, \"diagnosis\": 0}, {\"age\": 53, \"sex\": 1, \"cp\": 3, \"trestbps\": 130, \"chol\": 246, \"thalach\": 173, \"diagnosis\": 0}, {\"age\": 56, \"sex\": 0, \"cp\": 4, \"trestbps\": 200, \"chol\": 288, \"thalach\": 133, \"diagnosis\": 3}, {\"age\": 59, \"sex\": 1, \"cp\": 1, \"trestbps\": 134, \"chol\": 204, \"thalach\": 162, \"diagnosis\": 1}, {\"age\": 44, \"sex\": 0, \"cp\": 3, \"trestbps\": 108, \"chol\": 141, \"thalach\": 175, \"diagnosis\": 0}, {\"age\": 57, \"sex\": 1, \"cp\": 4, \"trestbps\": 150, \"chol\": 276, \"thalach\": 112, \"diagnosis\": 1}, {\"age\": 57, \"sex\": 0, \"cp\": 4, \"trestbps\": 120, \"chol\": 354, \"thalach\": 163, \"diagnosis\": 0}, {\"age\": 64, \"sex\": 0, \"cp\": 3, \"trestbps\": 140, \"chol\": 313, \"thalach\": 133, \"diagnosis\": 0}, {\"age\": 52, \"sex\": 1, \"cp\": 3, \"trestbps\": 138, \"chol\": 223, \"thalach\": 169, \"diagnosis\": 0}, {\"age\": 41, \"sex\": 0, \"cp\": 2, \"trestbps\": 126, \"chol\": 306, \"thalach\": 163, \"diagnosis\": 0}, {\"age\": 49, \"sex\": 0, \"cp\": 4, \"trestbps\": 130, \"chol\": 269, \"thalach\": 163, \"diagnosis\": 0}, {\"age\": 51, \"sex\": 1, \"cp\": 3, \"trestbps\": 100, \"chol\": 222, \"thalach\": 143, \"diagnosis\": 0}, {\"age\": 63, \"sex\": 1, \"cp\": 4, \"trestbps\": 130, \"chol\": 330, \"thalach\": 132, \"diagnosis\": 3}, {\"age\": 45, \"sex\": 1, \"cp\": 4, \"trestbps\": 104, \"chol\": 208, \"thalach\": 148, \"diagnosis\": 0}, {\"age\": 58, \"sex\": 1, \"cp\": 4, \"trestbps\": 114, \"chol\": 318, \"thalach\": 140, \"diagnosis\": 4}, {\"age\": 48, \"sex\": 1, \"cp\": 2, \"trestbps\": 110, \"chol\": 229, \"thalach\": 168, \"diagnosis\": 1}, {\"age\": 50, \"sex\": 1, \"cp\": 4, \"trestbps\": 150, \"chol\": 243, \"thalach\": 128, \"diagnosis\": 4}, {\"age\": 52, \"sex\": 1, \"cp\": 1, \"trestbps\": 152, \"chol\": 298, \"thalach\": 178, \"diagnosis\": 0}, {\"age\": 64, \"sex\": 1, \"cp\": 4, \"trestbps\": 120, \"chol\": 246, \"thalach\": 96, \"diagnosis\": 3}, {\"age\": 42, \"sex\": 1, \"cp\": 3, \"trestbps\": 130, \"chol\": 180, \"thalach\": 150, \"diagnosis\": 0}, {\"age\": 58, \"sex\": 1, \"cp\": 3, \"trestbps\": 105, \"chol\": 240, \"thalach\": 154, \"diagnosis\": 0}, {\"age\": 64, \"sex\": 1, \"cp\": 1, \"trestbps\": 110, \"chol\": 211, \"thalach\": 144, \"diagnosis\": 0}, {\"age\": 42, \"sex\": 1, \"cp\": 3, \"trestbps\": 120, \"chol\": 240, \"thalach\": 194, \"diagnosis\": 0}, {\"age\": 46, \"sex\": 1, \"cp\": 3, \"trestbps\": 150, \"chol\": 231, \"thalach\": 147, \"diagnosis\": 1}, {\"age\": 56, \"sex\": 1, \"cp\": 3, \"trestbps\": 130, \"chol\": 256, \"thalach\": 142, \"diagnosis\": 2}, {\"age\": 48, \"sex\": 1, \"cp\": 3, \"trestbps\": 124, \"chol\": 255, \"thalach\": 175, \"diagnosis\": 0}, {\"age\": 43, \"sex\": 1, \"cp\": 4, \"trestbps\": 150, \"chol\": 247, \"thalach\": 171, \"diagnosis\": 0}, {\"age\": 50, \"sex\": 1, \"cp\": 3, \"trestbps\": 129, \"chol\": 196, \"thalach\": 163, \"diagnosis\": 0}, {\"age\": 58, \"sex\": 0, \"cp\": 3, \"trestbps\": 120, \"chol\": 340, \"thalach\": 172, \"diagnosis\": 0}, {\"age\": 54, \"sex\": 1, \"cp\": 3, \"trestbps\": 120, \"chol\": 258, \"thalach\": 147, \"diagnosis\": 0}, {\"age\": 68, \"sex\": 0, \"cp\": 3, \"trestbps\": 120, \"chol\": 211, \"thalach\": 115, \"diagnosis\": 0}, {\"age\": 60, \"sex\": 0, \"cp\": 3, \"trestbps\": 120, \"chol\": 178, \"thalach\": 96, \"diagnosis\": 0}, {\"age\": 47, \"sex\": 1, \"cp\": 3, \"trestbps\": 138, \"chol\": 257, \"thalach\": 156, \"diagnosis\": 0}, {\"age\": 59, \"sex\": 1, \"cp\": 3, \"trestbps\": 150, \"chol\": 212, \"thalach\": 157, \"diagnosis\": 0}, {\"age\": 59, \"sex\": 1, \"cp\": 4, \"trestbps\": 110, \"chol\": 239, \"thalach\": 142, \"diagnosis\": 2}, {\"age\": 58, \"sex\": 1, \"cp\": 2, \"trestbps\": 125, \"chol\": 220, \"thalach\": 144, \"diagnosis\": 0}, {\"age\": 41, \"sex\": 0, \"cp\": 3, \"trestbps\": 112, \"chol\": 268, \"thalach\": 172, \"diagnosis\": 0}, {\"age\": 58, \"sex\": 0, \"cp\": 4, \"trestbps\": 100, \"chol\": 248, \"thalach\": 122, \"diagnosis\": 0}, {\"age\": 58, \"sex\": 1, \"cp\": 3, \"trestbps\": 132, \"chol\": 224, \"thalach\": 173, \"diagnosis\": 3}, {\"age\": 66, \"sex\": 1, \"cp\": 4, \"trestbps\": 112, \"chol\": 212, \"thalach\": 132, \"diagnosis\": 2}, {\"age\": 77, \"sex\": 1, \"cp\": 4, \"trestbps\": 125, \"chol\": 304, \"thalach\": 162, \"diagnosis\": 4}, {\"age\": 43, \"sex\": 0, \"cp\": 3, \"trestbps\": 122, \"chol\": 213, \"thalach\": 165, \"diagnosis\": 0}, {\"age\": 62, \"sex\": 1, \"cp\": 3, \"trestbps\": 130, \"chol\": 231, \"thalach\": 146, \"diagnosis\": 0}, {\"age\": 53, \"sex\": 1, \"cp\": 4, \"trestbps\": 142, \"chol\": 226, \"thalach\": 111, \"diagnosis\": 0}, {\"age\": 56, \"sex\": 0, \"cp\": 2, \"trestbps\": 140, \"chol\": 294, \"thalach\": 153, \"diagnosis\": 0}, {\"age\": 56, \"sex\": 1, \"cp\": 2, \"trestbps\": 120, \"chol\": 240, \"thalach\": 169, \"diagnosis\": 0}, {\"age\": 63, \"sex\": 1, \"cp\": 4, \"trestbps\": 130, \"chol\": 254, \"thalach\": 147, \"diagnosis\": 2}, {\"age\": 61, \"sex\": 1, \"cp\": 4, \"trestbps\": 148, \"chol\": 203, \"thalach\": 161, \"diagnosis\": 2}, {\"age\": 48, \"sex\": 0, \"cp\": 3, \"trestbps\": 130, \"chol\": 275, \"thalach\": 139, \"diagnosis\": 0}, {\"age\": 69, \"sex\": 1, \"cp\": 1, \"trestbps\": 160, \"chol\": 234, \"thalach\": 131, \"diagnosis\": 0}, {\"age\": 67, \"sex\": 1, \"cp\": 4, \"trestbps\": 125, \"chol\": 254, \"thalach\": 163, \"diagnosis\": 3}, {\"age\": 62, \"sex\": 1, \"cp\": 4, \"trestbps\": 120, \"chol\": 267, \"thalach\": 99, \"diagnosis\": 1}, {\"age\": 65, \"sex\": 1, \"cp\": 4, \"trestbps\": 110, \"chol\": 248, \"thalach\": 158, \"diagnosis\": 1}, {\"age\": 68, \"sex\": 1, \"cp\": 3, \"trestbps\": 180, \"chol\": 274, \"thalach\": 150, \"diagnosis\": 3}, {\"age\": 69, \"sex\": 1, \"cp\": 3, \"trestbps\": 140, \"chol\": 254, \"thalach\": 146, \"diagnosis\": 2}, {\"age\": 57, \"sex\": 1, \"cp\": 3, \"trestbps\": 150, \"chol\": 168, \"thalach\": 174, \"diagnosis\": 0}, {\"age\": 60, \"sex\": 1, \"cp\": 4, \"trestbps\": 130, \"chol\": 206, \"thalach\": 132, \"diagnosis\": 4}, {\"age\": 55, \"sex\": 1, \"cp\": 2, \"trestbps\": 130, \"chol\": 262, \"thalach\": 155, \"diagnosis\": 0}, {\"age\": 45, \"sex\": 1, \"cp\": 4, \"trestbps\": 142, \"chol\": 309, \"thalach\": 147, \"diagnosis\": 3}, {\"age\": 67, \"sex\": 0, \"cp\": 4, \"trestbps\": 106, \"chol\": 223, \"thalach\": 142, \"diagnosis\": 0}, {\"age\": 67, \"sex\": 1, \"cp\": 3, \"trestbps\": 152, \"chol\": 212, \"thalach\": 150, \"diagnosis\": 1}, {\"age\": 68, \"sex\": 1, \"cp\": 4, \"trestbps\": 144, \"chol\": 193, \"thalach\": 141, \"diagnosis\": 2}, {\"age\": 53, \"sex\": 0, \"cp\": 4, \"trestbps\": 138, \"chol\": 234, \"thalach\": 160, \"diagnosis\": 0}, {\"age\": 67, \"sex\": 0, \"cp\": 3, \"trestbps\": 115, \"chol\": 564, \"thalach\": 160, \"diagnosis\": 0}, {\"age\": 60, \"sex\": 0, \"cp\": 3, \"trestbps\": 102, \"chol\": 318, \"thalach\": 160, \"diagnosis\": 0}, {\"age\": 58, \"sex\": 0, \"cp\": 2, \"trestbps\": 136, \"chol\": 319, \"thalach\": 152, \"diagnosis\": 3}, {\"age\": 59, \"sex\": 1, \"cp\": 1, \"trestbps\": 160, \"chol\": 273, \"thalach\": 125, \"diagnosis\": 1}, {\"age\": 59, \"sex\": 1, \"cp\": 4, \"trestbps\": 164, \"chol\": 176, \"thalach\": 90, \"diagnosis\": 3}, {\"age\": 62, \"sex\": 0, \"cp\": 4, \"trestbps\": 138, \"chol\": 294, \"thalach\": 106, \"diagnosis\": 2}, {\"age\": 55, \"sex\": 0, \"cp\": 4, \"trestbps\": 180, \"chol\": 327, \"thalach\": 117, \"diagnosis\": 2}, {\"age\": 63, \"sex\": 0, \"cp\": 3, \"trestbps\": 135, \"chol\": 252, \"thalach\": 172, \"diagnosis\": 0}, {\"age\": 50, \"sex\": 0, \"cp\": 2, \"trestbps\": 120, \"chol\": 244, \"thalach\": 162, \"diagnosis\": 0}, {\"age\": 41, \"sex\": 1, \"cp\": 4, \"trestbps\": 110, \"chol\": 172, \"thalach\": 158, \"diagnosis\": 1}, {\"age\": 41, \"sex\": 0, \"cp\": 2, \"trestbps\": 105, \"chol\": 198, \"thalach\": 168, \"diagnosis\": 0}, {\"age\": 44, \"sex\": 1, \"cp\": 3, \"trestbps\": 140, \"chol\": 235, \"thalach\": 180, \"diagnosis\": 0}, {\"age\": 54, \"sex\": 0, \"cp\": 3, \"trestbps\": 135, \"chol\": 304, \"thalach\": 170, \"diagnosis\": 0}, {\"age\": 65, \"sex\": 0, \"cp\": 3, \"trestbps\": 140, \"chol\": 417, \"thalach\": 157, \"diagnosis\": 0}, {\"age\": 61, \"sex\": 1, \"cp\": 3, \"trestbps\": 150, \"chol\": 243, \"thalach\": 137, \"diagnosis\": 0}, {\"age\": 64, \"sex\": 1, \"cp\": 3, \"trestbps\": 125, \"chol\": 309, \"thalach\": 131, \"diagnosis\": 1}, {\"age\": 62, \"sex\": 0, \"cp\": 4, \"trestbps\": 160, \"chol\": 164, \"thalach\": 145, \"diagnosis\": 3}, {\"age\": 58, \"sex\": 1, \"cp\": 2, \"trestbps\": 120, \"chol\": 284, \"thalach\": 160, \"diagnosis\": 1}, {\"age\": 60, \"sex\": 1, \"cp\": 4, \"trestbps\": 117, \"chol\": 230, \"thalach\": 160, \"diagnosis\": 2}, {\"age\": 63, \"sex\": 0, \"cp\": 4, \"trestbps\": 108, \"chol\": 269, \"thalach\": 169, \"diagnosis\": 1}, {\"age\": 35, \"sex\": 1, \"cp\": 2, \"trestbps\": 122, \"chol\": 192, \"thalach\": 174, \"diagnosis\": 0}, {\"age\": 54, \"sex\": 1, \"cp\": 4, \"trestbps\": 124, \"chol\": 266, \"thalach\": 109, \"diagnosis\": 1}, {\"age\": 46, \"sex\": 0, \"cp\": 3, \"trestbps\": 142, \"chol\": 177, \"thalach\": 160, \"diagnosis\": 0}, {\"age\": 45, \"sex\": 1, \"cp\": 2, \"trestbps\": 128, \"chol\": 308, \"thalach\": 170, \"diagnosis\": 0}, {\"age\": 62, \"sex\": 0, \"cp\": 4, \"trestbps\": 140, \"chol\": 268, \"thalach\": 160, \"diagnosis\": 3}, {\"age\": 44, \"sex\": 1, \"cp\": 2, \"trestbps\": 120, \"chol\": 220, \"thalach\": 170, \"diagnosis\": 0}, {\"age\": 62, \"sex\": 0, \"cp\": 4, \"trestbps\": 124, \"chol\": 209, \"thalach\": 163, \"diagnosis\": 0}, {\"age\": 48, \"sex\": 1, \"cp\": 4, \"trestbps\": 130, \"chol\": 256, \"thalach\": 150, \"diagnosis\": 3}, {\"age\": 43, \"sex\": 1, \"cp\": 4, \"trestbps\": 110, \"chol\": 211, \"thalach\": 161, \"diagnosis\": 0}, {\"age\": 46, \"sex\": 0, \"cp\": 4, \"trestbps\": 138, \"chol\": 243, \"thalach\": 152, \"diagnosis\": 0}, {\"age\": 41, \"sex\": 1, \"cp\": 2, \"trestbps\": 110, \"chol\": 235, \"thalach\": 153, \"diagnosis\": 0}, {\"age\": 76, \"sex\": 0, \"cp\": 3, \"trestbps\": 140, \"chol\": 197, \"thalach\": 116, \"diagnosis\": 0}, {\"age\": 47, \"sex\": 1, \"cp\": 4, \"trestbps\": 110, \"chol\": 275, \"thalach\": 118, \"diagnosis\": 1}, {\"age\": 34, \"sex\": 1, \"cp\": 1, \"trestbps\": 118, \"chol\": 182, \"thalach\": 174, \"diagnosis\": 0}, {\"age\": 45, \"sex\": 1, \"cp\": 1, \"trestbps\": 110, \"chol\": 264, \"thalach\": 132, \"diagnosis\": 1}, {\"age\": 51, \"sex\": 1, \"cp\": 1, \"trestbps\": 125, \"chol\": 213, \"thalach\": 125, \"diagnosis\": 0}, {\"age\": 70, \"sex\": 1, \"cp\": 4, \"trestbps\": 130, \"chol\": 322, \"thalach\": 109, \"diagnosis\": 1}, {\"age\": 67, \"sex\": 1, \"cp\": 4, \"trestbps\": 100, \"chol\": 299, \"thalach\": 125, \"diagnosis\": 3}, {\"age\": 50, \"sex\": 0, \"cp\": 4, \"trestbps\": 110, \"chol\": 254, \"thalach\": 159, \"diagnosis\": 0}, {\"age\": 46, \"sex\": 1, \"cp\": 4, \"trestbps\": 120, \"chol\": 249, \"thalach\": 144, \"diagnosis\": 1}, {\"age\": 34, \"sex\": 0, \"cp\": 2, \"trestbps\": 118, \"chol\": 210, \"thalach\": 192, \"diagnosis\": 0}, {\"age\": 55, \"sex\": 0, \"cp\": 4, \"trestbps\": 128, \"chol\": 205, \"thalach\": 130, \"diagnosis\": 3}, {\"age\": 50, \"sex\": 1, \"cp\": 3, \"trestbps\": 140, \"chol\": 233, \"thalach\": 163, \"diagnosis\": 1}, {\"age\": 60, \"sex\": 1, \"cp\": 4, \"trestbps\": 130, \"chol\": 253, \"thalach\": 144, \"diagnosis\": 1}, {\"age\": 49, \"sex\": 1, \"cp\": 2, \"trestbps\": 130, \"chol\": 266, \"thalach\": 171, \"diagnosis\": 0}, {\"age\": 58, \"sex\": 0, \"cp\": 1, \"trestbps\": 150, \"chol\": 283, \"thalach\": 162, \"diagnosis\": 0}, {\"age\": 40, \"sex\": 1, \"cp\": 4, \"trestbps\": 110, \"chol\": 167, \"thalach\": 114, \"diagnosis\": 3}, {\"age\": 48, \"sex\": 1, \"cp\": 2, \"trestbps\": 130, \"chol\": 245, \"thalach\": 180, \"diagnosis\": 0}, {\"age\": 56, \"sex\": 1, \"cp\": 4, \"trestbps\": 125, \"chol\": 249, \"thalach\": 144, \"diagnosis\": 1}, {\"age\": 43, \"sex\": 1, \"cp\": 4, \"trestbps\": 120, \"chol\": 177, \"thalach\": 120, \"diagnosis\": 3}, {\"age\": 63, \"sex\": 0, \"cp\": 4, \"trestbps\": 124, \"chol\": 197, \"thalach\": 136, \"diagnosis\": 1}, {\"age\": 49, \"sex\": 1, \"cp\": 3, \"trestbps\": 120, \"chol\": 188, \"thalach\": 139, \"diagnosis\": 3}, {\"age\": 67, \"sex\": 1, \"cp\": 4, \"trestbps\": 120, \"chol\": 229, \"thalach\": 129, \"diagnosis\": 1}, {\"age\": 51, \"sex\": 1, \"cp\": 4, \"trestbps\": 140, \"chol\": 261, \"thalach\": 186, \"diagnosis\": 0}, {\"age\": 49, \"sex\": 0, \"cp\": 2, \"trestbps\": 134, \"chol\": 271, \"thalach\": 162, \"diagnosis\": 0}, {\"age\": 35, \"sex\": 1, \"cp\": 4, \"trestbps\": 126, \"chol\": 282, \"thalach\": 156, \"diagnosis\": 1}, {\"age\": 41, \"sex\": 1, \"cp\": 3, \"trestbps\": 130, \"chol\": 214, \"thalach\": 168, \"diagnosis\": 0}, {\"age\": 66, \"sex\": 1, \"cp\": 4, \"trestbps\": 120, \"chol\": 302, \"thalach\": 151, \"diagnosis\": 0}, {\"age\": 43, \"sex\": 1, \"cp\": 3, \"trestbps\": 130, \"chol\": 315, \"thalach\": 162, \"diagnosis\": 0}, {\"age\": 40, \"sex\": 1, \"cp\": 4, \"trestbps\": 152, \"chol\": 223, \"thalach\": 181, \"diagnosis\": 1}, {\"age\": 65, \"sex\": 0, \"cp\": 4, \"trestbps\": 150, \"chol\": 225, \"thalach\": 114, \"diagnosis\": 4}, {\"age\": 45, \"sex\": 0, \"cp\": 4, \"trestbps\": 138, \"chol\": 236, \"thalach\": 152, \"diagnosis\": 0}, {\"age\": 44, \"sex\": 1, \"cp\": 2, \"trestbps\": 120, \"chol\": 263, \"thalach\": 173, \"diagnosis\": 0}, {\"age\": 59, \"sex\": 0, \"cp\": 4, \"trestbps\": 174, \"chol\": 249, \"thalach\": 143, \"diagnosis\": 1}, {\"age\": 47, \"sex\": 1, \"cp\": 3, \"trestbps\": 108, \"chol\": 243, \"thalach\": 152, \"diagnosis\": 1}, {\"age\": 57, \"sex\": 1, \"cp\": 2, \"trestbps\": 154, \"chol\": 232, \"thalach\": 164, \"diagnosis\": 1}, {\"age\": 67, \"sex\": 1, \"cp\": 4, \"trestbps\": 120, \"chol\": 237, \"thalach\": 71, \"diagnosis\": 2}, {\"age\": 51, \"sex\": 0, \"cp\": 3, \"trestbps\": 130, \"chol\": 256, \"thalach\": 149, \"diagnosis\": 0}, {\"age\": 45, \"sex\": 0, \"cp\": 2, \"trestbps\": 112, \"chol\": 160, \"thalach\": 138, \"diagnosis\": 0}, {\"age\": 57, \"sex\": 1, \"cp\": 4, \"trestbps\": 110, \"chol\": 335, \"thalach\": 143, \"diagnosis\": 2}, {\"age\": 63, \"sex\": 1, \"cp\": 4, \"trestbps\": 140, \"chol\": 187, \"thalach\": 144, \"diagnosis\": 2}, {\"age\": 55, \"sex\": 0, \"cp\": 2, \"trestbps\": 132, \"chol\": 342, \"thalach\": 166, \"diagnosis\": 0}, {\"age\": 53, \"sex\": 1, \"cp\": 3, \"trestbps\": 130, \"chol\": 197, \"thalach\": 152, \"diagnosis\": 0}, {\"age\": 35, \"sex\": 1, \"cp\": 4, \"trestbps\": 120, \"chol\": 198, \"thalach\": 130, \"diagnosis\": 1}, {\"age\": 52, \"sex\": 1, \"cp\": 4, \"trestbps\": 128, \"chol\": 204, \"thalach\": 156, \"diagnosis\": 2}, {\"age\": 63, \"sex\": 0, \"cp\": 2, \"trestbps\": 140, \"chol\": 195, \"thalach\": 179, \"diagnosis\": 0}, {\"age\": 42, \"sex\": 0, \"cp\": 3, \"trestbps\": 120, \"chol\": 209, \"thalach\": 173, \"diagnosis\": 0}, {\"age\": 54, \"sex\": 1, \"cp\": 4, \"trestbps\": 122, \"chol\": 286, \"thalach\": 116, \"diagnosis\": 3}, {\"age\": 56, \"sex\": 1, \"cp\": 4, \"trestbps\": 132, \"chol\": 184, \"thalach\": 105, \"diagnosis\": 1}, {\"age\": 46, \"sex\": 0, \"cp\": 2, \"trestbps\": 105, \"chol\": 204, \"thalach\": 172, \"diagnosis\": 0}, {\"age\": 35, \"sex\": 0, \"cp\": 4, \"trestbps\": 138, \"chol\": 183, \"thalach\": 182, \"diagnosis\": 0}, {\"age\": 65, \"sex\": 1, \"cp\": 4, \"trestbps\": 120, \"chol\": 177, \"thalach\": 140, \"diagnosis\": 0}, {\"age\": 74, \"sex\": 0, \"cp\": 2, \"trestbps\": 120, \"chol\": 269, \"thalach\": 121, \"diagnosis\": 0}, {\"age\": 52, \"sex\": 1, \"cp\": 2, \"trestbps\": 120, \"chol\": 325, \"thalach\": 172, \"diagnosis\": 0}, {\"age\": 42, \"sex\": 1, \"cp\": 2, \"trestbps\": 120, \"chol\": 295, \"thalach\": 162, \"diagnosis\": 0}, {\"age\": 48, \"sex\": 1, \"cp\": 4, \"trestbps\": 122, \"chol\": 222, \"thalach\": 186, \"diagnosis\": 0}, {\"age\": 37, \"sex\": 0, \"cp\": 3, \"trestbps\": 120, \"chol\": 215, \"thalach\": 170, \"diagnosis\": 0}, {\"age\": 45, \"sex\": 0, \"cp\": 2, \"trestbps\": 130, \"chol\": 234, \"thalach\": 175, \"diagnosis\": 0}, {\"age\": 64, \"sex\": 0, \"cp\": 4, \"trestbps\": 130, \"chol\": 303, \"thalach\": 122, \"diagnosis\": 0}, {\"age\": 37, \"sex\": 1, \"cp\": 3, \"trestbps\": 130, \"chol\": 250, \"thalach\": 187, \"diagnosis\": 0}, {\"age\": 51, \"sex\": 0, \"cp\": 3, \"trestbps\": 140, \"chol\": 308, \"thalach\": 142, \"diagnosis\": 0}, {\"age\": 62, \"sex\": 0, \"cp\": 4, \"trestbps\": 150, \"chol\": 244, \"thalach\": 154, \"diagnosis\": 1}, {\"age\": 57, \"sex\": 1, \"cp\": 4, \"trestbps\": 152, \"chol\": 274, \"thalach\": 88, \"diagnosis\": 1}, {\"age\": 60, \"sex\": 0, \"cp\": 1, \"trestbps\": 150, \"chol\": 240, \"thalach\": 171, \"diagnosis\": 0}, {\"age\": 60, \"sex\": 1, \"cp\": 4, \"trestbps\": 125, \"chol\": 258, \"thalach\": 141, \"diagnosis\": 1}, {\"age\": 58, \"sex\": 1, \"cp\": 4, \"trestbps\": 150, \"chol\": 270, \"thalach\": 111, \"diagnosis\": 3}, {\"age\": 54, \"sex\": 1, \"cp\": 4, \"trestbps\": 140, \"chol\": 239, \"thalach\": 160, \"diagnosis\": 0}, {\"age\": 58, \"sex\": 1, \"cp\": 4, \"trestbps\": 100, \"chol\": 234, \"thalach\": 156, \"diagnosis\": 2}, {\"age\": 57, \"sex\": 1, \"cp\": 3, \"trestbps\": 128, \"chol\": 229, \"thalach\": 150, \"diagnosis\": 1}, {\"age\": 57, \"sex\": 0, \"cp\": 4, \"trestbps\": 140, \"chol\": 241, \"thalach\": 123, \"diagnosis\": 1}, {\"age\": 63, \"sex\": 0, \"cp\": 4, \"trestbps\": 150, \"chol\": 407, \"thalach\": 154, \"diagnosis\": 4}, {\"age\": 71, \"sex\": 0, \"cp\": 2, \"trestbps\": 160, \"chol\": 302, \"thalach\": 162, \"diagnosis\": 0}, {\"age\": 46, \"sex\": 1, \"cp\": 4, \"trestbps\": 140, \"chol\": 311, \"thalach\": 120, \"diagnosis\": 2}, {\"age\": 58, \"sex\": 0, \"cp\": 4, \"trestbps\": 170, \"chol\": 225, \"thalach\": 146, \"diagnosis\": 2}, {\"age\": 42, \"sex\": 1, \"cp\": 4, \"trestbps\": 140, \"chol\": 226, \"thalach\": 178, \"diagnosis\": 0}, {\"age\": 57, \"sex\": 1, \"cp\": 4, \"trestbps\": 132, \"chol\": 207, \"thalach\": 168, \"diagnosis\": 0}, {\"age\": 44, \"sex\": 1, \"cp\": 3, \"trestbps\": 130, \"chol\": 233, \"thalach\": 179, \"diagnosis\": 0}, {\"age\": 61, \"sex\": 1, \"cp\": 4, \"trestbps\": 138, \"chol\": 166, \"thalach\": 125, \"diagnosis\": 4}, {\"age\": 58, \"sex\": 0, \"cp\": 4, \"trestbps\": 130, \"chol\": 197, \"thalach\": 131, \"diagnosis\": 0}, {\"age\": 44, \"sex\": 1, \"cp\": 4, \"trestbps\": 110, \"chol\": 197, \"thalach\": 177, \"diagnosis\": 1}, {\"age\": 56, \"sex\": 0, \"cp\": 4, \"trestbps\": 134, \"chol\": 409, \"thalach\": 150, \"diagnosis\": 2}, {\"age\": 51, \"sex\": 1, \"cp\": 3, \"trestbps\": 125, \"chol\": 245, \"thalach\": 166, \"diagnosis\": 0}, {\"age\": 52, \"sex\": 1, \"cp\": 1, \"trestbps\": 118, \"chol\": 186, \"thalach\": 190, \"diagnosis\": 0}, {\"age\": 43, \"sex\": 1, \"cp\": 4, \"trestbps\": 115, \"chol\": 303, \"thalach\": 181, \"diagnosis\": 0}, {\"age\": 54, \"sex\": 1, \"cp\": 2, \"trestbps\": 192, \"chol\": 283, \"thalach\": 195, \"diagnosis\": 1}, {\"age\": 56, \"sex\": 1, \"cp\": 2, \"trestbps\": 130, \"chol\": 221, \"thalach\": 163, \"diagnosis\": 0}, {\"age\": 48, \"sex\": 1, \"cp\": 4, \"trestbps\": 124, \"chol\": 274, \"thalach\": 166, \"diagnosis\": 3}, {\"age\": 52, \"sex\": 1, \"cp\": 2, \"trestbps\": 134, \"chol\": 201, \"thalach\": 158, \"diagnosis\": 0}, {\"age\": 54, \"sex\": 1, \"cp\": 4, \"trestbps\": 110, \"chol\": 239, \"thalach\": 126, \"diagnosis\": 3}, {\"age\": 41, \"sex\": 1, \"cp\": 3, \"trestbps\": 112, \"chol\": 250, \"thalach\": 179, \"diagnosis\": 0}, {\"age\": 65, \"sex\": 0, \"cp\": 3, \"trestbps\": 155, \"chol\": 269, \"thalach\": 148, \"diagnosis\": 0}, {\"age\": 66, \"sex\": 1, \"cp\": 2, \"trestbps\": 160, \"chol\": 246, \"thalach\": 120, \"diagnosis\": 2}, {\"age\": 52, \"sex\": 1, \"cp\": 4, \"trestbps\": 108, \"chol\": 233, \"thalach\": 147, \"diagnosis\": 0}]}}, {\"mode\": \"vega-lite\"});\n",
       "</script>"
      ],
      "text/plain": [
       "alt.HConcatChart(...)"
      ]
     },
     "metadata": {},
     "output_type": "display_data"
    }
   ],
   "source": [
    "#Plot of age and heart disease\n",
    "\n",
    "age = alt.Chart(train_heart).mark_bar().encode(\n",
    "    x=alt.X(\"age\", bin=alt.Bin(step=5)).title(\"Age\"),\n",
    "    y=alt.Y(\"count()\").title(\"# of Patients\"),\n",
    "    color=alt.Color(\"diagnosis\").title(\"Severity\")\n",
    ").properties(title=\"Age and Heart Disease\")\n",
    "\n",
    "\n",
    "#Plot of max heart rate and heart disease\n",
    "\n",
    "max_hr = alt.Chart(train_heart).mark_bar().encode(\n",
    "    x=alt.X(\"thalach\", bin=alt.Bin(step=20)).title(\"Max HR (Exercise)\"),\n",
    "    y=alt.Y(\"count()\").title(\"# of Patients\"),\n",
    "    color=alt.Color(\"diagnosis\").title(\"Severity\")\n",
    ").properties(title=\"Max Heart Rate and Heart Disease\")\n",
    "\n",
    "display(age | max_hr)"
   ]
  },
  {
   "cell_type": "markdown",
   "id": "53cead3c-6a52-4184-84a3-88d7b4804c14",
   "metadata": {},
   "source": [
    "These visualizations show a couple of expected trends, the proportion of younger people 25-55 with more severe diagnoses, i.e. 2 or 3 is much lower than those 55 and up.\n",
    "\n",
    "As for max heart rate there is significant negative correlation with max heart rate and heart disease. The 160-180 group is dominated by a null diagnosis, 140-160 has at least a majority being heart disease free, but as we go lower the prevalence of heart disease becomes the norm, not the exception."
   ]
  },
  {
   "cell_type": "markdown",
   "id": "6d908802-834e-4559-9c97-9898480a563b",
   "metadata": {},
   "source": [
    "**Methods**\n",
    "\n",
    "The variables we have decided to select are **(age)**, **(sex)**, chest pain (**cp**), resting blood pressure **(trestbps)**, serum cholesterol **(chol)** and maximum heart rate **(thalach)**.\n",
    "\n",
    "Generally these variables were chosen as the most relevant predictors and others were excluded due to relevancy or overlap with some of the variables we already chose.\n",
    "\n",
    "Using various chosen predictor variables we will attempt to generate a model that can accurately classify heart disease **(num)** as a target variable. We will fine-tune and re-adjust our model on unseen test data and re-iteratively do this with random seeds until it can reliably classify the target variable. \n",
    "\n",
    "Most of our visualizations are likely to be histograms, as we want to show quantification of numerical values, as it relates to the target variable. Since even the categorical values are stored as numbers (i.e. sex/chest pain) this should make our life easier.\n"
   ]
  },
  {
   "cell_type": "markdown",
   "id": "e2b866ce-7fbe-4f53-b110-6e07d91c7380",
   "metadata": {},
   "source": [
    "**Expectations**\n",
    "\n",
    "We expect that heart disease will be correlated with lower max heart rate, age, cholesterol levels, resting blood pressure, angina symptoms and males.\n",
    "\n",
    "\n",
    "These findings will allow for early mitigation of certain factors through changes in lifestyle, medications, and surgeries, if needed. Diagnosing heart disease will also help in preventing or reducing the likelihood of heart attacks, strokes, and heart failure. \n",
    "\n",
    "\n",
    "Future questions that our findings could lead involve how to combat some of these variables that may contribute  to heart disease and whether fixing one factor could improve other factors involved (e.g. whether lowering resting blood pressure could increasemax heart rate).\n"
   ]
  }
 ],
 "metadata": {
  "kernelspec": {
   "display_name": "Python 3 (ipykernel)",
   "language": "python",
   "name": "python3"
  },
  "language_info": {
   "codemirror_mode": {
    "name": "ipython",
    "version": 3
   },
   "file_extension": ".py",
   "mimetype": "text/x-python",
   "name": "python",
   "nbconvert_exporter": "python",
   "pygments_lexer": "ipython3",
   "version": "3.11.6"
  }
 },
 "nbformat": 4,
 "nbformat_minor": 5
}
