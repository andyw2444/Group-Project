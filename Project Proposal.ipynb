{
 "cells": [
  {
   "cell_type": "markdown",
   "id": "e7dd3808-f4c3-4cfd-a11b-4dff2e1a4f00",
   "metadata": {},
   "source": [
    "How "
   ]
  },
  {
   "cell_type": "markdown",
   "id": "011af1a6-e12c-4fdd-9ad3-6a5be9faf059",
   "metadata": {},
   "source": [
    "Heart disease is a broad spectrum of ___\n",
    "\n",
    "We will be attempting to classify different types of chest pain (cp) based off of certain predictor variables related to heart health.\n",
    "\n",
    "The heart disease data set contains data from 4 databases, including Cleveland, Hungary, Switzerland, and Long Beach (Virginia). The data from Cleveland was the only one processed.\n",
    "\n",
    "It has 14 usable attributes, half of which are integer variables and the other half are categorical. Using various integer variables we will attempt to generate a predictive model than can accurately model 1 of 4 different types of chest pain.\n",
    "\n",
    "The 4 types of chest pain included are:\n",
    "    1) Typical Angina\n",
    "    2) Atypical Angina\n",
    "    3) Non-anginal Pain\n",
    "    4) Asymptomatic\n",
    "\n",
    "Angina refers to chest pain because of decreased blood flow to the heart, and in theory we should be able to pick out certain trends that will point towards angina. "
   ]
  }
 ],
 "metadata": {
  "kernelspec": {
   "display_name": "Python 3 (ipykernel)",
   "language": "python",
   "name": "python3"
  },
  "language_info": {
   "codemirror_mode": {
    "name": "ipython",
    "version": 3
   },
   "file_extension": ".py",
   "mimetype": "text/x-python",
   "name": "python",
   "nbconvert_exporter": "python",
   "pygments_lexer": "ipython3",
   "version": "3.11.6"
  }
 },
 "nbformat": 4,
 "nbformat_minor": 5
}
