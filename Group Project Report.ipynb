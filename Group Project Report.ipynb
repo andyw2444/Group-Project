{
 "cells": [
  {
   "cell_type": "markdown",
   "id": "bb94d567-02a6-447d-8a66-e05ee06451b9",
   "metadata": {},
   "source": [
    "**Decoding Heart Disease**"
   ]
  },
  {
   "cell_type": "markdown",
   "id": "d36ef733-958a-4f96-b32e-b2ac6327a4de",
   "metadata": {},
   "source": [
    "**Introduction**\n",
    "\n",
    "\n",
    "Heart disease can refer to a wide range of diseases, but in this case refers to coronary artery disease which involves reduction of blood flow to the heart due to atherosclerosis. Atherosclerotic plaque can build up in the arteries, and if near the heart can lead to heart attacks and other complications. The causes aren’t exactly clear, but plaque gradually builds up and is accompanied by inflammation of the arterial walls, reducing blood flow to vital organs and extremities (John Hopkins Medicine, 2021).\n",
    "\n",
    "\n",
    "The data set contains data from 4 databases, including Cleveland, Hungary, Switzerland, and Long Beach (Virginia), the data from Cleveland was the only one processed. It has 14 usable attributes, half of which are integer variables and the other half are categorical. We have attempted to answer the question, **what factors contributes to heart disease?**\n",
    "\n",
    "\n",
    "Heart disease is of growing concern, especially as humans continue to grow older and has become the leading factor of death for humans around the world accounting for 16% of total deaths globally (WHO’s Global Health Estimates, 2020). It also disproportionately affects wealthier nations and more importantly in this investigation has correlations with many health metrics and biological markers (WHO’s Global Health Estimates, 2020). \n",
    "\n",
    "We have built a model that will take certain predictive health markers and we will be attempting to ascribe to the severity (if present) of heart disease.\n"
   ]
  },
  {
   "cell_type": "code",
   "execution_count": 1,
   "id": "060b2251-cda0-483a-9e13-6be46c980b74",
   "metadata": {},
   "outputs": [
    {
     "name": "stdout",
     "output_type": "stream",
     "text": [
      "Requirement already satisfied: ucimlrepo in /opt/conda/lib/python3.11/site-packages (0.0.6)\n"
     ]
    }
   ],
   "source": [
    "#imports basic tools and the dataset below\n",
    "\n",
    "import pandas as pd\n",
    "import altair as alt\n",
    "import numpy as np\n",
    "!pip3 install -U ucimlrepo"
   ]
  },
  {
   "cell_type": "code",
   "execution_count": 2,
   "id": "44f5486e-e335-4220-96ba-a0b6126624cc",
   "metadata": {},
   "outputs": [],
   "source": [
    "from ucimlrepo import fetch_ucirepo\n",
    "\n",
    "#imports dataset\n",
    "heart_disease = fetch_ucirepo(name='Heart Disease')"
   ]
  },
  {
   "cell_type": "code",
   "execution_count": 17,
   "id": "d396ad76-b8dc-464d-8cf6-46935fa5fc41",
   "metadata": {},
   "outputs": [
    {
     "data": {
      "text/plain": [
       "'Figure 1: Heart Disease grouped by diagnoses'"
      ]
     },
     "metadata": {},
     "output_type": "display_data"
    },
    {
     "data": {
      "text/html": [
       "<div>\n",
       "<style scoped>\n",
       "    .dataframe tbody tr th:only-of-type {\n",
       "        vertical-align: middle;\n",
       "    }\n",
       "\n",
       "    .dataframe tbody tr th {\n",
       "        vertical-align: top;\n",
       "    }\n",
       "\n",
       "    .dataframe thead th {\n",
       "        text-align: right;\n",
       "    }\n",
       "</style>\n",
       "<table border=\"1\" class=\"dataframe\">\n",
       "  <thead>\n",
       "    <tr style=\"text-align: right;\">\n",
       "      <th></th>\n",
       "      <th>diagnosis</th>\n",
       "      <th>age</th>\n",
       "      <th>cp</th>\n",
       "      <th>trestbps</th>\n",
       "      <th>chol</th>\n",
       "      <th>thalach</th>\n",
       "    </tr>\n",
       "  </thead>\n",
       "  <tbody>\n",
       "    <tr>\n",
       "      <th>0</th>\n",
       "      <td>0</td>\n",
       "      <td>52.128205</td>\n",
       "      <td>2.769231</td>\n",
       "      <td>129.247863</td>\n",
       "      <td>241.068376</td>\n",
       "      <td>158.410256</td>\n",
       "    </tr>\n",
       "    <tr>\n",
       "      <th>1</th>\n",
       "      <td>1</td>\n",
       "      <td>55.090909</td>\n",
       "      <td>3.295455</td>\n",
       "      <td>133.659091</td>\n",
       "      <td>252.590909</td>\n",
       "      <td>145.681818</td>\n",
       "    </tr>\n",
       "    <tr>\n",
       "      <th>2</th>\n",
       "      <td>2</td>\n",
       "      <td>58.555556</td>\n",
       "      <td>3.703704</td>\n",
       "      <td>135.185185</td>\n",
       "      <td>256.000000</td>\n",
       "      <td>137.000000</td>\n",
       "    </tr>\n",
       "    <tr>\n",
       "      <th>3</th>\n",
       "      <td>3</td>\n",
       "      <td>56.214286</td>\n",
       "      <td>3.857143</td>\n",
       "      <td>137.107143</td>\n",
       "      <td>238.892857</td>\n",
       "      <td>132.928571</td>\n",
       "    </tr>\n",
       "    <tr>\n",
       "      <th>4</th>\n",
       "      <td>4</td>\n",
       "      <td>59.363636</td>\n",
       "      <td>3.636364</td>\n",
       "      <td>138.545455</td>\n",
       "      <td>243.727273</td>\n",
       "      <td>140.181818</td>\n",
       "    </tr>\n",
       "  </tbody>\n",
       "</table>\n",
       "</div>"
      ],
      "text/plain": [
       "   diagnosis        age        cp    trestbps        chol     thalach\n",
       "0          0  52.128205  2.769231  129.247863  241.068376  158.410256\n",
       "1          1  55.090909  3.295455  133.659091  252.590909  145.681818\n",
       "2          2  58.555556  3.703704  135.185185  256.000000  137.000000\n",
       "3          3  56.214286  3.857143  137.107143  238.892857  132.928571\n",
       "4          4  59.363636  3.636364  138.545455  243.727273  140.181818"
      ]
     },
     "metadata": {},
     "output_type": "display_data"
    }
   ],
   "source": [
    "#Sets up classifiers and diagnosis\n",
    "classifiers = heart_disease.data.features \n",
    "diagnosis = heart_disease.data.targets \n",
    "\n",
    "#Creates dataframe\n",
    "heart_df = classifiers.assign(diagnosis = diagnosis)\n",
    "\n",
    "#Drops all columns except for predictors and diagnosis\n",
    "heart_df_filter = heart_df[[\"age\", \"cp\", \"trestbps\", \"chol\", \"thalach\", \"diagnosis\"]]\n",
    "\n",
    "#Imports sk-learn tools\n",
    "from sklearn.model_selection import train_test_split, cross_val_score, GridSearchCV, cross_validate\n",
    "from sklearn.neighbors import KNeighborsClassifier, KNeighborsRegressor\n",
    "from sklearn.preprocessing import StandardScaler\n",
    "from sklearn.compose import make_column_transformer\n",
    "from sklearn.pipeline import make_pipeline\n",
    "from sklearn.metrics import recall_score\n",
    "\n",
    "#sets a initial random seed to make data reproducable\n",
    "np.random.seed(1000)\n",
    "\n",
    "heart_train, heart_test = train_test_split(heart_df_filter, train_size = 0.75)\n",
    "\n",
    "#Grabs all the different diagnoses to get an initial table\n",
    "heart_train_mean = heart_train.groupby(\"diagnosis\").mean(numeric_only=True).reset_index()\n",
    "\n",
    "display(\"Figure 1: Heart Disease grouped by diagnoses\", heart_train_mean)\n"
   ]
  },
  {
   "cell_type": "markdown",
   "id": "271b23f6-49d0-4dac-89ab-fd521c803112",
   "metadata": {},
   "source": [
    "**Methods and Results**\n",
    "\n",
    "Initially we can see a couple of trends just by grouping the data by diagnosis, most notably a null diagnosis being correlated with youth, lower chest pain (1 being asymptomatic), lower resting blood pressure and a higher maximum heart rate.\n",
    "\n",
    "To further investigate a couple of links let's look at some graphs."
   ]
  },
  {
   "cell_type": "code",
   "execution_count": 8,
   "id": "560997ca-9591-4973-8420-62ca0fa35454",
   "metadata": {},
   "outputs": [
    {
     "data": {
      "text/html": [
       "\n",
       "<style>\n",
       "  #altair-viz-79b87bce7f4a4997aabb4ea36b6d553f.vega-embed {\n",
       "    width: 100%;\n",
       "    display: flex;\n",
       "  }\n",
       "\n",
       "  #altair-viz-79b87bce7f4a4997aabb4ea36b6d553f.vega-embed details,\n",
       "  #altair-viz-79b87bce7f4a4997aabb4ea36b6d553f.vega-embed details summary {\n",
       "    position: relative;\n",
       "  }\n",
       "</style>\n",
       "<div id=\"altair-viz-79b87bce7f4a4997aabb4ea36b6d553f\"></div>\n",
       "<script type=\"text/javascript\">\n",
       "  var VEGA_DEBUG = (typeof VEGA_DEBUG == \"undefined\") ? {} : VEGA_DEBUG;\n",
       "  (function(spec, embedOpt){\n",
       "    let outputDiv = document.currentScript.previousElementSibling;\n",
       "    if (outputDiv.id !== \"altair-viz-79b87bce7f4a4997aabb4ea36b6d553f\") {\n",
       "      outputDiv = document.getElementById(\"altair-viz-79b87bce7f4a4997aabb4ea36b6d553f\");\n",
       "    }\n",
       "    const paths = {\n",
       "      \"vega\": \"https://cdn.jsdelivr.net/npm/vega@5?noext\",\n",
       "      \"vega-lib\": \"https://cdn.jsdelivr.net/npm/vega-lib?noext\",\n",
       "      \"vega-lite\": \"https://cdn.jsdelivr.net/npm/vega-lite@5.8.0?noext\",\n",
       "      \"vega-embed\": \"https://cdn.jsdelivr.net/npm/vega-embed@6?noext\",\n",
       "    };\n",
       "\n",
       "    function maybeLoadScript(lib, version) {\n",
       "      var key = `${lib.replace(\"-\", \"\")}_version`;\n",
       "      return (VEGA_DEBUG[key] == version) ?\n",
       "        Promise.resolve(paths[lib]) :\n",
       "        new Promise(function(resolve, reject) {\n",
       "          var s = document.createElement('script');\n",
       "          document.getElementsByTagName(\"head\")[0].appendChild(s);\n",
       "          s.async = true;\n",
       "          s.onload = () => {\n",
       "            VEGA_DEBUG[key] = version;\n",
       "            return resolve(paths[lib]);\n",
       "          };\n",
       "          s.onerror = () => reject(`Error loading script: ${paths[lib]}`);\n",
       "          s.src = paths[lib];\n",
       "        });\n",
       "    }\n",
       "\n",
       "    function showError(err) {\n",
       "      outputDiv.innerHTML = `<div class=\"error\" style=\"color:red;\">${err}</div>`;\n",
       "      throw err;\n",
       "    }\n",
       "\n",
       "    function displayChart(vegaEmbed) {\n",
       "      vegaEmbed(outputDiv, spec, embedOpt)\n",
       "        .catch(err => showError(`Javascript Error: ${err.message}<br>This usually means there's a typo in your chart specification. See the javascript console for the full traceback.`));\n",
       "    }\n",
       "\n",
       "    if(typeof define === \"function\" && define.amd) {\n",
       "      requirejs.config({paths});\n",
       "      require([\"vega-embed\"], displayChart, err => showError(`Error loading script: ${err.message}`));\n",
       "    } else {\n",
       "      maybeLoadScript(\"vega\", \"5\")\n",
       "        .then(() => maybeLoadScript(\"vega-lite\", \"5.8.0\"))\n",
       "        .then(() => maybeLoadScript(\"vega-embed\", \"6\"))\n",
       "        .catch(showError)\n",
       "        .then(() => displayChart(vegaEmbed));\n",
       "    }\n",
       "  })({\"config\": {\"view\": {\"continuousWidth\": 300, \"continuousHeight\": 300}}, \"hconcat\": [{\"mark\": {\"type\": \"bar\"}, \"encoding\": {\"color\": {\"field\": \"diagnosis\", \"title\": \"Severity\", \"type\": \"quantitative\"}, \"x\": {\"bin\": {\"step\": 5}, \"field\": \"age\", \"title\": \"Age\", \"type\": \"quantitative\"}, \"y\": {\"aggregate\": \"count\", \"title\": \"# of Patients\", \"type\": \"quantitative\"}}, \"title\": \"Figure 2: Age and Heart Disease\"}, {\"mark\": {\"type\": \"bar\"}, \"encoding\": {\"color\": {\"field\": \"diagnosis\", \"title\": \"Severity\", \"type\": \"quantitative\"}, \"x\": {\"bin\": {\"step\": 20}, \"field\": \"thalach\", \"title\": \"Max HR (Exercise)\", \"type\": \"quantitative\"}, \"y\": {\"aggregate\": \"count\", \"title\": \"# of Patients\", \"type\": \"quantitative\"}}, \"title\": \"Figure 3: Max Heart Rate and Heart Disease\"}], \"data\": {\"name\": \"data-d35b0d33b2ced46f6ec595b887149c22\"}, \"$schema\": \"https://vega.github.io/schema/vega-lite/v5.8.0.json\", \"datasets\": {\"data-d35b0d33b2ced46f6ec595b887149c22\": [{\"age\": 56, \"cp\": 4, \"trestbps\": 200, \"chol\": 288, \"thalach\": 133, \"diagnosis\": 3}, {\"age\": 48, \"cp\": 4, \"trestbps\": 130, \"chol\": 256, \"thalach\": 150, \"diagnosis\": 3}, {\"age\": 54, \"cp\": 4, \"trestbps\": 110, \"chol\": 239, \"thalach\": 126, \"diagnosis\": 3}, {\"age\": 56, \"cp\": 1, \"trestbps\": 120, \"chol\": 193, \"thalach\": 162, \"diagnosis\": 0}, {\"age\": 45, \"cp\": 2, \"trestbps\": 112, \"chol\": 160, \"thalach\": 138, \"diagnosis\": 0}, {\"age\": 57, \"cp\": 4, \"trestbps\": 130, \"chol\": 131, \"thalach\": 115, \"diagnosis\": 3}, {\"age\": 54, \"cp\": 3, \"trestbps\": 135, \"chol\": 304, \"thalach\": 170, \"diagnosis\": 0}, {\"age\": 70, \"cp\": 3, \"trestbps\": 160, \"chol\": 269, \"thalach\": 112, \"diagnosis\": 3}, {\"age\": 52, \"cp\": 1, \"trestbps\": 152, \"chol\": 298, \"thalach\": 178, \"diagnosis\": 0}, {\"age\": 55, \"cp\": 2, \"trestbps\": 130, \"chol\": 262, \"thalach\": 155, \"diagnosis\": 0}, {\"age\": 68, \"cp\": 3, \"trestbps\": 120, \"chol\": 211, \"thalach\": 115, \"diagnosis\": 0}, {\"age\": 66, \"cp\": 3, \"trestbps\": 146, \"chol\": 278, \"thalach\": 152, \"diagnosis\": 0}, {\"age\": 52, \"cp\": 4, \"trestbps\": 125, \"chol\": 212, \"thalach\": 168, \"diagnosis\": 3}, {\"age\": 55, \"cp\": 4, \"trestbps\": 128, \"chol\": 205, \"thalach\": 130, \"diagnosis\": 3}, {\"age\": 59, \"cp\": 1, \"trestbps\": 134, \"chol\": 204, \"thalach\": 162, \"diagnosis\": 1}, {\"age\": 48, \"cp\": 2, \"trestbps\": 110, \"chol\": 229, \"thalach\": 168, \"diagnosis\": 1}, {\"age\": 77, \"cp\": 4, \"trestbps\": 125, \"chol\": 304, \"thalach\": 162, \"diagnosis\": 4}, {\"age\": 57, \"cp\": 3, \"trestbps\": 150, \"chol\": 126, \"thalach\": 173, \"diagnosis\": 0}, {\"age\": 52, \"cp\": 3, \"trestbps\": 138, \"chol\": 223, \"thalach\": 169, \"diagnosis\": 0}, {\"age\": 44, \"cp\": 4, \"trestbps\": 110, \"chol\": 197, \"thalach\": 177, \"diagnosis\": 1}, {\"age\": 57, \"cp\": 4, \"trestbps\": 140, \"chol\": 192, \"thalach\": 148, \"diagnosis\": 0}, {\"age\": 69, \"cp\": 1, \"trestbps\": 160, \"chol\": 234, \"thalach\": 131, \"diagnosis\": 0}, {\"age\": 51, \"cp\": 3, \"trestbps\": 130, \"chol\": 256, \"thalach\": 149, \"diagnosis\": 0}, {\"age\": 64, \"cp\": 3, \"trestbps\": 125, \"chol\": 309, \"thalach\": 131, \"diagnosis\": 1}, {\"age\": 51, \"cp\": 4, \"trestbps\": 130, \"chol\": 305, \"thalach\": 142, \"diagnosis\": 2}, {\"age\": 50, \"cp\": 2, \"trestbps\": 120, \"chol\": 244, \"thalach\": 162, \"diagnosis\": 0}, {\"age\": 52, \"cp\": 1, \"trestbps\": 118, \"chol\": 186, \"thalach\": 190, \"diagnosis\": 0}, {\"age\": 57, \"cp\": 2, \"trestbps\": 130, \"chol\": 236, \"thalach\": 174, \"diagnosis\": 1}, {\"age\": 34, \"cp\": 2, \"trestbps\": 118, \"chol\": 210, \"thalach\": 192, \"diagnosis\": 0}, {\"age\": 61, \"cp\": 4, \"trestbps\": 145, \"chol\": 307, \"thalach\": 146, \"diagnosis\": 1}, {\"age\": 68, \"cp\": 4, \"trestbps\": 144, \"chol\": 193, \"thalach\": 141, \"diagnosis\": 2}, {\"age\": 59, \"cp\": 4, \"trestbps\": 174, \"chol\": 249, \"thalach\": 143, \"diagnosis\": 1}, {\"age\": 54, \"cp\": 3, \"trestbps\": 110, \"chol\": 214, \"thalach\": 158, \"diagnosis\": 0}, {\"age\": 54, \"cp\": 2, \"trestbps\": 132, \"chol\": 288, \"thalach\": 159, \"diagnosis\": 0}, {\"age\": 57, \"cp\": 4, \"trestbps\": 150, \"chol\": 276, \"thalach\": 112, \"diagnosis\": 1}, {\"age\": 62, \"cp\": 4, \"trestbps\": 140, \"chol\": 394, \"thalach\": 157, \"diagnosis\": 0}, {\"age\": 42, \"cp\": 3, \"trestbps\": 130, \"chol\": 180, \"thalach\": 150, \"diagnosis\": 0}, {\"age\": 57, \"cp\": 4, \"trestbps\": 152, \"chol\": 274, \"thalach\": 88, \"diagnosis\": 1}, {\"age\": 41, \"cp\": 3, \"trestbps\": 112, \"chol\": 268, \"thalach\": 172, \"diagnosis\": 0}, {\"age\": 69, \"cp\": 3, \"trestbps\": 140, \"chol\": 254, \"thalach\": 146, \"diagnosis\": 2}, {\"age\": 60, \"cp\": 3, \"trestbps\": 140, \"chol\": 185, \"thalach\": 155, \"diagnosis\": 1}, {\"age\": 59, \"cp\": 4, \"trestbps\": 110, \"chol\": 239, \"thalach\": 142, \"diagnosis\": 2}, {\"age\": 63, \"cp\": 4, \"trestbps\": 140, \"chol\": 187, \"thalach\": 144, \"diagnosis\": 2}, {\"age\": 51, \"cp\": 3, \"trestbps\": 120, \"chol\": 295, \"thalach\": 157, \"diagnosis\": 0}, {\"age\": 47, \"cp\": 4, \"trestbps\": 110, \"chol\": 275, \"thalach\": 118, \"diagnosis\": 1}, {\"age\": 70, \"cp\": 4, \"trestbps\": 145, \"chol\": 174, \"thalach\": 125, \"diagnosis\": 4}, {\"age\": 41, \"cp\": 2, \"trestbps\": 135, \"chol\": 203, \"thalach\": 132, \"diagnosis\": 0}, {\"age\": 58, \"cp\": 3, \"trestbps\": 132, \"chol\": 224, \"thalach\": 173, \"diagnosis\": 3}, {\"age\": 51, \"cp\": 4, \"trestbps\": 140, \"chol\": 261, \"thalach\": 186, \"diagnosis\": 0}, {\"age\": 46, \"cp\": 4, \"trestbps\": 120, \"chol\": 249, \"thalach\": 144, \"diagnosis\": 1}, {\"age\": 59, \"cp\": 3, \"trestbps\": 126, \"chol\": 218, \"thalach\": 134, \"diagnosis\": 2}, {\"age\": 43, \"cp\": 4, \"trestbps\": 132, \"chol\": 341, \"thalach\": 136, \"diagnosis\": 2}, {\"age\": 53, \"cp\": 3, \"trestbps\": 130, \"chol\": 197, \"thalach\": 152, \"diagnosis\": 0}, {\"age\": 57, \"cp\": 2, \"trestbps\": 124, \"chol\": 261, \"thalach\": 141, \"diagnosis\": 1}, {\"age\": 64, \"cp\": 4, \"trestbps\": 130, \"chol\": 303, \"thalach\": 122, \"diagnosis\": 0}, {\"age\": 58, \"cp\": 4, \"trestbps\": 128, \"chol\": 216, \"thalach\": 131, \"diagnosis\": 1}, {\"age\": 55, \"cp\": 4, \"trestbps\": 132, \"chol\": 353, \"thalach\": 132, \"diagnosis\": 3}, {\"age\": 60, \"cp\": 4, \"trestbps\": 117, \"chol\": 230, \"thalach\": 160, \"diagnosis\": 2}, {\"age\": 54, \"cp\": 4, \"trestbps\": 140, \"chol\": 239, \"thalach\": 160, \"diagnosis\": 0}, {\"age\": 53, \"cp\": 4, \"trestbps\": 123, \"chol\": 282, \"thalach\": 95, \"diagnosis\": 3}, {\"age\": 64, \"cp\": 4, \"trestbps\": 120, \"chol\": 246, \"thalach\": 96, \"diagnosis\": 3}, {\"age\": 68, \"cp\": 3, \"trestbps\": 180, \"chol\": 274, \"thalach\": 150, \"diagnosis\": 3}, {\"age\": 44, \"cp\": 3, \"trestbps\": 118, \"chol\": 242, \"thalach\": 149, \"diagnosis\": 0}, {\"age\": 41, \"cp\": 4, \"trestbps\": 110, \"chol\": 172, \"thalach\": 158, \"diagnosis\": 1}, {\"age\": 57, \"cp\": 4, \"trestbps\": 110, \"chol\": 201, \"thalach\": 126, \"diagnosis\": 0}, {\"age\": 57, \"cp\": 3, \"trestbps\": 150, \"chol\": 168, \"thalach\": 174, \"diagnosis\": 0}, {\"age\": 59, \"cp\": 4, \"trestbps\": 170, \"chol\": 326, \"thalach\": 140, \"diagnosis\": 2}, {\"age\": 52, \"cp\": 2, \"trestbps\": 128, \"chol\": 205, \"thalach\": 184, \"diagnosis\": 0}, {\"age\": 65, \"cp\": 3, \"trestbps\": 155, \"chol\": 269, \"thalach\": 148, \"diagnosis\": 0}, {\"age\": 43, \"cp\": 4, \"trestbps\": 150, \"chol\": 247, \"thalach\": 171, \"diagnosis\": 0}, {\"age\": 59, \"cp\": 1, \"trestbps\": 170, \"chol\": 288, \"thalach\": 159, \"diagnosis\": 1}, {\"age\": 60, \"cp\": 1, \"trestbps\": 150, \"chol\": 240, \"thalach\": 171, \"diagnosis\": 0}, {\"age\": 60, \"cp\": 4, \"trestbps\": 150, \"chol\": 258, \"thalach\": 157, \"diagnosis\": 3}, {\"age\": 65, \"cp\": 3, \"trestbps\": 140, \"chol\": 417, \"thalach\": 157, \"diagnosis\": 0}, {\"age\": 38, \"cp\": 1, \"trestbps\": 120, \"chol\": 231, \"thalach\": 182, \"diagnosis\": 4}, {\"age\": 59, \"cp\": 4, \"trestbps\": 140, \"chol\": 177, \"thalach\": 162, \"diagnosis\": 2}, {\"age\": 52, \"cp\": 2, \"trestbps\": 134, \"chol\": 201, \"thalach\": 158, \"diagnosis\": 0}, {\"age\": 49, \"cp\": 4, \"trestbps\": 130, \"chol\": 269, \"thalach\": 163, \"diagnosis\": 0}, {\"age\": 42, \"cp\": 2, \"trestbps\": 120, \"chol\": 295, \"thalach\": 162, \"diagnosis\": 0}, {\"age\": 66, \"cp\": 4, \"trestbps\": 112, \"chol\": 212, \"thalach\": 132, \"diagnosis\": 2}, {\"age\": 45, \"cp\": 4, \"trestbps\": 138, \"chol\": 236, \"thalach\": 152, \"diagnosis\": 0}, {\"age\": 47, \"cp\": 3, \"trestbps\": 138, \"chol\": 257, \"thalach\": 156, \"diagnosis\": 0}, {\"age\": 49, \"cp\": 2, \"trestbps\": 134, \"chol\": 271, \"thalach\": 162, \"diagnosis\": 0}, {\"age\": 58, \"cp\": 2, \"trestbps\": 120, \"chol\": 284, \"thalach\": 160, \"diagnosis\": 1}, {\"age\": 44, \"cp\": 3, \"trestbps\": 120, \"chol\": 226, \"thalach\": 169, \"diagnosis\": 0}, {\"age\": 35, \"cp\": 4, \"trestbps\": 126, \"chol\": 282, \"thalach\": 156, \"diagnosis\": 1}, {\"age\": 65, \"cp\": 1, \"trestbps\": 138, \"chol\": 282, \"thalach\": 174, \"diagnosis\": 1}, {\"age\": 63, \"cp\": 2, \"trestbps\": 140, \"chol\": 195, \"thalach\": 179, \"diagnosis\": 0}, {\"age\": 61, \"cp\": 4, \"trestbps\": 130, \"chol\": 330, \"thalach\": 169, \"diagnosis\": 1}, {\"age\": 45, \"cp\": 2, \"trestbps\": 130, \"chol\": 234, \"thalach\": 175, \"diagnosis\": 0}, {\"age\": 56, \"cp\": 2, \"trestbps\": 120, \"chol\": 240, \"thalach\": 169, \"diagnosis\": 0}, {\"age\": 37, \"cp\": 3, \"trestbps\": 130, \"chol\": 250, \"thalach\": 187, \"diagnosis\": 0}, {\"age\": 58, \"cp\": 4, \"trestbps\": 128, \"chol\": 259, \"thalach\": 130, \"diagnosis\": 3}, {\"age\": 67, \"cp\": 4, \"trestbps\": 120, \"chol\": 237, \"thalach\": 71, \"diagnosis\": 2}, {\"age\": 59, \"cp\": 2, \"trestbps\": 140, \"chol\": 221, \"thalach\": 164, \"diagnosis\": 0}, {\"age\": 53, \"cp\": 4, \"trestbps\": 130, \"chol\": 264, \"thalach\": 143, \"diagnosis\": 0}, {\"age\": 48, \"cp\": 3, \"trestbps\": 130, \"chol\": 275, \"thalach\": 139, \"diagnosis\": 0}, {\"age\": 67, \"cp\": 4, \"trestbps\": 100, \"chol\": 299, \"thalach\": 125, \"diagnosis\": 3}, {\"age\": 70, \"cp\": 2, \"trestbps\": 156, \"chol\": 245, \"thalach\": 143, \"diagnosis\": 0}, {\"age\": 67, \"cp\": 4, \"trestbps\": 106, \"chol\": 223, \"thalach\": 142, \"diagnosis\": 0}, {\"age\": 65, \"cp\": 4, \"trestbps\": 135, \"chol\": 254, \"thalach\": 127, \"diagnosis\": 2}, {\"age\": 41, \"cp\": 2, \"trestbps\": 130, \"chol\": 204, \"thalach\": 172, \"diagnosis\": 0}, {\"age\": 57, \"cp\": 4, \"trestbps\": 128, \"chol\": 303, \"thalach\": 159, \"diagnosis\": 0}, {\"age\": 48, \"cp\": 4, \"trestbps\": 122, \"chol\": 222, \"thalach\": 186, \"diagnosis\": 0}, {\"age\": 46, \"cp\": 4, \"trestbps\": 140, \"chol\": 311, \"thalach\": 120, \"diagnosis\": 2}, {\"age\": 42, \"cp\": 4, \"trestbps\": 140, \"chol\": 226, \"thalach\": 178, \"diagnosis\": 0}, {\"age\": 67, \"cp\": 3, \"trestbps\": 152, \"chol\": 212, \"thalach\": 150, \"diagnosis\": 1}, {\"age\": 42, \"cp\": 3, \"trestbps\": 120, \"chol\": 240, \"thalach\": 194, \"diagnosis\": 0}, {\"age\": 49, \"cp\": 2, \"trestbps\": 130, \"chol\": 266, \"thalach\": 171, \"diagnosis\": 0}, {\"age\": 44, \"cp\": 2, \"trestbps\": 130, \"chol\": 219, \"thalach\": 188, \"diagnosis\": 0}, {\"age\": 46, \"cp\": 2, \"trestbps\": 101, \"chol\": 197, \"thalach\": 156, \"diagnosis\": 0}, {\"age\": 63, \"cp\": 4, \"trestbps\": 130, \"chol\": 254, \"thalach\": 147, \"diagnosis\": 2}, {\"age\": 52, \"cp\": 4, \"trestbps\": 128, \"chol\": 204, \"thalach\": 156, \"diagnosis\": 2}, {\"age\": 46, \"cp\": 2, \"trestbps\": 105, \"chol\": 204, \"thalach\": 172, \"diagnosis\": 0}, {\"age\": 42, \"cp\": 4, \"trestbps\": 102, \"chol\": 265, \"thalach\": 122, \"diagnosis\": 0}, {\"age\": 55, \"cp\": 4, \"trestbps\": 180, \"chol\": 327, \"thalach\": 117, \"diagnosis\": 2}, {\"age\": 50, \"cp\": 4, \"trestbps\": 144, \"chol\": 200, \"thalach\": 126, \"diagnosis\": 3}, {\"age\": 44, \"cp\": 3, \"trestbps\": 130, \"chol\": 233, \"thalach\": 179, \"diagnosis\": 0}, {\"age\": 56, \"cp\": 4, \"trestbps\": 130, \"chol\": 283, \"thalach\": 103, \"diagnosis\": 2}, {\"age\": 41, \"cp\": 3, \"trestbps\": 130, \"chol\": 214, \"thalach\": 168, \"diagnosis\": 0}, {\"age\": 61, \"cp\": 1, \"trestbps\": 134, \"chol\": 234, \"thalach\": 145, \"diagnosis\": 2}, {\"age\": 62, \"cp\": 4, \"trestbps\": 124, \"chol\": 209, \"thalach\": 163, \"diagnosis\": 0}, {\"age\": 59, \"cp\": 4, \"trestbps\": 164, \"chol\": 176, \"thalach\": 90, \"diagnosis\": 3}, {\"age\": 69, \"cp\": 1, \"trestbps\": 140, \"chol\": 239, \"thalach\": 151, \"diagnosis\": 0}, {\"age\": 46, \"cp\": 3, \"trestbps\": 142, \"chol\": 177, \"thalach\": 160, \"diagnosis\": 0}, {\"age\": 34, \"cp\": 1, \"trestbps\": 118, \"chol\": 182, \"thalach\": 174, \"diagnosis\": 0}, {\"age\": 52, \"cp\": 2, \"trestbps\": 120, \"chol\": 325, \"thalach\": 172, \"diagnosis\": 0}, {\"age\": 51, \"cp\": 3, \"trestbps\": 110, \"chol\": 175, \"thalach\": 123, \"diagnosis\": 0}, {\"age\": 44, \"cp\": 3, \"trestbps\": 108, \"chol\": 141, \"thalach\": 175, \"diagnosis\": 0}, {\"age\": 61, \"cp\": 4, \"trestbps\": 140, \"chol\": 207, \"thalach\": 138, \"diagnosis\": 1}, {\"age\": 57, \"cp\": 4, \"trestbps\": 165, \"chol\": 289, \"thalach\": 124, \"diagnosis\": 4}, {\"age\": 59, \"cp\": 1, \"trestbps\": 160, \"chol\": 273, \"thalach\": 125, \"diagnosis\": 1}, {\"age\": 52, \"cp\": 4, \"trestbps\": 128, \"chol\": 255, \"thalach\": 161, \"diagnosis\": 1}, {\"age\": 42, \"cp\": 3, \"trestbps\": 120, \"chol\": 209, \"thalach\": 173, \"diagnosis\": 0}, {\"age\": 54, \"cp\": 3, \"trestbps\": 150, \"chol\": 232, \"thalach\": 165, \"diagnosis\": 0}, {\"age\": 62, \"cp\": 4, \"trestbps\": 120, \"chol\": 267, \"thalach\": 99, \"diagnosis\": 1}, {\"age\": 48, \"cp\": 3, \"trestbps\": 124, \"chol\": 255, \"thalach\": 175, \"diagnosis\": 0}, {\"age\": 54, \"cp\": 4, \"trestbps\": 124, \"chol\": 266, \"thalach\": 109, \"diagnosis\": 1}, {\"age\": 70, \"cp\": 4, \"trestbps\": 130, \"chol\": 322, \"thalach\": 109, \"diagnosis\": 1}, {\"age\": 62, \"cp\": 4, \"trestbps\": 160, \"chol\": 164, \"thalach\": 145, \"diagnosis\": 3}, {\"age\": 60, \"cp\": 4, \"trestbps\": 125, \"chol\": 258, \"thalach\": 141, \"diagnosis\": 1}, {\"age\": 52, \"cp\": 4, \"trestbps\": 112, \"chol\": 230, \"thalach\": 160, \"diagnosis\": 1}, {\"age\": 41, \"cp\": 2, \"trestbps\": 126, \"chol\": 306, \"thalach\": 163, \"diagnosis\": 0}, {\"age\": 60, \"cp\": 4, \"trestbps\": 130, \"chol\": 253, \"thalach\": 144, \"diagnosis\": 1}, {\"age\": 60, \"cp\": 3, \"trestbps\": 102, \"chol\": 318, \"thalach\": 160, \"diagnosis\": 0}, {\"age\": 66, \"cp\": 1, \"trestbps\": 150, \"chol\": 226, \"thalach\": 114, \"diagnosis\": 0}, {\"age\": 60, \"cp\": 4, \"trestbps\": 158, \"chol\": 305, \"thalach\": 161, \"diagnosis\": 1}, {\"age\": 44, \"cp\": 3, \"trestbps\": 140, \"chol\": 235, \"thalach\": 180, \"diagnosis\": 0}, {\"age\": 54, \"cp\": 2, \"trestbps\": 108, \"chol\": 309, \"thalach\": 156, \"diagnosis\": 0}, {\"age\": 58, \"cp\": 4, \"trestbps\": 114, \"chol\": 318, \"thalach\": 140, \"diagnosis\": 4}, {\"age\": 62, \"cp\": 4, \"trestbps\": 140, \"chol\": 268, \"thalach\": 160, \"diagnosis\": 3}, {\"age\": 53, \"cp\": 4, \"trestbps\": 140, \"chol\": 203, \"thalach\": 155, \"diagnosis\": 1}, {\"age\": 54, \"cp\": 3, \"trestbps\": 125, \"chol\": 273, \"thalach\": 152, \"diagnosis\": 0}, {\"age\": 48, \"cp\": 2, \"trestbps\": 130, \"chol\": 245, \"thalach\": 180, \"diagnosis\": 0}, {\"age\": 41, \"cp\": 3, \"trestbps\": 112, \"chol\": 250, \"thalach\": 179, \"diagnosis\": 0}, {\"age\": 51, \"cp\": 4, \"trestbps\": 140, \"chol\": 298, \"thalach\": 122, \"diagnosis\": 3}, {\"age\": 44, \"cp\": 2, \"trestbps\": 120, \"chol\": 263, \"thalach\": 173, \"diagnosis\": 0}, {\"age\": 64, \"cp\": 4, \"trestbps\": 180, \"chol\": 325, \"thalach\": 154, \"diagnosis\": 0}, {\"age\": 64, \"cp\": 3, \"trestbps\": 140, \"chol\": 313, \"thalach\": 133, \"diagnosis\": 0}, {\"age\": 54, \"cp\": 3, \"trestbps\": 120, \"chol\": 258, \"thalach\": 147, \"diagnosis\": 0}, {\"age\": 52, \"cp\": 4, \"trestbps\": 108, \"chol\": 233, \"thalach\": 147, \"diagnosis\": 0}, {\"age\": 50, \"cp\": 4, \"trestbps\": 110, \"chol\": 254, \"thalach\": 159, \"diagnosis\": 0}, {\"age\": 49, \"cp\": 3, \"trestbps\": 120, \"chol\": 188, \"thalach\": 139, \"diagnosis\": 3}, {\"age\": 62, \"cp\": 4, \"trestbps\": 150, \"chol\": 244, \"thalach\": 154, \"diagnosis\": 1}, {\"age\": 55, \"cp\": 4, \"trestbps\": 160, \"chol\": 289, \"thalach\": 145, \"diagnosis\": 4}, {\"age\": 63, \"cp\": 4, \"trestbps\": 108, \"chol\": 269, \"thalach\": 169, \"diagnosis\": 1}, {\"age\": 62, \"cp\": 4, \"trestbps\": 138, \"chol\": 294, \"thalach\": 106, \"diagnosis\": 2}, {\"age\": 64, \"cp\": 1, \"trestbps\": 110, \"chol\": 211, \"thalach\": 144, \"diagnosis\": 0}, {\"age\": 50, \"cp\": 3, \"trestbps\": 140, \"chol\": 233, \"thalach\": 163, \"diagnosis\": 1}, {\"age\": 61, \"cp\": 4, \"trestbps\": 138, \"chol\": 166, \"thalach\": 125, \"diagnosis\": 4}, {\"age\": 56, \"cp\": 4, \"trestbps\": 134, \"chol\": 409, \"thalach\": 150, \"diagnosis\": 2}, {\"age\": 58, \"cp\": 4, \"trestbps\": 100, \"chol\": 234, \"thalach\": 156, \"diagnosis\": 2}, {\"age\": 65, \"cp\": 4, \"trestbps\": 120, \"chol\": 177, \"thalach\": 140, \"diagnosis\": 0}, {\"age\": 58, \"cp\": 4, \"trestbps\": 100, \"chol\": 248, \"thalach\": 122, \"diagnosis\": 0}, {\"age\": 54, \"cp\": 3, \"trestbps\": 160, \"chol\": 201, \"thalach\": 163, \"diagnosis\": 0}, {\"age\": 47, \"cp\": 3, \"trestbps\": 130, \"chol\": 253, \"thalach\": 179, \"diagnosis\": 0}, {\"age\": 43, \"cp\": 3, \"trestbps\": 122, \"chol\": 213, \"thalach\": 165, \"diagnosis\": 0}, {\"age\": 40, \"cp\": 1, \"trestbps\": 140, \"chol\": 199, \"thalach\": 178, \"diagnosis\": 0}, {\"age\": 66, \"cp\": 4, \"trestbps\": 160, \"chol\": 228, \"thalach\": 138, \"diagnosis\": 0}, {\"age\": 51, \"cp\": 3, \"trestbps\": 140, \"chol\": 308, \"thalach\": 142, \"diagnosis\": 0}, {\"age\": 67, \"cp\": 4, \"trestbps\": 120, \"chol\": 229, \"thalach\": 129, \"diagnosis\": 1}, {\"age\": 53, \"cp\": 4, \"trestbps\": 138, \"chol\": 234, \"thalach\": 160, \"diagnosis\": 0}, {\"age\": 55, \"cp\": 4, \"trestbps\": 140, \"chol\": 217, \"thalach\": 111, \"diagnosis\": 3}, {\"age\": 56, \"cp\": 2, \"trestbps\": 120, \"chol\": 236, \"thalach\": 178, \"diagnosis\": 0}, {\"age\": 56, \"cp\": 3, \"trestbps\": 130, \"chol\": 256, \"thalach\": 142, \"diagnosis\": 2}, {\"age\": 40, \"cp\": 4, \"trestbps\": 110, \"chol\": 167, \"thalach\": 114, \"diagnosis\": 3}, {\"age\": 42, \"cp\": 1, \"trestbps\": 148, \"chol\": 244, \"thalach\": 178, \"diagnosis\": 0}, {\"age\": 47, \"cp\": 3, \"trestbps\": 108, \"chol\": 243, \"thalach\": 152, \"diagnosis\": 1}, {\"age\": 50, \"cp\": 4, \"trestbps\": 150, \"chol\": 243, \"thalach\": 128, \"diagnosis\": 4}, {\"age\": 64, \"cp\": 4, \"trestbps\": 145, \"chol\": 212, \"thalach\": 132, \"diagnosis\": 4}, {\"age\": 39, \"cp\": 3, \"trestbps\": 138, \"chol\": 220, \"thalach\": 152, \"diagnosis\": 0}, {\"age\": 45, \"cp\": 1, \"trestbps\": 110, \"chol\": 264, \"thalach\": 132, \"diagnosis\": 1}, {\"age\": 39, \"cp\": 4, \"trestbps\": 118, \"chol\": 219, \"thalach\": 140, \"diagnosis\": 3}, {\"age\": 60, \"cp\": 4, \"trestbps\": 140, \"chol\": 293, \"thalach\": 170, \"diagnosis\": 2}, {\"age\": 63, \"cp\": 1, \"trestbps\": 145, \"chol\": 233, \"thalach\": 150, \"diagnosis\": 0}, {\"age\": 66, \"cp\": 2, \"trestbps\": 160, \"chol\": 246, \"thalach\": 120, \"diagnosis\": 2}, {\"age\": 53, \"cp\": 4, \"trestbps\": 142, \"chol\": 226, \"thalach\": 111, \"diagnosis\": 0}, {\"age\": 58, \"cp\": 2, \"trestbps\": 125, \"chol\": 220, \"thalach\": 144, \"diagnosis\": 0}, {\"age\": 58, \"cp\": 3, \"trestbps\": 105, \"chol\": 240, \"thalach\": 154, \"diagnosis\": 0}, {\"age\": 57, \"cp\": 4, \"trestbps\": 120, \"chol\": 354, \"thalach\": 163, \"diagnosis\": 0}, {\"age\": 45, \"cp\": 4, \"trestbps\": 115, \"chol\": 260, \"thalach\": 185, \"diagnosis\": 0}, {\"age\": 56, \"cp\": 2, \"trestbps\": 140, \"chol\": 294, \"thalach\": 153, \"diagnosis\": 0}, {\"age\": 43, \"cp\": 4, \"trestbps\": 110, \"chol\": 211, \"thalach\": 161, \"diagnosis\": 0}, {\"age\": 46, \"cp\": 3, \"trestbps\": 150, \"chol\": 231, \"thalach\": 147, \"diagnosis\": 1}, {\"age\": 52, \"cp\": 3, \"trestbps\": 172, \"chol\": 199, \"thalach\": 162, \"diagnosis\": 0}, {\"age\": 35, \"cp\": 4, \"trestbps\": 120, \"chol\": 198, \"thalach\": 130, \"diagnosis\": 1}, {\"age\": 54, \"cp\": 3, \"trestbps\": 108, \"chol\": 267, \"thalach\": 167, \"diagnosis\": 0}, {\"age\": 66, \"cp\": 4, \"trestbps\": 178, \"chol\": 228, \"thalach\": 165, \"diagnosis\": 3}, {\"age\": 51, \"cp\": 4, \"trestbps\": 140, \"chol\": 299, \"thalach\": 173, \"diagnosis\": 1}, {\"age\": 37, \"cp\": 3, \"trestbps\": 120, \"chol\": 215, \"thalach\": 170, \"diagnosis\": 0}, {\"age\": 45, \"cp\": 4, \"trestbps\": 142, \"chol\": 309, \"thalach\": 147, \"diagnosis\": 3}, {\"age\": 60, \"cp\": 3, \"trestbps\": 120, \"chol\": 178, \"thalach\": 96, \"diagnosis\": 0}, {\"age\": 74, \"cp\": 2, \"trestbps\": 120, \"chol\": 269, \"thalach\": 121, \"diagnosis\": 0}, {\"age\": 58, \"cp\": 4, \"trestbps\": 170, \"chol\": 225, \"thalach\": 146, \"diagnosis\": 2}, {\"age\": 45, \"cp\": 2, \"trestbps\": 128, \"chol\": 308, \"thalach\": 170, \"diagnosis\": 0}, {\"age\": 54, \"cp\": 4, \"trestbps\": 110, \"chol\": 206, \"thalach\": 108, \"diagnosis\": 3}, {\"age\": 54, \"cp\": 2, \"trestbps\": 192, \"chol\": 283, \"thalach\": 195, \"diagnosis\": 1}, {\"age\": 44, \"cp\": 4, \"trestbps\": 120, \"chol\": 169, \"thalach\": 144, \"diagnosis\": 2}, {\"age\": 59, \"cp\": 4, \"trestbps\": 138, \"chol\": 271, \"thalach\": 182, \"diagnosis\": 0}, {\"age\": 65, \"cp\": 4, \"trestbps\": 150, \"chol\": 225, \"thalach\": 114, \"diagnosis\": 4}, {\"age\": 58, \"cp\": 3, \"trestbps\": 112, \"chol\": 230, \"thalach\": 165, \"diagnosis\": 4}, {\"age\": 44, \"cp\": 2, \"trestbps\": 120, \"chol\": 220, \"thalach\": 170, \"diagnosis\": 0}, {\"age\": 76, \"cp\": 3, \"trestbps\": 140, \"chol\": 197, \"thalach\": 116, \"diagnosis\": 0}, {\"age\": 58, \"cp\": 4, \"trestbps\": 146, \"chol\": 218, \"thalach\": 105, \"diagnosis\": 1}, {\"age\": 43, \"cp\": 4, \"trestbps\": 132, \"chol\": 247, \"thalach\": 143, \"diagnosis\": 1}, {\"age\": 67, \"cp\": 4, \"trestbps\": 125, \"chol\": 254, \"thalach\": 163, \"diagnosis\": 3}, {\"age\": 53, \"cp\": 3, \"trestbps\": 128, \"chol\": 216, \"thalach\": 115, \"diagnosis\": 0}]}}, {\"mode\": \"vega-lite\"});\n",
       "</script>"
      ],
      "text/plain": [
       "alt.HConcatChart(...)"
      ]
     },
     "metadata": {},
     "output_type": "display_data"
    }
   ],
   "source": [
    "#Plot of age and heart disease\n",
    "\n",
    "age = alt.Chart(heart_train).mark_bar().encode(\n",
    "    x=alt.X(\"age\", bin=alt.Bin(step=5)).title(\"Age\"),\n",
    "    y=alt.Y(\"count()\").title(\"# of Patients\"),\n",
    "    color=alt.Color(\"diagnosis\").title(\"Severity\")\n",
    ").properties(title=\"Figure 2: Age and Heart Disease\")\n",
    "\n",
    "\n",
    "#Plot of max heart rate and heart disease\n",
    "\n",
    "max_hr = alt.Chart(heart_train).mark_bar().encode(\n",
    "    x=alt.X(\"thalach\", bin=alt.Bin(step=20)).title(\"Max HR (Exercise)\"),\n",
    "    y=alt.Y(\"count()\").title(\"# of Patients\"),\n",
    "    color=alt.Color(\"diagnosis\").title(\"Severity\")\n",
    ").properties(title=\"Figure 3: Max Heart Rate and Heart Disease\")\n",
    "\n",
    "display(age | max_hr)"
   ]
  },
  {
   "cell_type": "markdown",
   "id": "2e66fde8-918b-46a7-901c-415e8f2bff52",
   "metadata": {},
   "source": [
    "These visualizations show a couple of expected trends, the proportion of younger people 25-55 with more severe diagnoses, i.e. 2 or 3 is much lower than those 55 and up.\n",
    "\n",
    "As for max heart rate there is significant negative correlation with max heart rate and heart disease. The 160-180 group is dominated by a null diagnosis, 140-160 has at least a majority being heart disease free, but as we go lower the prevalence of heart disease becomes the norm, not the exception."
   ]
  },
  {
   "cell_type": "markdown",
   "id": "dd77a8f0-07bc-4c92-9da6-a06956e0623d",
   "metadata": {},
   "source": [
    "We will now setup a KNeighborsClassifier model below that will attempt to make predictions based off of the variables **age**, **cp**, **trestbps**, **chol**, and **thalach** and spit out a target variable for **diagnosis**.\n",
    "\n",
    "Since we are using KNeighborsClassifier the variables will have to be standardized for further analysis.\n",
    "\n",
    "In order to find the best K value we will perform use GridSearchCV and do it in the range from 1-50 (inclusive). We will use a cv of 10 to maintain a solid balance between efficiency and performance.\n"
   ]
  },
  {
   "cell_type": "code",
   "execution_count": 18,
   "id": "ed83aaee-1e51-4bea-9770-fb9d38978d75",
   "metadata": {},
   "outputs": [
    {
     "data": {
      "text/html": [
       "<style>#sk-container-id-3 {color: black;}#sk-container-id-3 pre{padding: 0;}#sk-container-id-3 div.sk-toggleable {background-color: white;}#sk-container-id-3 label.sk-toggleable__label {cursor: pointer;display: block;width: 100%;margin-bottom: 0;padding: 0.3em;box-sizing: border-box;text-align: center;}#sk-container-id-3 label.sk-toggleable__label-arrow:before {content: \"▸\";float: left;margin-right: 0.25em;color: #696969;}#sk-container-id-3 label.sk-toggleable__label-arrow:hover:before {color: black;}#sk-container-id-3 div.sk-estimator:hover label.sk-toggleable__label-arrow:before {color: black;}#sk-container-id-3 div.sk-toggleable__content {max-height: 0;max-width: 0;overflow: hidden;text-align: left;background-color: #f0f8ff;}#sk-container-id-3 div.sk-toggleable__content pre {margin: 0.2em;color: black;border-radius: 0.25em;background-color: #f0f8ff;}#sk-container-id-3 input.sk-toggleable__control:checked~div.sk-toggleable__content {max-height: 200px;max-width: 100%;overflow: auto;}#sk-container-id-3 input.sk-toggleable__control:checked~label.sk-toggleable__label-arrow:before {content: \"▾\";}#sk-container-id-3 div.sk-estimator input.sk-toggleable__control:checked~label.sk-toggleable__label {background-color: #d4ebff;}#sk-container-id-3 div.sk-label input.sk-toggleable__control:checked~label.sk-toggleable__label {background-color: #d4ebff;}#sk-container-id-3 input.sk-hidden--visually {border: 0;clip: rect(1px 1px 1px 1px);clip: rect(1px, 1px, 1px, 1px);height: 1px;margin: -1px;overflow: hidden;padding: 0;position: absolute;width: 1px;}#sk-container-id-3 div.sk-estimator {font-family: monospace;background-color: #f0f8ff;border: 1px dotted black;border-radius: 0.25em;box-sizing: border-box;margin-bottom: 0.5em;}#sk-container-id-3 div.sk-estimator:hover {background-color: #d4ebff;}#sk-container-id-3 div.sk-parallel-item::after {content: \"\";width: 100%;border-bottom: 1px solid gray;flex-grow: 1;}#sk-container-id-3 div.sk-label:hover label.sk-toggleable__label {background-color: #d4ebff;}#sk-container-id-3 div.sk-serial::before {content: \"\";position: absolute;border-left: 1px solid gray;box-sizing: border-box;top: 0;bottom: 0;left: 50%;z-index: 0;}#sk-container-id-3 div.sk-serial {display: flex;flex-direction: column;align-items: center;background-color: white;padding-right: 0.2em;padding-left: 0.2em;position: relative;}#sk-container-id-3 div.sk-item {position: relative;z-index: 1;}#sk-container-id-3 div.sk-parallel {display: flex;align-items: stretch;justify-content: center;background-color: white;position: relative;}#sk-container-id-3 div.sk-item::before, #sk-container-id-3 div.sk-parallel-item::before {content: \"\";position: absolute;border-left: 1px solid gray;box-sizing: border-box;top: 0;bottom: 0;left: 50%;z-index: -1;}#sk-container-id-3 div.sk-parallel-item {display: flex;flex-direction: column;z-index: 1;position: relative;background-color: white;}#sk-container-id-3 div.sk-parallel-item:first-child::after {align-self: flex-end;width: 50%;}#sk-container-id-3 div.sk-parallel-item:last-child::after {align-self: flex-start;width: 50%;}#sk-container-id-3 div.sk-parallel-item:only-child::after {width: 0;}#sk-container-id-3 div.sk-dashed-wrapped {border: 1px dashed gray;margin: 0 0.4em 0.5em 0.4em;box-sizing: border-box;padding-bottom: 0.4em;background-color: white;}#sk-container-id-3 div.sk-label label {font-family: monospace;font-weight: bold;display: inline-block;line-height: 1.2em;}#sk-container-id-3 div.sk-label-container {text-align: center;}#sk-container-id-3 div.sk-container {/* jupyter's `normalize.less` sets `[hidden] { display: none; }` but bootstrap.min.css set `[hidden] { display: none !important; }` so we also need the `!important` here to be able to override the default hidden behavior on the sphinx rendered scikit-learn.org. See: https://github.com/scikit-learn/scikit-learn/issues/21755 */display: inline-block !important;position: relative;}#sk-container-id-3 div.sk-text-repr-fallback {display: none;}</style><div id=\"sk-container-id-3\" class=\"sk-top-container\"><div class=\"sk-text-repr-fallback\"><pre>GridSearchCV(cv=10,\n",
       "             estimator=Pipeline(steps=[(&#x27;columntransformer&#x27;,\n",
       "                                        ColumnTransformer(remainder=&#x27;passthrough&#x27;,\n",
       "                                                          transformers=[(&#x27;standardscaler&#x27;,\n",
       "                                                                         StandardScaler(),\n",
       "                                                                         [&#x27;age&#x27;,\n",
       "                                                                          &#x27;cp&#x27;,\n",
       "                                                                          &#x27;trestbps&#x27;,\n",
       "                                                                          &#x27;chol&#x27;,\n",
       "                                                                          &#x27;thalach&#x27;])],\n",
       "                                                          verbose_feature_names_out=False)),\n",
       "                                       (&#x27;kneighborsclassifier&#x27;,\n",
       "                                        KNeighborsClassifier())]),\n",
       "             param_grid={&#x27;kneighborsclassifier__n_neighbors&#x27;: range(1, 51)})</pre><b>In a Jupyter environment, please rerun this cell to show the HTML representation or trust the notebook. <br />On GitHub, the HTML representation is unable to render, please try loading this page with nbviewer.org.</b></div><div class=\"sk-container\" hidden><div class=\"sk-item sk-dashed-wrapped\"><div class=\"sk-label-container\"><div class=\"sk-label sk-toggleable\"><input class=\"sk-toggleable__control sk-hidden--visually\" id=\"sk-estimator-id-16\" type=\"checkbox\" ><label for=\"sk-estimator-id-16\" class=\"sk-toggleable__label sk-toggleable__label-arrow\">GridSearchCV</label><div class=\"sk-toggleable__content\"><pre>GridSearchCV(cv=10,\n",
       "             estimator=Pipeline(steps=[(&#x27;columntransformer&#x27;,\n",
       "                                        ColumnTransformer(remainder=&#x27;passthrough&#x27;,\n",
       "                                                          transformers=[(&#x27;standardscaler&#x27;,\n",
       "                                                                         StandardScaler(),\n",
       "                                                                         [&#x27;age&#x27;,\n",
       "                                                                          &#x27;cp&#x27;,\n",
       "                                                                          &#x27;trestbps&#x27;,\n",
       "                                                                          &#x27;chol&#x27;,\n",
       "                                                                          &#x27;thalach&#x27;])],\n",
       "                                                          verbose_feature_names_out=False)),\n",
       "                                       (&#x27;kneighborsclassifier&#x27;,\n",
       "                                        KNeighborsClassifier())]),\n",
       "             param_grid={&#x27;kneighborsclassifier__n_neighbors&#x27;: range(1, 51)})</pre></div></div></div><div class=\"sk-parallel\"><div class=\"sk-parallel-item\"><div class=\"sk-item\"><div class=\"sk-label-container\"><div class=\"sk-label sk-toggleable\"><input class=\"sk-toggleable__control sk-hidden--visually\" id=\"sk-estimator-id-17\" type=\"checkbox\" ><label for=\"sk-estimator-id-17\" class=\"sk-toggleable__label sk-toggleable__label-arrow\">estimator: Pipeline</label><div class=\"sk-toggleable__content\"><pre>Pipeline(steps=[(&#x27;columntransformer&#x27;,\n",
       "                 ColumnTransformer(remainder=&#x27;passthrough&#x27;,\n",
       "                                   transformers=[(&#x27;standardscaler&#x27;,\n",
       "                                                  StandardScaler(),\n",
       "                                                  [&#x27;age&#x27;, &#x27;cp&#x27;, &#x27;trestbps&#x27;,\n",
       "                                                   &#x27;chol&#x27;, &#x27;thalach&#x27;])],\n",
       "                                   verbose_feature_names_out=False)),\n",
       "                (&#x27;kneighborsclassifier&#x27;, KNeighborsClassifier())])</pre></div></div></div><div class=\"sk-serial\"><div class=\"sk-item\"><div class=\"sk-serial\"><div class=\"sk-item sk-dashed-wrapped\"><div class=\"sk-label-container\"><div class=\"sk-label sk-toggleable\"><input class=\"sk-toggleable__control sk-hidden--visually\" id=\"sk-estimator-id-18\" type=\"checkbox\" ><label for=\"sk-estimator-id-18\" class=\"sk-toggleable__label sk-toggleable__label-arrow\">columntransformer: ColumnTransformer</label><div class=\"sk-toggleable__content\"><pre>ColumnTransformer(remainder=&#x27;passthrough&#x27;,\n",
       "                  transformers=[(&#x27;standardscaler&#x27;, StandardScaler(),\n",
       "                                 [&#x27;age&#x27;, &#x27;cp&#x27;, &#x27;trestbps&#x27;, &#x27;chol&#x27;, &#x27;thalach&#x27;])],\n",
       "                  verbose_feature_names_out=False)</pre></div></div></div><div class=\"sk-parallel\"><div class=\"sk-parallel-item\"><div class=\"sk-item\"><div class=\"sk-label-container\"><div class=\"sk-label sk-toggleable\"><input class=\"sk-toggleable__control sk-hidden--visually\" id=\"sk-estimator-id-19\" type=\"checkbox\" ><label for=\"sk-estimator-id-19\" class=\"sk-toggleable__label sk-toggleable__label-arrow\">standardscaler</label><div class=\"sk-toggleable__content\"><pre>[&#x27;age&#x27;, &#x27;cp&#x27;, &#x27;trestbps&#x27;, &#x27;chol&#x27;, &#x27;thalach&#x27;]</pre></div></div></div><div class=\"sk-serial\"><div class=\"sk-item\"><div class=\"sk-estimator sk-toggleable\"><input class=\"sk-toggleable__control sk-hidden--visually\" id=\"sk-estimator-id-20\" type=\"checkbox\" ><label for=\"sk-estimator-id-20\" class=\"sk-toggleable__label sk-toggleable__label-arrow\">StandardScaler</label><div class=\"sk-toggleable__content\"><pre>StandardScaler()</pre></div></div></div></div></div></div><div class=\"sk-parallel-item\"><div class=\"sk-item\"><div class=\"sk-label-container\"><div class=\"sk-label sk-toggleable\"><input class=\"sk-toggleable__control sk-hidden--visually\" id=\"sk-estimator-id-21\" type=\"checkbox\" ><label for=\"sk-estimator-id-21\" class=\"sk-toggleable__label sk-toggleable__label-arrow\">remainder</label><div class=\"sk-toggleable__content\"><pre>[]</pre></div></div></div><div class=\"sk-serial\"><div class=\"sk-item\"><div class=\"sk-estimator sk-toggleable\"><input class=\"sk-toggleable__control sk-hidden--visually\" id=\"sk-estimator-id-22\" type=\"checkbox\" ><label for=\"sk-estimator-id-22\" class=\"sk-toggleable__label sk-toggleable__label-arrow\">passthrough</label><div class=\"sk-toggleable__content\"><pre>passthrough</pre></div></div></div></div></div></div></div></div><div class=\"sk-item\"><div class=\"sk-estimator sk-toggleable\"><input class=\"sk-toggleable__control sk-hidden--visually\" id=\"sk-estimator-id-23\" type=\"checkbox\" ><label for=\"sk-estimator-id-23\" class=\"sk-toggleable__label sk-toggleable__label-arrow\">KNeighborsClassifier</label><div class=\"sk-toggleable__content\"><pre>KNeighborsClassifier()</pre></div></div></div></div></div></div></div></div></div></div></div></div>"
      ],
      "text/plain": [
       "GridSearchCV(cv=10,\n",
       "             estimator=Pipeline(steps=[('columntransformer',\n",
       "                                        ColumnTransformer(remainder='passthrough',\n",
       "                                                          transformers=[('standardscaler',\n",
       "                                                                         StandardScaler(),\n",
       "                                                                         ['age',\n",
       "                                                                          'cp',\n",
       "                                                                          'trestbps',\n",
       "                                                                          'chol',\n",
       "                                                                          'thalach'])],\n",
       "                                                          verbose_feature_names_out=False)),\n",
       "                                       ('kneighborsclassifier',\n",
       "                                        KNeighborsClassifier())]),\n",
       "             param_grid={'kneighborsclassifier__n_neighbors': range(1, 51)})"
      ]
     },
     "execution_count": 18,
     "metadata": {},
     "output_type": "execute_result"
    }
   ],
   "source": [
    "#Creates the preprocessor\n",
    "heart_pre = make_column_transformer(\n",
    "    (StandardScaler(), [\"age\",\"cp\",\"trestbps\",\"chol\",\"thalach\"]),\n",
    "    remainder=\"passthrough\",\n",
    "    verbose_feature_names_out=False\n",
    ")\n",
    "\n",
    "#Creates the model\n",
    "knn = KNeighborsClassifier()\n",
    "\n",
    "#Creates pipeline\n",
    "heart_pipe = make_pipeline(heart_pre, knn)\n",
    "\n",
    "#Fits training data onto the pipeline with diagnosis as the target variable\n",
    "heart_pipe.fit(\n",
    "    heart_train[[\"age\",\"cp\",\"trestbps\",\"chol\",\"thalach\"]],\n",
    "    heart_train[\"diagnosis\"])\n",
    "\n",
    "#Creates a grid and performs a grid search to attempt to find the best K value\n",
    "grid = {\n",
    "    \"kneighborsclassifier__n_neighbors\": range(1,51)\n",
    "}\n",
    "\n",
    "heart_grid = GridSearchCV(\n",
    "    estimator = heart_pipe,\n",
    "    param_grid = grid,\n",
    "    cv = 10\n",
    ")\n",
    "\n",
    "#Fits it onto the training data\n",
    "heart_grid.fit(\n",
    "    heart_train[[\"age\",\"cp\",\"trestbps\",\"chol\",\"thalach\"]],\n",
    "    heart_train[\"diagnosis\"])"
   ]
  },
  {
   "cell_type": "code",
   "execution_count": 26,
   "id": "c0c2f287-e45b-4094-b8f6-936bf5ed9f5b",
   "metadata": {},
   "outputs": [
    {
     "data": {
      "text/plain": [
       "'Figure 4: How Does Number of Neighbors Impact Test Score?'"
      ]
     },
     "metadata": {},
     "output_type": "display_data"
    },
    {
     "data": {
      "text/html": [
       "\n",
       "<style>\n",
       "  #altair-viz-57826d6f52924264bccf2343b5ce88b7.vega-embed {\n",
       "    width: 100%;\n",
       "    display: flex;\n",
       "  }\n",
       "\n",
       "  #altair-viz-57826d6f52924264bccf2343b5ce88b7.vega-embed details,\n",
       "  #altair-viz-57826d6f52924264bccf2343b5ce88b7.vega-embed details summary {\n",
       "    position: relative;\n",
       "  }\n",
       "</style>\n",
       "<div id=\"altair-viz-57826d6f52924264bccf2343b5ce88b7\"></div>\n",
       "<script type=\"text/javascript\">\n",
       "  var VEGA_DEBUG = (typeof VEGA_DEBUG == \"undefined\") ? {} : VEGA_DEBUG;\n",
       "  (function(spec, embedOpt){\n",
       "    let outputDiv = document.currentScript.previousElementSibling;\n",
       "    if (outputDiv.id !== \"altair-viz-57826d6f52924264bccf2343b5ce88b7\") {\n",
       "      outputDiv = document.getElementById(\"altair-viz-57826d6f52924264bccf2343b5ce88b7\");\n",
       "    }\n",
       "    const paths = {\n",
       "      \"vega\": \"https://cdn.jsdelivr.net/npm/vega@5?noext\",\n",
       "      \"vega-lib\": \"https://cdn.jsdelivr.net/npm/vega-lib?noext\",\n",
       "      \"vega-lite\": \"https://cdn.jsdelivr.net/npm/vega-lite@5.8.0?noext\",\n",
       "      \"vega-embed\": \"https://cdn.jsdelivr.net/npm/vega-embed@6?noext\",\n",
       "    };\n",
       "\n",
       "    function maybeLoadScript(lib, version) {\n",
       "      var key = `${lib.replace(\"-\", \"\")}_version`;\n",
       "      return (VEGA_DEBUG[key] == version) ?\n",
       "        Promise.resolve(paths[lib]) :\n",
       "        new Promise(function(resolve, reject) {\n",
       "          var s = document.createElement('script');\n",
       "          document.getElementsByTagName(\"head\")[0].appendChild(s);\n",
       "          s.async = true;\n",
       "          s.onload = () => {\n",
       "            VEGA_DEBUG[key] = version;\n",
       "            return resolve(paths[lib]);\n",
       "          };\n",
       "          s.onerror = () => reject(`Error loading script: ${paths[lib]}`);\n",
       "          s.src = paths[lib];\n",
       "        });\n",
       "    }\n",
       "\n",
       "    function showError(err) {\n",
       "      outputDiv.innerHTML = `<div class=\"error\" style=\"color:red;\">${err}</div>`;\n",
       "      throw err;\n",
       "    }\n",
       "\n",
       "    function displayChart(vegaEmbed) {\n",
       "      vegaEmbed(outputDiv, spec, embedOpt)\n",
       "        .catch(err => showError(`Javascript Error: ${err.message}<br>This usually means there's a typo in your chart specification. See the javascript console for the full traceback.`));\n",
       "    }\n",
       "\n",
       "    if(typeof define === \"function\" && define.amd) {\n",
       "      requirejs.config({paths});\n",
       "      require([\"vega-embed\"], displayChart, err => showError(`Error loading script: ${err.message}`));\n",
       "    } else {\n",
       "      maybeLoadScript(\"vega\", \"5\")\n",
       "        .then(() => maybeLoadScript(\"vega-lite\", \"5.8.0\"))\n",
       "        .then(() => maybeLoadScript(\"vega-embed\", \"6\"))\n",
       "        .catch(showError)\n",
       "        .then(() => displayChart(vegaEmbed));\n",
       "    }\n",
       "  })({\"config\": {\"view\": {\"continuousWidth\": 300, \"continuousHeight\": 300}}, \"data\": {\"name\": \"data-bd5d04478bb7c79b33929f02d9124b03\"}, \"mark\": {\"type\": \"line\", \"point\": true}, \"encoding\": {\"x\": {\"field\": \"param_kneighborsclassifier__n_neighbors\", \"title\": \"Number of Neighbors\", \"type\": \"quantitative\"}, \"y\": {\"field\": \"mean_test_score\", \"title\": \"Mean Test Score\", \"type\": \"quantitative\"}}, \"$schema\": \"https://vega.github.io/schema/vega-lite/v5.8.0.json\", \"datasets\": {\"data-bd5d04478bb7c79b33929f02d9124b03\": [{\"mean_fit_time\": 0.0039506196975708004, \"std_fit_time\": 0.0006332547857648634, \"mean_score_time\": 0.004543161392211914, \"std_score_time\": 0.0022229881440487304, \"param_kneighborsclassifier__n_neighbors\": 1, \"params\": {\"kneighborsclassifier__n_neighbors\": 1}, \"split0_test_score\": 0.391304347826087, \"split1_test_score\": 0.43478260869565216, \"split2_test_score\": 0.391304347826087, \"split3_test_score\": 0.34782608695652173, \"split4_test_score\": 0.2608695652173913, \"split5_test_score\": 0.2608695652173913, \"split6_test_score\": 0.4782608695652174, \"split7_test_score\": 0.3181818181818182, \"split8_test_score\": 0.2727272727272727, \"split9_test_score\": 0.45454545454545453, \"mean_test_score\": 0.3610671936758893, \"std_test_score\": 0.0772221663684957, \"rank_test_score\": 50}, {\"mean_fit_time\": 0.004180788993835449, \"std_fit_time\": 0.0008506190078485503, \"mean_score_time\": 0.003873133659362793, \"std_score_time\": 0.0005056952535645164, \"param_kneighborsclassifier__n_neighbors\": 2, \"params\": {\"kneighborsclassifier__n_neighbors\": 2}, \"split0_test_score\": 0.4782608695652174, \"split1_test_score\": 0.5652173913043478, \"split2_test_score\": 0.5217391304347826, \"split3_test_score\": 0.43478260869565216, \"split4_test_score\": 0.4782608695652174, \"split5_test_score\": 0.5217391304347826, \"split6_test_score\": 0.43478260869565216, \"split7_test_score\": 0.36363636363636365, \"split8_test_score\": 0.45454545454545453, \"split9_test_score\": 0.45454545454545453, \"mean_test_score\": 0.4707509881422924, \"std_test_score\": 0.05368659919814703, \"rank_test_score\": 47}, {\"mean_fit_time\": 0.0034117937088012696, \"std_fit_time\": 5.6242983237102835e-05, \"mean_score_time\": 0.003415513038635254, \"std_score_time\": 4.741713991854199e-05, \"param_kneighborsclassifier__n_neighbors\": 3, \"params\": {\"kneighborsclassifier__n_neighbors\": 3}, \"split0_test_score\": 0.43478260869565216, \"split1_test_score\": 0.6521739130434783, \"split2_test_score\": 0.43478260869565216, \"split3_test_score\": 0.34782608695652173, \"split4_test_score\": 0.43478260869565216, \"split5_test_score\": 0.43478260869565216, \"split6_test_score\": 0.5217391304347826, \"split7_test_score\": 0.4090909090909091, \"split8_test_score\": 0.4090909090909091, \"split9_test_score\": 0.45454545454545453, \"mean_test_score\": 0.45335968379446634, \"std_test_score\": 0.07787263466260712, \"rank_test_score\": 49}, {\"mean_fit_time\": 0.0034430503845214845, \"std_fit_time\": 0.00017924437531305397, \"mean_score_time\": 0.0034447669982910155, \"std_score_time\": 5.3115806919293755e-05, \"param_kneighborsclassifier__n_neighbors\": 4, \"params\": {\"kneighborsclassifier__n_neighbors\": 4}, \"split0_test_score\": 0.43478260869565216, \"split1_test_score\": 0.6521739130434783, \"split2_test_score\": 0.4782608695652174, \"split3_test_score\": 0.5217391304347826, \"split4_test_score\": 0.4782608695652174, \"split5_test_score\": 0.4782608695652174, \"split6_test_score\": 0.43478260869565216, \"split7_test_score\": 0.45454545454545453, \"split8_test_score\": 0.4090909090909091, \"split9_test_score\": 0.36363636363636365, \"mean_test_score\": 0.4705533596837944, \"std_test_score\": 0.07335424242120277, \"rank_test_score\": 48}, {\"mean_fit_time\": 0.0033962488174438476, \"std_fit_time\": 7.302543127510813e-05, \"mean_score_time\": 0.003427863121032715, \"std_score_time\": 5.9588835527011814e-05, \"param_kneighborsclassifier__n_neighbors\": 5, \"params\": {\"kneighborsclassifier__n_neighbors\": 5}, \"split0_test_score\": 0.4782608695652174, \"split1_test_score\": 0.6521739130434783, \"split2_test_score\": 0.4782608695652174, \"split3_test_score\": 0.5217391304347826, \"split4_test_score\": 0.43478260869565216, \"split5_test_score\": 0.43478260869565216, \"split6_test_score\": 0.5217391304347826, \"split7_test_score\": 0.36363636363636365, \"split8_test_score\": 0.5, \"split9_test_score\": 0.45454545454545453, \"mean_test_score\": 0.48399209486166006, \"std_test_score\": 0.07186967510146917, \"rank_test_score\": 43}, {\"mean_fit_time\": 0.0034402132034301756, \"std_fit_time\": 8.213470220760681e-05, \"mean_score_time\": 0.0034104585647583008, \"std_score_time\": 5.295504213447139e-05, \"param_kneighborsclassifier__n_neighbors\": 6, \"params\": {\"kneighborsclassifier__n_neighbors\": 6}, \"split0_test_score\": 0.4782608695652174, \"split1_test_score\": 0.6086956521739131, \"split2_test_score\": 0.5217391304347826, \"split3_test_score\": 0.4782608695652174, \"split4_test_score\": 0.391304347826087, \"split5_test_score\": 0.43478260869565216, \"split6_test_score\": 0.4782608695652174, \"split7_test_score\": 0.4090909090909091, \"split8_test_score\": 0.45454545454545453, \"split9_test_score\": 0.5, \"mean_test_score\": 0.47549407114624503, \"std_test_score\": 0.05839377528671585, \"rank_test_score\": 45}, {\"mean_fit_time\": 0.0033659934997558594, \"std_fit_time\": 6.055578466804011e-05, \"mean_score_time\": 0.003396344184875488, \"std_score_time\": 4.764985431955921e-05, \"param_kneighborsclassifier__n_neighbors\": 7, \"params\": {\"kneighborsclassifier__n_neighbors\": 7}, \"split0_test_score\": 0.43478260869565216, \"split1_test_score\": 0.5217391304347826, \"split2_test_score\": 0.6086956521739131, \"split3_test_score\": 0.5217391304347826, \"split4_test_score\": 0.4782608695652174, \"split5_test_score\": 0.43478260869565216, \"split6_test_score\": 0.43478260869565216, \"split7_test_score\": 0.36363636363636365, \"split8_test_score\": 0.45454545454545453, \"split9_test_score\": 0.5, \"mean_test_score\": 0.47529644268774707, \"std_test_score\": 0.06367961852062459, \"rank_test_score\": 46}, {\"mean_fit_time\": 0.003357338905334473, \"std_fit_time\": 5.8251767847251834e-05, \"mean_score_time\": 0.003402996063232422, \"std_score_time\": 5.106643237952883e-05, \"param_kneighborsclassifier__n_neighbors\": 8, \"params\": {\"kneighborsclassifier__n_neighbors\": 8}, \"split0_test_score\": 0.4782608695652174, \"split1_test_score\": 0.6086956521739131, \"split2_test_score\": 0.5652173913043478, \"split3_test_score\": 0.5217391304347826, \"split4_test_score\": 0.5217391304347826, \"split5_test_score\": 0.4782608695652174, \"split6_test_score\": 0.43478260869565216, \"split7_test_score\": 0.36363636363636365, \"split8_test_score\": 0.5, \"split9_test_score\": 0.45454545454545453, \"mean_test_score\": 0.49268774703557305, \"std_test_score\": 0.06506780065245696, \"rank_test_score\": 36}, {\"mean_fit_time\": 0.003409934043884277, \"std_fit_time\": 9.860417408751565e-05, \"mean_score_time\": 0.0034229516983032226, \"std_score_time\": 4.0508214683523324e-05, \"param_kneighborsclassifier__n_neighbors\": 9, \"params\": {\"kneighborsclassifier__n_neighbors\": 9}, \"split0_test_score\": 0.4782608695652174, \"split1_test_score\": 0.5652173913043478, \"split2_test_score\": 0.5652173913043478, \"split3_test_score\": 0.5217391304347826, \"split4_test_score\": 0.5652173913043478, \"split5_test_score\": 0.4782608695652174, \"split6_test_score\": 0.43478260869565216, \"split7_test_score\": 0.45454545454545453, \"split8_test_score\": 0.45454545454545453, \"split9_test_score\": 0.4090909090909091, \"mean_test_score\": 0.49268774703557305, \"std_test_score\": 0.05503908217900939, \"rank_test_score\": 36}, {\"mean_fit_time\": 0.003377223014831543, \"std_fit_time\": 8.040854891557744e-05, \"mean_score_time\": 0.003391718864440918, \"std_score_time\": 2.1013984176876084e-05, \"param_kneighborsclassifier__n_neighbors\": 10, \"params\": {\"kneighborsclassifier__n_neighbors\": 10}, \"split0_test_score\": 0.4782608695652174, \"split1_test_score\": 0.5217391304347826, \"split2_test_score\": 0.5217391304347826, \"split3_test_score\": 0.5217391304347826, \"split4_test_score\": 0.5652173913043478, \"split5_test_score\": 0.4782608695652174, \"split6_test_score\": 0.4782608695652174, \"split7_test_score\": 0.45454545454545453, \"split8_test_score\": 0.45454545454545453, \"split9_test_score\": 0.5, \"mean_test_score\": 0.4974308300395257, \"std_test_score\": 0.033399209486165995, \"rank_test_score\": 31}, {\"mean_fit_time\": 0.0034174203872680666, \"std_fit_time\": 0.00017635924148317028, \"mean_score_time\": 0.003398609161376953, \"std_score_time\": 5.0076620160263766e-05, \"param_kneighborsclassifier__n_neighbors\": 11, \"params\": {\"kneighborsclassifier__n_neighbors\": 11}, \"split0_test_score\": 0.43478260869565216, \"split1_test_score\": 0.5217391304347826, \"split2_test_score\": 0.4782608695652174, \"split3_test_score\": 0.5217391304347826, \"split4_test_score\": 0.5217391304347826, \"split5_test_score\": 0.4782608695652174, \"split6_test_score\": 0.4782608695652174, \"split7_test_score\": 0.45454545454545453, \"split8_test_score\": 0.45454545454545453, \"split9_test_score\": 0.5, \"mean_test_score\": 0.48438735177865605, \"std_test_score\": 0.029637021512007124, \"rank_test_score\": 41}, {\"mean_fit_time\": 0.00338134765625, \"std_fit_time\": 7.777338301778805e-05, \"mean_score_time\": 0.0051974296569824215, \"std_score_time\": 0.005377089876399944, \"param_kneighborsclassifier__n_neighbors\": 12, \"params\": {\"kneighborsclassifier__n_neighbors\": 12}, \"split0_test_score\": 0.4782608695652174, \"split1_test_score\": 0.5217391304347826, \"split2_test_score\": 0.5217391304347826, \"split3_test_score\": 0.5652173913043478, \"split4_test_score\": 0.43478260869565216, \"split5_test_score\": 0.4782608695652174, \"split6_test_score\": 0.4782608695652174, \"split7_test_score\": 0.45454545454545453, \"split8_test_score\": 0.45454545454545453, \"split9_test_score\": 0.45454545454545453, \"mean_test_score\": 0.484189723320158, \"std_test_score\": 0.038168395090569095, \"rank_test_score\": 42}, {\"mean_fit_time\": 0.003440546989440918, \"std_fit_time\": 0.0002645536440328514, \"mean_score_time\": 0.003372454643249512, \"std_score_time\": 1.9000764136646226e-05, \"param_kneighborsclassifier__n_neighbors\": 13, \"params\": {\"kneighborsclassifier__n_neighbors\": 13}, \"split0_test_score\": 0.5217391304347826, \"split1_test_score\": 0.5652173913043478, \"split2_test_score\": 0.5217391304347826, \"split3_test_score\": 0.5652173913043478, \"split4_test_score\": 0.4782608695652174, \"split5_test_score\": 0.43478260869565216, \"split6_test_score\": 0.4782608695652174, \"split7_test_score\": 0.45454545454545453, \"split8_test_score\": 0.45454545454545453, \"split9_test_score\": 0.5, \"mean_test_score\": 0.4974308300395257, \"std_test_score\": 0.04326258038533517, \"rank_test_score\": 31}, {\"mean_fit_time\": 0.0033699512481689454, \"std_fit_time\": 5.469128888811991e-05, \"mean_score_time\": 0.0034837722778320312, \"std_score_time\": 0.00024007510254519707, \"param_kneighborsclassifier__n_neighbors\": 14, \"params\": {\"kneighborsclassifier__n_neighbors\": 14}, \"split0_test_score\": 0.4782608695652174, \"split1_test_score\": 0.5652173913043478, \"split2_test_score\": 0.5217391304347826, \"split3_test_score\": 0.5652173913043478, \"split4_test_score\": 0.4782608695652174, \"split5_test_score\": 0.43478260869565216, \"split6_test_score\": 0.43478260869565216, \"split7_test_score\": 0.4090909090909091, \"split8_test_score\": 0.45454545454545453, \"split9_test_score\": 0.5454545454545454, \"mean_test_score\": 0.4887351778656125, \"std_test_score\": 0.05436794453355888, \"rank_test_score\": 39}, {\"mean_fit_time\": 0.0033925771713256836, \"std_fit_time\": 6.322150906180926e-05, \"mean_score_time\": 0.0034121274948120117, \"std_score_time\": 4.9202830982756145e-05, \"param_kneighborsclassifier__n_neighbors\": 15, \"params\": {\"kneighborsclassifier__n_neighbors\": 15}, \"split0_test_score\": 0.5217391304347826, \"split1_test_score\": 0.5217391304347826, \"split2_test_score\": 0.4782608695652174, \"split3_test_score\": 0.5217391304347826, \"split4_test_score\": 0.4782608695652174, \"split5_test_score\": 0.43478260869565216, \"split6_test_score\": 0.43478260869565216, \"split7_test_score\": 0.4090909090909091, \"split8_test_score\": 0.45454545454545453, \"split9_test_score\": 0.5454545454545454, \"mean_test_score\": 0.4800395256916996, \"std_test_score\": 0.043911335764406124, \"rank_test_score\": 44}, {\"mean_fit_time\": 0.00335841178894043, \"std_fit_time\": 4.9110384670413784e-05, \"mean_score_time\": 0.0033870697021484374, \"std_score_time\": 2.796563547984017e-05, \"param_kneighborsclassifier__n_neighbors\": 16, \"params\": {\"kneighborsclassifier__n_neighbors\": 16}, \"split0_test_score\": 0.4782608695652174, \"split1_test_score\": 0.5217391304347826, \"split2_test_score\": 0.5217391304347826, \"split3_test_score\": 0.5217391304347826, \"split4_test_score\": 0.4782608695652174, \"split5_test_score\": 0.43478260869565216, \"split6_test_score\": 0.4782608695652174, \"split7_test_score\": 0.4090909090909091, \"split8_test_score\": 0.45454545454545453, \"split9_test_score\": 0.5909090909090909, \"mean_test_score\": 0.4889328063241106, \"std_test_score\": 0.04945610219641756, \"rank_test_score\": 38}, {\"mean_fit_time\": 0.003347349166870117, \"std_fit_time\": 5.2703644335702e-05, \"mean_score_time\": 0.0033933162689208985, \"std_score_time\": 2.414750638080303e-05, \"param_kneighborsclassifier__n_neighbors\": 17, \"params\": {\"kneighborsclassifier__n_neighbors\": 17}, \"split0_test_score\": 0.4782608695652174, \"split1_test_score\": 0.5217391304347826, \"split2_test_score\": 0.5217391304347826, \"split3_test_score\": 0.5217391304347826, \"split4_test_score\": 0.5217391304347826, \"split5_test_score\": 0.43478260869565216, \"split6_test_score\": 0.5217391304347826, \"split7_test_score\": 0.4090909090909091, \"split8_test_score\": 0.45454545454545453, \"split9_test_score\": 0.5909090909090909, \"mean_test_score\": 0.49762845849802373, \"std_test_score\": 0.050623755404222495, \"rank_test_score\": 30}, {\"mean_fit_time\": 0.003493642807006836, \"std_fit_time\": 0.0001805473298173793, \"mean_score_time\": 0.003487563133239746, \"std_score_time\": 0.00015613138604581443, \"param_kneighborsclassifier__n_neighbors\": 18, \"params\": {\"kneighborsclassifier__n_neighbors\": 18}, \"split0_test_score\": 0.4782608695652174, \"split1_test_score\": 0.5217391304347826, \"split2_test_score\": 0.4782608695652174, \"split3_test_score\": 0.5217391304347826, \"split4_test_score\": 0.5217391304347826, \"split5_test_score\": 0.43478260869565216, \"split6_test_score\": 0.5652173913043478, \"split7_test_score\": 0.4090909090909091, \"split8_test_score\": 0.45454545454545453, \"split9_test_score\": 0.5, \"mean_test_score\": 0.4885375494071146, \"std_test_score\": 0.044594019771539546, \"rank_test_score\": 40}, {\"mean_fit_time\": 0.0033731460571289062, \"std_fit_time\": 7.623715074891213e-05, \"mean_score_time\": 0.0033914327621459963, \"std_score_time\": 2.5836709803769548e-05, \"param_kneighborsclassifier__n_neighbors\": 19, \"params\": {\"kneighborsclassifier__n_neighbors\": 19}, \"split0_test_score\": 0.4782608695652174, \"split1_test_score\": 0.5217391304347826, \"split2_test_score\": 0.5217391304347826, \"split3_test_score\": 0.5217391304347826, \"split4_test_score\": 0.5217391304347826, \"split5_test_score\": 0.4782608695652174, \"split6_test_score\": 0.5217391304347826, \"split7_test_score\": 0.4090909090909091, \"split8_test_score\": 0.45454545454545453, \"split9_test_score\": 0.5, \"mean_test_score\": 0.4928853754940711, \"std_test_score\": 0.03623883033186432, \"rank_test_score\": 34}, {\"mean_fit_time\": 0.0038000822067260744, \"std_fit_time\": 0.0011853488895641991, \"mean_score_time\": 0.0034569740295410157, \"std_score_time\": 0.0001253631641571156, \"param_kneighborsclassifier__n_neighbors\": 20, \"params\": {\"kneighborsclassifier__n_neighbors\": 20}, \"split0_test_score\": 0.4782608695652174, \"split1_test_score\": 0.5217391304347826, \"split2_test_score\": 0.5217391304347826, \"split3_test_score\": 0.5217391304347826, \"split4_test_score\": 0.5217391304347826, \"split5_test_score\": 0.4782608695652174, \"split6_test_score\": 0.5217391304347826, \"split7_test_score\": 0.4090909090909091, \"split8_test_score\": 0.45454545454545453, \"split9_test_score\": 0.5909090909090909, \"mean_test_score\": 0.5019762845849802, \"std_test_score\": 0.04675907704299689, \"rank_test_score\": 25}, {\"mean_fit_time\": 0.003789353370666504, \"std_fit_time\": 0.0012392042473369008, \"mean_score_time\": 0.003464150428771973, \"std_score_time\": 4.8007468024731834e-05, \"param_kneighborsclassifier__n_neighbors\": 21, \"params\": {\"kneighborsclassifier__n_neighbors\": 21}, \"split0_test_score\": 0.4782608695652174, \"split1_test_score\": 0.5217391304347826, \"split2_test_score\": 0.5217391304347826, \"split3_test_score\": 0.5652173913043478, \"split4_test_score\": 0.5217391304347826, \"split5_test_score\": 0.4782608695652174, \"split6_test_score\": 0.5217391304347826, \"split7_test_score\": 0.4090909090909091, \"split8_test_score\": 0.45454545454545453, \"split9_test_score\": 0.5909090909090909, \"mean_test_score\": 0.5063241106719367, \"std_test_score\": 0.05028314274715968, \"rank_test_score\": 17}, {\"mean_fit_time\": 0.003439188003540039, \"std_fit_time\": 0.0002057754555287543, \"mean_score_time\": 0.0034702777862548827, \"std_score_time\": 0.00017030011299304737, \"param_kneighborsclassifier__n_neighbors\": 22, \"params\": {\"kneighborsclassifier__n_neighbors\": 22}, \"split0_test_score\": 0.4782608695652174, \"split1_test_score\": 0.5652173913043478, \"split2_test_score\": 0.5217391304347826, \"split3_test_score\": 0.5217391304347826, \"split4_test_score\": 0.5217391304347826, \"split5_test_score\": 0.5217391304347826, \"split6_test_score\": 0.4782608695652174, \"split7_test_score\": 0.4090909090909091, \"split8_test_score\": 0.45454545454545453, \"split9_test_score\": 0.5909090909090909, \"mean_test_score\": 0.5063241106719367, \"std_test_score\": 0.05028314274715968, \"rank_test_score\": 17}, {\"mean_fit_time\": 0.003360295295715332, \"std_fit_time\": 5.5453768036443565e-05, \"mean_score_time\": 0.003436636924743652, \"std_score_time\": 5.854378283512783e-05, \"param_kneighborsclassifier__n_neighbors\": 23, \"params\": {\"kneighborsclassifier__n_neighbors\": 23}, \"split0_test_score\": 0.4782608695652174, \"split1_test_score\": 0.5217391304347826, \"split2_test_score\": 0.43478260869565216, \"split3_test_score\": 0.5217391304347826, \"split4_test_score\": 0.5217391304347826, \"split5_test_score\": 0.5652173913043478, \"split6_test_score\": 0.4782608695652174, \"split7_test_score\": 0.4090909090909091, \"split8_test_score\": 0.45454545454545453, \"split9_test_score\": 0.5454545454545454, \"mean_test_score\": 0.49308300395256915, \"std_test_score\": 0.047736580406503346, \"rank_test_score\": 33}, {\"mean_fit_time\": 0.0033787250518798827, \"std_fit_time\": 6.982060306676815e-05, \"mean_score_time\": 0.0034740209579467774, \"std_score_time\": 5.409469573589874e-05, \"param_kneighborsclassifier__n_neighbors\": 24, \"params\": {\"kneighborsclassifier__n_neighbors\": 24}, \"split0_test_score\": 0.4782608695652174, \"split1_test_score\": 0.6086956521739131, \"split2_test_score\": 0.43478260869565216, \"split3_test_score\": 0.5217391304347826, \"split4_test_score\": 0.5217391304347826, \"split5_test_score\": 0.5217391304347826, \"split6_test_score\": 0.4782608695652174, \"split7_test_score\": 0.4090909090909091, \"split8_test_score\": 0.45454545454545453, \"split9_test_score\": 0.5, \"mean_test_score\": 0.4928853754940711, \"std_test_score\": 0.05315581020373242, \"rank_test_score\": 34}, {\"mean_fit_time\": 0.0033442497253417967, \"std_fit_time\": 5.412635272779981e-05, \"mean_score_time\": 0.0034157276153564454, \"std_score_time\": 2.2771458215687845e-05, \"param_kneighborsclassifier__n_neighbors\": 25, \"params\": {\"kneighborsclassifier__n_neighbors\": 25}, \"split0_test_score\": 0.5217391304347826, \"split1_test_score\": 0.6086956521739131, \"split2_test_score\": 0.43478260869565216, \"split3_test_score\": 0.5217391304347826, \"split4_test_score\": 0.5217391304347826, \"split5_test_score\": 0.5652173913043478, \"split6_test_score\": 0.5217391304347826, \"split7_test_score\": 0.36363636363636365, \"split8_test_score\": 0.45454545454545453, \"split9_test_score\": 0.5, \"mean_test_score\": 0.5013833992094862, \"std_test_score\": 0.06546276752315656, \"rank_test_score\": 29}, {\"mean_fit_time\": 0.0033761262893676758, \"std_fit_time\": 7.074632948427461e-05, \"mean_score_time\": 0.0034409284591674803, \"std_score_time\": 4.3044432565501406e-05, \"param_kneighborsclassifier__n_neighbors\": 26, \"params\": {\"kneighborsclassifier__n_neighbors\": 26}, \"split0_test_score\": 0.5217391304347826, \"split1_test_score\": 0.5652173913043478, \"split2_test_score\": 0.43478260869565216, \"split3_test_score\": 0.5217391304347826, \"split4_test_score\": 0.5217391304347826, \"split5_test_score\": 0.5652173913043478, \"split6_test_score\": 0.5217391304347826, \"split7_test_score\": 0.4090909090909091, \"split8_test_score\": 0.45454545454545453, \"split9_test_score\": 0.5454545454545454, \"mean_test_score\": 0.5061264822134387, \"std_test_score\": 0.05164459306223202, \"rank_test_score\": 19}, {\"mean_fit_time\": 0.003374791145324707, \"std_fit_time\": 6.0035147473759824e-05, \"mean_score_time\": 0.003431558609008789, \"std_score_time\": 4.5727042605303906e-05, \"param_kneighborsclassifier__n_neighbors\": 27, \"params\": {\"kneighborsclassifier__n_neighbors\": 27}, \"split0_test_score\": 0.5217391304347826, \"split1_test_score\": 0.5652173913043478, \"split2_test_score\": 0.4782608695652174, \"split3_test_score\": 0.5217391304347826, \"split4_test_score\": 0.5217391304347826, \"split5_test_score\": 0.5217391304347826, \"split6_test_score\": 0.5217391304347826, \"split7_test_score\": 0.4090909090909091, \"split8_test_score\": 0.45454545454545453, \"split9_test_score\": 0.5454545454545454, \"mean_test_score\": 0.5061264822134387, \"std_test_score\": 0.0437152184629879, \"rank_test_score\": 19}, {\"mean_fit_time\": 0.0034042835235595704, \"std_fit_time\": 6.0412294695522905e-05, \"mean_score_time\": 0.0035406112670898437, \"std_score_time\": 0.0002647603744098997, \"param_kneighborsclassifier__n_neighbors\": 28, \"params\": {\"kneighborsclassifier__n_neighbors\": 28}, \"split0_test_score\": 0.5217391304347826, \"split1_test_score\": 0.5652173913043478, \"split2_test_score\": 0.4782608695652174, \"split3_test_score\": 0.5217391304347826, \"split4_test_score\": 0.5217391304347826, \"split5_test_score\": 0.5217391304347826, \"split6_test_score\": 0.4782608695652174, \"split7_test_score\": 0.4090909090909091, \"split8_test_score\": 0.45454545454545453, \"split9_test_score\": 0.5454545454545454, \"mean_test_score\": 0.5017786561264822, \"std_test_score\": 0.04410658105047439, \"rank_test_score\": 26}, {\"mean_fit_time\": 0.0033987283706665037, \"std_fit_time\": 7.247572266010787e-05, \"mean_score_time\": 0.003486490249633789, \"std_score_time\": 5.068155431566205e-05, \"param_kneighborsclassifier__n_neighbors\": 29, \"params\": {\"kneighborsclassifier__n_neighbors\": 29}, \"split0_test_score\": 0.5217391304347826, \"split1_test_score\": 0.5652173913043478, \"split2_test_score\": 0.4782608695652174, \"split3_test_score\": 0.5217391304347826, \"split4_test_score\": 0.5217391304347826, \"split5_test_score\": 0.5217391304347826, \"split6_test_score\": 0.5217391304347826, \"split7_test_score\": 0.4090909090909091, \"split8_test_score\": 0.45454545454545453, \"split9_test_score\": 0.5454545454545454, \"mean_test_score\": 0.5061264822134387, \"std_test_score\": 0.0437152184629879, \"rank_test_score\": 19}, {\"mean_fit_time\": 0.0033444643020629885, \"std_fit_time\": 4.974020141679478e-05, \"mean_score_time\": 0.0034253835678100587, \"std_score_time\": 2.0627396218733415e-05, \"param_kneighborsclassifier__n_neighbors\": 30, \"params\": {\"kneighborsclassifier__n_neighbors\": 30}, \"split0_test_score\": 0.5217391304347826, \"split1_test_score\": 0.5652173913043478, \"split2_test_score\": 0.4782608695652174, \"split3_test_score\": 0.5217391304347826, \"split4_test_score\": 0.5217391304347826, \"split5_test_score\": 0.5217391304347826, \"split6_test_score\": 0.4782608695652174, \"split7_test_score\": 0.4090909090909091, \"split8_test_score\": 0.45454545454545453, \"split9_test_score\": 0.5454545454545454, \"mean_test_score\": 0.5017786561264822, \"std_test_score\": 0.04410658105047439, \"rank_test_score\": 26}, {\"mean_fit_time\": 0.0034227371215820312, \"std_fit_time\": 9.643363988475663e-05, \"mean_score_time\": 0.0035219430923461915, \"std_score_time\": 6.705426215433678e-05, \"param_kneighborsclassifier__n_neighbors\": 31, \"params\": {\"kneighborsclassifier__n_neighbors\": 31}, \"split0_test_score\": 0.5217391304347826, \"split1_test_score\": 0.6086956521739131, \"split2_test_score\": 0.4782608695652174, \"split3_test_score\": 0.5217391304347826, \"split4_test_score\": 0.5217391304347826, \"split5_test_score\": 0.5217391304347826, \"split6_test_score\": 0.4782608695652174, \"split7_test_score\": 0.4090909090909091, \"split8_test_score\": 0.45454545454545453, \"split9_test_score\": 0.5454545454545454, \"mean_test_score\": 0.5061264822134387, \"std_test_score\": 0.051644593062232035, \"rank_test_score\": 19}, {\"mean_fit_time\": 0.0034883975982666015, \"std_fit_time\": 0.0001402643957425353, \"mean_score_time\": 0.003574776649475098, \"std_score_time\": 9.907059691388422e-05, \"param_kneighborsclassifier__n_neighbors\": 32, \"params\": {\"kneighborsclassifier__n_neighbors\": 32}, \"split0_test_score\": 0.5217391304347826, \"split1_test_score\": 0.5652173913043478, \"split2_test_score\": 0.5217391304347826, \"split3_test_score\": 0.5217391304347826, \"split4_test_score\": 0.5217391304347826, \"split5_test_score\": 0.4782608695652174, \"split6_test_score\": 0.4782608695652174, \"split7_test_score\": 0.45454545454545453, \"split8_test_score\": 0.45454545454545453, \"split9_test_score\": 0.5, \"mean_test_score\": 0.5017786561264821, \"std_test_score\": 0.03345062347655618, \"rank_test_score\": 28}, {\"mean_fit_time\": 0.003385448455810547, \"std_fit_time\": 6.325530226563284e-05, \"mean_score_time\": 0.0034802436828613283, \"std_score_time\": 4.3821412668584504e-05, \"param_kneighborsclassifier__n_neighbors\": 33, \"params\": {\"kneighborsclassifier__n_neighbors\": 33}, \"split0_test_score\": 0.5217391304347826, \"split1_test_score\": 0.5652173913043478, \"split2_test_score\": 0.5217391304347826, \"split3_test_score\": 0.5217391304347826, \"split4_test_score\": 0.5217391304347826, \"split5_test_score\": 0.5217391304347826, \"split6_test_score\": 0.4782608695652174, \"split7_test_score\": 0.45454545454545453, \"split8_test_score\": 0.45454545454545453, \"split9_test_score\": 0.5909090909090909, \"mean_test_score\": 0.5152173913043477, \"std_test_score\": 0.04143651905588475, \"rank_test_score\": 9}, {\"mean_fit_time\": 0.003359532356262207, \"std_fit_time\": 5.6354451379580444e-05, \"mean_score_time\": 0.0034670591354370116, \"std_score_time\": 3.1941051917892116e-05, \"param_kneighborsclassifier__n_neighbors\": 34, \"params\": {\"kneighborsclassifier__n_neighbors\": 34}, \"split0_test_score\": 0.5217391304347826, \"split1_test_score\": 0.5652173913043478, \"split2_test_score\": 0.5217391304347826, \"split3_test_score\": 0.5217391304347826, \"split4_test_score\": 0.5217391304347826, \"split5_test_score\": 0.5217391304347826, \"split6_test_score\": 0.4782608695652174, \"split7_test_score\": 0.4090909090909091, \"split8_test_score\": 0.45454545454545453, \"split9_test_score\": 0.5454545454545454, \"mean_test_score\": 0.5061264822134387, \"std_test_score\": 0.0437152184629879, \"rank_test_score\": 19}, {\"mean_fit_time\": 0.003397345542907715, \"std_fit_time\": 7.950401688807204e-05, \"mean_score_time\": 0.003513336181640625, \"std_score_time\": 5.332171690093697e-05, \"param_kneighborsclassifier__n_neighbors\": 35, \"params\": {\"kneighborsclassifier__n_neighbors\": 35}, \"split0_test_score\": 0.5217391304347826, \"split1_test_score\": 0.5652173913043478, \"split2_test_score\": 0.5217391304347826, \"split3_test_score\": 0.5217391304347826, \"split4_test_score\": 0.5217391304347826, \"split5_test_score\": 0.5217391304347826, \"split6_test_score\": 0.4782608695652174, \"split7_test_score\": 0.45454545454545453, \"split8_test_score\": 0.45454545454545453, \"split9_test_score\": 0.5454545454545454, \"mean_test_score\": 0.5106719367588932, \"std_test_score\": 0.034854399502053116, \"rank_test_score\": 11}, {\"mean_fit_time\": 0.003442668914794922, \"std_fit_time\": 0.00011856291052864258, \"mean_score_time\": 0.0035165786743164063, \"std_score_time\": 0.00010728614592915502, \"param_kneighborsclassifier__n_neighbors\": 36, \"params\": {\"kneighborsclassifier__n_neighbors\": 36}, \"split0_test_score\": 0.5217391304347826, \"split1_test_score\": 0.5652173913043478, \"split2_test_score\": 0.5217391304347826, \"split3_test_score\": 0.5217391304347826, \"split4_test_score\": 0.5217391304347826, \"split5_test_score\": 0.5217391304347826, \"split6_test_score\": 0.4782608695652174, \"split7_test_score\": 0.45454545454545453, \"split8_test_score\": 0.45454545454545453, \"split9_test_score\": 0.5454545454545454, \"mean_test_score\": 0.5106719367588932, \"std_test_score\": 0.034854399502053116, \"rank_test_score\": 11}, {\"mean_fit_time\": 0.003552532196044922, \"std_fit_time\": 0.00021165713797698075, \"mean_score_time\": 0.0045461893081665036, \"std_score_time\": 0.003122903706954405, \"param_kneighborsclassifier__n_neighbors\": 37, \"params\": {\"kneighborsclassifier__n_neighbors\": 37}, \"split0_test_score\": 0.5217391304347826, \"split1_test_score\": 0.5652173913043478, \"split2_test_score\": 0.5217391304347826, \"split3_test_score\": 0.5217391304347826, \"split4_test_score\": 0.5217391304347826, \"split5_test_score\": 0.5217391304347826, \"split6_test_score\": 0.4782608695652174, \"split7_test_score\": 0.45454545454545453, \"split8_test_score\": 0.45454545454545453, \"split9_test_score\": 0.5454545454545454, \"mean_test_score\": 0.5106719367588932, \"std_test_score\": 0.034854399502053116, \"rank_test_score\": 11}, {\"mean_fit_time\": 0.0062456846237182615, \"std_fit_time\": 0.008675106536432066, \"mean_score_time\": 0.0034620285034179686, \"std_score_time\": 2.2589402324468862e-05, \"param_kneighborsclassifier__n_neighbors\": 38, \"params\": {\"kneighborsclassifier__n_neighbors\": 38}, \"split0_test_score\": 0.5217391304347826, \"split1_test_score\": 0.5652173913043478, \"split2_test_score\": 0.5652173913043478, \"split3_test_score\": 0.5217391304347826, \"split4_test_score\": 0.5217391304347826, \"split5_test_score\": 0.5217391304347826, \"split6_test_score\": 0.4782608695652174, \"split7_test_score\": 0.45454545454545453, \"split8_test_score\": 0.45454545454545453, \"split9_test_score\": 0.5, \"mean_test_score\": 0.5104743083003952, \"std_test_score\": 0.03728898668324561, \"rank_test_score\": 14}, {\"mean_fit_time\": 0.003349041938781738, \"std_fit_time\": 4.396317706856018e-05, \"mean_score_time\": 0.007149171829223633, \"std_score_time\": 0.011079701778781032, \"param_kneighborsclassifier__n_neighbors\": 39, \"params\": {\"kneighborsclassifier__n_neighbors\": 39}, \"split0_test_score\": 0.5217391304347826, \"split1_test_score\": 0.5652173913043478, \"split2_test_score\": 0.5652173913043478, \"split3_test_score\": 0.5217391304347826, \"split4_test_score\": 0.5217391304347826, \"split5_test_score\": 0.5217391304347826, \"split6_test_score\": 0.4782608695652174, \"split7_test_score\": 0.5, \"split8_test_score\": 0.45454545454545453, \"split9_test_score\": 0.5454545454545454, \"mean_test_score\": 0.5195652173913043, \"std_test_score\": 0.03342726328412183, \"rank_test_score\": 4}, {\"mean_fit_time\": 0.0033662080764770507, \"std_fit_time\": 5.58566902610678e-05, \"mean_score_time\": 0.003986096382141114, \"std_score_time\": 0.0015601539676013982, \"param_kneighborsclassifier__n_neighbors\": 40, \"params\": {\"kneighborsclassifier__n_neighbors\": 40}, \"split0_test_score\": 0.5217391304347826, \"split1_test_score\": 0.5652173913043478, \"split2_test_score\": 0.5652173913043478, \"split3_test_score\": 0.5217391304347826, \"split4_test_score\": 0.5217391304347826, \"split5_test_score\": 0.5217391304347826, \"split6_test_score\": 0.4782608695652174, \"split7_test_score\": 0.5, \"split8_test_score\": 0.45454545454545453, \"split9_test_score\": 0.5909090909090909, \"mean_test_score\": 0.5241106719367588, \"std_test_score\": 0.03922613760921137, \"rank_test_score\": 1}, {\"mean_fit_time\": 0.0033864974975585938, \"std_fit_time\": 8.563230688539467e-05, \"mean_score_time\": 0.003456783294677734, \"std_score_time\": 1.7254258842524693e-05, \"param_kneighborsclassifier__n_neighbors\": 41, \"params\": {\"kneighborsclassifier__n_neighbors\": 41}, \"split0_test_score\": 0.5217391304347826, \"split1_test_score\": 0.5652173913043478, \"split2_test_score\": 0.5217391304347826, \"split3_test_score\": 0.5217391304347826, \"split4_test_score\": 0.5217391304347826, \"split5_test_score\": 0.5217391304347826, \"split6_test_score\": 0.4782608695652174, \"split7_test_score\": 0.5, \"split8_test_score\": 0.45454545454545453, \"split9_test_score\": 0.5454545454545454, \"mean_test_score\": 0.5152173913043478, \"std_test_score\": 0.029841897233201572, \"rank_test_score\": 8}, {\"mean_fit_time\": 0.0033933401107788088, \"std_fit_time\": 9.098754274482374e-05, \"mean_score_time\": 0.007796669006347656, \"std_score_time\": 0.01288913257545381, \"param_kneighborsclassifier__n_neighbors\": 42, \"params\": {\"kneighborsclassifier__n_neighbors\": 42}, \"split0_test_score\": 0.5217391304347826, \"split1_test_score\": 0.5652173913043478, \"split2_test_score\": 0.5217391304347826, \"split3_test_score\": 0.4782608695652174, \"split4_test_score\": 0.5217391304347826, \"split5_test_score\": 0.5217391304347826, \"split6_test_score\": 0.4782608695652174, \"split7_test_score\": 0.5, \"split8_test_score\": 0.45454545454545453, \"split9_test_score\": 0.5909090909090909, \"mean_test_score\": 0.5154150197628458, \"std_test_score\": 0.03878556052246091, \"rank_test_score\": 6}, {\"mean_fit_time\": 0.0033705711364746095, \"std_fit_time\": 8.136823374844001e-05, \"mean_score_time\": 0.003513002395629883, \"std_score_time\": 3.181261547145378e-05, \"param_kneighborsclassifier__n_neighbors\": 43, \"params\": {\"kneighborsclassifier__n_neighbors\": 43}, \"split0_test_score\": 0.5217391304347826, \"split1_test_score\": 0.5652173913043478, \"split2_test_score\": 0.5217391304347826, \"split3_test_score\": 0.4782608695652174, \"split4_test_score\": 0.5217391304347826, \"split5_test_score\": 0.5217391304347826, \"split6_test_score\": 0.4782608695652174, \"split7_test_score\": 0.5, \"split8_test_score\": 0.45454545454545453, \"split9_test_score\": 0.5454545454545454, \"mean_test_score\": 0.5108695652173912, \"std_test_score\": 0.03168533384030348, \"rank_test_score\": 10}, {\"mean_fit_time\": 0.0033797264099121095, \"std_fit_time\": 4.568067622219505e-05, \"mean_score_time\": 0.003517293930053711, \"std_score_time\": 3.0409577117220017e-05, \"param_kneighborsclassifier__n_neighbors\": 44, \"params\": {\"kneighborsclassifier__n_neighbors\": 44}, \"split0_test_score\": 0.5217391304347826, \"split1_test_score\": 0.5652173913043478, \"split2_test_score\": 0.5217391304347826, \"split3_test_score\": 0.4782608695652174, \"split4_test_score\": 0.5217391304347826, \"split5_test_score\": 0.4782608695652174, \"split6_test_score\": 0.4782608695652174, \"split7_test_score\": 0.5, \"split8_test_score\": 0.45454545454545453, \"split9_test_score\": 0.5454545454545454, \"mean_test_score\": 0.5065217391304347, \"std_test_score\": 0.03285688279951645, \"rank_test_score\": 15}, {\"mean_fit_time\": 0.003390216827392578, \"std_fit_time\": 9.433022570428439e-05, \"mean_score_time\": 0.0035094261169433595, \"std_score_time\": 3.59228367481056e-05, \"param_kneighborsclassifier__n_neighbors\": 45, \"params\": {\"kneighborsclassifier__n_neighbors\": 45}, \"split0_test_score\": 0.5217391304347826, \"split1_test_score\": 0.5652173913043478, \"split2_test_score\": 0.5217391304347826, \"split3_test_score\": 0.4782608695652174, \"split4_test_score\": 0.5217391304347826, \"split5_test_score\": 0.4782608695652174, \"split6_test_score\": 0.4782608695652174, \"split7_test_score\": 0.5454545454545454, \"split8_test_score\": 0.45454545454545453, \"split9_test_score\": 0.5909090909090909, \"mean_test_score\": 0.5156126482213438, \"std_test_score\": 0.04128921560280491, \"rank_test_score\": 5}, {\"mean_fit_time\": 0.0033653736114501952, \"std_fit_time\": 7.59548010555642e-05, \"mean_score_time\": 0.0035143613815307615, \"std_score_time\": 5.4803304505580544e-05, \"param_kneighborsclassifier__n_neighbors\": 46, \"params\": {\"kneighborsclassifier__n_neighbors\": 46}, \"split0_test_score\": 0.5217391304347826, \"split1_test_score\": 0.5652173913043478, \"split2_test_score\": 0.5217391304347826, \"split3_test_score\": 0.5217391304347826, \"split4_test_score\": 0.5217391304347826, \"split5_test_score\": 0.4782608695652174, \"split6_test_score\": 0.4782608695652174, \"split7_test_score\": 0.5454545454545454, \"split8_test_score\": 0.45454545454545453, \"split9_test_score\": 0.5909090909090909, \"mean_test_score\": 0.5199604743083003, \"std_test_score\": 0.03937173573727758, \"rank_test_score\": 2}, {\"mean_fit_time\": 0.003359341621398926, \"std_fit_time\": 6.577859713796315e-05, \"mean_score_time\": 0.0034880876541137696, \"std_score_time\": 4.43193718059651e-05, \"param_kneighborsclassifier__n_neighbors\": 47, \"params\": {\"kneighborsclassifier__n_neighbors\": 47}, \"split0_test_score\": 0.5217391304347826, \"split1_test_score\": 0.5652173913043478, \"split2_test_score\": 0.5217391304347826, \"split3_test_score\": 0.5217391304347826, \"split4_test_score\": 0.5217391304347826, \"split5_test_score\": 0.4782608695652174, \"split6_test_score\": 0.4782608695652174, \"split7_test_score\": 0.5454545454545454, \"split8_test_score\": 0.45454545454545453, \"split9_test_score\": 0.5909090909090909, \"mean_test_score\": 0.5199604743083003, \"std_test_score\": 0.03937173573727758, \"rank_test_score\": 2}, {\"mean_fit_time\": 0.0033598899841308593, \"std_fit_time\": 7.627659838878882e-05, \"mean_score_time\": 0.003490161895751953, \"std_score_time\": 4.473101086266824e-05, \"param_kneighborsclassifier__n_neighbors\": 48, \"params\": {\"kneighborsclassifier__n_neighbors\": 48}, \"split0_test_score\": 0.5217391304347826, \"split1_test_score\": 0.5217391304347826, \"split2_test_score\": 0.5217391304347826, \"split3_test_score\": 0.4782608695652174, \"split4_test_score\": 0.5217391304347826, \"split5_test_score\": 0.4782608695652174, \"split6_test_score\": 0.4782608695652174, \"split7_test_score\": 0.5, \"split8_test_score\": 0.45454545454545453, \"split9_test_score\": 0.5454545454545454, \"mean_test_score\": 0.5021739130434784, \"std_test_score\": 0.027190257391529162, \"rank_test_score\": 24}, {\"mean_fit_time\": 0.0033619880676269533, \"std_fit_time\": 5.8222559018917256e-05, \"mean_score_time\": 0.0034868717193603516, \"std_score_time\": 4.0535926538388206e-05, \"param_kneighborsclassifier__n_neighbors\": 49, \"params\": {\"kneighborsclassifier__n_neighbors\": 49}, \"split0_test_score\": 0.5217391304347826, \"split1_test_score\": 0.5652173913043478, \"split2_test_score\": 0.5217391304347826, \"split3_test_score\": 0.4782608695652174, \"split4_test_score\": 0.5217391304347826, \"split5_test_score\": 0.4782608695652174, \"split6_test_score\": 0.4782608695652174, \"split7_test_score\": 0.5, \"split8_test_score\": 0.45454545454545453, \"split9_test_score\": 0.5454545454545454, \"mean_test_score\": 0.5065217391304347, \"std_test_score\": 0.03285688279951645, \"rank_test_score\": 15}, {\"mean_fit_time\": 0.0033488750457763674, \"std_fit_time\": 5.015896281916049e-05, \"mean_score_time\": 0.0034684658050537108, \"std_score_time\": 2.3921784896173026e-05, \"param_kneighborsclassifier__n_neighbors\": 50, \"params\": {\"kneighborsclassifier__n_neighbors\": 50}, \"split0_test_score\": 0.5217391304347826, \"split1_test_score\": 0.5652173913043478, \"split2_test_score\": 0.5217391304347826, \"split3_test_score\": 0.5217391304347826, \"split4_test_score\": 0.5217391304347826, \"split5_test_score\": 0.4782608695652174, \"split6_test_score\": 0.4782608695652174, \"split7_test_score\": 0.5, \"split8_test_score\": 0.45454545454545453, \"split9_test_score\": 0.5909090909090909, \"mean_test_score\": 0.5154150197628458, \"std_test_score\": 0.03878556052246091, \"rank_test_score\": 6}]}}, {\"mode\": \"vega-lite\"});\n",
       "</script>"
      ],
      "text/plain": [
       "alt.Chart(...)"
      ]
     },
     "metadata": {},
     "output_type": "display_data"
    }
   ],
   "source": [
    "#Creates a dataframe out of the grid\n",
    "heart_grid_df = pd.DataFrame(heart_grid.cv_results_)\n",
    "\n",
    "#Creates a line plot out of the dataframe, using neighbors on the X and mean test score on the Y\n",
    "grid_plot = alt.Chart(heart_grid_df).mark_line(point=True).encode(\n",
    "    x=alt.X(\"param_kneighborsclassifier__n_neighbors\").title(\"Number of Neighbors\"),\n",
    "    y=alt.Y(\"mean_test_score\").title(\"Mean Test Score\")\n",
    ")\n",
    "\n",
    "display(\"Figure 4: How Does Number of Neighbors Impact Test Score?\", grid_plot)"
   ]
  },
  {
   "cell_type": "markdown",
   "id": "008ef973-22db-43ea-91b4-f5ea7d553cf3",
   "metadata": {},
   "source": [
    "Now that we have a fitted grid, lets put it into a dataframe and visualize the results.\n",
    "\n",
    "Looking at the line plot we can definitely see that increasing the number of neighbors significantly boosts the performance of the model, but it levels off very quickly. \n",
    "\n",
    "Lets sort the table by **rank_test_score** to find the best K value."
   ]
  },
  {
   "cell_type": "code",
   "execution_count": 29,
   "id": "f7203885-762b-4fdf-9bfc-4025402d3702",
   "metadata": {},
   "outputs": [
    {
     "data": {
      "text/plain": [
       "'Figure 5: Best K Values'"
      ]
     },
     "metadata": {},
     "output_type": "display_data"
    },
    {
     "data": {
      "text/html": [
       "<div>\n",
       "<style scoped>\n",
       "    .dataframe tbody tr th:only-of-type {\n",
       "        vertical-align: middle;\n",
       "    }\n",
       "\n",
       "    .dataframe tbody tr th {\n",
       "        vertical-align: top;\n",
       "    }\n",
       "\n",
       "    .dataframe thead th {\n",
       "        text-align: right;\n",
       "    }\n",
       "</style>\n",
       "<table border=\"1\" class=\"dataframe\">\n",
       "  <thead>\n",
       "    <tr style=\"text-align: right;\">\n",
       "      <th></th>\n",
       "      <th>rank_test_score</th>\n",
       "      <th>mean_test_score</th>\n",
       "      <th>param_kneighborsclassifier__n_neighbors</th>\n",
       "    </tr>\n",
       "  </thead>\n",
       "  <tbody>\n",
       "    <tr>\n",
       "      <th>39</th>\n",
       "      <td>1</td>\n",
       "      <td>0.524111</td>\n",
       "      <td>40</td>\n",
       "    </tr>\n",
       "    <tr>\n",
       "      <th>46</th>\n",
       "      <td>2</td>\n",
       "      <td>0.519960</td>\n",
       "      <td>47</td>\n",
       "    </tr>\n",
       "    <tr>\n",
       "      <th>45</th>\n",
       "      <td>2</td>\n",
       "      <td>0.519960</td>\n",
       "      <td>46</td>\n",
       "    </tr>\n",
       "    <tr>\n",
       "      <th>38</th>\n",
       "      <td>4</td>\n",
       "      <td>0.519565</td>\n",
       "      <td>39</td>\n",
       "    </tr>\n",
       "    <tr>\n",
       "      <th>44</th>\n",
       "      <td>5</td>\n",
       "      <td>0.515613</td>\n",
       "      <td>45</td>\n",
       "    </tr>\n",
       "  </tbody>\n",
       "</table>\n",
       "</div>"
      ],
      "text/plain": [
       "    rank_test_score  mean_test_score param_kneighborsclassifier__n_neighbors\n",
       "39                1         0.524111                                      40\n",
       "46                2         0.519960                                      47\n",
       "45                2         0.519960                                      46\n",
       "38                4         0.519565                                      39\n",
       "44                5         0.515613                                      45"
      ]
     },
     "metadata": {},
     "output_type": "display_data"
    }
   ],
   "source": [
    "#Sorts the grid dataframe by rank_test_score\n",
    "display(\"Figure 5: Best K Values\",\n",
    "        heart_grid_df.sort_values(by=\"rank_test_score\").head(5)\n",
    "        [[\"rank_test_score\", \"mean_test_score\", \"param_kneighborsclassifier__n_neighbors\"]]\n",
    "       )"
   ]
  },
  {
   "cell_type": "markdown",
   "id": "4aa67051-4264-482b-8f2e-f94bc04d21e5",
   "metadata": {},
   "source": [
    "It looks like 40 is the best K value and we will go with this going forward. Now that we have a K value lets train the "
   ]
  },
  {
   "cell_type": "markdown",
   "id": "fd71bc17-7bab-4417-bde3-8ed7eff9522f",
   "metadata": {},
   "source": [
    "References\n",
    "\n",
    "John Hopkins Medicine. (2021). Atherosclerosis. Hopkins Medicine. https://www.hopkinsmedicine.org/health/conditions-and-diseases/atherosclerosis\n",
    "\n",
    "WHO’s Global Health Estimates. (2020, December 9). The top 10 causes of death. World Health Organization; WHO. https://www.who.int/news-room/fact-sheets/detail/the-top-10-causes-of-death"
   ]
  },
  {
   "cell_type": "code",
   "execution_count": null,
   "id": "32034ea5-5da8-4fca-9268-bb8f6de1c9e0",
   "metadata": {},
   "outputs": [],
   "source": []
  }
 ],
 "metadata": {
  "kernelspec": {
   "display_name": "Python 3 (ipykernel)",
   "language": "python",
   "name": "python3"
  },
  "language_info": {
   "codemirror_mode": {
    "name": "ipython",
    "version": 3
   },
   "file_extension": ".py",
   "mimetype": "text/x-python",
   "name": "python",
   "nbconvert_exporter": "python",
   "pygments_lexer": "ipython3",
   "version": "3.11.6"
  }
 },
 "nbformat": 4,
 "nbformat_minor": 5
}
